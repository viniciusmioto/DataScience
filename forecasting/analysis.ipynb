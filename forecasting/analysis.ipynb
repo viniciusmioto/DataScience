{
 "cells": [
  {
   "cell_type": "markdown",
   "metadata": {},
   "source": [
    "https://melhoresrodovias.org.br/indice-abcr/"
   ]
  },
  {
   "cell_type": "code",
   "execution_count": 1,
   "metadata": {},
   "outputs": [
    {
     "name": "stderr",
     "output_type": "stream",
     "text": [
      "2023-09-04 15:55:07.161345: I tensorflow/tsl/cuda/cudart_stub.cc:28] Could not find cuda drivers on your machine, GPU will not be used.\n",
      "2023-09-04 15:55:07.213287: I tensorflow/tsl/cuda/cudart_stub.cc:28] Could not find cuda drivers on your machine, GPU will not be used.\n",
      "2023-09-04 15:55:07.214114: I tensorflow/core/platform/cpu_feature_guard.cc:182] This TensorFlow binary is optimized to use available CPU instructions in performance-critical operations.\n",
      "To enable the following instructions: AVX2 FMA, in other operations, rebuild TensorFlow with the appropriate compiler flags.\n",
      "2023-09-04 15:55:08.490551: W tensorflow/compiler/tf2tensorrt/utils/py_utils.cc:38] TF-TRT Warning: Could not find TensorRT\n"
     ]
    }
   ],
   "source": [
    "import pandas as pd\n",
    "import numpy as np\n",
    "import matplotlib.pyplot as plt\n",
    "import seaborn as sns\n",
    "import plotly.express as px\n",
    "import plotly.graph_objects as go\n",
    "from plotly.subplots import make_subplots\n",
    "import pmdarima as pm\n",
    "from statsmodels.tsa.stattools import kpss, adfuller\n",
    "from statsmodels.tsa.seasonal import DecomposeResult, seasonal_decompose\n",
    "from statsmodels.tsa.statespace.sarimax import SARIMAX\n",
    "from sklearn.preprocessing import MinMaxScaler\n",
    "from tensorflow.keras.models import Sequential\n",
    "from tensorflow.keras.layers import LSTM, Dense, Dropout, LeakyReLU\n",
    "import warnings\n",
    "\n",
    "warnings.filterwarnings(\"ignore\")"
   ]
  },
  {
   "cell_type": "markdown",
   "metadata": {},
   "source": [
    "# Análise de Dados Exploratória"
   ]
  },
  {
   "cell_type": "markdown",
   "metadata": {},
   "source": [
    "## Preparação do Conjunto de Dados"
   ]
  },
  {
   "cell_type": "code",
   "execution_count": 2,
   "metadata": {},
   "outputs": [
    {
     "data": {
      "text/html": [
       "<div>\n",
       "<style scoped>\n",
       "    .dataframe tbody tr th:only-of-type {\n",
       "        vertical-align: middle;\n",
       "    }\n",
       "\n",
       "    .dataframe tbody tr th {\n",
       "        vertical-align: top;\n",
       "    }\n",
       "\n",
       "    .dataframe thead th {\n",
       "        text-align: right;\n",
       "    }\n",
       "</style>\n",
       "<table border=\"1\" class=\"dataframe\">\n",
       "  <thead>\n",
       "    <tr style=\"text-align: right;\">\n",
       "      <th></th>\n",
       "      <th>abcr_leves</th>\n",
       "      <th>ici</th>\n",
       "      <th>pim</th>\n",
       "      <th>receita</th>\n",
       "      <th>ic_br_energia</th>\n",
       "      <th>preco_diesel</th>\n",
       "      <th>preco_etanol</th>\n",
       "      <th>reservas_internacionais</th>\n",
       "      <th>pmc_moveis_linha_branca</th>\n",
       "      <th>pmc_combustiveis_lubrificantes</th>\n",
       "      <th>pmc_roupa_calcados</th>\n",
       "      <th>pmc_alimentos_bebidas</th>\n",
       "      <th>selic_meta</th>\n",
       "      <th>pim_bens_consumo</th>\n",
       "      <th>pim_manufatura</th>\n",
       "      <th>pim_bens_intermediarios</th>\n",
       "      <th>pim_bens_capital</th>\n",
       "    </tr>\n",
       "    <tr>\n",
       "      <th>data</th>\n",
       "      <th></th>\n",
       "      <th></th>\n",
       "      <th></th>\n",
       "      <th></th>\n",
       "      <th></th>\n",
       "      <th></th>\n",
       "      <th></th>\n",
       "      <th></th>\n",
       "      <th></th>\n",
       "      <th></th>\n",
       "      <th></th>\n",
       "      <th></th>\n",
       "      <th></th>\n",
       "      <th></th>\n",
       "      <th></th>\n",
       "      <th></th>\n",
       "      <th></th>\n",
       "    </tr>\n",
       "  </thead>\n",
       "  <tbody>\n",
       "    <tr>\n",
       "      <th>2010-01-01</th>\n",
       "      <td>137.557654</td>\n",
       "      <td>108.9000</td>\n",
       "      <td>106.28638</td>\n",
       "      <td>74495.829991</td>\n",
       "      <td>47.1256</td>\n",
       "      <td>1.1386</td>\n",
       "      <td>1.0918</td>\n",
       "      <td>240484.0000</td>\n",
       "      <td>88.91831</td>\n",
       "      <td>96.27988</td>\n",
       "      <td>91.24382</td>\n",
       "      <td>78.42115</td>\n",
       "      <td>8.75</td>\n",
       "      <td>107.30917</td>\n",
       "      <td>106.14632</td>\n",
       "      <td>106.55851</td>\n",
       "      <td>100.85119</td>\n",
       "    </tr>\n",
       "    <tr>\n",
       "      <th>2010-02-01</th>\n",
       "      <td>118.380821</td>\n",
       "      <td>113.6000</td>\n",
       "      <td>103.65597</td>\n",
       "      <td>55082.064653</td>\n",
       "      <td>46.6218</td>\n",
       "      <td>1.1315</td>\n",
       "      <td>1.1138</td>\n",
       "      <td>241082.0000</td>\n",
       "      <td>73.95911</td>\n",
       "      <td>90.50721</td>\n",
       "      <td>82.44177</td>\n",
       "      <td>76.00021</td>\n",
       "      <td>8.75</td>\n",
       "      <td>107.18220</td>\n",
       "      <td>103.88948</td>\n",
       "      <td>101.59579</td>\n",
       "      <td>102.65056</td>\n",
       "    </tr>\n",
       "    <tr>\n",
       "      <th>2010-03-01</th>\n",
       "      <td>120.370806</td>\n",
       "      <td>116.1000</td>\n",
       "      <td>122.44795</td>\n",
       "      <td>60875.890076</td>\n",
       "      <td>42.7258</td>\n",
       "      <td>1.1240</td>\n",
       "      <td>1.0053</td>\n",
       "      <td>243762.0000</td>\n",
       "      <td>83.79243</td>\n",
       "      <td>102.25872</td>\n",
       "      <td>98.80615</td>\n",
       "      <td>83.95472</td>\n",
       "      <td>8.75</td>\n",
       "      <td>128.35996</td>\n",
       "      <td>123.12642</td>\n",
       "      <td>117.38226</td>\n",
       "      <td>129.42121</td>\n",
       "    </tr>\n",
       "    <tr>\n",
       "      <th>2010-04-01</th>\n",
       "      <td>121.795781</td>\n",
       "      <td>117.7000</td>\n",
       "      <td>115.72172</td>\n",
       "      <td>72460.799766</td>\n",
       "      <td>42.8074</td>\n",
       "      <td>1.1170</td>\n",
       "      <td>0.9237</td>\n",
       "      <td>247292.0000</td>\n",
       "      <td>76.36513</td>\n",
       "      <td>97.31072</td>\n",
       "      <td>108.72395</td>\n",
       "      <td>79.97747</td>\n",
       "      <td>9.50</td>\n",
       "      <td>118.10510</td>\n",
       "      <td>116.11801</td>\n",
       "      <td>113.71574</td>\n",
       "      <td>117.78302</td>\n",
       "    </tr>\n",
       "    <tr>\n",
       "      <th>2010-05-01</th>\n",
       "      <td>123.126608</td>\n",
       "      <td>117.0000</td>\n",
       "      <td>121.51816</td>\n",
       "      <td>62635.271956</td>\n",
       "      <td>43.6927</td>\n",
       "      <td>1.1100</td>\n",
       "      <td>0.8723</td>\n",
       "      <td>249846.0000</td>\n",
       "      <td>87.97682</td>\n",
       "      <td>102.36180</td>\n",
       "      <td>125.83217</td>\n",
       "      <td>80.84209</td>\n",
       "      <td>9.50</td>\n",
       "      <td>122.90152</td>\n",
       "      <td>122.00840</td>\n",
       "      <td>119.86104</td>\n",
       "      <td>124.18815</td>\n",
       "    </tr>\n",
       "    <tr>\n",
       "      <th>...</th>\n",
       "      <td>...</td>\n",
       "      <td>...</td>\n",
       "      <td>...</td>\n",
       "      <td>...</td>\n",
       "      <td>...</td>\n",
       "      <td>...</td>\n",
       "      <td>...</td>\n",
       "      <td>...</td>\n",
       "      <td>...</td>\n",
       "      <td>...</td>\n",
       "      <td>...</td>\n",
       "      <td>...</td>\n",
       "      <td>...</td>\n",
       "      <td>...</td>\n",
       "      <td>...</td>\n",
       "      <td>...</td>\n",
       "      <td>...</td>\n",
       "    </tr>\n",
       "    <tr>\n",
       "      <th>2030-08-01</th>\n",
       "      <td>NaN</td>\n",
       "      <td>99.7660</td>\n",
       "      <td>129.58940</td>\n",
       "      <td>265751.476600</td>\n",
       "      <td>107.6456</td>\n",
       "      <td>1.2985</td>\n",
       "      <td>1.0172</td>\n",
       "      <td>397472.3745</td>\n",
       "      <td>114.53220</td>\n",
       "      <td>135.91130</td>\n",
       "      <td>115.38100</td>\n",
       "      <td>117.62150</td>\n",
       "      <td>6.25</td>\n",
       "      <td>135.81100</td>\n",
       "      <td>132.62960</td>\n",
       "      <td>129.77080</td>\n",
       "      <td>133.84530</td>\n",
       "    </tr>\n",
       "    <tr>\n",
       "      <th>2030-09-01</th>\n",
       "      <td>NaN</td>\n",
       "      <td>99.6894</td>\n",
       "      <td>125.57520</td>\n",
       "      <td>263341.160400</td>\n",
       "      <td>107.6456</td>\n",
       "      <td>1.2985</td>\n",
       "      <td>1.0172</td>\n",
       "      <td>397900.2021</td>\n",
       "      <td>113.73490</td>\n",
       "      <td>138.74600</td>\n",
       "      <td>102.54390</td>\n",
       "      <td>118.45610</td>\n",
       "      <td>6.25</td>\n",
       "      <td>132.29820</td>\n",
       "      <td>127.96750</td>\n",
       "      <td>126.16840</td>\n",
       "      <td>123.66230</td>\n",
       "    </tr>\n",
       "    <tr>\n",
       "      <th>2030-10-01</th>\n",
       "      <td>NaN</td>\n",
       "      <td>98.1659</td>\n",
       "      <td>127.84010</td>\n",
       "      <td>299714.220700</td>\n",
       "      <td>107.6456</td>\n",
       "      <td>1.2985</td>\n",
       "      <td>1.0172</td>\n",
       "      <td>398328.0296</td>\n",
       "      <td>119.35240</td>\n",
       "      <td>143.83150</td>\n",
       "      <td>108.98700</td>\n",
       "      <td>126.18480</td>\n",
       "      <td>6.25</td>\n",
       "      <td>133.80420</td>\n",
       "      <td>128.88540</td>\n",
       "      <td>129.23820</td>\n",
       "      <td>125.32980</td>\n",
       "    </tr>\n",
       "    <tr>\n",
       "      <th>2030-11-01</th>\n",
       "      <td>NaN</td>\n",
       "      <td>95.7795</td>\n",
       "      <td>119.89830</td>\n",
       "      <td>278763.603900</td>\n",
       "      <td>107.6456</td>\n",
       "      <td>1.2985</td>\n",
       "      <td>1.0172</td>\n",
       "      <td>398755.8571</td>\n",
       "      <td>150.86530</td>\n",
       "      <td>126.52770</td>\n",
       "      <td>115.49570</td>\n",
       "      <td>123.19810</td>\n",
       "      <td>6.25</td>\n",
       "      <td>127.10040</td>\n",
       "      <td>123.06110</td>\n",
       "      <td>120.00200</td>\n",
       "      <td>123.22460</td>\n",
       "    </tr>\n",
       "    <tr>\n",
       "      <th>2030-12-01</th>\n",
       "      <td>NaN</td>\n",
       "      <td>92.6733</td>\n",
       "      <td>106.97760</td>\n",
       "      <td>329016.881800</td>\n",
       "      <td>107.6456</td>\n",
       "      <td>1.2985</td>\n",
       "      <td>1.0172</td>\n",
       "      <td>399183.6847</td>\n",
       "      <td>148.60930</td>\n",
       "      <td>127.29900</td>\n",
       "      <td>198.90060</td>\n",
       "      <td>144.70920</td>\n",
       "      <td>6.25</td>\n",
       "      <td>110.15900</td>\n",
       "      <td>107.41350</td>\n",
       "      <td>109.09680</td>\n",
       "      <td>105.89630</td>\n",
       "    </tr>\n",
       "  </tbody>\n",
       "</table>\n",
       "<p>252 rows × 17 columns</p>\n",
       "</div>"
      ],
      "text/plain": [
       "            abcr_leves       ici        pim        receita  ic_br_energia  \\\n",
       "data                                                                        \n",
       "2010-01-01  137.557654  108.9000  106.28638   74495.829991        47.1256   \n",
       "2010-02-01  118.380821  113.6000  103.65597   55082.064653        46.6218   \n",
       "2010-03-01  120.370806  116.1000  122.44795   60875.890076        42.7258   \n",
       "2010-04-01  121.795781  117.7000  115.72172   72460.799766        42.8074   \n",
       "2010-05-01  123.126608  117.0000  121.51816   62635.271956        43.6927   \n",
       "...                ...       ...        ...            ...            ...   \n",
       "2030-08-01         NaN   99.7660  129.58940  265751.476600       107.6456   \n",
       "2030-09-01         NaN   99.6894  125.57520  263341.160400       107.6456   \n",
       "2030-10-01         NaN   98.1659  127.84010  299714.220700       107.6456   \n",
       "2030-11-01         NaN   95.7795  119.89830  278763.603900       107.6456   \n",
       "2030-12-01         NaN   92.6733  106.97760  329016.881800       107.6456   \n",
       "\n",
       "            preco_diesel  preco_etanol  reservas_internacionais  \\\n",
       "data                                                              \n",
       "2010-01-01        1.1386        1.0918              240484.0000   \n",
       "2010-02-01        1.1315        1.1138              241082.0000   \n",
       "2010-03-01        1.1240        1.0053              243762.0000   \n",
       "2010-04-01        1.1170        0.9237              247292.0000   \n",
       "2010-05-01        1.1100        0.8723              249846.0000   \n",
       "...                  ...           ...                      ...   \n",
       "2030-08-01        1.2985        1.0172              397472.3745   \n",
       "2030-09-01        1.2985        1.0172              397900.2021   \n",
       "2030-10-01        1.2985        1.0172              398328.0296   \n",
       "2030-11-01        1.2985        1.0172              398755.8571   \n",
       "2030-12-01        1.2985        1.0172              399183.6847   \n",
       "\n",
       "            pmc_moveis_linha_branca  pmc_combustiveis_lubrificantes  \\\n",
       "data                                                                  \n",
       "2010-01-01                 88.91831                        96.27988   \n",
       "2010-02-01                 73.95911                        90.50721   \n",
       "2010-03-01                 83.79243                       102.25872   \n",
       "2010-04-01                 76.36513                        97.31072   \n",
       "2010-05-01                 87.97682                       102.36180   \n",
       "...                             ...                             ...   \n",
       "2030-08-01                114.53220                       135.91130   \n",
       "2030-09-01                113.73490                       138.74600   \n",
       "2030-10-01                119.35240                       143.83150   \n",
       "2030-11-01                150.86530                       126.52770   \n",
       "2030-12-01                148.60930                       127.29900   \n",
       "\n",
       "            pmc_roupa_calcados  pmc_alimentos_bebidas  selic_meta  \\\n",
       "data                                                                \n",
       "2010-01-01            91.24382               78.42115        8.75   \n",
       "2010-02-01            82.44177               76.00021        8.75   \n",
       "2010-03-01            98.80615               83.95472        8.75   \n",
       "2010-04-01           108.72395               79.97747        9.50   \n",
       "2010-05-01           125.83217               80.84209        9.50   \n",
       "...                        ...                    ...         ...   \n",
       "2030-08-01           115.38100              117.62150        6.25   \n",
       "2030-09-01           102.54390              118.45610        6.25   \n",
       "2030-10-01           108.98700              126.18480        6.25   \n",
       "2030-11-01           115.49570              123.19810        6.25   \n",
       "2030-12-01           198.90060              144.70920        6.25   \n",
       "\n",
       "            pim_bens_consumo  pim_manufatura  pim_bens_intermediarios  \\\n",
       "data                                                                    \n",
       "2010-01-01         107.30917       106.14632                106.55851   \n",
       "2010-02-01         107.18220       103.88948                101.59579   \n",
       "2010-03-01         128.35996       123.12642                117.38226   \n",
       "2010-04-01         118.10510       116.11801                113.71574   \n",
       "2010-05-01         122.90152       122.00840                119.86104   \n",
       "...                      ...             ...                      ...   \n",
       "2030-08-01         135.81100       132.62960                129.77080   \n",
       "2030-09-01         132.29820       127.96750                126.16840   \n",
       "2030-10-01         133.80420       128.88540                129.23820   \n",
       "2030-11-01         127.10040       123.06110                120.00200   \n",
       "2030-12-01         110.15900       107.41350                109.09680   \n",
       "\n",
       "            pim_bens_capital  \n",
       "data                          \n",
       "2010-01-01         100.85119  \n",
       "2010-02-01         102.65056  \n",
       "2010-03-01         129.42121  \n",
       "2010-04-01         117.78302  \n",
       "2010-05-01         124.18815  \n",
       "...                      ...  \n",
       "2030-08-01         133.84530  \n",
       "2030-09-01         123.66230  \n",
       "2030-10-01         125.32980  \n",
       "2030-11-01         123.22460  \n",
       "2030-12-01         105.89630  \n",
       "\n",
       "[252 rows x 17 columns]"
      ]
     },
     "execution_count": 2,
     "metadata": {},
     "output_type": "execute_result"
    }
   ],
   "source": [
    "data_path = './dataset.xlsx' # insert the correct path and name of the file\n",
    "case_df = pd.read_excel(data_path)\n",
    "\n",
    "# set date as index\n",
    "case_df.index = pd.to_datetime(case_df['data'], format='%Y-%m-%d')\n",
    "case_df = case_df.drop('data', axis=1)\n",
    "case_df"
   ]
  },
  {
   "cell_type": "markdown",
   "metadata": {},
   "source": [
    "* 252 linhas e 17 colunas\n",
    "* A descrição das variáveis está em [case.pdf](case.pdf)"
   ]
  },
  {
   "cell_type": "code",
   "execution_count": 3,
   "metadata": {},
   "outputs": [
    {
     "data": {
      "text/html": [
       "<div>\n",
       "<style scoped>\n",
       "    .dataframe tbody tr th:only-of-type {\n",
       "        vertical-align: middle;\n",
       "    }\n",
       "\n",
       "    .dataframe tbody tr th {\n",
       "        vertical-align: top;\n",
       "    }\n",
       "\n",
       "    .dataframe thead th {\n",
       "        text-align: right;\n",
       "    }\n",
       "</style>\n",
       "<table border=\"1\" class=\"dataframe\">\n",
       "  <thead>\n",
       "    <tr style=\"text-align: right;\">\n",
       "      <th></th>\n",
       "      <th>abcr_leves</th>\n",
       "      <th>ici</th>\n",
       "      <th>pim</th>\n",
       "      <th>receita</th>\n",
       "      <th>ic_br_energia</th>\n",
       "      <th>preco_diesel</th>\n",
       "      <th>preco_etanol</th>\n",
       "      <th>reservas_internacionais</th>\n",
       "      <th>pmc_moveis_linha_branca</th>\n",
       "      <th>pmc_combustiveis_lubrificantes</th>\n",
       "      <th>pmc_roupa_calcados</th>\n",
       "      <th>pmc_alimentos_bebidas</th>\n",
       "      <th>selic_meta</th>\n",
       "      <th>pim_bens_consumo</th>\n",
       "      <th>pim_manufatura</th>\n",
       "      <th>pim_bens_intermediarios</th>\n",
       "      <th>pim_bens_capital</th>\n",
       "    </tr>\n",
       "  </thead>\n",
       "  <tbody>\n",
       "    <tr>\n",
       "      <th>count</th>\n",
       "      <td>162.000000</td>\n",
       "      <td>252.000000</td>\n",
       "      <td>252.000000</td>\n",
       "      <td>252.000000</td>\n",
       "      <td>252.000000</td>\n",
       "      <td>252.000000</td>\n",
       "      <td>252.000000</td>\n",
       "      <td>252.000000</td>\n",
       "      <td>252.000000</td>\n",
       "      <td>252.000000</td>\n",
       "      <td>252.000000</td>\n",
       "      <td>252.000000</td>\n",
       "      <td>252.000000</td>\n",
       "      <td>252.000000</td>\n",
       "      <td>252.000000</td>\n",
       "      <td>252.000000</td>\n",
       "      <td>252.000000</td>\n",
       "    </tr>\n",
       "    <tr>\n",
       "      <th>mean</th>\n",
       "      <td>147.561616</td>\n",
       "      <td>96.987567</td>\n",
       "      <td>107.801306</td>\n",
       "      <td>162382.780426</td>\n",
       "      <td>80.781072</td>\n",
       "      <td>1.224694</td>\n",
       "      <td>1.013028</td>\n",
       "      <td>362225.714407</td>\n",
       "      <td>108.146880</td>\n",
       "      <td>106.876532</td>\n",
       "      <td>112.503059</td>\n",
       "      <td>100.599569</td>\n",
       "      <td>8.840278</td>\n",
       "      <td>111.749261</td>\n",
       "      <td>107.898768</td>\n",
       "      <td>107.144878</td>\n",
       "      <td>102.953081</td>\n",
       "    </tr>\n",
       "    <tr>\n",
       "      <th>std</th>\n",
       "      <td>16.722342</td>\n",
       "      <td>8.974140</td>\n",
       "      <td>11.075728</td>\n",
       "      <td>72717.537432</td>\n",
       "      <td>31.856940</td>\n",
       "      <td>0.178195</td>\n",
       "      <td>0.112096</td>\n",
       "      <td>28138.480964</td>\n",
       "      <td>17.347130</td>\n",
       "      <td>13.362416</td>\n",
       "      <td>33.252912</td>\n",
       "      <td>12.076395</td>\n",
       "      <td>3.223117</td>\n",
       "      <td>12.861329</td>\n",
       "      <td>11.934011</td>\n",
       "      <td>10.305073</td>\n",
       "      <td>18.385198</td>\n",
       "    </tr>\n",
       "    <tr>\n",
       "      <th>min</th>\n",
       "      <td>72.487530</td>\n",
       "      <td>62.400000</td>\n",
       "      <td>70.246690</td>\n",
       "      <td>55082.064653</td>\n",
       "      <td>38.964000</td>\n",
       "      <td>0.985300</td>\n",
       "      <td>0.832700</td>\n",
       "      <td>240484.000000</td>\n",
       "      <td>59.084220</td>\n",
       "      <td>69.457470</td>\n",
       "      <td>18.218540</td>\n",
       "      <td>76.000210</td>\n",
       "      <td>2.000000</td>\n",
       "      <td>65.207500</td>\n",
       "      <td>67.291750</td>\n",
       "      <td>76.078490</td>\n",
       "      <td>42.500910</td>\n",
       "    </tr>\n",
       "    <tr>\n",
       "      <th>25%</th>\n",
       "      <td>138.369721</td>\n",
       "      <td>93.707200</td>\n",
       "      <td>100.507108</td>\n",
       "      <td>98020.113675</td>\n",
       "      <td>49.674925</td>\n",
       "      <td>1.091825</td>\n",
       "      <td>0.958400</td>\n",
       "      <td>356814.500000</td>\n",
       "      <td>96.714165</td>\n",
       "      <td>98.186928</td>\n",
       "      <td>94.709553</td>\n",
       "      <td>91.913088</td>\n",
       "      <td>6.250000</td>\n",
       "      <td>102.684137</td>\n",
       "      <td>99.883503</td>\n",
       "      <td>99.947160</td>\n",
       "      <td>89.163728</td>\n",
       "    </tr>\n",
       "    <tr>\n",
       "      <th>50%</th>\n",
       "      <td>149.383765</td>\n",
       "      <td>97.778200</td>\n",
       "      <td>107.541010</td>\n",
       "      <td>139565.430375</td>\n",
       "      <td>77.224950</td>\n",
       "      <td>1.205200</td>\n",
       "      <td>1.012450</td>\n",
       "      <td>367728.724300</td>\n",
       "      <td>105.029880</td>\n",
       "      <td>105.921445</td>\n",
       "      <td>106.926350</td>\n",
       "      <td>98.355000</td>\n",
       "      <td>8.375000</td>\n",
       "      <td>111.934800</td>\n",
       "      <td>107.401775</td>\n",
       "      <td>107.288015</td>\n",
       "      <td>104.022000</td>\n",
       "    </tr>\n",
       "    <tr>\n",
       "      <th>75%</th>\n",
       "      <td>156.533685</td>\n",
       "      <td>100.850000</td>\n",
       "      <td>115.784865</td>\n",
       "      <td>229979.047950</td>\n",
       "      <td>107.645600</td>\n",
       "      <td>1.298500</td>\n",
       "      <td>1.030550</td>\n",
       "      <td>377070.000000</td>\n",
       "      <td>116.616300</td>\n",
       "      <td>116.159185</td>\n",
       "      <td>119.413027</td>\n",
       "      <td>108.536125</td>\n",
       "      <td>11.250000</td>\n",
       "      <td>121.381947</td>\n",
       "      <td>116.731700</td>\n",
       "      <td>114.461050</td>\n",
       "      <td>117.784790</td>\n",
       "    </tr>\n",
       "    <tr>\n",
       "      <th>max</th>\n",
       "      <td>182.158013</td>\n",
       "      <td>117.700000</td>\n",
       "      <td>131.191890</td>\n",
       "      <td>329016.881800</td>\n",
       "      <td>180.294300</td>\n",
       "      <td>2.026900</td>\n",
       "      <td>1.552300</td>\n",
       "      <td>399183.684700</td>\n",
       "      <td>171.769250</td>\n",
       "      <td>143.831500</td>\n",
       "      <td>250.672560</td>\n",
       "      <td>144.709200</td>\n",
       "      <td>14.250000</td>\n",
       "      <td>141.652260</td>\n",
       "      <td>132.629600</td>\n",
       "      <td>129.770800</td>\n",
       "      <td>143.168610</td>\n",
       "    </tr>\n",
       "  </tbody>\n",
       "</table>\n",
       "</div>"
      ],
      "text/plain": [
       "       abcr_leves         ici         pim        receita  ic_br_energia  \\\n",
       "count  162.000000  252.000000  252.000000     252.000000     252.000000   \n",
       "mean   147.561616   96.987567  107.801306  162382.780426      80.781072   \n",
       "std     16.722342    8.974140   11.075728   72717.537432      31.856940   \n",
       "min     72.487530   62.400000   70.246690   55082.064653      38.964000   \n",
       "25%    138.369721   93.707200  100.507108   98020.113675      49.674925   \n",
       "50%    149.383765   97.778200  107.541010  139565.430375      77.224950   \n",
       "75%    156.533685  100.850000  115.784865  229979.047950     107.645600   \n",
       "max    182.158013  117.700000  131.191890  329016.881800     180.294300   \n",
       "\n",
       "       preco_diesel  preco_etanol  reservas_internacionais  \\\n",
       "count    252.000000    252.000000               252.000000   \n",
       "mean       1.224694      1.013028            362225.714407   \n",
       "std        0.178195      0.112096             28138.480964   \n",
       "min        0.985300      0.832700            240484.000000   \n",
       "25%        1.091825      0.958400            356814.500000   \n",
       "50%        1.205200      1.012450            367728.724300   \n",
       "75%        1.298500      1.030550            377070.000000   \n",
       "max        2.026900      1.552300            399183.684700   \n",
       "\n",
       "       pmc_moveis_linha_branca  pmc_combustiveis_lubrificantes  \\\n",
       "count               252.000000                      252.000000   \n",
       "mean                108.146880                      106.876532   \n",
       "std                  17.347130                       13.362416   \n",
       "min                  59.084220                       69.457470   \n",
       "25%                  96.714165                       98.186928   \n",
       "50%                 105.029880                      105.921445   \n",
       "75%                 116.616300                      116.159185   \n",
       "max                 171.769250                      143.831500   \n",
       "\n",
       "       pmc_roupa_calcados  pmc_alimentos_bebidas  selic_meta  \\\n",
       "count          252.000000             252.000000  252.000000   \n",
       "mean           112.503059             100.599569    8.840278   \n",
       "std             33.252912              12.076395    3.223117   \n",
       "min             18.218540              76.000210    2.000000   \n",
       "25%             94.709553              91.913088    6.250000   \n",
       "50%            106.926350              98.355000    8.375000   \n",
       "75%            119.413027             108.536125   11.250000   \n",
       "max            250.672560             144.709200   14.250000   \n",
       "\n",
       "       pim_bens_consumo  pim_manufatura  pim_bens_intermediarios  \\\n",
       "count        252.000000      252.000000               252.000000   \n",
       "mean         111.749261      107.898768               107.144878   \n",
       "std           12.861329       11.934011                10.305073   \n",
       "min           65.207500       67.291750                76.078490   \n",
       "25%          102.684137       99.883503                99.947160   \n",
       "50%          111.934800      107.401775               107.288015   \n",
       "75%          121.381947      116.731700               114.461050   \n",
       "max          141.652260      132.629600               129.770800   \n",
       "\n",
       "       pim_bens_capital  \n",
       "count        252.000000  \n",
       "mean         102.953081  \n",
       "std           18.385198  \n",
       "min           42.500910  \n",
       "25%           89.163728  \n",
       "50%          104.022000  \n",
       "75%          117.784790  \n",
       "max          143.168610  "
      ]
     },
     "execution_count": 3,
     "metadata": {},
     "output_type": "execute_result"
    }
   ],
   "source": [
    "case_df.describe()"
   ]
  },
  {
   "cell_type": "markdown",
   "metadata": {},
   "source": [
    "* Temos **162** meses de dados sobre `abcr_leves` (2010-01-01 até 2023-06-01)\n",
    "* Queremos prever essa variável para **90** meses futuros (2023-07-01 até 2031-12-01)"
   ]
  },
  {
   "cell_type": "code",
   "execution_count": 4,
   "metadata": {},
   "outputs": [
    {
     "name": "stdout",
     "output_type": "stream",
     "text": [
      "<class 'pandas.core.frame.DataFrame'>\n",
      "DatetimeIndex: 252 entries, 2010-01-01 to 2030-12-01\n",
      "Data columns (total 17 columns):\n",
      " #   Column                          Non-Null Count  Dtype  \n",
      "---  ------                          --------------  -----  \n",
      " 0   abcr_leves                      162 non-null    float64\n",
      " 1   ici                             252 non-null    float64\n",
      " 2   pim                             252 non-null    float64\n",
      " 3   receita                         252 non-null    float64\n",
      " 4   ic_br_energia                   252 non-null    float64\n",
      " 5   preco_diesel                    252 non-null    float64\n",
      " 6   preco_etanol                    252 non-null    float64\n",
      " 7   reservas_internacionais         252 non-null    float64\n",
      " 8   pmc_moveis_linha_branca         252 non-null    float64\n",
      " 9   pmc_combustiveis_lubrificantes  252 non-null    float64\n",
      " 10  pmc_roupa_calcados              252 non-null    float64\n",
      " 11  pmc_alimentos_bebidas           252 non-null    float64\n",
      " 12  selic_meta                      252 non-null    float64\n",
      " 13  pim_bens_consumo                252 non-null    float64\n",
      " 14  pim_manufatura                  252 non-null    float64\n",
      " 15  pim_bens_intermediarios         252 non-null    float64\n",
      " 16  pim_bens_capital                252 non-null    float64\n",
      "dtypes: float64(17)\n",
      "memory usage: 35.4 KB\n"
     ]
    }
   ],
   "source": [
    "case_df.info()"
   ]
  },
  {
   "cell_type": "code",
   "execution_count": 5,
   "metadata": {},
   "outputs": [
    {
     "data": {
      "text/plain": [
       "Timestamp('2023-06-01 00:00:00')"
      ]
     },
     "execution_count": 5,
     "metadata": {},
     "output_type": "execute_result"
    }
   ],
   "source": [
    "case_df.index[161]"
   ]
  },
  {
   "cell_type": "code",
   "execution_count": 6,
   "metadata": {},
   "outputs": [
    {
     "data": {
      "text/html": [
       "<div>\n",
       "<style scoped>\n",
       "    .dataframe tbody tr th:only-of-type {\n",
       "        vertical-align: middle;\n",
       "    }\n",
       "\n",
       "    .dataframe tbody tr th {\n",
       "        vertical-align: top;\n",
       "    }\n",
       "\n",
       "    .dataframe thead th {\n",
       "        text-align: right;\n",
       "    }\n",
       "</style>\n",
       "<table border=\"1\" class=\"dataframe\">\n",
       "  <thead>\n",
       "    <tr style=\"text-align: right;\">\n",
       "      <th></th>\n",
       "      <th>abcr_leves</th>\n",
       "      <th>ici</th>\n",
       "      <th>pim</th>\n",
       "      <th>receita</th>\n",
       "      <th>ic_br_energia</th>\n",
       "      <th>preco_diesel</th>\n",
       "      <th>preco_etanol</th>\n",
       "      <th>reservas_internacionais</th>\n",
       "      <th>pmc_moveis_linha_branca</th>\n",
       "      <th>pmc_combustiveis_lubrificantes</th>\n",
       "      <th>pmc_roupa_calcados</th>\n",
       "      <th>pmc_alimentos_bebidas</th>\n",
       "      <th>selic_meta</th>\n",
       "      <th>pim_bens_consumo</th>\n",
       "      <th>pim_manufatura</th>\n",
       "      <th>pim_bens_intermediarios</th>\n",
       "      <th>pim_bens_capital</th>\n",
       "    </tr>\n",
       "    <tr>\n",
       "      <th>data</th>\n",
       "      <th></th>\n",
       "      <th></th>\n",
       "      <th></th>\n",
       "      <th></th>\n",
       "      <th></th>\n",
       "      <th></th>\n",
       "      <th></th>\n",
       "      <th></th>\n",
       "      <th></th>\n",
       "      <th></th>\n",
       "      <th></th>\n",
       "      <th></th>\n",
       "      <th></th>\n",
       "      <th></th>\n",
       "      <th></th>\n",
       "      <th></th>\n",
       "      <th></th>\n",
       "    </tr>\n",
       "  </thead>\n",
       "  <tbody>\n",
       "    <tr>\n",
       "      <th>2010-01-01</th>\n",
       "      <td>137.557654</td>\n",
       "      <td>108.9</td>\n",
       "      <td>106.28638</td>\n",
       "      <td>74495.829991</td>\n",
       "      <td>47.1256</td>\n",
       "      <td>1.1386</td>\n",
       "      <td>1.0918</td>\n",
       "      <td>240484.0</td>\n",
       "      <td>88.91831</td>\n",
       "      <td>96.27988</td>\n",
       "      <td>91.24382</td>\n",
       "      <td>78.42115</td>\n",
       "      <td>8.75</td>\n",
       "      <td>107.30917</td>\n",
       "      <td>106.14632</td>\n",
       "      <td>106.55851</td>\n",
       "      <td>100.85119</td>\n",
       "    </tr>\n",
       "    <tr>\n",
       "      <th>2010-02-01</th>\n",
       "      <td>118.380821</td>\n",
       "      <td>113.6</td>\n",
       "      <td>103.65597</td>\n",
       "      <td>55082.064653</td>\n",
       "      <td>46.6218</td>\n",
       "      <td>1.1315</td>\n",
       "      <td>1.1138</td>\n",
       "      <td>241082.0</td>\n",
       "      <td>73.95911</td>\n",
       "      <td>90.50721</td>\n",
       "      <td>82.44177</td>\n",
       "      <td>76.00021</td>\n",
       "      <td>8.75</td>\n",
       "      <td>107.18220</td>\n",
       "      <td>103.88948</td>\n",
       "      <td>101.59579</td>\n",
       "      <td>102.65056</td>\n",
       "    </tr>\n",
       "    <tr>\n",
       "      <th>2010-03-01</th>\n",
       "      <td>120.370806</td>\n",
       "      <td>116.1</td>\n",
       "      <td>122.44795</td>\n",
       "      <td>60875.890076</td>\n",
       "      <td>42.7258</td>\n",
       "      <td>1.1240</td>\n",
       "      <td>1.0053</td>\n",
       "      <td>243762.0</td>\n",
       "      <td>83.79243</td>\n",
       "      <td>102.25872</td>\n",
       "      <td>98.80615</td>\n",
       "      <td>83.95472</td>\n",
       "      <td>8.75</td>\n",
       "      <td>128.35996</td>\n",
       "      <td>123.12642</td>\n",
       "      <td>117.38226</td>\n",
       "      <td>129.42121</td>\n",
       "    </tr>\n",
       "    <tr>\n",
       "      <th>2010-04-01</th>\n",
       "      <td>121.795781</td>\n",
       "      <td>117.7</td>\n",
       "      <td>115.72172</td>\n",
       "      <td>72460.799766</td>\n",
       "      <td>42.8074</td>\n",
       "      <td>1.1170</td>\n",
       "      <td>0.9237</td>\n",
       "      <td>247292.0</td>\n",
       "      <td>76.36513</td>\n",
       "      <td>97.31072</td>\n",
       "      <td>108.72395</td>\n",
       "      <td>79.97747</td>\n",
       "      <td>9.50</td>\n",
       "      <td>118.10510</td>\n",
       "      <td>116.11801</td>\n",
       "      <td>113.71574</td>\n",
       "      <td>117.78302</td>\n",
       "    </tr>\n",
       "    <tr>\n",
       "      <th>2010-05-01</th>\n",
       "      <td>123.126608</td>\n",
       "      <td>117.0</td>\n",
       "      <td>121.51816</td>\n",
       "      <td>62635.271956</td>\n",
       "      <td>43.6927</td>\n",
       "      <td>1.1100</td>\n",
       "      <td>0.8723</td>\n",
       "      <td>249846.0</td>\n",
       "      <td>87.97682</td>\n",
       "      <td>102.36180</td>\n",
       "      <td>125.83217</td>\n",
       "      <td>80.84209</td>\n",
       "      <td>9.50</td>\n",
       "      <td>122.90152</td>\n",
       "      <td>122.00840</td>\n",
       "      <td>119.86104</td>\n",
       "      <td>124.18815</td>\n",
       "    </tr>\n",
       "    <tr>\n",
       "      <th>...</th>\n",
       "      <td>...</td>\n",
       "      <td>...</td>\n",
       "      <td>...</td>\n",
       "      <td>...</td>\n",
       "      <td>...</td>\n",
       "      <td>...</td>\n",
       "      <td>...</td>\n",
       "      <td>...</td>\n",
       "      <td>...</td>\n",
       "      <td>...</td>\n",
       "      <td>...</td>\n",
       "      <td>...</td>\n",
       "      <td>...</td>\n",
       "      <td>...</td>\n",
       "      <td>...</td>\n",
       "      <td>...</td>\n",
       "      <td>...</td>\n",
       "    </tr>\n",
       "    <tr>\n",
       "      <th>2023-02-01</th>\n",
       "      <td>148.810803</td>\n",
       "      <td>90.9</td>\n",
       "      <td>87.50041</td>\n",
       "      <td>158994.533469</td>\n",
       "      <td>102.5282</td>\n",
       "      <td>1.6163</td>\n",
       "      <td>1.0169</td>\n",
       "      <td>328098.0</td>\n",
       "      <td>85.89007</td>\n",
       "      <td>95.04321</td>\n",
       "      <td>71.15876</td>\n",
       "      <td>92.73729</td>\n",
       "      <td>13.75</td>\n",
       "      <td>86.99350</td>\n",
       "      <td>86.85412</td>\n",
       "      <td>88.05710</td>\n",
       "      <td>83.55314</td>\n",
       "    </tr>\n",
       "    <tr>\n",
       "      <th>2023-03-01</th>\n",
       "      <td>160.171350</td>\n",
       "      <td>95.4</td>\n",
       "      <td>99.32097</td>\n",
       "      <td>171056.362117</td>\n",
       "      <td>99.3095</td>\n",
       "      <td>1.5411</td>\n",
       "      <td>1.0442</td>\n",
       "      <td>341158.0</td>\n",
       "      <td>102.40505</td>\n",
       "      <td>106.13475</td>\n",
       "      <td>81.88834</td>\n",
       "      <td>101.62821</td>\n",
       "      <td>13.75</td>\n",
       "      <td>98.74199</td>\n",
       "      <td>99.11370</td>\n",
       "      <td>98.97884</td>\n",
       "      <td>105.25709</td>\n",
       "    </tr>\n",
       "    <tr>\n",
       "      <th>2023-04-01</th>\n",
       "      <td>158.040534</td>\n",
       "      <td>96.0</td>\n",
       "      <td>92.07883</td>\n",
       "      <td>203888.540483</td>\n",
       "      <td>98.7990</td>\n",
       "      <td>1.5001</td>\n",
       "      <td>1.0485</td>\n",
       "      <td>345725.0</td>\n",
       "      <td>88.78179</td>\n",
       "      <td>98.50652</td>\n",
       "      <td>86.91740</td>\n",
       "      <td>103.19666</td>\n",
       "      <td>13.75</td>\n",
       "      <td>90.47863</td>\n",
       "      <td>91.17776</td>\n",
       "      <td>94.06368</td>\n",
       "      <td>80.22211</td>\n",
       "    </tr>\n",
       "    <tr>\n",
       "      <th>2023-05-01</th>\n",
       "      <td>154.763608</td>\n",
       "      <td>93.5</td>\n",
       "      <td>104.56813</td>\n",
       "      <td>176812.099466</td>\n",
       "      <td>88.1681</td>\n",
       "      <td>1.4123</td>\n",
       "      <td>1.0461</td>\n",
       "      <td>343489.0</td>\n",
       "      <td>102.43319</td>\n",
       "      <td>105.87317</td>\n",
       "      <td>99.91929</td>\n",
       "      <td>98.81598</td>\n",
       "      <td>13.75</td>\n",
       "      <td>106.20067</td>\n",
       "      <td>104.22805</td>\n",
       "      <td>104.64355</td>\n",
       "      <td>95.78511</td>\n",
       "    </tr>\n",
       "    <tr>\n",
       "      <th>2023-06-01</th>\n",
       "      <td>151.069673</td>\n",
       "      <td>94.0</td>\n",
       "      <td>101.38040</td>\n",
       "      <td>178296.499300</td>\n",
       "      <td>85.3167</td>\n",
       "      <td>1.3291</td>\n",
       "      <td>0.9915</td>\n",
       "      <td>343620.0</td>\n",
       "      <td>91.59700</td>\n",
       "      <td>94.83880</td>\n",
       "      <td>108.70370</td>\n",
       "      <td>96.78900</td>\n",
       "      <td>13.75</td>\n",
       "      <td>103.06120</td>\n",
       "      <td>102.71840</td>\n",
       "      <td>101.62340</td>\n",
       "      <td>102.27410</td>\n",
       "    </tr>\n",
       "  </tbody>\n",
       "</table>\n",
       "<p>162 rows × 17 columns</p>\n",
       "</div>"
      ],
      "text/plain": [
       "            abcr_leves    ici        pim        receita  ic_br_energia  \\\n",
       "data                                                                     \n",
       "2010-01-01  137.557654  108.9  106.28638   74495.829991        47.1256   \n",
       "2010-02-01  118.380821  113.6  103.65597   55082.064653        46.6218   \n",
       "2010-03-01  120.370806  116.1  122.44795   60875.890076        42.7258   \n",
       "2010-04-01  121.795781  117.7  115.72172   72460.799766        42.8074   \n",
       "2010-05-01  123.126608  117.0  121.51816   62635.271956        43.6927   \n",
       "...                ...    ...        ...            ...            ...   \n",
       "2023-02-01  148.810803   90.9   87.50041  158994.533469       102.5282   \n",
       "2023-03-01  160.171350   95.4   99.32097  171056.362117        99.3095   \n",
       "2023-04-01  158.040534   96.0   92.07883  203888.540483        98.7990   \n",
       "2023-05-01  154.763608   93.5  104.56813  176812.099466        88.1681   \n",
       "2023-06-01  151.069673   94.0  101.38040  178296.499300        85.3167   \n",
       "\n",
       "            preco_diesel  preco_etanol  reservas_internacionais  \\\n",
       "data                                                              \n",
       "2010-01-01        1.1386        1.0918                 240484.0   \n",
       "2010-02-01        1.1315        1.1138                 241082.0   \n",
       "2010-03-01        1.1240        1.0053                 243762.0   \n",
       "2010-04-01        1.1170        0.9237                 247292.0   \n",
       "2010-05-01        1.1100        0.8723                 249846.0   \n",
       "...                  ...           ...                      ...   \n",
       "2023-02-01        1.6163        1.0169                 328098.0   \n",
       "2023-03-01        1.5411        1.0442                 341158.0   \n",
       "2023-04-01        1.5001        1.0485                 345725.0   \n",
       "2023-05-01        1.4123        1.0461                 343489.0   \n",
       "2023-06-01        1.3291        0.9915                 343620.0   \n",
       "\n",
       "            pmc_moveis_linha_branca  pmc_combustiveis_lubrificantes  \\\n",
       "data                                                                  \n",
       "2010-01-01                 88.91831                        96.27988   \n",
       "2010-02-01                 73.95911                        90.50721   \n",
       "2010-03-01                 83.79243                       102.25872   \n",
       "2010-04-01                 76.36513                        97.31072   \n",
       "2010-05-01                 87.97682                       102.36180   \n",
       "...                             ...                             ...   \n",
       "2023-02-01                 85.89007                        95.04321   \n",
       "2023-03-01                102.40505                       106.13475   \n",
       "2023-04-01                 88.78179                        98.50652   \n",
       "2023-05-01                102.43319                       105.87317   \n",
       "2023-06-01                 91.59700                        94.83880   \n",
       "\n",
       "            pmc_roupa_calcados  pmc_alimentos_bebidas  selic_meta  \\\n",
       "data                                                                \n",
       "2010-01-01            91.24382               78.42115        8.75   \n",
       "2010-02-01            82.44177               76.00021        8.75   \n",
       "2010-03-01            98.80615               83.95472        8.75   \n",
       "2010-04-01           108.72395               79.97747        9.50   \n",
       "2010-05-01           125.83217               80.84209        9.50   \n",
       "...                        ...                    ...         ...   \n",
       "2023-02-01            71.15876               92.73729       13.75   \n",
       "2023-03-01            81.88834              101.62821       13.75   \n",
       "2023-04-01            86.91740              103.19666       13.75   \n",
       "2023-05-01            99.91929               98.81598       13.75   \n",
       "2023-06-01           108.70370               96.78900       13.75   \n",
       "\n",
       "            pim_bens_consumo  pim_manufatura  pim_bens_intermediarios  \\\n",
       "data                                                                    \n",
       "2010-01-01         107.30917       106.14632                106.55851   \n",
       "2010-02-01         107.18220       103.88948                101.59579   \n",
       "2010-03-01         128.35996       123.12642                117.38226   \n",
       "2010-04-01         118.10510       116.11801                113.71574   \n",
       "2010-05-01         122.90152       122.00840                119.86104   \n",
       "...                      ...             ...                      ...   \n",
       "2023-02-01          86.99350        86.85412                 88.05710   \n",
       "2023-03-01          98.74199        99.11370                 98.97884   \n",
       "2023-04-01          90.47863        91.17776                 94.06368   \n",
       "2023-05-01         106.20067       104.22805                104.64355   \n",
       "2023-06-01         103.06120       102.71840                101.62340   \n",
       "\n",
       "            pim_bens_capital  \n",
       "data                          \n",
       "2010-01-01         100.85119  \n",
       "2010-02-01         102.65056  \n",
       "2010-03-01         129.42121  \n",
       "2010-04-01         117.78302  \n",
       "2010-05-01         124.18815  \n",
       "...                      ...  \n",
       "2023-02-01          83.55314  \n",
       "2023-03-01         105.25709  \n",
       "2023-04-01          80.22211  \n",
       "2023-05-01          95.78511  \n",
       "2023-06-01         102.27410  \n",
       "\n",
       "[162 rows x 17 columns]"
      ]
     },
     "execution_count": 6,
     "metadata": {},
     "output_type": "execute_result"
    }
   ],
   "source": [
    "df_past = case_df[:'2023-06-01']\n",
    "df_past"
   ]
  },
  {
   "cell_type": "code",
   "execution_count": 7,
   "metadata": {},
   "outputs": [
    {
     "data": {
      "text/html": [
       "<div>\n",
       "<style scoped>\n",
       "    .dataframe tbody tr th:only-of-type {\n",
       "        vertical-align: middle;\n",
       "    }\n",
       "\n",
       "    .dataframe tbody tr th {\n",
       "        vertical-align: top;\n",
       "    }\n",
       "\n",
       "    .dataframe thead th {\n",
       "        text-align: right;\n",
       "    }\n",
       "</style>\n",
       "<table border=\"1\" class=\"dataframe\">\n",
       "  <thead>\n",
       "    <tr style=\"text-align: right;\">\n",
       "      <th></th>\n",
       "      <th>abcr_leves</th>\n",
       "      <th>ici</th>\n",
       "      <th>pim</th>\n",
       "      <th>receita</th>\n",
       "      <th>ic_br_energia</th>\n",
       "      <th>preco_diesel</th>\n",
       "      <th>preco_etanol</th>\n",
       "      <th>reservas_internacionais</th>\n",
       "      <th>pmc_moveis_linha_branca</th>\n",
       "      <th>pmc_combustiveis_lubrificantes</th>\n",
       "      <th>pmc_roupa_calcados</th>\n",
       "      <th>pmc_alimentos_bebidas</th>\n",
       "      <th>selic_meta</th>\n",
       "      <th>pim_bens_consumo</th>\n",
       "      <th>pim_manufatura</th>\n",
       "      <th>pim_bens_intermediarios</th>\n",
       "      <th>pim_bens_capital</th>\n",
       "    </tr>\n",
       "    <tr>\n",
       "      <th>data</th>\n",
       "      <th></th>\n",
       "      <th></th>\n",
       "      <th></th>\n",
       "      <th></th>\n",
       "      <th></th>\n",
       "      <th></th>\n",
       "      <th></th>\n",
       "      <th></th>\n",
       "      <th></th>\n",
       "      <th></th>\n",
       "      <th></th>\n",
       "      <th></th>\n",
       "      <th></th>\n",
       "      <th></th>\n",
       "      <th></th>\n",
       "      <th></th>\n",
       "      <th></th>\n",
       "    </tr>\n",
       "  </thead>\n",
       "  <tbody>\n",
       "    <tr>\n",
       "      <th>2023-07-01</th>\n",
       "      <td>NaN</td>\n",
       "      <td>95.5602</td>\n",
       "      <td>108.6378</td>\n",
       "      <td>214314.8836</td>\n",
       "      <td>99.0141</td>\n",
       "      <td>1.3205</td>\n",
       "      <td>0.9765</td>\n",
       "      <td>348037.4931</td>\n",
       "      <td>96.5030</td>\n",
       "      <td>112.4531</td>\n",
       "      <td>96.6164</td>\n",
       "      <td>102.4647</td>\n",
       "      <td>13.75</td>\n",
       "      <td>111.4824</td>\n",
       "      <td>109.7962</td>\n",
       "      <td>109.2422</td>\n",
       "      <td>104.1562</td>\n",
       "    </tr>\n",
       "    <tr>\n",
       "      <th>2023-08-01</th>\n",
       "      <td>NaN</td>\n",
       "      <td>96.8202</td>\n",
       "      <td>110.4535</td>\n",
       "      <td>182332.4762</td>\n",
       "      <td>100.8889</td>\n",
       "      <td>1.2988</td>\n",
       "      <td>0.9859</td>\n",
       "      <td>351370.9922</td>\n",
       "      <td>96.8670</td>\n",
       "      <td>114.9486</td>\n",
       "      <td>97.5849</td>\n",
       "      <td>99.4798</td>\n",
       "      <td>13.50</td>\n",
       "      <td>114.8637</td>\n",
       "      <td>112.1731</td>\n",
       "      <td>109.7552</td>\n",
       "      <td>113.2013</td>\n",
       "    </tr>\n",
       "    <tr>\n",
       "      <th>2023-09-01</th>\n",
       "      <td>NaN</td>\n",
       "      <td>96.8910</td>\n",
       "      <td>107.0321</td>\n",
       "      <td>182670.1938</td>\n",
       "      <td>102.8967</td>\n",
       "      <td>1.2963</td>\n",
       "      <td>0.9879</td>\n",
       "      <td>354704.4912</td>\n",
       "      <td>96.1927</td>\n",
       "      <td>117.3462</td>\n",
       "      <td>86.7278</td>\n",
       "      <td>100.1858</td>\n",
       "      <td>13.00</td>\n",
       "      <td>111.8928</td>\n",
       "      <td>108.2301</td>\n",
       "      <td>106.7085</td>\n",
       "      <td>104.5889</td>\n",
       "    </tr>\n",
       "    <tr>\n",
       "      <th>2023-10-01</th>\n",
       "      <td>NaN</td>\n",
       "      <td>95.5534</td>\n",
       "      <td>108.9625</td>\n",
       "      <td>219603.7128</td>\n",
       "      <td>105.0435</td>\n",
       "      <td>1.3033</td>\n",
       "      <td>1.0040</td>\n",
       "      <td>358037.9902</td>\n",
       "      <td>100.9437</td>\n",
       "      <td>121.6472</td>\n",
       "      <td>92.1770</td>\n",
       "      <td>106.7223</td>\n",
       "      <td>12.50</td>\n",
       "      <td>113.1665</td>\n",
       "      <td>109.0063</td>\n",
       "      <td>109.3047</td>\n",
       "      <td>105.9992</td>\n",
       "    </tr>\n",
       "    <tr>\n",
       "      <th>2023-11-01</th>\n",
       "      <td>NaN</td>\n",
       "      <td>93.3703</td>\n",
       "      <td>102.1935</td>\n",
       "      <td>193832.3845</td>\n",
       "      <td>106.7267</td>\n",
       "      <td>1.3078</td>\n",
       "      <td>1.0162</td>\n",
       "      <td>361371.4892</td>\n",
       "      <td>127.5961</td>\n",
       "      <td>107.0122</td>\n",
       "      <td>97.6818</td>\n",
       "      <td>104.1963</td>\n",
       "      <td>12.50</td>\n",
       "      <td>107.4966</td>\n",
       "      <td>104.0803</td>\n",
       "      <td>101.4931</td>\n",
       "      <td>104.2187</td>\n",
       "    </tr>\n",
       "    <tr>\n",
       "      <th>...</th>\n",
       "      <td>...</td>\n",
       "      <td>...</td>\n",
       "      <td>...</td>\n",
       "      <td>...</td>\n",
       "      <td>...</td>\n",
       "      <td>...</td>\n",
       "      <td>...</td>\n",
       "      <td>...</td>\n",
       "      <td>...</td>\n",
       "      <td>...</td>\n",
       "      <td>...</td>\n",
       "      <td>...</td>\n",
       "      <td>...</td>\n",
       "      <td>...</td>\n",
       "      <td>...</td>\n",
       "      <td>...</td>\n",
       "      <td>...</td>\n",
       "    </tr>\n",
       "    <tr>\n",
       "      <th>2030-08-01</th>\n",
       "      <td>NaN</td>\n",
       "      <td>99.7660</td>\n",
       "      <td>129.5894</td>\n",
       "      <td>265751.4766</td>\n",
       "      <td>107.6456</td>\n",
       "      <td>1.2985</td>\n",
       "      <td>1.0172</td>\n",
       "      <td>397472.3745</td>\n",
       "      <td>114.5322</td>\n",
       "      <td>135.9113</td>\n",
       "      <td>115.3810</td>\n",
       "      <td>117.6215</td>\n",
       "      <td>6.25</td>\n",
       "      <td>135.8110</td>\n",
       "      <td>132.6296</td>\n",
       "      <td>129.7708</td>\n",
       "      <td>133.8453</td>\n",
       "    </tr>\n",
       "    <tr>\n",
       "      <th>2030-09-01</th>\n",
       "      <td>NaN</td>\n",
       "      <td>99.6894</td>\n",
       "      <td>125.5752</td>\n",
       "      <td>263341.1604</td>\n",
       "      <td>107.6456</td>\n",
       "      <td>1.2985</td>\n",
       "      <td>1.0172</td>\n",
       "      <td>397900.2021</td>\n",
       "      <td>113.7349</td>\n",
       "      <td>138.7460</td>\n",
       "      <td>102.5439</td>\n",
       "      <td>118.4561</td>\n",
       "      <td>6.25</td>\n",
       "      <td>132.2982</td>\n",
       "      <td>127.9675</td>\n",
       "      <td>126.1684</td>\n",
       "      <td>123.6623</td>\n",
       "    </tr>\n",
       "    <tr>\n",
       "      <th>2030-10-01</th>\n",
       "      <td>NaN</td>\n",
       "      <td>98.1659</td>\n",
       "      <td>127.8401</td>\n",
       "      <td>299714.2207</td>\n",
       "      <td>107.6456</td>\n",
       "      <td>1.2985</td>\n",
       "      <td>1.0172</td>\n",
       "      <td>398328.0296</td>\n",
       "      <td>119.3524</td>\n",
       "      <td>143.8315</td>\n",
       "      <td>108.9870</td>\n",
       "      <td>126.1848</td>\n",
       "      <td>6.25</td>\n",
       "      <td>133.8042</td>\n",
       "      <td>128.8854</td>\n",
       "      <td>129.2382</td>\n",
       "      <td>125.3298</td>\n",
       "    </tr>\n",
       "    <tr>\n",
       "      <th>2030-11-01</th>\n",
       "      <td>NaN</td>\n",
       "      <td>95.7795</td>\n",
       "      <td>119.8983</td>\n",
       "      <td>278763.6039</td>\n",
       "      <td>107.6456</td>\n",
       "      <td>1.2985</td>\n",
       "      <td>1.0172</td>\n",
       "      <td>398755.8571</td>\n",
       "      <td>150.8653</td>\n",
       "      <td>126.5277</td>\n",
       "      <td>115.4957</td>\n",
       "      <td>123.1981</td>\n",
       "      <td>6.25</td>\n",
       "      <td>127.1004</td>\n",
       "      <td>123.0611</td>\n",
       "      <td>120.0020</td>\n",
       "      <td>123.2246</td>\n",
       "    </tr>\n",
       "    <tr>\n",
       "      <th>2030-12-01</th>\n",
       "      <td>NaN</td>\n",
       "      <td>92.6733</td>\n",
       "      <td>106.9776</td>\n",
       "      <td>329016.8818</td>\n",
       "      <td>107.6456</td>\n",
       "      <td>1.2985</td>\n",
       "      <td>1.0172</td>\n",
       "      <td>399183.6847</td>\n",
       "      <td>148.6093</td>\n",
       "      <td>127.2990</td>\n",
       "      <td>198.9006</td>\n",
       "      <td>144.7092</td>\n",
       "      <td>6.25</td>\n",
       "      <td>110.1590</td>\n",
       "      <td>107.4135</td>\n",
       "      <td>109.0968</td>\n",
       "      <td>105.8963</td>\n",
       "    </tr>\n",
       "  </tbody>\n",
       "</table>\n",
       "<p>90 rows × 17 columns</p>\n",
       "</div>"
      ],
      "text/plain": [
       "            abcr_leves      ici       pim      receita  ic_br_energia  \\\n",
       "data                                                                    \n",
       "2023-07-01         NaN  95.5602  108.6378  214314.8836        99.0141   \n",
       "2023-08-01         NaN  96.8202  110.4535  182332.4762       100.8889   \n",
       "2023-09-01         NaN  96.8910  107.0321  182670.1938       102.8967   \n",
       "2023-10-01         NaN  95.5534  108.9625  219603.7128       105.0435   \n",
       "2023-11-01         NaN  93.3703  102.1935  193832.3845       106.7267   \n",
       "...                ...      ...       ...          ...            ...   \n",
       "2030-08-01         NaN  99.7660  129.5894  265751.4766       107.6456   \n",
       "2030-09-01         NaN  99.6894  125.5752  263341.1604       107.6456   \n",
       "2030-10-01         NaN  98.1659  127.8401  299714.2207       107.6456   \n",
       "2030-11-01         NaN  95.7795  119.8983  278763.6039       107.6456   \n",
       "2030-12-01         NaN  92.6733  106.9776  329016.8818       107.6456   \n",
       "\n",
       "            preco_diesel  preco_etanol  reservas_internacionais  \\\n",
       "data                                                              \n",
       "2023-07-01        1.3205        0.9765              348037.4931   \n",
       "2023-08-01        1.2988        0.9859              351370.9922   \n",
       "2023-09-01        1.2963        0.9879              354704.4912   \n",
       "2023-10-01        1.3033        1.0040              358037.9902   \n",
       "2023-11-01        1.3078        1.0162              361371.4892   \n",
       "...                  ...           ...                      ...   \n",
       "2030-08-01        1.2985        1.0172              397472.3745   \n",
       "2030-09-01        1.2985        1.0172              397900.2021   \n",
       "2030-10-01        1.2985        1.0172              398328.0296   \n",
       "2030-11-01        1.2985        1.0172              398755.8571   \n",
       "2030-12-01        1.2985        1.0172              399183.6847   \n",
       "\n",
       "            pmc_moveis_linha_branca  pmc_combustiveis_lubrificantes  \\\n",
       "data                                                                  \n",
       "2023-07-01                  96.5030                        112.4531   \n",
       "2023-08-01                  96.8670                        114.9486   \n",
       "2023-09-01                  96.1927                        117.3462   \n",
       "2023-10-01                 100.9437                        121.6472   \n",
       "2023-11-01                 127.5961                        107.0122   \n",
       "...                             ...                             ...   \n",
       "2030-08-01                 114.5322                        135.9113   \n",
       "2030-09-01                 113.7349                        138.7460   \n",
       "2030-10-01                 119.3524                        143.8315   \n",
       "2030-11-01                 150.8653                        126.5277   \n",
       "2030-12-01                 148.6093                        127.2990   \n",
       "\n",
       "            pmc_roupa_calcados  pmc_alimentos_bebidas  selic_meta  \\\n",
       "data                                                                \n",
       "2023-07-01             96.6164               102.4647       13.75   \n",
       "2023-08-01             97.5849                99.4798       13.50   \n",
       "2023-09-01             86.7278               100.1858       13.00   \n",
       "2023-10-01             92.1770               106.7223       12.50   \n",
       "2023-11-01             97.6818               104.1963       12.50   \n",
       "...                        ...                    ...         ...   \n",
       "2030-08-01            115.3810               117.6215        6.25   \n",
       "2030-09-01            102.5439               118.4561        6.25   \n",
       "2030-10-01            108.9870               126.1848        6.25   \n",
       "2030-11-01            115.4957               123.1981        6.25   \n",
       "2030-12-01            198.9006               144.7092        6.25   \n",
       "\n",
       "            pim_bens_consumo  pim_manufatura  pim_bens_intermediarios  \\\n",
       "data                                                                    \n",
       "2023-07-01          111.4824        109.7962                 109.2422   \n",
       "2023-08-01          114.8637        112.1731                 109.7552   \n",
       "2023-09-01          111.8928        108.2301                 106.7085   \n",
       "2023-10-01          113.1665        109.0063                 109.3047   \n",
       "2023-11-01          107.4966        104.0803                 101.4931   \n",
       "...                      ...             ...                      ...   \n",
       "2030-08-01          135.8110        132.6296                 129.7708   \n",
       "2030-09-01          132.2982        127.9675                 126.1684   \n",
       "2030-10-01          133.8042        128.8854                 129.2382   \n",
       "2030-11-01          127.1004        123.0611                 120.0020   \n",
       "2030-12-01          110.1590        107.4135                 109.0968   \n",
       "\n",
       "            pim_bens_capital  \n",
       "data                          \n",
       "2023-07-01          104.1562  \n",
       "2023-08-01          113.2013  \n",
       "2023-09-01          104.5889  \n",
       "2023-10-01          105.9992  \n",
       "2023-11-01          104.2187  \n",
       "...                      ...  \n",
       "2030-08-01          133.8453  \n",
       "2030-09-01          123.6623  \n",
       "2030-10-01          125.3298  \n",
       "2030-11-01          123.2246  \n",
       "2030-12-01          105.8963  \n",
       "\n",
       "[90 rows x 17 columns]"
      ]
     },
     "execution_count": 7,
     "metadata": {},
     "output_type": "execute_result"
    }
   ],
   "source": [
    "df_future = case_df['2023-07-01':]\n",
    "df_future"
   ]
  },
  {
   "cell_type": "markdown",
   "metadata": {},
   "source": [
    "### Visualização dos Dados"
   ]
  },
  {
   "cell_type": "code",
   "execution_count": 8,
   "metadata": {},
   "outputs": [
    {
     "data": {
      "application/vnd.plotly.v1+json": {
       "config": {
        "plotlyServerURL": "https://plot.ly"
       },
       "data": [
        {
         "hovertemplate": "Ano=%{x}<br>Valor ABCR Leves=%{y}<extra></extra>",
         "legendgroup": "",
         "line": {
          "color": "#636efa",
          "dash": "solid"
         },
         "marker": {
          "symbol": "circle"
         },
         "mode": "markers+lines",
         "name": "",
         "orientation": "v",
         "showlegend": false,
         "type": "scatter",
         "x": [
          "2010-01-01T00:00:00",
          "2010-02-01T00:00:00",
          "2010-03-01T00:00:00",
          "2010-04-01T00:00:00",
          "2010-05-01T00:00:00",
          "2010-06-01T00:00:00",
          "2010-07-01T00:00:00",
          "2010-08-01T00:00:00",
          "2010-09-01T00:00:00",
          "2010-10-01T00:00:00",
          "2010-11-01T00:00:00",
          "2010-12-01T00:00:00",
          "2011-01-01T00:00:00",
          "2011-02-01T00:00:00",
          "2011-03-01T00:00:00",
          "2011-04-01T00:00:00",
          "2011-05-01T00:00:00",
          "2011-06-01T00:00:00",
          "2011-07-01T00:00:00",
          "2011-08-01T00:00:00",
          "2011-09-01T00:00:00",
          "2011-10-01T00:00:00",
          "2011-11-01T00:00:00",
          "2011-12-01T00:00:00",
          "2012-01-01T00:00:00",
          "2012-02-01T00:00:00",
          "2012-03-01T00:00:00",
          "2012-04-01T00:00:00",
          "2012-05-01T00:00:00",
          "2012-06-01T00:00:00",
          "2012-07-01T00:00:00",
          "2012-08-01T00:00:00",
          "2012-09-01T00:00:00",
          "2012-10-01T00:00:00",
          "2012-11-01T00:00:00",
          "2012-12-01T00:00:00",
          "2013-01-01T00:00:00",
          "2013-02-01T00:00:00",
          "2013-03-01T00:00:00",
          "2013-04-01T00:00:00",
          "2013-05-01T00:00:00",
          "2013-06-01T00:00:00",
          "2013-07-01T00:00:00",
          "2013-08-01T00:00:00",
          "2013-09-01T00:00:00",
          "2013-10-01T00:00:00",
          "2013-11-01T00:00:00",
          "2013-12-01T00:00:00",
          "2014-01-01T00:00:00",
          "2014-02-01T00:00:00",
          "2014-03-01T00:00:00",
          "2014-04-01T00:00:00",
          "2014-05-01T00:00:00",
          "2014-06-01T00:00:00",
          "2014-07-01T00:00:00",
          "2014-08-01T00:00:00",
          "2014-09-01T00:00:00",
          "2014-10-01T00:00:00",
          "2014-11-01T00:00:00",
          "2014-12-01T00:00:00",
          "2015-01-01T00:00:00",
          "2015-02-01T00:00:00",
          "2015-03-01T00:00:00",
          "2015-04-01T00:00:00",
          "2015-05-01T00:00:00",
          "2015-06-01T00:00:00",
          "2015-07-01T00:00:00",
          "2015-08-01T00:00:00",
          "2015-09-01T00:00:00",
          "2015-10-01T00:00:00",
          "2015-11-01T00:00:00",
          "2015-12-01T00:00:00",
          "2016-01-01T00:00:00",
          "2016-02-01T00:00:00",
          "2016-03-01T00:00:00",
          "2016-04-01T00:00:00",
          "2016-05-01T00:00:00",
          "2016-06-01T00:00:00",
          "2016-07-01T00:00:00",
          "2016-08-01T00:00:00",
          "2016-09-01T00:00:00",
          "2016-10-01T00:00:00",
          "2016-11-01T00:00:00",
          "2016-12-01T00:00:00",
          "2017-01-01T00:00:00",
          "2017-02-01T00:00:00",
          "2017-03-01T00:00:00",
          "2017-04-01T00:00:00",
          "2017-05-01T00:00:00",
          "2017-06-01T00:00:00",
          "2017-07-01T00:00:00",
          "2017-08-01T00:00:00",
          "2017-09-01T00:00:00",
          "2017-10-01T00:00:00",
          "2017-11-01T00:00:00",
          "2017-12-01T00:00:00",
          "2018-01-01T00:00:00",
          "2018-02-01T00:00:00",
          "2018-03-01T00:00:00",
          "2018-04-01T00:00:00",
          "2018-05-01T00:00:00",
          "2018-06-01T00:00:00",
          "2018-07-01T00:00:00",
          "2018-08-01T00:00:00",
          "2018-09-01T00:00:00",
          "2018-10-01T00:00:00",
          "2018-11-01T00:00:00",
          "2018-12-01T00:00:00",
          "2019-01-01T00:00:00",
          "2019-02-01T00:00:00",
          "2019-03-01T00:00:00",
          "2019-04-01T00:00:00",
          "2019-05-01T00:00:00",
          "2019-06-01T00:00:00",
          "2019-07-01T00:00:00",
          "2019-08-01T00:00:00",
          "2019-09-01T00:00:00",
          "2019-10-01T00:00:00",
          "2019-11-01T00:00:00",
          "2019-12-01T00:00:00",
          "2020-01-01T00:00:00",
          "2020-02-01T00:00:00",
          "2020-03-01T00:00:00",
          "2020-04-01T00:00:00",
          "2020-05-01T00:00:00",
          "2020-06-01T00:00:00",
          "2020-07-01T00:00:00",
          "2020-08-01T00:00:00",
          "2020-09-01T00:00:00",
          "2020-10-01T00:00:00",
          "2020-11-01T00:00:00",
          "2020-12-01T00:00:00",
          "2021-01-01T00:00:00",
          "2021-02-01T00:00:00",
          "2021-03-01T00:00:00",
          "2021-04-01T00:00:00",
          "2021-05-01T00:00:00",
          "2021-06-01T00:00:00",
          "2021-07-01T00:00:00",
          "2021-08-01T00:00:00",
          "2021-09-01T00:00:00",
          "2021-10-01T00:00:00",
          "2021-11-01T00:00:00",
          "2021-12-01T00:00:00",
          "2022-01-01T00:00:00",
          "2022-02-01T00:00:00",
          "2022-03-01T00:00:00",
          "2022-04-01T00:00:00",
          "2022-05-01T00:00:00",
          "2022-06-01T00:00:00",
          "2022-07-01T00:00:00",
          "2022-08-01T00:00:00",
          "2022-09-01T00:00:00",
          "2022-10-01T00:00:00",
          "2022-11-01T00:00:00",
          "2022-12-01T00:00:00",
          "2023-01-01T00:00:00",
          "2023-02-01T00:00:00",
          "2023-03-01T00:00:00",
          "2023-04-01T00:00:00",
          "2023-05-01T00:00:00",
          "2023-06-01T00:00:00"
         ],
         "xaxis": "x",
         "y": [
          137.557653913702,
          118.380820662905,
          120.370805522479,
          121.795780874176,
          123.126607783326,
          117.056804046096,
          131.889785473548,
          127.230426744633,
          127.6569598274,
          133.397472027683,
          132.638235939066,
          154.176013567629,
          151.620150753044,
          123.399748655057,
          135.197799834928,
          136.190325903729,
          129.090006462274,
          129.179313761342,
          140.054681579126,
          132.566715749839,
          131.780771229805,
          137.974502425038,
          137.075311968905,
          158.505685065946,
          156.740332256523,
          140.203427623846,
          138.217999014302,
          140.027544047238,
          135.110911268813,
          132.629394709744,
          147.181894345063,
          139.787434419181,
          143.275681243592,
          145.178044813038,
          147.14508295111,
          166.63893932329,
          163.17805761266,
          137.194340423726,
          148.837956928691,
          136.982321428228,
          144.328924282748,
          137.23440117589,
          153.640861023758,
          149.186555731827,
          147.006319149295,
          153.265797416115,
          157.373726437887,
          174.376660190726,
          174.955108592855,
          144.816429499571,
          155.453728224467,
          153.857578978786,
          149.676956137933,
          143.251524888359,
          150.548149456353,
          157.102422712018,
          150.243812488271,
          158.518922753428,
          157.981757334604,
          182.15801275575,
          177.838601614388,
          147.352697249278,
          149.640482428134,
          153.80609130044,
          149.660263515654,
          146.128318082041,
          158.023573930544,
          152.84397080291,
          151.03962910894,
          160.218388433087,
          148.579640077773,
          175.568397918954,
          170.639870298178,
          149.605415021657,
          151.651166744338,
          147.006515205319,
          145.943848331526,
          136.257768207253,
          157.823059438227,
          145.724524400878,
          144.481068816264,
          150.707030108907,
          147.353131723909,
          173.881835526681,
          172.218749849915,
          145.060767270482,
          151.602230753439,
          150.263557374172,
          146.746844682668,
          144.133976504473,
          161.972520260403,
          147.501015680864,
          153.157461865859,
          155.34120704197,
          150.167197677714,
          177.80605413934,
          175.049537887198,
          145.318356933206,
          155.520977820807,
          151.199980379659,
          131.212901357152,
          133.420265530666,
          156.860789308614,
          146.926361749108,
          151.039396041981,
          151.927641629138,
          152.798757112562,
          178.702502933613,
          179.223203994927,
          141.908075140355,
          157.001567391483,
          151.111258482448,
          148.240480233714,
          144.931421489337,
          160.268296550045,
          151.33314852938,
          155.913741569402,
          161.567915473003,
          157.866993053877,
          180.787049638571,
          178.633210776449,
          149.766266680335,
          116.872604151073,
          72.4875295830798,
          85.786744140528,
          101.701910433541,
          120.575846585234,
          128.007346118803,
          141.162075944713,
          153.559544103234,
          145.981849736137,
          164.862506737278,
          157.421123450819,
          133.708036562843,
          115.806020252492,
          114.817918551089,
          132.938667932008,
          129.956026891548,
          148.671858483084,
          142.41665920912,
          145.504515874637,
          150.527100125016,
          149.179921947621,
          173.664900456289,
          156.857844549888,
          138.82488507604,
          152.124806663834,
          149.67722529498,
          144.40219428869,
          137.340096103021,
          162.965495241073,
          151.004023996674,
          151.01092614215,
          157.201742273995,
          149.580974439191,
          177.10747048935,
          180.921030605459,
          148.810802768879,
          160.171350105615,
          158.040534394263,
          154.76360838846,
          151.069672537576
         ],
         "yaxis": "y"
        }
       ],
       "layout": {
        "legend": {
         "tracegroupgap": 0
        },
        "template": {
         "data": {
          "bar": [
           {
            "error_x": {
             "color": "#2a3f5f"
            },
            "error_y": {
             "color": "#2a3f5f"
            },
            "marker": {
             "line": {
              "color": "#E5ECF6",
              "width": 0.5
             },
             "pattern": {
              "fillmode": "overlay",
              "size": 10,
              "solidity": 0.2
             }
            },
            "type": "bar"
           }
          ],
          "barpolar": [
           {
            "marker": {
             "line": {
              "color": "#E5ECF6",
              "width": 0.5
             },
             "pattern": {
              "fillmode": "overlay",
              "size": 10,
              "solidity": 0.2
             }
            },
            "type": "barpolar"
           }
          ],
          "carpet": [
           {
            "aaxis": {
             "endlinecolor": "#2a3f5f",
             "gridcolor": "white",
             "linecolor": "white",
             "minorgridcolor": "white",
             "startlinecolor": "#2a3f5f"
            },
            "baxis": {
             "endlinecolor": "#2a3f5f",
             "gridcolor": "white",
             "linecolor": "white",
             "minorgridcolor": "white",
             "startlinecolor": "#2a3f5f"
            },
            "type": "carpet"
           }
          ],
          "choropleth": [
           {
            "colorbar": {
             "outlinewidth": 0,
             "ticks": ""
            },
            "type": "choropleth"
           }
          ],
          "contour": [
           {
            "colorbar": {
             "outlinewidth": 0,
             "ticks": ""
            },
            "colorscale": [
             [
              0,
              "#0d0887"
             ],
             [
              0.1111111111111111,
              "#46039f"
             ],
             [
              0.2222222222222222,
              "#7201a8"
             ],
             [
              0.3333333333333333,
              "#9c179e"
             ],
             [
              0.4444444444444444,
              "#bd3786"
             ],
             [
              0.5555555555555556,
              "#d8576b"
             ],
             [
              0.6666666666666666,
              "#ed7953"
             ],
             [
              0.7777777777777778,
              "#fb9f3a"
             ],
             [
              0.8888888888888888,
              "#fdca26"
             ],
             [
              1,
              "#f0f921"
             ]
            ],
            "type": "contour"
           }
          ],
          "contourcarpet": [
           {
            "colorbar": {
             "outlinewidth": 0,
             "ticks": ""
            },
            "type": "contourcarpet"
           }
          ],
          "heatmap": [
           {
            "colorbar": {
             "outlinewidth": 0,
             "ticks": ""
            },
            "colorscale": [
             [
              0,
              "#0d0887"
             ],
             [
              0.1111111111111111,
              "#46039f"
             ],
             [
              0.2222222222222222,
              "#7201a8"
             ],
             [
              0.3333333333333333,
              "#9c179e"
             ],
             [
              0.4444444444444444,
              "#bd3786"
             ],
             [
              0.5555555555555556,
              "#d8576b"
             ],
             [
              0.6666666666666666,
              "#ed7953"
             ],
             [
              0.7777777777777778,
              "#fb9f3a"
             ],
             [
              0.8888888888888888,
              "#fdca26"
             ],
             [
              1,
              "#f0f921"
             ]
            ],
            "type": "heatmap"
           }
          ],
          "heatmapgl": [
           {
            "colorbar": {
             "outlinewidth": 0,
             "ticks": ""
            },
            "colorscale": [
             [
              0,
              "#0d0887"
             ],
             [
              0.1111111111111111,
              "#46039f"
             ],
             [
              0.2222222222222222,
              "#7201a8"
             ],
             [
              0.3333333333333333,
              "#9c179e"
             ],
             [
              0.4444444444444444,
              "#bd3786"
             ],
             [
              0.5555555555555556,
              "#d8576b"
             ],
             [
              0.6666666666666666,
              "#ed7953"
             ],
             [
              0.7777777777777778,
              "#fb9f3a"
             ],
             [
              0.8888888888888888,
              "#fdca26"
             ],
             [
              1,
              "#f0f921"
             ]
            ],
            "type": "heatmapgl"
           }
          ],
          "histogram": [
           {
            "marker": {
             "pattern": {
              "fillmode": "overlay",
              "size": 10,
              "solidity": 0.2
             }
            },
            "type": "histogram"
           }
          ],
          "histogram2d": [
           {
            "colorbar": {
             "outlinewidth": 0,
             "ticks": ""
            },
            "colorscale": [
             [
              0,
              "#0d0887"
             ],
             [
              0.1111111111111111,
              "#46039f"
             ],
             [
              0.2222222222222222,
              "#7201a8"
             ],
             [
              0.3333333333333333,
              "#9c179e"
             ],
             [
              0.4444444444444444,
              "#bd3786"
             ],
             [
              0.5555555555555556,
              "#d8576b"
             ],
             [
              0.6666666666666666,
              "#ed7953"
             ],
             [
              0.7777777777777778,
              "#fb9f3a"
             ],
             [
              0.8888888888888888,
              "#fdca26"
             ],
             [
              1,
              "#f0f921"
             ]
            ],
            "type": "histogram2d"
           }
          ],
          "histogram2dcontour": [
           {
            "colorbar": {
             "outlinewidth": 0,
             "ticks": ""
            },
            "colorscale": [
             [
              0,
              "#0d0887"
             ],
             [
              0.1111111111111111,
              "#46039f"
             ],
             [
              0.2222222222222222,
              "#7201a8"
             ],
             [
              0.3333333333333333,
              "#9c179e"
             ],
             [
              0.4444444444444444,
              "#bd3786"
             ],
             [
              0.5555555555555556,
              "#d8576b"
             ],
             [
              0.6666666666666666,
              "#ed7953"
             ],
             [
              0.7777777777777778,
              "#fb9f3a"
             ],
             [
              0.8888888888888888,
              "#fdca26"
             ],
             [
              1,
              "#f0f921"
             ]
            ],
            "type": "histogram2dcontour"
           }
          ],
          "mesh3d": [
           {
            "colorbar": {
             "outlinewidth": 0,
             "ticks": ""
            },
            "type": "mesh3d"
           }
          ],
          "parcoords": [
           {
            "line": {
             "colorbar": {
              "outlinewidth": 0,
              "ticks": ""
             }
            },
            "type": "parcoords"
           }
          ],
          "pie": [
           {
            "automargin": true,
            "type": "pie"
           }
          ],
          "scatter": [
           {
            "fillpattern": {
             "fillmode": "overlay",
             "size": 10,
             "solidity": 0.2
            },
            "type": "scatter"
           }
          ],
          "scatter3d": [
           {
            "line": {
             "colorbar": {
              "outlinewidth": 0,
              "ticks": ""
             }
            },
            "marker": {
             "colorbar": {
              "outlinewidth": 0,
              "ticks": ""
             }
            },
            "type": "scatter3d"
           }
          ],
          "scattercarpet": [
           {
            "marker": {
             "colorbar": {
              "outlinewidth": 0,
              "ticks": ""
             }
            },
            "type": "scattercarpet"
           }
          ],
          "scattergeo": [
           {
            "marker": {
             "colorbar": {
              "outlinewidth": 0,
              "ticks": ""
             }
            },
            "type": "scattergeo"
           }
          ],
          "scattergl": [
           {
            "marker": {
             "colorbar": {
              "outlinewidth": 0,
              "ticks": ""
             }
            },
            "type": "scattergl"
           }
          ],
          "scattermapbox": [
           {
            "marker": {
             "colorbar": {
              "outlinewidth": 0,
              "ticks": ""
             }
            },
            "type": "scattermapbox"
           }
          ],
          "scatterpolar": [
           {
            "marker": {
             "colorbar": {
              "outlinewidth": 0,
              "ticks": ""
             }
            },
            "type": "scatterpolar"
           }
          ],
          "scatterpolargl": [
           {
            "marker": {
             "colorbar": {
              "outlinewidth": 0,
              "ticks": ""
             }
            },
            "type": "scatterpolargl"
           }
          ],
          "scatterternary": [
           {
            "marker": {
             "colorbar": {
              "outlinewidth": 0,
              "ticks": ""
             }
            },
            "type": "scatterternary"
           }
          ],
          "surface": [
           {
            "colorbar": {
             "outlinewidth": 0,
             "ticks": ""
            },
            "colorscale": [
             [
              0,
              "#0d0887"
             ],
             [
              0.1111111111111111,
              "#46039f"
             ],
             [
              0.2222222222222222,
              "#7201a8"
             ],
             [
              0.3333333333333333,
              "#9c179e"
             ],
             [
              0.4444444444444444,
              "#bd3786"
             ],
             [
              0.5555555555555556,
              "#d8576b"
             ],
             [
              0.6666666666666666,
              "#ed7953"
             ],
             [
              0.7777777777777778,
              "#fb9f3a"
             ],
             [
              0.8888888888888888,
              "#fdca26"
             ],
             [
              1,
              "#f0f921"
             ]
            ],
            "type": "surface"
           }
          ],
          "table": [
           {
            "cells": {
             "fill": {
              "color": "#EBF0F8"
             },
             "line": {
              "color": "white"
             }
            },
            "header": {
             "fill": {
              "color": "#C8D4E3"
             },
             "line": {
              "color": "white"
             }
            },
            "type": "table"
           }
          ]
         },
         "layout": {
          "annotationdefaults": {
           "arrowcolor": "#2a3f5f",
           "arrowhead": 0,
           "arrowwidth": 1
          },
          "autotypenumbers": "strict",
          "coloraxis": {
           "colorbar": {
            "outlinewidth": 0,
            "ticks": ""
           }
          },
          "colorscale": {
           "diverging": [
            [
             0,
             "#8e0152"
            ],
            [
             0.1,
             "#c51b7d"
            ],
            [
             0.2,
             "#de77ae"
            ],
            [
             0.3,
             "#f1b6da"
            ],
            [
             0.4,
             "#fde0ef"
            ],
            [
             0.5,
             "#f7f7f7"
            ],
            [
             0.6,
             "#e6f5d0"
            ],
            [
             0.7,
             "#b8e186"
            ],
            [
             0.8,
             "#7fbc41"
            ],
            [
             0.9,
             "#4d9221"
            ],
            [
             1,
             "#276419"
            ]
           ],
           "sequential": [
            [
             0,
             "#0d0887"
            ],
            [
             0.1111111111111111,
             "#46039f"
            ],
            [
             0.2222222222222222,
             "#7201a8"
            ],
            [
             0.3333333333333333,
             "#9c179e"
            ],
            [
             0.4444444444444444,
             "#bd3786"
            ],
            [
             0.5555555555555556,
             "#d8576b"
            ],
            [
             0.6666666666666666,
             "#ed7953"
            ],
            [
             0.7777777777777778,
             "#fb9f3a"
            ],
            [
             0.8888888888888888,
             "#fdca26"
            ],
            [
             1,
             "#f0f921"
            ]
           ],
           "sequentialminus": [
            [
             0,
             "#0d0887"
            ],
            [
             0.1111111111111111,
             "#46039f"
            ],
            [
             0.2222222222222222,
             "#7201a8"
            ],
            [
             0.3333333333333333,
             "#9c179e"
            ],
            [
             0.4444444444444444,
             "#bd3786"
            ],
            [
             0.5555555555555556,
             "#d8576b"
            ],
            [
             0.6666666666666666,
             "#ed7953"
            ],
            [
             0.7777777777777778,
             "#fb9f3a"
            ],
            [
             0.8888888888888888,
             "#fdca26"
            ],
            [
             1,
             "#f0f921"
            ]
           ]
          },
          "colorway": [
           "#636efa",
           "#EF553B",
           "#00cc96",
           "#ab63fa",
           "#FFA15A",
           "#19d3f3",
           "#FF6692",
           "#B6E880",
           "#FF97FF",
           "#FECB52"
          ],
          "font": {
           "color": "#2a3f5f"
          },
          "geo": {
           "bgcolor": "white",
           "lakecolor": "white",
           "landcolor": "#E5ECF6",
           "showlakes": true,
           "showland": true,
           "subunitcolor": "white"
          },
          "hoverlabel": {
           "align": "left"
          },
          "hovermode": "closest",
          "mapbox": {
           "style": "light"
          },
          "paper_bgcolor": "white",
          "plot_bgcolor": "#E5ECF6",
          "polar": {
           "angularaxis": {
            "gridcolor": "white",
            "linecolor": "white",
            "ticks": ""
           },
           "bgcolor": "#E5ECF6",
           "radialaxis": {
            "gridcolor": "white",
            "linecolor": "white",
            "ticks": ""
           }
          },
          "scene": {
           "xaxis": {
            "backgroundcolor": "#E5ECF6",
            "gridcolor": "white",
            "gridwidth": 2,
            "linecolor": "white",
            "showbackground": true,
            "ticks": "",
            "zerolinecolor": "white"
           },
           "yaxis": {
            "backgroundcolor": "#E5ECF6",
            "gridcolor": "white",
            "gridwidth": 2,
            "linecolor": "white",
            "showbackground": true,
            "ticks": "",
            "zerolinecolor": "white"
           },
           "zaxis": {
            "backgroundcolor": "#E5ECF6",
            "gridcolor": "white",
            "gridwidth": 2,
            "linecolor": "white",
            "showbackground": true,
            "ticks": "",
            "zerolinecolor": "white"
           }
          },
          "shapedefaults": {
           "line": {
            "color": "#2a3f5f"
           }
          },
          "ternary": {
           "aaxis": {
            "gridcolor": "white",
            "linecolor": "white",
            "ticks": ""
           },
           "baxis": {
            "gridcolor": "white",
            "linecolor": "white",
            "ticks": ""
           },
           "bgcolor": "#E5ECF6",
           "caxis": {
            "gridcolor": "white",
            "linecolor": "white",
            "ticks": ""
           }
          },
          "title": {
           "x": 0.05
          },
          "xaxis": {
           "automargin": true,
           "gridcolor": "white",
           "linecolor": "white",
           "ticks": "",
           "title": {
            "standoff": 15
           },
           "zerolinecolor": "white",
           "zerolinewidth": 2
          },
          "yaxis": {
           "automargin": true,
           "gridcolor": "white",
           "linecolor": "white",
           "ticks": "",
           "title": {
            "standoff": 15
           },
           "zerolinecolor": "white",
           "zerolinewidth": 2
          }
         }
        },
        "title": {
         "text": "ABC-R Leves"
        },
        "xaxis": {
         "anchor": "y",
         "domain": [
          0,
          1
         ],
         "rangeslider": {
          "visible": true
         },
         "title": {
          "text": "Ano"
         }
        },
        "yaxis": {
         "anchor": "x",
         "domain": [
          0,
          1
         ],
         "title": {
          "text": "Valor ABCR Leves"
         }
        }
       }
      }
     },
     "metadata": {},
     "output_type": "display_data"
    }
   ],
   "source": [
    "fig = px.line(\n",
    "    df_past,\n",
    "    markers=True,\n",
    "    x=df_past.index,\n",
    "    y=\"abcr_leves\",\n",
    "    title=\"ABC-R Leves\",\n",
    "    labels={\"abcr_leves\": \"Valor ABCR Leves\", \"data\": \"Ano\"},\n",
    ")\n",
    "fig.update_xaxes(rangeslider_visible=True)\n",
    "fig.show()"
   ]
  },
  {
   "cell_type": "markdown",
   "metadata": {},
   "source": [
    "* Forte impacto da Pandemia de COVID-19 em 2020, principalmente nos meses de março, abril e maio\n",
    "* Leve recuperação em setembro de 2020\n",
    "* Nova queda em março de 2021"
   ]
  },
  {
   "cell_type": "code",
   "execution_count": 9,
   "metadata": {},
   "outputs": [
    {
     "data": {
      "text/html": [
       "<div>\n",
       "<style scoped>\n",
       "    .dataframe tbody tr th:only-of-type {\n",
       "        vertical-align: middle;\n",
       "    }\n",
       "\n",
       "    .dataframe tbody tr th {\n",
       "        vertical-align: top;\n",
       "    }\n",
       "\n",
       "    .dataframe thead th {\n",
       "        text-align: right;\n",
       "    }\n",
       "</style>\n",
       "<table border=\"1\" class=\"dataframe\">\n",
       "  <thead>\n",
       "    <tr style=\"text-align: right;\">\n",
       "      <th></th>\n",
       "      <th>2017</th>\n",
       "      <th>2018</th>\n",
       "      <th>2019</th>\n",
       "      <th>2020</th>\n",
       "      <th>2021</th>\n",
       "      <th>2022</th>\n",
       "    </tr>\n",
       "  </thead>\n",
       "  <tbody>\n",
       "    <tr>\n",
       "      <th>Jan</th>\n",
       "      <td>172.218750</td>\n",
       "      <td>175.049538</td>\n",
       "      <td>179.223204</td>\n",
       "      <td>178.633211</td>\n",
       "      <td>157.421123</td>\n",
       "      <td>156.857845</td>\n",
       "    </tr>\n",
       "    <tr>\n",
       "      <th>Fev</th>\n",
       "      <td>145.060767</td>\n",
       "      <td>145.318357</td>\n",
       "      <td>141.908075</td>\n",
       "      <td>149.766267</td>\n",
       "      <td>133.708037</td>\n",
       "      <td>138.824885</td>\n",
       "    </tr>\n",
       "    <tr>\n",
       "      <th>Mar</th>\n",
       "      <td>151.602231</td>\n",
       "      <td>155.520978</td>\n",
       "      <td>157.001567</td>\n",
       "      <td>116.872604</td>\n",
       "      <td>115.806020</td>\n",
       "      <td>152.124807</td>\n",
       "    </tr>\n",
       "    <tr>\n",
       "      <th>Abr</th>\n",
       "      <td>150.263557</td>\n",
       "      <td>151.199980</td>\n",
       "      <td>151.111258</td>\n",
       "      <td>72.487530</td>\n",
       "      <td>114.817919</td>\n",
       "      <td>149.677225</td>\n",
       "    </tr>\n",
       "    <tr>\n",
       "      <th>Mai</th>\n",
       "      <td>146.746845</td>\n",
       "      <td>131.212901</td>\n",
       "      <td>148.240480</td>\n",
       "      <td>85.786744</td>\n",
       "      <td>132.938668</td>\n",
       "      <td>144.402194</td>\n",
       "    </tr>\n",
       "    <tr>\n",
       "      <th>Jun</th>\n",
       "      <td>144.133977</td>\n",
       "      <td>133.420266</td>\n",
       "      <td>144.931421</td>\n",
       "      <td>101.701910</td>\n",
       "      <td>129.956027</td>\n",
       "      <td>137.340096</td>\n",
       "    </tr>\n",
       "    <tr>\n",
       "      <th>Jul</th>\n",
       "      <td>161.972520</td>\n",
       "      <td>156.860789</td>\n",
       "      <td>160.268297</td>\n",
       "      <td>120.575847</td>\n",
       "      <td>148.671858</td>\n",
       "      <td>162.965495</td>\n",
       "    </tr>\n",
       "    <tr>\n",
       "      <th>Ago</th>\n",
       "      <td>147.501016</td>\n",
       "      <td>146.926362</td>\n",
       "      <td>151.333149</td>\n",
       "      <td>128.007346</td>\n",
       "      <td>142.416659</td>\n",
       "      <td>151.004024</td>\n",
       "    </tr>\n",
       "    <tr>\n",
       "      <th>Set</th>\n",
       "      <td>153.157462</td>\n",
       "      <td>151.039396</td>\n",
       "      <td>155.913742</td>\n",
       "      <td>141.162076</td>\n",
       "      <td>145.504516</td>\n",
       "      <td>151.010926</td>\n",
       "    </tr>\n",
       "    <tr>\n",
       "      <th>Out</th>\n",
       "      <td>155.341207</td>\n",
       "      <td>151.927642</td>\n",
       "      <td>161.567915</td>\n",
       "      <td>153.559544</td>\n",
       "      <td>150.527100</td>\n",
       "      <td>157.201742</td>\n",
       "    </tr>\n",
       "    <tr>\n",
       "      <th>Nov</th>\n",
       "      <td>150.167198</td>\n",
       "      <td>152.798757</td>\n",
       "      <td>157.866993</td>\n",
       "      <td>145.981850</td>\n",
       "      <td>149.179922</td>\n",
       "      <td>149.580974</td>\n",
       "    </tr>\n",
       "    <tr>\n",
       "      <th>Dez</th>\n",
       "      <td>177.806054</td>\n",
       "      <td>178.702503</td>\n",
       "      <td>180.787050</td>\n",
       "      <td>164.862507</td>\n",
       "      <td>173.664900</td>\n",
       "      <td>177.107470</td>\n",
       "    </tr>\n",
       "  </tbody>\n",
       "</table>\n",
       "</div>"
      ],
      "text/plain": [
       "            2017        2018        2019        2020        2021        2022\n",
       "Jan   172.218750  175.049538  179.223204  178.633211  157.421123  156.857845\n",
       " Fev  145.060767  145.318357  141.908075  149.766267  133.708037  138.824885\n",
       " Mar  151.602231  155.520978  157.001567  116.872604  115.806020  152.124807\n",
       " Abr  150.263557  151.199980  151.111258   72.487530  114.817919  149.677225\n",
       " Mai  146.746845  131.212901  148.240480   85.786744  132.938668  144.402194\n",
       " Jun  144.133977  133.420266  144.931421  101.701910  129.956027  137.340096\n",
       " Jul  161.972520  156.860789  160.268297  120.575847  148.671858  162.965495\n",
       " Ago  147.501016  146.926362  151.333149  128.007346  142.416659  151.004024\n",
       " Set  153.157462  151.039396  155.913742  141.162076  145.504516  151.010926\n",
       " Out  155.341207  151.927642  161.567915  153.559544  150.527100  157.201742\n",
       " Nov  150.167198  152.798757  157.866993  145.981850  149.179922  149.580974\n",
       " Dez  177.806054  178.702503  180.787050  164.862507  173.664900  177.107470"
      ]
     },
     "execution_count": 9,
     "metadata": {},
     "output_type": "execute_result"
    }
   ],
   "source": [
    "# create a stacked data frame with `abcr_leves` for each year\n",
    "df_stack_abcr = pd.DataFrame()\n",
    "df_stack_abcr['2017'] = case_df['2017-01-01':'2017-12-01']['abcr_leves'].values\n",
    "df_stack_abcr['2018'] = case_df['2018-01-01':'2018-12-01']['abcr_leves'].values\n",
    "df_stack_abcr['2019'] = case_df['2019-01-01':'2019-12-01']['abcr_leves'].values\n",
    "df_stack_abcr['2020'] = case_df['2020-01-01':'2020-12-01']['abcr_leves'].values\n",
    "df_stack_abcr['2021'] = case_df['2021-01-01':'2021-12-01']['abcr_leves'].values\n",
    "df_stack_abcr['2022'] = case_df['2022-01-01':'2022-12-01']['abcr_leves'].values\n",
    "df_stack_abcr.set_index(['Jan, Fev, Mar, Abr, Mai, Jun, Jul, Ago, Set, Out, Nov, Dez'.split(',')], inplace=True)\n",
    "df_stack_abcr"
   ]
  },
  {
   "cell_type": "code",
   "execution_count": 10,
   "metadata": {},
   "outputs": [
    {
     "data": {
      "text/html": [
       "<div>\n",
       "<style scoped>\n",
       "    .dataframe tbody tr th:only-of-type {\n",
       "        vertical-align: middle;\n",
       "    }\n",
       "\n",
       "    .dataframe tbody tr th {\n",
       "        vertical-align: top;\n",
       "    }\n",
       "\n",
       "    .dataframe thead th {\n",
       "        text-align: right;\n",
       "    }\n",
       "</style>\n",
       "<table border=\"1\" class=\"dataframe\">\n",
       "  <thead>\n",
       "    <tr style=\"text-align: right;\">\n",
       "      <th></th>\n",
       "      <th>2017</th>\n",
       "      <th>2018</th>\n",
       "      <th>2019</th>\n",
       "      <th>2020</th>\n",
       "      <th>2021</th>\n",
       "      <th>2022</th>\n",
       "    </tr>\n",
       "  </thead>\n",
       "  <tbody>\n",
       "    <tr>\n",
       "      <th>count</th>\n",
       "      <td>12.000000</td>\n",
       "      <td>12.000000</td>\n",
       "      <td>12.000000</td>\n",
       "      <td>12.000000</td>\n",
       "      <td>12.000000</td>\n",
       "      <td>12.000000</td>\n",
       "    </tr>\n",
       "    <tr>\n",
       "      <th>mean</th>\n",
       "      <td>154.664299</td>\n",
       "      <td>152.498122</td>\n",
       "      <td>157.512763</td>\n",
       "      <td>129.949786</td>\n",
       "      <td>141.217729</td>\n",
       "      <td>152.341474</td>\n",
       "    </tr>\n",
       "    <tr>\n",
       "      <th>std</th>\n",
       "      <td>10.727701</td>\n",
       "      <td>13.906356</td>\n",
       "      <td>12.086638</td>\n",
       "      <td>31.958374</td>\n",
       "      <td>16.882689</td>\n",
       "      <td>10.699790</td>\n",
       "    </tr>\n",
       "    <tr>\n",
       "      <th>min</th>\n",
       "      <td>144.133977</td>\n",
       "      <td>131.212901</td>\n",
       "      <td>141.908075</td>\n",
       "      <td>72.487530</td>\n",
       "      <td>114.817919</td>\n",
       "      <td>137.340096</td>\n",
       "    </tr>\n",
       "    <tr>\n",
       "      <th>25%</th>\n",
       "      <td>147.312473</td>\n",
       "      <td>146.524361</td>\n",
       "      <td>150.393564</td>\n",
       "      <td>113.079931</td>\n",
       "      <td>132.193008</td>\n",
       "      <td>148.286279</td>\n",
       "    </tr>\n",
       "    <tr>\n",
       "      <th>50%</th>\n",
       "      <td>150.932894</td>\n",
       "      <td>151.563811</td>\n",
       "      <td>156.457654</td>\n",
       "      <td>134.584711</td>\n",
       "      <td>143.960588</td>\n",
       "      <td>151.007475</td>\n",
       "    </tr>\n",
       "    <tr>\n",
       "      <th>75%</th>\n",
       "      <td>156.999035</td>\n",
       "      <td>155.855931</td>\n",
       "      <td>160.593201</td>\n",
       "      <td>150.714586</td>\n",
       "      <td>149.516716</td>\n",
       "      <td>156.943819</td>\n",
       "    </tr>\n",
       "    <tr>\n",
       "      <th>max</th>\n",
       "      <td>177.806054</td>\n",
       "      <td>178.702503</td>\n",
       "      <td>180.787050</td>\n",
       "      <td>178.633211</td>\n",
       "      <td>173.664900</td>\n",
       "      <td>177.107470</td>\n",
       "    </tr>\n",
       "  </tbody>\n",
       "</table>\n",
       "</div>"
      ],
      "text/plain": [
       "             2017        2018        2019        2020        2021        2022\n",
       "count   12.000000   12.000000   12.000000   12.000000   12.000000   12.000000\n",
       "mean   154.664299  152.498122  157.512763  129.949786  141.217729  152.341474\n",
       "std     10.727701   13.906356   12.086638   31.958374   16.882689   10.699790\n",
       "min    144.133977  131.212901  141.908075   72.487530  114.817919  137.340096\n",
       "25%    147.312473  146.524361  150.393564  113.079931  132.193008  148.286279\n",
       "50%    150.932894  151.563811  156.457654  134.584711  143.960588  151.007475\n",
       "75%    156.999035  155.855931  160.593201  150.714586  149.516716  156.943819\n",
       "max    177.806054  178.702503  180.787050  178.633211  173.664900  177.107470"
      ]
     },
     "execution_count": 10,
     "metadata": {},
     "output_type": "execute_result"
    }
   ],
   "source": [
    "df_stack_abcr.describe()"
   ]
  },
  {
   "cell_type": "code",
   "execution_count": 11,
   "metadata": {},
   "outputs": [
    {
     "data": {
      "application/vnd.plotly.v1+json": {
       "config": {
        "plotlyServerURL": "https://plot.ly"
       },
       "data": [
        {
         "hovertemplate": "Ano=2017<br>Meses=%{x}<br>Valor ABCR Leves=%{y}<extra></extra>",
         "legendgroup": "2017",
         "line": {
          "color": "#636efa",
          "dash": "solid"
         },
         "marker": {
          "symbol": "circle"
         },
         "mode": "markers+lines",
         "name": "2017",
         "orientation": "v",
         "showlegend": true,
         "type": "scatter",
         "x": [
          "Jan",
          " Fev",
          " Mar",
          " Abr",
          " Mai",
          " Jun",
          " Jul",
          " Ago",
          " Set",
          " Out",
          " Nov",
          " Dez"
         ],
         "xaxis": "x",
         "y": [
          172.218749849915,
          145.060767270482,
          151.602230753439,
          150.263557374172,
          146.746844682668,
          144.133976504473,
          161.972520260403,
          147.501015680864,
          153.157461865859,
          155.34120704197,
          150.167197677714,
          177.80605413934
         ],
         "yaxis": "y"
        },
        {
         "hovertemplate": "Ano=2018<br>Meses=%{x}<br>Valor ABCR Leves=%{y}<extra></extra>",
         "legendgroup": "2018",
         "line": {
          "color": "#EF553B",
          "dash": "solid"
         },
         "marker": {
          "symbol": "circle"
         },
         "mode": "markers+lines",
         "name": "2018",
         "orientation": "v",
         "showlegend": true,
         "type": "scatter",
         "x": [
          "Jan",
          " Fev",
          " Mar",
          " Abr",
          " Mai",
          " Jun",
          " Jul",
          " Ago",
          " Set",
          " Out",
          " Nov",
          " Dez"
         ],
         "xaxis": "x",
         "y": [
          175.049537887198,
          145.318356933206,
          155.520977820807,
          151.199980379659,
          131.212901357152,
          133.420265530666,
          156.860789308614,
          146.926361749108,
          151.039396041981,
          151.927641629138,
          152.798757112562,
          178.702502933613
         ],
         "yaxis": "y"
        },
        {
         "hovertemplate": "Ano=2019<br>Meses=%{x}<br>Valor ABCR Leves=%{y}<extra></extra>",
         "legendgroup": "2019",
         "line": {
          "color": "#00cc96",
          "dash": "solid"
         },
         "marker": {
          "symbol": "circle"
         },
         "mode": "markers+lines",
         "name": "2019",
         "orientation": "v",
         "showlegend": true,
         "type": "scatter",
         "x": [
          "Jan",
          " Fev",
          " Mar",
          " Abr",
          " Mai",
          " Jun",
          " Jul",
          " Ago",
          " Set",
          " Out",
          " Nov",
          " Dez"
         ],
         "xaxis": "x",
         "y": [
          179.223203994927,
          141.908075140355,
          157.001567391483,
          151.111258482448,
          148.240480233714,
          144.931421489337,
          160.268296550045,
          151.33314852938,
          155.913741569402,
          161.567915473003,
          157.866993053877,
          180.787049638571
         ],
         "yaxis": "y"
        },
        {
         "hovertemplate": "Ano=2020<br>Meses=%{x}<br>Valor ABCR Leves=%{y}<extra></extra>",
         "legendgroup": "2020",
         "line": {
          "color": "#ab63fa",
          "dash": "solid"
         },
         "marker": {
          "symbol": "circle"
         },
         "mode": "markers+lines",
         "name": "2020",
         "orientation": "v",
         "showlegend": true,
         "type": "scatter",
         "x": [
          "Jan",
          " Fev",
          " Mar",
          " Abr",
          " Mai",
          " Jun",
          " Jul",
          " Ago",
          " Set",
          " Out",
          " Nov",
          " Dez"
         ],
         "xaxis": "x",
         "y": [
          178.633210776449,
          149.766266680335,
          116.872604151073,
          72.4875295830798,
          85.786744140528,
          101.701910433541,
          120.575846585234,
          128.007346118803,
          141.162075944713,
          153.559544103234,
          145.981849736137,
          164.862506737278
         ],
         "yaxis": "y"
        },
        {
         "hovertemplate": "Ano=2021<br>Meses=%{x}<br>Valor ABCR Leves=%{y}<extra></extra>",
         "legendgroup": "2021",
         "line": {
          "color": "#FFA15A",
          "dash": "solid"
         },
         "marker": {
          "symbol": "circle"
         },
         "mode": "markers+lines",
         "name": "2021",
         "orientation": "v",
         "showlegend": true,
         "type": "scatter",
         "x": [
          "Jan",
          " Fev",
          " Mar",
          " Abr",
          " Mai",
          " Jun",
          " Jul",
          " Ago",
          " Set",
          " Out",
          " Nov",
          " Dez"
         ],
         "xaxis": "x",
         "y": [
          157.421123450819,
          133.708036562843,
          115.806020252492,
          114.817918551089,
          132.938667932008,
          129.956026891548,
          148.671858483084,
          142.41665920912,
          145.504515874637,
          150.527100125016,
          149.179921947621,
          173.664900456289
         ],
         "yaxis": "y"
        },
        {
         "hovertemplate": "Ano=2022<br>Meses=%{x}<br>Valor ABCR Leves=%{y}<extra></extra>",
         "legendgroup": "2022",
         "line": {
          "color": "#19d3f3",
          "dash": "solid"
         },
         "marker": {
          "symbol": "circle"
         },
         "mode": "markers+lines",
         "name": "2022",
         "orientation": "v",
         "showlegend": true,
         "type": "scatter",
         "x": [
          "Jan",
          " Fev",
          " Mar",
          " Abr",
          " Mai",
          " Jun",
          " Jul",
          " Ago",
          " Set",
          " Out",
          " Nov",
          " Dez"
         ],
         "xaxis": "x",
         "y": [
          156.857844549888,
          138.82488507604,
          152.124806663834,
          149.67722529498,
          144.40219428869,
          137.340096103021,
          162.965495241073,
          151.004023996674,
          151.01092614215,
          157.201742273995,
          149.580974439191,
          177.10747048935
         ],
         "yaxis": "y"
        }
       ],
       "layout": {
        "legend": {
         "title": {
          "text": "Ano"
         },
         "tracegroupgap": 0
        },
        "template": {
         "data": {
          "bar": [
           {
            "error_x": {
             "color": "#2a3f5f"
            },
            "error_y": {
             "color": "#2a3f5f"
            },
            "marker": {
             "line": {
              "color": "#E5ECF6",
              "width": 0.5
             },
             "pattern": {
              "fillmode": "overlay",
              "size": 10,
              "solidity": 0.2
             }
            },
            "type": "bar"
           }
          ],
          "barpolar": [
           {
            "marker": {
             "line": {
              "color": "#E5ECF6",
              "width": 0.5
             },
             "pattern": {
              "fillmode": "overlay",
              "size": 10,
              "solidity": 0.2
             }
            },
            "type": "barpolar"
           }
          ],
          "carpet": [
           {
            "aaxis": {
             "endlinecolor": "#2a3f5f",
             "gridcolor": "white",
             "linecolor": "white",
             "minorgridcolor": "white",
             "startlinecolor": "#2a3f5f"
            },
            "baxis": {
             "endlinecolor": "#2a3f5f",
             "gridcolor": "white",
             "linecolor": "white",
             "minorgridcolor": "white",
             "startlinecolor": "#2a3f5f"
            },
            "type": "carpet"
           }
          ],
          "choropleth": [
           {
            "colorbar": {
             "outlinewidth": 0,
             "ticks": ""
            },
            "type": "choropleth"
           }
          ],
          "contour": [
           {
            "colorbar": {
             "outlinewidth": 0,
             "ticks": ""
            },
            "colorscale": [
             [
              0,
              "#0d0887"
             ],
             [
              0.1111111111111111,
              "#46039f"
             ],
             [
              0.2222222222222222,
              "#7201a8"
             ],
             [
              0.3333333333333333,
              "#9c179e"
             ],
             [
              0.4444444444444444,
              "#bd3786"
             ],
             [
              0.5555555555555556,
              "#d8576b"
             ],
             [
              0.6666666666666666,
              "#ed7953"
             ],
             [
              0.7777777777777778,
              "#fb9f3a"
             ],
             [
              0.8888888888888888,
              "#fdca26"
             ],
             [
              1,
              "#f0f921"
             ]
            ],
            "type": "contour"
           }
          ],
          "contourcarpet": [
           {
            "colorbar": {
             "outlinewidth": 0,
             "ticks": ""
            },
            "type": "contourcarpet"
           }
          ],
          "heatmap": [
           {
            "colorbar": {
             "outlinewidth": 0,
             "ticks": ""
            },
            "colorscale": [
             [
              0,
              "#0d0887"
             ],
             [
              0.1111111111111111,
              "#46039f"
             ],
             [
              0.2222222222222222,
              "#7201a8"
             ],
             [
              0.3333333333333333,
              "#9c179e"
             ],
             [
              0.4444444444444444,
              "#bd3786"
             ],
             [
              0.5555555555555556,
              "#d8576b"
             ],
             [
              0.6666666666666666,
              "#ed7953"
             ],
             [
              0.7777777777777778,
              "#fb9f3a"
             ],
             [
              0.8888888888888888,
              "#fdca26"
             ],
             [
              1,
              "#f0f921"
             ]
            ],
            "type": "heatmap"
           }
          ],
          "heatmapgl": [
           {
            "colorbar": {
             "outlinewidth": 0,
             "ticks": ""
            },
            "colorscale": [
             [
              0,
              "#0d0887"
             ],
             [
              0.1111111111111111,
              "#46039f"
             ],
             [
              0.2222222222222222,
              "#7201a8"
             ],
             [
              0.3333333333333333,
              "#9c179e"
             ],
             [
              0.4444444444444444,
              "#bd3786"
             ],
             [
              0.5555555555555556,
              "#d8576b"
             ],
             [
              0.6666666666666666,
              "#ed7953"
             ],
             [
              0.7777777777777778,
              "#fb9f3a"
             ],
             [
              0.8888888888888888,
              "#fdca26"
             ],
             [
              1,
              "#f0f921"
             ]
            ],
            "type": "heatmapgl"
           }
          ],
          "histogram": [
           {
            "marker": {
             "pattern": {
              "fillmode": "overlay",
              "size": 10,
              "solidity": 0.2
             }
            },
            "type": "histogram"
           }
          ],
          "histogram2d": [
           {
            "colorbar": {
             "outlinewidth": 0,
             "ticks": ""
            },
            "colorscale": [
             [
              0,
              "#0d0887"
             ],
             [
              0.1111111111111111,
              "#46039f"
             ],
             [
              0.2222222222222222,
              "#7201a8"
             ],
             [
              0.3333333333333333,
              "#9c179e"
             ],
             [
              0.4444444444444444,
              "#bd3786"
             ],
             [
              0.5555555555555556,
              "#d8576b"
             ],
             [
              0.6666666666666666,
              "#ed7953"
             ],
             [
              0.7777777777777778,
              "#fb9f3a"
             ],
             [
              0.8888888888888888,
              "#fdca26"
             ],
             [
              1,
              "#f0f921"
             ]
            ],
            "type": "histogram2d"
           }
          ],
          "histogram2dcontour": [
           {
            "colorbar": {
             "outlinewidth": 0,
             "ticks": ""
            },
            "colorscale": [
             [
              0,
              "#0d0887"
             ],
             [
              0.1111111111111111,
              "#46039f"
             ],
             [
              0.2222222222222222,
              "#7201a8"
             ],
             [
              0.3333333333333333,
              "#9c179e"
             ],
             [
              0.4444444444444444,
              "#bd3786"
             ],
             [
              0.5555555555555556,
              "#d8576b"
             ],
             [
              0.6666666666666666,
              "#ed7953"
             ],
             [
              0.7777777777777778,
              "#fb9f3a"
             ],
             [
              0.8888888888888888,
              "#fdca26"
             ],
             [
              1,
              "#f0f921"
             ]
            ],
            "type": "histogram2dcontour"
           }
          ],
          "mesh3d": [
           {
            "colorbar": {
             "outlinewidth": 0,
             "ticks": ""
            },
            "type": "mesh3d"
           }
          ],
          "parcoords": [
           {
            "line": {
             "colorbar": {
              "outlinewidth": 0,
              "ticks": ""
             }
            },
            "type": "parcoords"
           }
          ],
          "pie": [
           {
            "automargin": true,
            "type": "pie"
           }
          ],
          "scatter": [
           {
            "fillpattern": {
             "fillmode": "overlay",
             "size": 10,
             "solidity": 0.2
            },
            "type": "scatter"
           }
          ],
          "scatter3d": [
           {
            "line": {
             "colorbar": {
              "outlinewidth": 0,
              "ticks": ""
             }
            },
            "marker": {
             "colorbar": {
              "outlinewidth": 0,
              "ticks": ""
             }
            },
            "type": "scatter3d"
           }
          ],
          "scattercarpet": [
           {
            "marker": {
             "colorbar": {
              "outlinewidth": 0,
              "ticks": ""
             }
            },
            "type": "scattercarpet"
           }
          ],
          "scattergeo": [
           {
            "marker": {
             "colorbar": {
              "outlinewidth": 0,
              "ticks": ""
             }
            },
            "type": "scattergeo"
           }
          ],
          "scattergl": [
           {
            "marker": {
             "colorbar": {
              "outlinewidth": 0,
              "ticks": ""
             }
            },
            "type": "scattergl"
           }
          ],
          "scattermapbox": [
           {
            "marker": {
             "colorbar": {
              "outlinewidth": 0,
              "ticks": ""
             }
            },
            "type": "scattermapbox"
           }
          ],
          "scatterpolar": [
           {
            "marker": {
             "colorbar": {
              "outlinewidth": 0,
              "ticks": ""
             }
            },
            "type": "scatterpolar"
           }
          ],
          "scatterpolargl": [
           {
            "marker": {
             "colorbar": {
              "outlinewidth": 0,
              "ticks": ""
             }
            },
            "type": "scatterpolargl"
           }
          ],
          "scatterternary": [
           {
            "marker": {
             "colorbar": {
              "outlinewidth": 0,
              "ticks": ""
             }
            },
            "type": "scatterternary"
           }
          ],
          "surface": [
           {
            "colorbar": {
             "outlinewidth": 0,
             "ticks": ""
            },
            "colorscale": [
             [
              0,
              "#0d0887"
             ],
             [
              0.1111111111111111,
              "#46039f"
             ],
             [
              0.2222222222222222,
              "#7201a8"
             ],
             [
              0.3333333333333333,
              "#9c179e"
             ],
             [
              0.4444444444444444,
              "#bd3786"
             ],
             [
              0.5555555555555556,
              "#d8576b"
             ],
             [
              0.6666666666666666,
              "#ed7953"
             ],
             [
              0.7777777777777778,
              "#fb9f3a"
             ],
             [
              0.8888888888888888,
              "#fdca26"
             ],
             [
              1,
              "#f0f921"
             ]
            ],
            "type": "surface"
           }
          ],
          "table": [
           {
            "cells": {
             "fill": {
              "color": "#EBF0F8"
             },
             "line": {
              "color": "white"
             }
            },
            "header": {
             "fill": {
              "color": "#C8D4E3"
             },
             "line": {
              "color": "white"
             }
            },
            "type": "table"
           }
          ]
         },
         "layout": {
          "annotationdefaults": {
           "arrowcolor": "#2a3f5f",
           "arrowhead": 0,
           "arrowwidth": 1
          },
          "autotypenumbers": "strict",
          "coloraxis": {
           "colorbar": {
            "outlinewidth": 0,
            "ticks": ""
           }
          },
          "colorscale": {
           "diverging": [
            [
             0,
             "#8e0152"
            ],
            [
             0.1,
             "#c51b7d"
            ],
            [
             0.2,
             "#de77ae"
            ],
            [
             0.3,
             "#f1b6da"
            ],
            [
             0.4,
             "#fde0ef"
            ],
            [
             0.5,
             "#f7f7f7"
            ],
            [
             0.6,
             "#e6f5d0"
            ],
            [
             0.7,
             "#b8e186"
            ],
            [
             0.8,
             "#7fbc41"
            ],
            [
             0.9,
             "#4d9221"
            ],
            [
             1,
             "#276419"
            ]
           ],
           "sequential": [
            [
             0,
             "#0d0887"
            ],
            [
             0.1111111111111111,
             "#46039f"
            ],
            [
             0.2222222222222222,
             "#7201a8"
            ],
            [
             0.3333333333333333,
             "#9c179e"
            ],
            [
             0.4444444444444444,
             "#bd3786"
            ],
            [
             0.5555555555555556,
             "#d8576b"
            ],
            [
             0.6666666666666666,
             "#ed7953"
            ],
            [
             0.7777777777777778,
             "#fb9f3a"
            ],
            [
             0.8888888888888888,
             "#fdca26"
            ],
            [
             1,
             "#f0f921"
            ]
           ],
           "sequentialminus": [
            [
             0,
             "#0d0887"
            ],
            [
             0.1111111111111111,
             "#46039f"
            ],
            [
             0.2222222222222222,
             "#7201a8"
            ],
            [
             0.3333333333333333,
             "#9c179e"
            ],
            [
             0.4444444444444444,
             "#bd3786"
            ],
            [
             0.5555555555555556,
             "#d8576b"
            ],
            [
             0.6666666666666666,
             "#ed7953"
            ],
            [
             0.7777777777777778,
             "#fb9f3a"
            ],
            [
             0.8888888888888888,
             "#fdca26"
            ],
            [
             1,
             "#f0f921"
            ]
           ]
          },
          "colorway": [
           "#636efa",
           "#EF553B",
           "#00cc96",
           "#ab63fa",
           "#FFA15A",
           "#19d3f3",
           "#FF6692",
           "#B6E880",
           "#FF97FF",
           "#FECB52"
          ],
          "font": {
           "color": "#2a3f5f"
          },
          "geo": {
           "bgcolor": "white",
           "lakecolor": "white",
           "landcolor": "#E5ECF6",
           "showlakes": true,
           "showland": true,
           "subunitcolor": "white"
          },
          "hoverlabel": {
           "align": "left"
          },
          "hovermode": "closest",
          "mapbox": {
           "style": "light"
          },
          "paper_bgcolor": "white",
          "plot_bgcolor": "#E5ECF6",
          "polar": {
           "angularaxis": {
            "gridcolor": "white",
            "linecolor": "white",
            "ticks": ""
           },
           "bgcolor": "#E5ECF6",
           "radialaxis": {
            "gridcolor": "white",
            "linecolor": "white",
            "ticks": ""
           }
          },
          "scene": {
           "xaxis": {
            "backgroundcolor": "#E5ECF6",
            "gridcolor": "white",
            "gridwidth": 2,
            "linecolor": "white",
            "showbackground": true,
            "ticks": "",
            "zerolinecolor": "white"
           },
           "yaxis": {
            "backgroundcolor": "#E5ECF6",
            "gridcolor": "white",
            "gridwidth": 2,
            "linecolor": "white",
            "showbackground": true,
            "ticks": "",
            "zerolinecolor": "white"
           },
           "zaxis": {
            "backgroundcolor": "#E5ECF6",
            "gridcolor": "white",
            "gridwidth": 2,
            "linecolor": "white",
            "showbackground": true,
            "ticks": "",
            "zerolinecolor": "white"
           }
          },
          "shapedefaults": {
           "line": {
            "color": "#2a3f5f"
           }
          },
          "ternary": {
           "aaxis": {
            "gridcolor": "white",
            "linecolor": "white",
            "ticks": ""
           },
           "baxis": {
            "gridcolor": "white",
            "linecolor": "white",
            "ticks": ""
           },
           "bgcolor": "#E5ECF6",
           "caxis": {
            "gridcolor": "white",
            "linecolor": "white",
            "ticks": ""
           }
          },
          "title": {
           "x": 0.05
          },
          "xaxis": {
           "automargin": true,
           "gridcolor": "white",
           "linecolor": "white",
           "ticks": "",
           "title": {
            "standoff": 15
           },
           "zerolinecolor": "white",
           "zerolinewidth": 2
          },
          "yaxis": {
           "automargin": true,
           "gridcolor": "white",
           "linecolor": "white",
           "ticks": "",
           "title": {
            "standoff": 15
           },
           "zerolinecolor": "white",
           "zerolinewidth": 2
          }
         }
        },
        "title": {
         "text": "ABCR Leves Em Cada Ano"
        },
        "xaxis": {
         "anchor": "y",
         "domain": [
          0,
          1
         ],
         "title": {
          "text": "Meses"
         }
        },
        "yaxis": {
         "anchor": "x",
         "domain": [
          0,
          1
         ],
         "title": {
          "text": "Valor ABCR Leves"
         }
        }
       }
      }
     },
     "metadata": {},
     "output_type": "display_data"
    }
   ],
   "source": [
    "# plot stacked bar chart\n",
    "fig = px.line(\n",
    "    df_stack_abcr,\n",
    "    x=df_stack_abcr.index,\n",
    "    y=[\"2017\", \"2018\", \"2019\", \"2020\", \"2021\", \"2022\"],\n",
    "    title=\"ABCR Leves Em Cada Ano\",\n",
    "    markers=True,\n",
    "    labels={\"index\": \"Meses\", \"value\": \"Valor ABCR Leves\", \"variable\": \"Ano\"},\n",
    ")\n",
    "fig.show()"
   ]
  },
  {
   "cell_type": "markdown",
   "metadata": {},
   "source": [
    "* Verificamos que o índice ABCR de veículos leves segue uma tendência sazonal e mantém os padrões para cada mês do ano\n",
    "* Os anos de 2020 e 2021 podem ser considerados anomalias"
   ]
  },
  {
   "cell_type": "markdown",
   "metadata": {},
   "source": [
    "### Decomposição da Série Temporal"
   ]
  },
  {
   "cell_type": "code",
   "execution_count": 12,
   "metadata": {},
   "outputs": [],
   "source": [
    "def plot_seasonal_decompose(\n",
    "    result: DecomposeResult,\n",
    "    dates: pd.Series = None,\n",
    "    title: str = \"Seasonal Decomposition\",\n",
    "):\n",
    "    x_values = dates if dates is not None else np.arange(len(result.observed))\n",
    "    return (\n",
    "        make_subplots(\n",
    "            rows=4,\n",
    "            cols=1,\n",
    "            subplot_titles=[\"Observed\", \"Trend\", \"Seasonal\", \"Residuals\"],\n",
    "        )\n",
    "        .add_trace(\n",
    "            go.Scatter(x=x_values, y=result.observed, mode=\"lines\", name=\"Observed\"),\n",
    "            row=1,\n",
    "            col=1,\n",
    "        )\n",
    "        .add_trace(\n",
    "            go.Scatter(x=x_values, y=result.trend, mode=\"lines\", name=\"Trend\"),\n",
    "            row=2,\n",
    "            col=1,\n",
    "        )\n",
    "        .add_trace(\n",
    "            go.Scatter(x=x_values, y=result.seasonal, mode=\"lines\", name=\"Seasonal\"),\n",
    "            row=3,\n",
    "            col=1,\n",
    "        )\n",
    "        .add_trace(\n",
    "            go.Scatter(x=x_values, y=result.resid, mode=\"lines\", name=\"Residual\"),\n",
    "            row=4,\n",
    "            col=1,\n",
    "        )\n",
    "        .update_layout(\n",
    "            height=900,\n",
    "            title=f\"<b>{title}</b>\",\n",
    "            margin={\"t\": 100},\n",
    "            title_x=0.5,\n",
    "            showlegend=False,\n",
    "        )\n",
    "    )"
   ]
  },
  {
   "cell_type": "code",
   "execution_count": 13,
   "metadata": {},
   "outputs": [
    {
     "data": {
      "application/vnd.plotly.v1+json": {
       "config": {
        "plotlyServerURL": "https://plot.ly"
       },
       "data": [
        {
         "mode": "lines",
         "name": "Observed",
         "type": "scatter",
         "x": [
          0,
          1,
          2,
          3,
          4,
          5,
          6,
          7,
          8,
          9,
          10,
          11,
          12,
          13,
          14,
          15,
          16,
          17,
          18,
          19,
          20,
          21,
          22,
          23,
          24,
          25,
          26,
          27,
          28,
          29,
          30,
          31,
          32,
          33,
          34,
          35,
          36,
          37,
          38,
          39,
          40,
          41,
          42,
          43,
          44,
          45,
          46,
          47,
          48,
          49,
          50,
          51,
          52,
          53,
          54,
          55,
          56,
          57,
          58,
          59,
          60,
          61,
          62,
          63,
          64,
          65,
          66,
          67,
          68,
          69,
          70,
          71,
          72,
          73,
          74,
          75,
          76,
          77,
          78,
          79,
          80,
          81,
          82,
          83,
          84,
          85,
          86,
          87,
          88,
          89,
          90,
          91,
          92,
          93,
          94,
          95,
          96,
          97,
          98,
          99,
          100,
          101,
          102,
          103,
          104,
          105,
          106,
          107,
          108,
          109,
          110,
          111,
          112,
          113,
          114,
          115,
          116,
          117,
          118,
          119,
          120,
          121,
          122,
          123,
          124,
          125,
          126,
          127,
          128,
          129,
          130,
          131,
          132,
          133,
          134,
          135,
          136,
          137,
          138,
          139,
          140,
          141,
          142,
          143,
          144,
          145,
          146,
          147,
          148,
          149,
          150,
          151,
          152,
          153,
          154,
          155,
          156,
          157,
          158,
          159,
          160,
          161
         ],
         "xaxis": "x",
         "y": [
          137.557653913702,
          118.380820662905,
          120.370805522479,
          121.795780874176,
          123.126607783326,
          117.056804046096,
          131.889785473548,
          127.230426744633,
          127.6569598274,
          133.397472027683,
          132.638235939066,
          154.176013567629,
          151.620150753044,
          123.399748655057,
          135.197799834928,
          136.190325903729,
          129.090006462274,
          129.179313761342,
          140.054681579126,
          132.566715749839,
          131.780771229805,
          137.974502425038,
          137.075311968905,
          158.505685065946,
          156.740332256523,
          140.203427623846,
          138.217999014302,
          140.027544047238,
          135.110911268813,
          132.629394709744,
          147.181894345063,
          139.787434419181,
          143.275681243592,
          145.178044813038,
          147.14508295111,
          166.63893932329,
          163.17805761266,
          137.194340423726,
          148.837956928691,
          136.982321428228,
          144.328924282748,
          137.23440117589,
          153.640861023758,
          149.186555731827,
          147.006319149295,
          153.265797416115,
          157.373726437887,
          174.376660190726,
          174.955108592855,
          144.816429499571,
          155.453728224467,
          153.857578978786,
          149.676956137933,
          143.251524888359,
          150.548149456353,
          157.102422712018,
          150.243812488271,
          158.518922753428,
          157.981757334604,
          182.15801275575,
          177.838601614388,
          147.352697249278,
          149.640482428134,
          153.80609130044,
          149.660263515654,
          146.128318082041,
          158.023573930544,
          152.84397080291,
          151.03962910894,
          160.218388433087,
          148.579640077773,
          175.568397918954,
          170.639870298178,
          149.605415021657,
          151.651166744338,
          147.006515205319,
          145.943848331526,
          136.257768207253,
          157.823059438227,
          145.724524400878,
          144.481068816264,
          150.707030108907,
          147.353131723909,
          173.881835526681,
          172.218749849915,
          145.060767270482,
          151.602230753439,
          150.263557374172,
          146.746844682668,
          144.133976504473,
          161.972520260403,
          147.501015680864,
          153.157461865859,
          155.34120704197,
          150.167197677714,
          177.80605413934,
          175.049537887198,
          145.318356933206,
          155.520977820807,
          151.199980379659,
          131.212901357152,
          133.420265530666,
          156.860789308614,
          146.926361749108,
          151.039396041981,
          151.927641629138,
          152.798757112562,
          178.702502933613,
          179.223203994927,
          141.908075140355,
          157.001567391483,
          151.111258482448,
          148.240480233714,
          144.931421489337,
          160.268296550045,
          151.33314852938,
          155.913741569402,
          161.567915473003,
          157.866993053877,
          180.787049638571,
          178.633210776449,
          149.766266680335,
          116.872604151073,
          72.4875295830798,
          85.786744140528,
          101.701910433541,
          120.575846585234,
          128.007346118803,
          141.162075944713,
          153.559544103234,
          145.981849736137,
          164.862506737278,
          157.421123450819,
          133.708036562843,
          115.806020252492,
          114.817918551089,
          132.938667932008,
          129.956026891548,
          148.671858483084,
          142.41665920912,
          145.504515874637,
          150.527100125016,
          149.179921947621,
          173.664900456289,
          156.857844549888,
          138.82488507604,
          152.124806663834,
          149.67722529498,
          144.40219428869,
          137.340096103021,
          162.965495241073,
          151.004023996674,
          151.01092614215,
          157.201742273995,
          149.580974439191,
          177.10747048935,
          180.921030605459,
          148.810802768879,
          160.171350105615,
          158.040534394263,
          154.76360838846,
          151.069672537576
         ],
         "yaxis": "y"
        },
        {
         "mode": "lines",
         "name": "Trend",
         "type": "scatter",
         "x": [
          0,
          1,
          2,
          3,
          4,
          5,
          6,
          7,
          8,
          9,
          10,
          11,
          12,
          13,
          14,
          15,
          16,
          17,
          18,
          19,
          20,
          21,
          22,
          23,
          24,
          25,
          26,
          27,
          28,
          29,
          30,
          31,
          32,
          33,
          34,
          35,
          36,
          37,
          38,
          39,
          40,
          41,
          42,
          43,
          44,
          45,
          46,
          47,
          48,
          49,
          50,
          51,
          52,
          53,
          54,
          55,
          56,
          57,
          58,
          59,
          60,
          61,
          62,
          63,
          64,
          65,
          66,
          67,
          68,
          69,
          70,
          71,
          72,
          73,
          74,
          75,
          76,
          77,
          78,
          79,
          80,
          81,
          82,
          83,
          84,
          85,
          86,
          87,
          88,
          89,
          90,
          91,
          92,
          93,
          94,
          95,
          96,
          97,
          98,
          99,
          100,
          101,
          102,
          103,
          104,
          105,
          106,
          107,
          108,
          109,
          110,
          111,
          112,
          113,
          114,
          115,
          116,
          117,
          118,
          119,
          120,
          121,
          122,
          123,
          124,
          125,
          126,
          127,
          128,
          129,
          130,
          131,
          132,
          133,
          134,
          135,
          136,
          137,
          138,
          139,
          140,
          141,
          142,
          143,
          144,
          145,
          146,
          147,
          148,
          149,
          150,
          151,
          152,
          153,
          154,
          155,
          156,
          157,
          158,
          159,
          160,
          161
         ],
         "xaxis": "x2",
         "y": [
          null,
          null,
          null,
          null,
          null,
          null,
          129.35905123352615,
          130.15411060150507,
          130.98102403086347,
          132.1985881701135,
          133.0468358246344,
          133.80041534105914,
          134.6457239169268,
          135.2082732965428,
          135.60244414685997,
          135.96497922184997,
          136.34056698964972,
          136.70584813665621,
          137.09959201173106,
          138.01308619807554,
          138.83908112091567,
          139.12480684270247,
          139.5355619656211,
          139.93018637207697,
          140.37090694350778,
          140.96873741997774,
          141.74855528177477,
          142.52765746518259,
          143.2473788556078,
          144.005838240589,
          144.61296239115072,
          144.7558223143181,
          145.07294192741261,
          145.38855589805345,
          145.64575549784198,
          146.22171464284534,
          146.68271352388038,
          147.34346719018626,
          147.89054049095083,
          148.38297342881663,
          149.14615659922723,
          149.89475511398606,
          150.70787060763737,
          151.51616810997237,
          152.10941229212324,
          153.0882051607205,
          154.01417555262645,
          154.4877237012787,
          154.60957420732302,
          154.81053901618915,
          155.27526236282108,
          155.6290381409998,
          155.8732529840844,
          156.2228106283236,
          156.6671791944301,
          156.89300255989843,
          156.7564618079557,
          156.51209791317743,
          156.50925706731806,
          156.62842792445986,
          157.05977032728785,
          157.19381085083302,
          157.04953438048136,
          157.15350447632835,
          156.83256066061287,
          156.16623849004506,
          155.59172406700316,
          155.38564016934356,
          155.5632819230345,
          155.3637447655796,
          154.9255784622776,
          154.35945491815608,
          153.93982723619337,
          153.6348288655955,
          153.06491191998268,
          152.39533197761367,
          151.9479208660285,
          151.82654291827282,
          151.82205613325044,
          151.69848245827387,
          151.50708313568745,
          151.64075422643552,
          151.80992249810197,
          152.17155602511707,
          152.67262557175857,
          152.919540242682,
          153.35507708974785,
          153.90968417235862,
          154.2200276259781,
          154.50078948291412,
          154.78224809332835,
          154.91093049749531,
          155.0849445279158,
          155.2872432809515,
          154.67901326761694,
          153.5853610051451,
          152.92596759157863,
          152.68903488809758,
          152.5768382316128,
          152.3463535967499,
          152.31377001433393,
          152.46077035721396,
          152.6720251447974,
          152.70383282458394,
          152.62342898199333,
          152.68142346838772,
          153.3872091758607,
          154.57632312732875,
          155.19793409399963,
          155.52352967823725,
          155.91024352439112,
          156.51501933152804,
          157.12787390591055,
          157.42590651617195,
          157.48817957810857,
          157.79102117483785,
          156.44640568731992,
          151.4983768481625,
          145.62014914013938,
          141.2166805089318,
          137.76159879973983,
          135.13583828409867,
          133.5492771159626,
          132.6009422411935,
          131.77204579588064,
          130.61330887008762,
          129.06594927729915,
          127.51301938383574,
          126.79948546649935,
          128.51881067772553,
          132.24724037603758,
          135.38915871976621,
          137.73708073459358,
          139.50813594243388,
          140.2894589849439,
          140.34404214959835,
          140.35094332598442,
          140.85096273975503,
          141.19425919050838,
          141.38399125768615,
          143.11047604620862,
          146.07622992767665,
          148.00634797353385,
          148.79166445554029,
          149.6949022042679,
          150.64827726866548,
          151.23551789596,
          151.74306174664713,
          152.03788235667,
          152.1980332951963,
          153.34410646555594,
          154.7628191217397,
          155.51417166901558,
          156.1979155248932,
          156.97811232485375,
          157.9819035971173,
          null,
          null,
          null,
          null,
          null,
          null
         ],
         "yaxis": "y2"
        },
        {
         "mode": "lines",
         "name": "Seasonal",
         "type": "scatter",
         "x": [
          0,
          1,
          2,
          3,
          4,
          5,
          6,
          7,
          8,
          9,
          10,
          11,
          12,
          13,
          14,
          15,
          16,
          17,
          18,
          19,
          20,
          21,
          22,
          23,
          24,
          25,
          26,
          27,
          28,
          29,
          30,
          31,
          32,
          33,
          34,
          35,
          36,
          37,
          38,
          39,
          40,
          41,
          42,
          43,
          44,
          45,
          46,
          47,
          48,
          49,
          50,
          51,
          52,
          53,
          54,
          55,
          56,
          57,
          58,
          59,
          60,
          61,
          62,
          63,
          64,
          65,
          66,
          67,
          68,
          69,
          70,
          71,
          72,
          73,
          74,
          75,
          76,
          77,
          78,
          79,
          80,
          81,
          82,
          83,
          84,
          85,
          86,
          87,
          88,
          89,
          90,
          91,
          92,
          93,
          94,
          95,
          96,
          97,
          98,
          99,
          100,
          101,
          102,
          103,
          104,
          105,
          106,
          107,
          108,
          109,
          110,
          111,
          112,
          113,
          114,
          115,
          116,
          117,
          118,
          119,
          120,
          121,
          122,
          123,
          124,
          125,
          126,
          127,
          128,
          129,
          130,
          131,
          132,
          133,
          134,
          135,
          136,
          137,
          138,
          139,
          140,
          141,
          142,
          143,
          144,
          145,
          146,
          147,
          148,
          149,
          150,
          151,
          152,
          153,
          154,
          155,
          156,
          157,
          158,
          159,
          160,
          161
         ],
         "xaxis": "x3",
         "y": [
          20.183874840801952,
          -6.4413529336088855,
          -4.040915801138692,
          -10.079617484655177,
          -11.41185881186862,
          -13.798171284013335,
          2.868696219812943,
          -3.4329137119621165,
          -1.993261287985627,
          3.61784603768427,
          0.6569895265165636,
          23.87068469041673,
          20.183874840801952,
          -6.4413529336088855,
          -4.040915801138692,
          -10.079617484655177,
          -11.41185881186862,
          -13.798171284013335,
          2.868696219812943,
          -3.4329137119621165,
          -1.993261287985627,
          3.61784603768427,
          0.6569895265165636,
          23.87068469041673,
          20.183874840801952,
          -6.4413529336088855,
          -4.040915801138692,
          -10.079617484655177,
          -11.41185881186862,
          -13.798171284013335,
          2.868696219812943,
          -3.4329137119621165,
          -1.993261287985627,
          3.61784603768427,
          0.6569895265165636,
          23.87068469041673,
          20.183874840801952,
          -6.4413529336088855,
          -4.040915801138692,
          -10.079617484655177,
          -11.41185881186862,
          -13.798171284013335,
          2.868696219812943,
          -3.4329137119621165,
          -1.993261287985627,
          3.61784603768427,
          0.6569895265165636,
          23.87068469041673,
          20.183874840801952,
          -6.4413529336088855,
          -4.040915801138692,
          -10.079617484655177,
          -11.41185881186862,
          -13.798171284013335,
          2.868696219812943,
          -3.4329137119621165,
          -1.993261287985627,
          3.61784603768427,
          0.6569895265165636,
          23.87068469041673,
          20.183874840801952,
          -6.4413529336088855,
          -4.040915801138692,
          -10.079617484655177,
          -11.41185881186862,
          -13.798171284013335,
          2.868696219812943,
          -3.4329137119621165,
          -1.993261287985627,
          3.61784603768427,
          0.6569895265165636,
          23.87068469041673,
          20.183874840801952,
          -6.4413529336088855,
          -4.040915801138692,
          -10.079617484655177,
          -11.41185881186862,
          -13.798171284013335,
          2.868696219812943,
          -3.4329137119621165,
          -1.993261287985627,
          3.61784603768427,
          0.6569895265165636,
          23.87068469041673,
          20.183874840801952,
          -6.4413529336088855,
          -4.040915801138692,
          -10.079617484655177,
          -11.41185881186862,
          -13.798171284013335,
          2.868696219812943,
          -3.4329137119621165,
          -1.993261287985627,
          3.61784603768427,
          0.6569895265165636,
          23.87068469041673,
          20.183874840801952,
          -6.4413529336088855,
          -4.040915801138692,
          -10.079617484655177,
          -11.41185881186862,
          -13.798171284013335,
          2.868696219812943,
          -3.4329137119621165,
          -1.993261287985627,
          3.61784603768427,
          0.6569895265165636,
          23.87068469041673,
          20.183874840801952,
          -6.4413529336088855,
          -4.040915801138692,
          -10.079617484655177,
          -11.41185881186862,
          -13.798171284013335,
          2.868696219812943,
          -3.4329137119621165,
          -1.993261287985627,
          3.61784603768427,
          0.6569895265165636,
          23.87068469041673,
          20.183874840801952,
          -6.4413529336088855,
          -4.040915801138692,
          -10.079617484655177,
          -11.41185881186862,
          -13.798171284013335,
          2.868696219812943,
          -3.4329137119621165,
          -1.993261287985627,
          3.61784603768427,
          0.6569895265165636,
          23.87068469041673,
          20.183874840801952,
          -6.4413529336088855,
          -4.040915801138692,
          -10.079617484655177,
          -11.41185881186862,
          -13.798171284013335,
          2.868696219812943,
          -3.4329137119621165,
          -1.993261287985627,
          3.61784603768427,
          0.6569895265165636,
          23.87068469041673,
          20.183874840801952,
          -6.4413529336088855,
          -4.040915801138692,
          -10.079617484655177,
          -11.41185881186862,
          -13.798171284013335,
          2.868696219812943,
          -3.4329137119621165,
          -1.993261287985627,
          3.61784603768427,
          0.6569895265165636,
          23.87068469041673,
          20.183874840801952,
          -6.4413529336088855,
          -4.040915801138692,
          -10.079617484655177,
          -11.41185881186862,
          -13.798171284013335
         ],
         "yaxis": "y3"
        },
        {
         "mode": "lines",
         "name": "Residual",
         "type": "scatter",
         "x": [
          0,
          1,
          2,
          3,
          4,
          5,
          6,
          7,
          8,
          9,
          10,
          11,
          12,
          13,
          14,
          15,
          16,
          17,
          18,
          19,
          20,
          21,
          22,
          23,
          24,
          25,
          26,
          27,
          28,
          29,
          30,
          31,
          32,
          33,
          34,
          35,
          36,
          37,
          38,
          39,
          40,
          41,
          42,
          43,
          44,
          45,
          46,
          47,
          48,
          49,
          50,
          51,
          52,
          53,
          54,
          55,
          56,
          57,
          58,
          59,
          60,
          61,
          62,
          63,
          64,
          65,
          66,
          67,
          68,
          69,
          70,
          71,
          72,
          73,
          74,
          75,
          76,
          77,
          78,
          79,
          80,
          81,
          82,
          83,
          84,
          85,
          86,
          87,
          88,
          89,
          90,
          91,
          92,
          93,
          94,
          95,
          96,
          97,
          98,
          99,
          100,
          101,
          102,
          103,
          104,
          105,
          106,
          107,
          108,
          109,
          110,
          111,
          112,
          113,
          114,
          115,
          116,
          117,
          118,
          119,
          120,
          121,
          122,
          123,
          124,
          125,
          126,
          127,
          128,
          129,
          130,
          131,
          132,
          133,
          134,
          135,
          136,
          137,
          138,
          139,
          140,
          141,
          142,
          143,
          144,
          145,
          146,
          147,
          148,
          149,
          150,
          151,
          152,
          153,
          154,
          155,
          156,
          157,
          158,
          159,
          160,
          161
         ],
         "xaxis": "x4",
         "y": [
          null,
          null,
          null,
          null,
          null,
          null,
          -0.33796197979109976,
          0.5092298550900423,
          -1.3308029154778376,
          -2.418962180114786,
          -1.0655894120849703,
          -3.495086463846853,
          -3.209448004684777,
          -5.367171707876932,
          3.6362714892067176,
          10.304964166534194,
          4.16129828449291,
          6.271636908699122,
          0.08639334758199269,
          -2.0134567362744193,
          -5.065048603125041,
          -4.768150455348742,
          -3.1172395232326644,
          -5.295185996547694,
          -3.8144495277867243,
          5.676043137477154,
          0.510359533665917,
          7.579504066710587,
          3.275391225073827,
          2.4217277531683408,
          -0.2997642659006594,
          -1.5354741831749679,
          0.19600060416501663,
          -3.8283571226997104,
          0.8423379267514596,
          -3.453460009972069,
          -3.68853075202232,
          -3.7077738328513705,
          4.988332238878866,
          -1.3210345159334445,
          6.5946264953894005,
          1.1378173459172842,
          0.06429419630767441,
          1.1033013338167605,
          -3.109831854842616,
          -3.440253782289769,
          2.7025613587439827,
          -3.9817482009694274,
          0.16165954473002486,
          -3.552756583009267,
          4.219381662784611,
          8.308158322441376,
          5.215561965717223,
          0.8268855440487357,
          -8.987725957890046,
          3.6423338640816936,
          -4.519388031699071,
          -1.611021197433697,
          0.8155107407693739,
          1.6589001408734205,
          0.5949564462982089,
          -3.399760667946123,
          -3.3681361512086765,
          6.732204308766814,
          4.2395616669097596,
          3.7602508760092803,
          -0.43684635627210966,
          0.8912443455285639,
          -2.530391526108877,
          1.2367976298231191,
          -7.002927911021156,
          -2.6617416896188146,
          -3.483831778817308,
          2.411939089670386,
          2.6271706254940286,
          4.690800712360517,
          5.4077862773661085,
          -1.7706034270064777,
          3.132307085163621,
          -2.5410443454337455,
          -5.032753031437812,
          -4.551570155212797,
          -5.113780300709531,
          -2.1604051888528133,
          -0.6377505626455111,
          -1.417420038591115,
          2.288069464829829,
          6.433490686468549,
          3.938675868558528,
          3.4313583055722177,
          4.32157594726171,
          -3.977001104669212,
          0.06577862592882355,
          -3.563882276665762,
          -5.1688051164195015,
          0.3500084437781723,
          1.9396954548174214,
          -0.9293250212827049,
          6.985055390332872,
          8.933244267564266,
          -9.689009845313313,
          -5.242333542534624,
          1.3200679440036431,
          -2.3445573635138275,
          0.4092283479733061,
          -4.371627876933982,
          -1.245441589815281,
          0.25549511586752516,
          3.8413950601254037,
          -7.174101604273358,
          5.1322396682305795,
          4.675856635575133,
          2.524465139672083,
          1.3036862571783843,
          -0.08857924787652038,
          -3.024958933495738,
          1.4605971700676952,
          6.451692587156234,
          11.589854387221058,
          15.699684439222473,
          20.687737135907224,
          21.071781329845226,
          -12.635757163750913,
          -50.03379517345853,
          -34.573442843484024,
          -15.113227152533284,
          -11.358798911878093,
          3.9272404469293902,
          16.355851766199276,
          21.422887387824208,
          13.077619833582864,
          5.602663327095065,
          -0.4998321245765176,
          0.64125355401801,
          -20.44252293131321,
          -15.44650611385418,
          3.9995834178922056,
          2.9032354358062946,
          4.60890307276269,
          4.465581663395982,
          4.387301116414017,
          0.8330241596550856,
          0.5165844475705986,
          1.0025513103319739,
          -13.020932495181842,
          -5.382039259016591,
          4.930204569012699,
          8.013781032988039,
          3.7761707438886223,
          -1.0597659081619497,
          6.752692555704119,
          -0.3258814131036005,
          -2.509984238879957,
          -2.6140192885824796,
          -8.054127412179307,
          -4.745117798184047,
          null,
          null,
          null,
          null,
          null,
          null
         ],
         "yaxis": "y4"
        }
       ],
       "layout": {
        "annotations": [
         {
          "font": {
           "size": 16
          },
          "showarrow": false,
          "text": "Observed",
          "x": 0.5,
          "xanchor": "center",
          "xref": "paper",
          "y": 1,
          "yanchor": "bottom",
          "yref": "paper"
         },
         {
          "font": {
           "size": 16
          },
          "showarrow": false,
          "text": "Trend",
          "x": 0.5,
          "xanchor": "center",
          "xref": "paper",
          "y": 0.71875,
          "yanchor": "bottom",
          "yref": "paper"
         },
         {
          "font": {
           "size": 16
          },
          "showarrow": false,
          "text": "Seasonal",
          "x": 0.5,
          "xanchor": "center",
          "xref": "paper",
          "y": 0.4375,
          "yanchor": "bottom",
          "yref": "paper"
         },
         {
          "font": {
           "size": 16
          },
          "showarrow": false,
          "text": "Residuals",
          "x": 0.5,
          "xanchor": "center",
          "xref": "paper",
          "y": 0.15625,
          "yanchor": "bottom",
          "yref": "paper"
         }
        ],
        "height": 900,
        "margin": {
         "t": 100
        },
        "showlegend": false,
        "template": {
         "data": {
          "bar": [
           {
            "error_x": {
             "color": "#2a3f5f"
            },
            "error_y": {
             "color": "#2a3f5f"
            },
            "marker": {
             "line": {
              "color": "#E5ECF6",
              "width": 0.5
             },
             "pattern": {
              "fillmode": "overlay",
              "size": 10,
              "solidity": 0.2
             }
            },
            "type": "bar"
           }
          ],
          "barpolar": [
           {
            "marker": {
             "line": {
              "color": "#E5ECF6",
              "width": 0.5
             },
             "pattern": {
              "fillmode": "overlay",
              "size": 10,
              "solidity": 0.2
             }
            },
            "type": "barpolar"
           }
          ],
          "carpet": [
           {
            "aaxis": {
             "endlinecolor": "#2a3f5f",
             "gridcolor": "white",
             "linecolor": "white",
             "minorgridcolor": "white",
             "startlinecolor": "#2a3f5f"
            },
            "baxis": {
             "endlinecolor": "#2a3f5f",
             "gridcolor": "white",
             "linecolor": "white",
             "minorgridcolor": "white",
             "startlinecolor": "#2a3f5f"
            },
            "type": "carpet"
           }
          ],
          "choropleth": [
           {
            "colorbar": {
             "outlinewidth": 0,
             "ticks": ""
            },
            "type": "choropleth"
           }
          ],
          "contour": [
           {
            "colorbar": {
             "outlinewidth": 0,
             "ticks": ""
            },
            "colorscale": [
             [
              0,
              "#0d0887"
             ],
             [
              0.1111111111111111,
              "#46039f"
             ],
             [
              0.2222222222222222,
              "#7201a8"
             ],
             [
              0.3333333333333333,
              "#9c179e"
             ],
             [
              0.4444444444444444,
              "#bd3786"
             ],
             [
              0.5555555555555556,
              "#d8576b"
             ],
             [
              0.6666666666666666,
              "#ed7953"
             ],
             [
              0.7777777777777778,
              "#fb9f3a"
             ],
             [
              0.8888888888888888,
              "#fdca26"
             ],
             [
              1,
              "#f0f921"
             ]
            ],
            "type": "contour"
           }
          ],
          "contourcarpet": [
           {
            "colorbar": {
             "outlinewidth": 0,
             "ticks": ""
            },
            "type": "contourcarpet"
           }
          ],
          "heatmap": [
           {
            "colorbar": {
             "outlinewidth": 0,
             "ticks": ""
            },
            "colorscale": [
             [
              0,
              "#0d0887"
             ],
             [
              0.1111111111111111,
              "#46039f"
             ],
             [
              0.2222222222222222,
              "#7201a8"
             ],
             [
              0.3333333333333333,
              "#9c179e"
             ],
             [
              0.4444444444444444,
              "#bd3786"
             ],
             [
              0.5555555555555556,
              "#d8576b"
             ],
             [
              0.6666666666666666,
              "#ed7953"
             ],
             [
              0.7777777777777778,
              "#fb9f3a"
             ],
             [
              0.8888888888888888,
              "#fdca26"
             ],
             [
              1,
              "#f0f921"
             ]
            ],
            "type": "heatmap"
           }
          ],
          "heatmapgl": [
           {
            "colorbar": {
             "outlinewidth": 0,
             "ticks": ""
            },
            "colorscale": [
             [
              0,
              "#0d0887"
             ],
             [
              0.1111111111111111,
              "#46039f"
             ],
             [
              0.2222222222222222,
              "#7201a8"
             ],
             [
              0.3333333333333333,
              "#9c179e"
             ],
             [
              0.4444444444444444,
              "#bd3786"
             ],
             [
              0.5555555555555556,
              "#d8576b"
             ],
             [
              0.6666666666666666,
              "#ed7953"
             ],
             [
              0.7777777777777778,
              "#fb9f3a"
             ],
             [
              0.8888888888888888,
              "#fdca26"
             ],
             [
              1,
              "#f0f921"
             ]
            ],
            "type": "heatmapgl"
           }
          ],
          "histogram": [
           {
            "marker": {
             "pattern": {
              "fillmode": "overlay",
              "size": 10,
              "solidity": 0.2
             }
            },
            "type": "histogram"
           }
          ],
          "histogram2d": [
           {
            "colorbar": {
             "outlinewidth": 0,
             "ticks": ""
            },
            "colorscale": [
             [
              0,
              "#0d0887"
             ],
             [
              0.1111111111111111,
              "#46039f"
             ],
             [
              0.2222222222222222,
              "#7201a8"
             ],
             [
              0.3333333333333333,
              "#9c179e"
             ],
             [
              0.4444444444444444,
              "#bd3786"
             ],
             [
              0.5555555555555556,
              "#d8576b"
             ],
             [
              0.6666666666666666,
              "#ed7953"
             ],
             [
              0.7777777777777778,
              "#fb9f3a"
             ],
             [
              0.8888888888888888,
              "#fdca26"
             ],
             [
              1,
              "#f0f921"
             ]
            ],
            "type": "histogram2d"
           }
          ],
          "histogram2dcontour": [
           {
            "colorbar": {
             "outlinewidth": 0,
             "ticks": ""
            },
            "colorscale": [
             [
              0,
              "#0d0887"
             ],
             [
              0.1111111111111111,
              "#46039f"
             ],
             [
              0.2222222222222222,
              "#7201a8"
             ],
             [
              0.3333333333333333,
              "#9c179e"
             ],
             [
              0.4444444444444444,
              "#bd3786"
             ],
             [
              0.5555555555555556,
              "#d8576b"
             ],
             [
              0.6666666666666666,
              "#ed7953"
             ],
             [
              0.7777777777777778,
              "#fb9f3a"
             ],
             [
              0.8888888888888888,
              "#fdca26"
             ],
             [
              1,
              "#f0f921"
             ]
            ],
            "type": "histogram2dcontour"
           }
          ],
          "mesh3d": [
           {
            "colorbar": {
             "outlinewidth": 0,
             "ticks": ""
            },
            "type": "mesh3d"
           }
          ],
          "parcoords": [
           {
            "line": {
             "colorbar": {
              "outlinewidth": 0,
              "ticks": ""
             }
            },
            "type": "parcoords"
           }
          ],
          "pie": [
           {
            "automargin": true,
            "type": "pie"
           }
          ],
          "scatter": [
           {
            "fillpattern": {
             "fillmode": "overlay",
             "size": 10,
             "solidity": 0.2
            },
            "type": "scatter"
           }
          ],
          "scatter3d": [
           {
            "line": {
             "colorbar": {
              "outlinewidth": 0,
              "ticks": ""
             }
            },
            "marker": {
             "colorbar": {
              "outlinewidth": 0,
              "ticks": ""
             }
            },
            "type": "scatter3d"
           }
          ],
          "scattercarpet": [
           {
            "marker": {
             "colorbar": {
              "outlinewidth": 0,
              "ticks": ""
             }
            },
            "type": "scattercarpet"
           }
          ],
          "scattergeo": [
           {
            "marker": {
             "colorbar": {
              "outlinewidth": 0,
              "ticks": ""
             }
            },
            "type": "scattergeo"
           }
          ],
          "scattergl": [
           {
            "marker": {
             "colorbar": {
              "outlinewidth": 0,
              "ticks": ""
             }
            },
            "type": "scattergl"
           }
          ],
          "scattermapbox": [
           {
            "marker": {
             "colorbar": {
              "outlinewidth": 0,
              "ticks": ""
             }
            },
            "type": "scattermapbox"
           }
          ],
          "scatterpolar": [
           {
            "marker": {
             "colorbar": {
              "outlinewidth": 0,
              "ticks": ""
             }
            },
            "type": "scatterpolar"
           }
          ],
          "scatterpolargl": [
           {
            "marker": {
             "colorbar": {
              "outlinewidth": 0,
              "ticks": ""
             }
            },
            "type": "scatterpolargl"
           }
          ],
          "scatterternary": [
           {
            "marker": {
             "colorbar": {
              "outlinewidth": 0,
              "ticks": ""
             }
            },
            "type": "scatterternary"
           }
          ],
          "surface": [
           {
            "colorbar": {
             "outlinewidth": 0,
             "ticks": ""
            },
            "colorscale": [
             [
              0,
              "#0d0887"
             ],
             [
              0.1111111111111111,
              "#46039f"
             ],
             [
              0.2222222222222222,
              "#7201a8"
             ],
             [
              0.3333333333333333,
              "#9c179e"
             ],
             [
              0.4444444444444444,
              "#bd3786"
             ],
             [
              0.5555555555555556,
              "#d8576b"
             ],
             [
              0.6666666666666666,
              "#ed7953"
             ],
             [
              0.7777777777777778,
              "#fb9f3a"
             ],
             [
              0.8888888888888888,
              "#fdca26"
             ],
             [
              1,
              "#f0f921"
             ]
            ],
            "type": "surface"
           }
          ],
          "table": [
           {
            "cells": {
             "fill": {
              "color": "#EBF0F8"
             },
             "line": {
              "color": "white"
             }
            },
            "header": {
             "fill": {
              "color": "#C8D4E3"
             },
             "line": {
              "color": "white"
             }
            },
            "type": "table"
           }
          ]
         },
         "layout": {
          "annotationdefaults": {
           "arrowcolor": "#2a3f5f",
           "arrowhead": 0,
           "arrowwidth": 1
          },
          "autotypenumbers": "strict",
          "coloraxis": {
           "colorbar": {
            "outlinewidth": 0,
            "ticks": ""
           }
          },
          "colorscale": {
           "diverging": [
            [
             0,
             "#8e0152"
            ],
            [
             0.1,
             "#c51b7d"
            ],
            [
             0.2,
             "#de77ae"
            ],
            [
             0.3,
             "#f1b6da"
            ],
            [
             0.4,
             "#fde0ef"
            ],
            [
             0.5,
             "#f7f7f7"
            ],
            [
             0.6,
             "#e6f5d0"
            ],
            [
             0.7,
             "#b8e186"
            ],
            [
             0.8,
             "#7fbc41"
            ],
            [
             0.9,
             "#4d9221"
            ],
            [
             1,
             "#276419"
            ]
           ],
           "sequential": [
            [
             0,
             "#0d0887"
            ],
            [
             0.1111111111111111,
             "#46039f"
            ],
            [
             0.2222222222222222,
             "#7201a8"
            ],
            [
             0.3333333333333333,
             "#9c179e"
            ],
            [
             0.4444444444444444,
             "#bd3786"
            ],
            [
             0.5555555555555556,
             "#d8576b"
            ],
            [
             0.6666666666666666,
             "#ed7953"
            ],
            [
             0.7777777777777778,
             "#fb9f3a"
            ],
            [
             0.8888888888888888,
             "#fdca26"
            ],
            [
             1,
             "#f0f921"
            ]
           ],
           "sequentialminus": [
            [
             0,
             "#0d0887"
            ],
            [
             0.1111111111111111,
             "#46039f"
            ],
            [
             0.2222222222222222,
             "#7201a8"
            ],
            [
             0.3333333333333333,
             "#9c179e"
            ],
            [
             0.4444444444444444,
             "#bd3786"
            ],
            [
             0.5555555555555556,
             "#d8576b"
            ],
            [
             0.6666666666666666,
             "#ed7953"
            ],
            [
             0.7777777777777778,
             "#fb9f3a"
            ],
            [
             0.8888888888888888,
             "#fdca26"
            ],
            [
             1,
             "#f0f921"
            ]
           ]
          },
          "colorway": [
           "#636efa",
           "#EF553B",
           "#00cc96",
           "#ab63fa",
           "#FFA15A",
           "#19d3f3",
           "#FF6692",
           "#B6E880",
           "#FF97FF",
           "#FECB52"
          ],
          "font": {
           "color": "#2a3f5f"
          },
          "geo": {
           "bgcolor": "white",
           "lakecolor": "white",
           "landcolor": "#E5ECF6",
           "showlakes": true,
           "showland": true,
           "subunitcolor": "white"
          },
          "hoverlabel": {
           "align": "left"
          },
          "hovermode": "closest",
          "mapbox": {
           "style": "light"
          },
          "paper_bgcolor": "white",
          "plot_bgcolor": "#E5ECF6",
          "polar": {
           "angularaxis": {
            "gridcolor": "white",
            "linecolor": "white",
            "ticks": ""
           },
           "bgcolor": "#E5ECF6",
           "radialaxis": {
            "gridcolor": "white",
            "linecolor": "white",
            "ticks": ""
           }
          },
          "scene": {
           "xaxis": {
            "backgroundcolor": "#E5ECF6",
            "gridcolor": "white",
            "gridwidth": 2,
            "linecolor": "white",
            "showbackground": true,
            "ticks": "",
            "zerolinecolor": "white"
           },
           "yaxis": {
            "backgroundcolor": "#E5ECF6",
            "gridcolor": "white",
            "gridwidth": 2,
            "linecolor": "white",
            "showbackground": true,
            "ticks": "",
            "zerolinecolor": "white"
           },
           "zaxis": {
            "backgroundcolor": "#E5ECF6",
            "gridcolor": "white",
            "gridwidth": 2,
            "linecolor": "white",
            "showbackground": true,
            "ticks": "",
            "zerolinecolor": "white"
           }
          },
          "shapedefaults": {
           "line": {
            "color": "#2a3f5f"
           }
          },
          "ternary": {
           "aaxis": {
            "gridcolor": "white",
            "linecolor": "white",
            "ticks": ""
           },
           "baxis": {
            "gridcolor": "white",
            "linecolor": "white",
            "ticks": ""
           },
           "bgcolor": "#E5ECF6",
           "caxis": {
            "gridcolor": "white",
            "linecolor": "white",
            "ticks": ""
           }
          },
          "title": {
           "x": 0.05
          },
          "xaxis": {
           "automargin": true,
           "gridcolor": "white",
           "linecolor": "white",
           "ticks": "",
           "title": {
            "standoff": 15
           },
           "zerolinecolor": "white",
           "zerolinewidth": 2
          },
          "yaxis": {
           "automargin": true,
           "gridcolor": "white",
           "linecolor": "white",
           "ticks": "",
           "title": {
            "standoff": 15
           },
           "zerolinecolor": "white",
           "zerolinewidth": 2
          }
         }
        },
        "title": {
         "text": "<b>Seasonal Decomposition - ABCR Leves</b>",
         "x": 0.5
        },
        "xaxis": {
         "anchor": "y",
         "domain": [
          0,
          1
         ]
        },
        "xaxis2": {
         "anchor": "y2",
         "domain": [
          0,
          1
         ]
        },
        "xaxis3": {
         "anchor": "y3",
         "domain": [
          0,
          1
         ]
        },
        "xaxis4": {
         "anchor": "y4",
         "domain": [
          0,
          1
         ]
        },
        "yaxis": {
         "anchor": "x",
         "domain": [
          0.84375,
          1
         ]
        },
        "yaxis2": {
         "anchor": "x2",
         "domain": [
          0.5625,
          0.71875
         ]
        },
        "yaxis3": {
         "anchor": "x3",
         "domain": [
          0.28125,
          0.4375
         ]
        },
        "yaxis4": {
         "anchor": "x4",
         "domain": [
          0,
          0.15625
         ]
        }
       }
      }
     },
     "metadata": {},
     "output_type": "display_data"
    }
   ],
   "source": [
    "fig = plot_seasonal_decompose(seasonal_decompose(df_past['abcr_leves'], model='additive'), title='Seasonal Decomposition - ABCR Leves')\n",
    "fig.show()"
   ]
  },
  {
   "cell_type": "markdown",
   "metadata": {},
   "source": [
    "# Forecasting com LSTM"
   ]
  },
  {
   "cell_type": "markdown",
   "metadata": {},
   "source": [
    "## Análise de Variáveis (Features)"
   ]
  },
  {
   "cell_type": "markdown",
   "metadata": {},
   "source": [
    "### Correlação entre Variáveis"
   ]
  },
  {
   "cell_type": "code",
   "execution_count": 14,
   "metadata": {},
   "outputs": [
    {
     "data": {
      "image/png": "[encoded data removed]",
      "text/plain": [
       "<Figure size 1200x1000 with 2 Axes>"
      ]
     },
     "metadata": {},
     "output_type": "display_data"
    }
   ],
   "source": [
    "plt.figure(figsize=(12, 10))\n",
    "cor = case_df.corr()\n",
    "sns.heatmap(cor, annot=True, cmap=plt.cm.Reds, fmt=\".2f\")\n",
    "plt.title(\"Correlação entre as variáveis\")\n",
    "plt.show()"
   ]
  },
  {
   "cell_type": "markdown",
   "metadata": {},
   "source": [
    "Principais Correlações:\n",
    "* variáveis de **Pesquisa Industrial Mensal** (\"pim\", \"pim_bens_consumo\", \"pim_manufatura\", \"pim_bens_intermediarios\")\n",
    "* **preco_diesel** e **ic_br_energia**\n",
    "* **pmc_alimento_bebidas** e **receita**"
   ]
  },
  {
   "cell_type": "code",
   "execution_count": 15,
   "metadata": {},
   "outputs": [
    {
     "data": {
      "application/vnd.plotly.v1+json": {
       "config": {
        "plotlyServerURL": "https://plot.ly"
       },
       "data": [
        {
         "hovertemplate": "Indicador=pim<br>Ano=%{x}<br>Valor=%{y}<extra></extra>",
         "legendgroup": "pim",
         "line": {
          "color": "#636efa",
          "dash": "solid"
         },
         "marker": {
          "symbol": "circle"
         },
         "mode": "lines",
         "name": "pim",
         "orientation": "v",
         "showlegend": true,
         "type": "scatter",
         "x": [
          "2010-01-01T00:00:00",
          "2010-02-01T00:00:00",
          "2010-03-01T00:00:00",
          "2010-04-01T00:00:00",
          "2010-05-01T00:00:00",
          "2010-06-01T00:00:00",
          "2010-07-01T00:00:00",
          "2010-08-01T00:00:00",
          "2010-09-01T00:00:00",
          "2010-10-01T00:00:00",
          "2010-11-01T00:00:00",
          "2010-12-01T00:00:00",
          "2011-01-01T00:00:00",
          "2011-02-01T00:00:00",
          "2011-03-01T00:00:00",
          "2011-04-01T00:00:00",
          "2011-05-01T00:00:00",
          "2011-06-01T00:00:00",
          "2011-07-01T00:00:00",
          "2011-08-01T00:00:00",
          "2011-09-01T00:00:00",
          "2011-10-01T00:00:00",
          "2011-11-01T00:00:00",
          "2011-12-01T00:00:00",
          "2012-01-01T00:00:00",
          "2012-02-01T00:00:00",
          "2012-03-01T00:00:00",
          "2012-04-01T00:00:00",
          "2012-05-01T00:00:00",
          "2012-06-01T00:00:00",
          "2012-07-01T00:00:00",
          "2012-08-01T00:00:00",
          "2012-09-01T00:00:00",
          "2012-10-01T00:00:00",
          "2012-11-01T00:00:00",
          "2012-12-01T00:00:00",
          "2013-01-01T00:00:00",
          "2013-02-01T00:00:00",
          "2013-03-01T00:00:00",
          "2013-04-01T00:00:00",
          "2013-05-01T00:00:00",
          "2013-06-01T00:00:00",
          "2013-07-01T00:00:00",
          "2013-08-01T00:00:00",
          "2013-09-01T00:00:00",
          "2013-10-01T00:00:00",
          "2013-11-01T00:00:00",
          "2013-12-01T00:00:00",
          "2014-01-01T00:00:00",
          "2014-02-01T00:00:00",
          "2014-03-01T00:00:00",
          "2014-04-01T00:00:00",
          "2014-05-01T00:00:00",
          "2014-06-01T00:00:00",
          "2014-07-01T00:00:00",
          "2014-08-01T00:00:00",
          "2014-09-01T00:00:00",
          "2014-10-01T00:00:00",
          "2014-11-01T00:00:00",
          "2014-12-01T00:00:00",
          "2015-01-01T00:00:00",
          "2015-02-01T00:00:00",
          "2015-03-01T00:00:00",
          "2015-04-01T00:00:00",
          "2015-05-01T00:00:00",
          "2015-06-01T00:00:00",
          "2015-07-01T00:00:00",
          "2015-08-01T00:00:00",
          "2015-09-01T00:00:00",
          "2015-10-01T00:00:00",
          "2015-11-01T00:00:00",
          "2015-12-01T00:00:00",
          "2016-01-01T00:00:00",
          "2016-02-01T00:00:00",
          "2016-03-01T00:00:00",
          "2016-04-01T00:00:00",
          "2016-05-01T00:00:00",
          "2016-06-01T00:00:00",
          "2016-07-01T00:00:00",
          "2016-08-01T00:00:00",
          "2016-09-01T00:00:00",
          "2016-10-01T00:00:00",
          "2016-11-01T00:00:00",
          "2016-12-01T00:00:00",
          "2017-01-01T00:00:00",
          "2017-02-01T00:00:00",
          "2017-03-01T00:00:00",
          "2017-04-01T00:00:00",
          "2017-05-01T00:00:00",
          "2017-06-01T00:00:00",
          "2017-07-01T00:00:00",
          "2017-08-01T00:00:00",
          "2017-09-01T00:00:00",
          "2017-10-01T00:00:00",
          "2017-11-01T00:00:00",
          "2017-12-01T00:00:00",
          "2018-01-01T00:00:00",
          "2018-02-01T00:00:00",
          "2018-03-01T00:00:00",
          "2018-04-01T00:00:00",
          "2018-05-01T00:00:00",
          "2018-06-01T00:00:00",
          "2018-07-01T00:00:00",
          "2018-08-01T00:00:00",
          "2018-09-01T00:00:00",
          "2018-10-01T00:00:00",
          "2018-11-01T00:00:00",
          "2018-12-01T00:00:00",
          "2019-01-01T00:00:00",
          "2019-02-01T00:00:00",
          "2019-03-01T00:00:00",
          "2019-04-01T00:00:00",
          "2019-05-01T00:00:00",
          "2019-06-01T00:00:00",
          "2019-07-01T00:00:00",
          "2019-08-01T00:00:00",
          "2019-09-01T00:00:00",
          "2019-10-01T00:00:00",
          "2019-11-01T00:00:00",
          "2019-12-01T00:00:00",
          "2020-01-01T00:00:00",
          "2020-02-01T00:00:00",
          "2020-03-01T00:00:00",
          "2020-04-01T00:00:00",
          "2020-05-01T00:00:00",
          "2020-06-01T00:00:00",
          "2020-07-01T00:00:00",
          "2020-08-01T00:00:00",
          "2020-09-01T00:00:00",
          "2020-10-01T00:00:00",
          "2020-11-01T00:00:00",
          "2020-12-01T00:00:00",
          "2021-01-01T00:00:00",
          "2021-02-01T00:00:00",
          "2021-03-01T00:00:00",
          "2021-04-01T00:00:00",
          "2021-05-01T00:00:00",
          "2021-06-01T00:00:00",
          "2021-07-01T00:00:00",
          "2021-08-01T00:00:00",
          "2021-09-01T00:00:00",
          "2021-10-01T00:00:00",
          "2021-11-01T00:00:00",
          "2021-12-01T00:00:00",
          "2022-01-01T00:00:00",
          "2022-02-01T00:00:00",
          "2022-03-01T00:00:00",
          "2022-04-01T00:00:00",
          "2022-05-01T00:00:00",
          "2022-06-01T00:00:00",
          "2022-07-01T00:00:00",
          "2022-08-01T00:00:00",
          "2022-09-01T00:00:00",
          "2022-10-01T00:00:00",
          "2022-11-01T00:00:00",
          "2022-12-01T00:00:00",
          "2023-01-01T00:00:00",
          "2023-02-01T00:00:00",
          "2023-03-01T00:00:00",
          "2023-04-01T00:00:00",
          "2023-05-01T00:00:00",
          "2023-06-01T00:00:00"
         ],
         "xaxis": "x",
         "y": [
          106.28638,
          103.65597,
          122.44795,
          115.72172,
          121.51816,
          119.43995,
          124.55664,
          126.02153,
          123.28957,
          125.54517,
          124.42525,
          112.54306,
          108.6343,
          111.18262,
          121.63363,
          113.61426,
          124.81165,
          119.80302,
          123.60012,
          129.1428,
          122.10754,
          123.83857,
          121.40188,
          111.49519,
          103.35733,
          104.68291,
          116.1812,
          108.09827,
          119.38667,
          114.50151,
          121.76721,
          129.95274,
          120.52278,
          130.27003,
          122.16077,
          107.48937,
          110.11744,
          102.62008,
          113.85214,
          118.65181,
          122.33153,
          118.51416,
          125.8847,
          130.56683,
          125.03259,
          131.19189,
          123.68849,
          104.97604,
          107.91411,
          107.54777,
          113.37495,
          111.8974,
          118.5303,
          110.61037,
          121.70206,
          123.92138,
          123.07107,
          127.32526,
          116.2884,
          102.2134,
          102.66304,
          97.57125,
          109.92777,
          103.51269,
          108.44442,
          107.78466,
          111.24612,
          113.73341,
          109.91113,
          113.31974,
          102.02329,
          89.97213,
          88.87564,
          88.35558,
          97.51803,
          96.72772,
          100.51023,
          102.14944,
          104.43092,
          108.37187,
          105.65274,
          105.07812,
          100.76965,
          90.00232,
          90.76173,
          88.41199,
          99.55177,
          92.42064,
          105.02557,
          103.06748,
          107.34819,
          112.64103,
          108.34912,
          110.87912,
          105.5798,
          94.39374,
          95.85064,
          90.04273,
          100.49774,
          100.77646,
          98.36,
          106.10223,
          111.61924,
          114.4615,
          105.73437,
          111.61565,
          104.28134,
          90.84141,
          94.02286,
          92.15176,
          94.39633,
          97.12618,
          106.03589,
          99.98849,
          108.88426,
          112.1134,
          106.94489,
          113.06392,
          102.50798,
          89.65106,
          93.25265,
          91.90105,
          90.76051,
          70.24669,
          82.93598,
          91.33918,
          106.0344,
          109.41676,
          111.13157,
          113.42905,
          105.13475,
          97.1061,
          95.45141,
          92.15339,
          100.3173,
          94.72257,
          102.95969,
          102.41462,
          107.53425,
          108.81356,
          106.61016,
          104.56847,
          100.5582,
          92.2986,
          90.12692,
          89.76868,
          98.37445,
          94.63148,
          102.66461,
          101.79733,
          107.14913,
          110.72404,
          105.56805,
          105.8625,
          101.38154,
          91.95129,
          90.35652,
          87.50041,
          99.32097,
          92.07883,
          104.56813,
          101.3804
         ],
         "yaxis": "y"
        },
        {
         "hovertemplate": "Indicador=pim_bens_consumo<br>Ano=%{x}<br>Valor=%{y}<extra></extra>",
         "legendgroup": "pim_bens_consumo",
         "line": {
          "color": "#EF553B",
          "dash": "solid"
         },
         "marker": {
          "symbol": "circle"
         },
         "mode": "lines",
         "name": "pim_bens_consumo",
         "orientation": "v",
         "showlegend": true,
         "type": "scatter",
         "x": [
          "2010-01-01T00:00:00",
          "2010-02-01T00:00:00",
          "2010-03-01T00:00:00",
          "2010-04-01T00:00:00",
          "2010-05-01T00:00:00",
          "2010-06-01T00:00:00",
          "2010-07-01T00:00:00",
          "2010-08-01T00:00:00",
          "2010-09-01T00:00:00",
          "2010-10-01T00:00:00",
          "2010-11-01T00:00:00",
          "2010-12-01T00:00:00",
          "2011-01-01T00:00:00",
          "2011-02-01T00:00:00",
          "2011-03-01T00:00:00",
          "2011-04-01T00:00:00",
          "2011-05-01T00:00:00",
          "2011-06-01T00:00:00",
          "2011-07-01T00:00:00",
          "2011-08-01T00:00:00",
          "2011-09-01T00:00:00",
          "2011-10-01T00:00:00",
          "2011-11-01T00:00:00",
          "2011-12-01T00:00:00",
          "2012-01-01T00:00:00",
          "2012-02-01T00:00:00",
          "2012-03-01T00:00:00",
          "2012-04-01T00:00:00",
          "2012-05-01T00:00:00",
          "2012-06-01T00:00:00",
          "2012-07-01T00:00:00",
          "2012-08-01T00:00:00",
          "2012-09-01T00:00:00",
          "2012-10-01T00:00:00",
          "2012-11-01T00:00:00",
          "2012-12-01T00:00:00",
          "2013-01-01T00:00:00",
          "2013-02-01T00:00:00",
          "2013-03-01T00:00:00",
          "2013-04-01T00:00:00",
          "2013-05-01T00:00:00",
          "2013-06-01T00:00:00",
          "2013-07-01T00:00:00",
          "2013-08-01T00:00:00",
          "2013-09-01T00:00:00",
          "2013-10-01T00:00:00",
          "2013-11-01T00:00:00",
          "2013-12-01T00:00:00",
          "2014-01-01T00:00:00",
          "2014-02-01T00:00:00",
          "2014-03-01T00:00:00",
          "2014-04-01T00:00:00",
          "2014-05-01T00:00:00",
          "2014-06-01T00:00:00",
          "2014-07-01T00:00:00",
          "2014-08-01T00:00:00",
          "2014-09-01T00:00:00",
          "2014-10-01T00:00:00",
          "2014-11-01T00:00:00",
          "2014-12-01T00:00:00",
          "2015-01-01T00:00:00",
          "2015-02-01T00:00:00",
          "2015-03-01T00:00:00",
          "2015-04-01T00:00:00",
          "2015-05-01T00:00:00",
          "2015-06-01T00:00:00",
          "2015-07-01T00:00:00",
          "2015-08-01T00:00:00",
          "2015-09-01T00:00:00",
          "2015-10-01T00:00:00",
          "2015-11-01T00:00:00",
          "2015-12-01T00:00:00",
          "2016-01-01T00:00:00",
          "2016-02-01T00:00:00",
          "2016-03-01T00:00:00",
          "2016-04-01T00:00:00",
          "2016-05-01T00:00:00",
          "2016-06-01T00:00:00",
          "2016-07-01T00:00:00",
          "2016-08-01T00:00:00",
          "2016-09-01T00:00:00",
          "2016-10-01T00:00:00",
          "2016-11-01T00:00:00",
          "2016-12-01T00:00:00",
          "2017-01-01T00:00:00",
          "2017-02-01T00:00:00",
          "2017-03-01T00:00:00",
          "2017-04-01T00:00:00",
          "2017-05-01T00:00:00",
          "2017-06-01T00:00:00",
          "2017-07-01T00:00:00",
          "2017-08-01T00:00:00",
          "2017-09-01T00:00:00",
          "2017-10-01T00:00:00",
          "2017-11-01T00:00:00",
          "2017-12-01T00:00:00",
          "2018-01-01T00:00:00",
          "2018-02-01T00:00:00",
          "2018-03-01T00:00:00",
          "2018-04-01T00:00:00",
          "2018-05-01T00:00:00",
          "2018-06-01T00:00:00",
          "2018-07-01T00:00:00",
          "2018-08-01T00:00:00",
          "2018-09-01T00:00:00",
          "2018-10-01T00:00:00",
          "2018-11-01T00:00:00",
          "2018-12-01T00:00:00",
          "2019-01-01T00:00:00",
          "2019-02-01T00:00:00",
          "2019-03-01T00:00:00",
          "2019-04-01T00:00:00",
          "2019-05-01T00:00:00",
          "2019-06-01T00:00:00",
          "2019-07-01T00:00:00",
          "2019-08-01T00:00:00",
          "2019-09-01T00:00:00",
          "2019-10-01T00:00:00",
          "2019-11-01T00:00:00",
          "2019-12-01T00:00:00",
          "2020-01-01T00:00:00",
          "2020-02-01T00:00:00",
          "2020-03-01T00:00:00",
          "2020-04-01T00:00:00",
          "2020-05-01T00:00:00",
          "2020-06-01T00:00:00",
          "2020-07-01T00:00:00",
          "2020-08-01T00:00:00",
          "2020-09-01T00:00:00",
          "2020-10-01T00:00:00",
          "2020-11-01T00:00:00",
          "2020-12-01T00:00:00",
          "2021-01-01T00:00:00",
          "2021-02-01T00:00:00",
          "2021-03-01T00:00:00",
          "2021-04-01T00:00:00",
          "2021-05-01T00:00:00",
          "2021-06-01T00:00:00",
          "2021-07-01T00:00:00",
          "2021-08-01T00:00:00",
          "2021-09-01T00:00:00",
          "2021-10-01T00:00:00",
          "2021-11-01T00:00:00",
          "2021-12-01T00:00:00",
          "2022-01-01T00:00:00",
          "2022-02-01T00:00:00",
          "2022-03-01T00:00:00",
          "2022-04-01T00:00:00",
          "2022-05-01T00:00:00",
          "2022-06-01T00:00:00",
          "2022-07-01T00:00:00",
          "2022-08-01T00:00:00",
          "2022-09-01T00:00:00",
          "2022-10-01T00:00:00",
          "2022-11-01T00:00:00",
          "2022-12-01T00:00:00",
          "2023-01-01T00:00:00",
          "2023-02-01T00:00:00",
          "2023-03-01T00:00:00",
          "2023-04-01T00:00:00",
          "2023-05-01T00:00:00",
          "2023-06-01T00:00:00"
         ],
         "xaxis": "x",
         "y": [
          107.30917,
          107.1822,
          128.35996,
          118.1051,
          122.90152,
          119.14995,
          124.65266,
          130.34365,
          130.33916,
          134.83667,
          133.81529,
          117.47591,
          110.55648,
          115.90104,
          125.23471,
          114.69383,
          126.26188,
          117.85414,
          124.85739,
          133.5772,
          125.70748,
          129.73079,
          129.08687,
          115.05157,
          106.97662,
          106.52388,
          122.44965,
          111.51708,
          122.05001,
          115.6174,
          124.16271,
          136.66403,
          126.94948,
          140.76779,
          135.24185,
          112.50085,
          115.51315,
          105.19807,
          117.86916,
          125.41581,
          127.14715,
          122.64017,
          129.34052,
          136.74319,
          132.80972,
          141.65226,
          134.17259,
          111.1824,
          113.53969,
          116.659,
          118.75017,
          118.15663,
          124.71175,
          109.76356,
          126.87952,
          128.54463,
          133.61426,
          139.47589,
          127.0509,
          107.9316,
          105.4885,
          100.3483,
          114.86666,
          105.27014,
          110.08034,
          107.74849,
          114.37535,
          117.60479,
          117.74827,
          122.04693,
          113.76069,
          98.08803,
          93.19282,
          92.04186,
          105.26594,
          102.60655,
          104.3672,
          105.42062,
          105.45621,
          113.72414,
          112.7487,
          113.24065,
          110.7677,
          96.39975,
          95.99505,
          94.58334,
          108.09759,
          94.60496,
          110.14767,
          105.30389,
          110.80792,
          121.17701,
          115.65466,
          121.37437,
          116.46521,
          100.71464,
          101.26662,
          96.82476,
          109.8947,
          108.64554,
          99.4372,
          109.88213,
          115.68617,
          123.09089,
          112.9331,
          123.23545,
          115.15633,
          96.32073,
          98.9041,
          102.30914,
          101.61885,
          108.25436,
          114.91538,
          104.4333,
          117.45697,
          121.40468,
          116.79071,
          128.81244,
          116.48996,
          97.49747,
          98.94026,
          98.26308,
          93.61032,
          65.2075,
          79.28065,
          92.74374,
          108.86042,
          112.72446,
          119.1503,
          123.14994,
          115.6491,
          101.60323,
          97.3254,
          95.0948,
          100.23335,
          93.05118,
          101.66414,
          98.854,
          105.25133,
          107.55915,
          108.07329,
          106.18124,
          104.77512,
          92.01189,
          84.36991,
          86.21445,
          93.3254,
          90.59432,
          103.8679,
          102.71969,
          109.03931,
          114.06376,
          109.21195,
          108.70202,
          105.27694,
          92.61436,
          89.37703,
          86.9935,
          98.74199,
          90.47863,
          106.20067,
          103.0612
         ],
         "yaxis": "y"
        },
        {
         "hovertemplate": "Indicador=pim_manufatura<br>Ano=%{x}<br>Valor=%{y}<extra></extra>",
         "legendgroup": "pim_manufatura",
         "line": {
          "color": "#00cc96",
          "dash": "solid"
         },
         "marker": {
          "symbol": "circle"
         },
         "mode": "lines",
         "name": "pim_manufatura",
         "orientation": "v",
         "showlegend": true,
         "type": "scatter",
         "x": [
          "2010-01-01T00:00:00",
          "2010-02-01T00:00:00",
          "2010-03-01T00:00:00",
          "2010-04-01T00:00:00",
          "2010-05-01T00:00:00",
          "2010-06-01T00:00:00",
          "2010-07-01T00:00:00",
          "2010-08-01T00:00:00",
          "2010-09-01T00:00:00",
          "2010-10-01T00:00:00",
          "2010-11-01T00:00:00",
          "2010-12-01T00:00:00",
          "2011-01-01T00:00:00",
          "2011-02-01T00:00:00",
          "2011-03-01T00:00:00",
          "2011-04-01T00:00:00",
          "2011-05-01T00:00:00",
          "2011-06-01T00:00:00",
          "2011-07-01T00:00:00",
          "2011-08-01T00:00:00",
          "2011-09-01T00:00:00",
          "2011-10-01T00:00:00",
          "2011-11-01T00:00:00",
          "2011-12-01T00:00:00",
          "2012-01-01T00:00:00",
          "2012-02-01T00:00:00",
          "2012-03-01T00:00:00",
          "2012-04-01T00:00:00",
          "2012-05-01T00:00:00",
          "2012-06-01T00:00:00",
          "2012-07-01T00:00:00",
          "2012-08-01T00:00:00",
          "2012-09-01T00:00:00",
          "2012-10-01T00:00:00",
          "2012-11-01T00:00:00",
          "2012-12-01T00:00:00",
          "2013-01-01T00:00:00",
          "2013-02-01T00:00:00",
          "2013-03-01T00:00:00",
          "2013-04-01T00:00:00",
          "2013-05-01T00:00:00",
          "2013-06-01T00:00:00",
          "2013-07-01T00:00:00",
          "2013-08-01T00:00:00",
          "2013-09-01T00:00:00",
          "2013-10-01T00:00:00",
          "2013-11-01T00:00:00",
          "2013-12-01T00:00:00",
          "2014-01-01T00:00:00",
          "2014-02-01T00:00:00",
          "2014-03-01T00:00:00",
          "2014-04-01T00:00:00",
          "2014-05-01T00:00:00",
          "2014-06-01T00:00:00",
          "2014-07-01T00:00:00",
          "2014-08-01T00:00:00",
          "2014-09-01T00:00:00",
          "2014-10-01T00:00:00",
          "2014-11-01T00:00:00",
          "2014-12-01T00:00:00",
          "2015-01-01T00:00:00",
          "2015-02-01T00:00:00",
          "2015-03-01T00:00:00",
          "2015-04-01T00:00:00",
          "2015-05-01T00:00:00",
          "2015-06-01T00:00:00",
          "2015-07-01T00:00:00",
          "2015-08-01T00:00:00",
          "2015-09-01T00:00:00",
          "2015-10-01T00:00:00",
          "2015-11-01T00:00:00",
          "2015-12-01T00:00:00",
          "2016-01-01T00:00:00",
          "2016-02-01T00:00:00",
          "2016-03-01T00:00:00",
          "2016-04-01T00:00:00",
          "2016-05-01T00:00:00",
          "2016-06-01T00:00:00",
          "2016-07-01T00:00:00",
          "2016-08-01T00:00:00",
          "2016-09-01T00:00:00",
          "2016-10-01T00:00:00",
          "2016-11-01T00:00:00",
          "2016-12-01T00:00:00",
          "2017-01-01T00:00:00",
          "2017-02-01T00:00:00",
          "2017-03-01T00:00:00",
          "2017-04-01T00:00:00",
          "2017-05-01T00:00:00",
          "2017-06-01T00:00:00",
          "2017-07-01T00:00:00",
          "2017-08-01T00:00:00",
          "2017-09-01T00:00:00",
          "2017-10-01T00:00:00",
          "2017-11-01T00:00:00",
          "2017-12-01T00:00:00",
          "2018-01-01T00:00:00",
          "2018-02-01T00:00:00",
          "2018-03-01T00:00:00",
          "2018-04-01T00:00:00",
          "2018-05-01T00:00:00",
          "2018-06-01T00:00:00",
          "2018-07-01T00:00:00",
          "2018-08-01T00:00:00",
          "2018-09-01T00:00:00",
          "2018-10-01T00:00:00",
          "2018-11-01T00:00:00",
          "2018-12-01T00:00:00",
          "2019-01-01T00:00:00",
          "2019-02-01T00:00:00",
          "2019-03-01T00:00:00",
          "2019-04-01T00:00:00",
          "2019-05-01T00:00:00",
          "2019-06-01T00:00:00",
          "2019-07-01T00:00:00",
          "2019-08-01T00:00:00",
          "2019-09-01T00:00:00",
          "2019-10-01T00:00:00",
          "2019-11-01T00:00:00",
          "2019-12-01T00:00:00",
          "2020-01-01T00:00:00",
          "2020-02-01T00:00:00",
          "2020-03-01T00:00:00",
          "2020-04-01T00:00:00",
          "2020-05-01T00:00:00",
          "2020-06-01T00:00:00",
          "2020-07-01T00:00:00",
          "2020-08-01T00:00:00",
          "2020-09-01T00:00:00",
          "2020-10-01T00:00:00",
          "2020-11-01T00:00:00",
          "2020-12-01T00:00:00",
          "2021-01-01T00:00:00",
          "2021-02-01T00:00:00",
          "2021-03-01T00:00:00",
          "2021-04-01T00:00:00",
          "2021-05-01T00:00:00",
          "2021-06-01T00:00:00",
          "2021-07-01T00:00:00",
          "2021-08-01T00:00:00",
          "2021-09-01T00:00:00",
          "2021-10-01T00:00:00",
          "2021-11-01T00:00:00",
          "2021-12-01T00:00:00",
          "2022-01-01T00:00:00",
          "2022-02-01T00:00:00",
          "2022-03-01T00:00:00",
          "2022-04-01T00:00:00",
          "2022-05-01T00:00:00",
          "2022-06-01T00:00:00",
          "2022-07-01T00:00:00",
          "2022-08-01T00:00:00",
          "2022-09-01T00:00:00",
          "2022-10-01T00:00:00",
          "2022-11-01T00:00:00",
          "2022-12-01T00:00:00",
          "2023-01-01T00:00:00",
          "2023-02-01T00:00:00",
          "2023-03-01T00:00:00",
          "2023-04-01T00:00:00",
          "2023-05-01T00:00:00",
          "2023-06-01T00:00:00"
         ],
         "xaxis": "x",
         "y": [
          106.14632,
          103.88948,
          123.12642,
          116.11801,
          122.0084,
          119.89844,
          124.91462,
          126.45538,
          123.5968,
          126.14076,
          125.07774,
          112.22498,
          108.26129,
          111.60538,
          122.25836,
          113.76777,
          125.29448,
          120.0047,
          123.82225,
          129.70867,
          122.44567,
          124.19142,
          121.60733,
          110.9513,
          102.88463,
          104.20349,
          116.42738,
          107.67743,
          119.20817,
          114.2564,
          121.93532,
          131.14199,
          121.4739,
          130.9061,
          123.34358,
          105.91076,
          110.22978,
          103.07938,
          115.11631,
          120.38064,
          123.80956,
          119.27438,
          127.06378,
          132.15233,
          126.59411,
          132.54824,
          124.64661,
          103.6141,
          107.46019,
          108.42686,
          113.41917,
          111.99136,
          118.46288,
          109.78693,
          121.36179,
          123.3485,
          122.84953,
          126.9833,
          115.51312,
          98.93218,
          99.90927,
          95.53022,
          108.05198,
          100.91781,
          105.96215,
          105.33477,
          109.00724,
          111.26838,
          107.5854,
          111.31081,
          100.97156,
          86.95417,
          86.99451,
          86.77544,
          96.59313,
          95.70255,
          98.84264,
          100.97518,
          102.83264,
          107.16804,
          104.30087,
          103.44821,
          98.94276,
          85.95758,
          87.31177,
          85.93189,
          97.61018,
          89.97133,
          103.14246,
          101.07697,
          105.62847,
          111.62361,
          107.05565,
          109.62645,
          104.21145,
          91.43774,
          93.07468,
          88.53009,
          99.06503,
          99.55356,
          95.54747,
          104.50072,
          110.27193,
          113.66492,
          104.32205,
          110.10278,
          102.52164,
          86.68646,
          90.76961,
          92.11431,
          94.08602,
          98.61882,
          106.74015,
          99.8062,
          108.54167,
          111.30864,
          106.08891,
          112.87529,
          101.92664,
          87.23675,
          92.18551,
          91.78329,
          90.0405,
          67.29175,
          81.4573,
          90.21584,
          105.13738,
          108.53601,
          111.40305,
          114.1724,
          106.11261,
          96.16315,
          94.62264,
          92.84865,
          100.80049,
          94.42521,
          102.6202,
          102.17523,
          107.22375,
          108.06605,
          105.86333,
          104.83996,
          100.39026,
          90.51574,
          89.14802,
          90.17731,
          98.55714,
          94.4352,
          103.94214,
          102.37802,
          107.39005,
          111.39185,
          105.63701,
          104.70595,
          101.9312,
          90.30612,
          89.0809,
          86.85412,
          99.1137,
          91.17776,
          104.22805,
          102.7184
         ],
         "yaxis": "y"
        },
        {
         "hovertemplate": "Indicador=pim_bens_intermediarios<br>Ano=%{x}<br>Valor=%{y}<extra></extra>",
         "legendgroup": "pim_bens_intermediarios",
         "line": {
          "color": "#ab63fa",
          "dash": "solid"
         },
         "marker": {
          "symbol": "circle"
         },
         "mode": "lines",
         "name": "pim_bens_intermediarios",
         "orientation": "v",
         "showlegend": true,
         "type": "scatter",
         "x": [
          "2010-01-01T00:00:00",
          "2010-02-01T00:00:00",
          "2010-03-01T00:00:00",
          "2010-04-01T00:00:00",
          "2010-05-01T00:00:00",
          "2010-06-01T00:00:00",
          "2010-07-01T00:00:00",
          "2010-08-01T00:00:00",
          "2010-09-01T00:00:00",
          "2010-10-01T00:00:00",
          "2010-11-01T00:00:00",
          "2010-12-01T00:00:00",
          "2011-01-01T00:00:00",
          "2011-02-01T00:00:00",
          "2011-03-01T00:00:00",
          "2011-04-01T00:00:00",
          "2011-05-01T00:00:00",
          "2011-06-01T00:00:00",
          "2011-07-01T00:00:00",
          "2011-08-01T00:00:00",
          "2011-09-01T00:00:00",
          "2011-10-01T00:00:00",
          "2011-11-01T00:00:00",
          "2011-12-01T00:00:00",
          "2012-01-01T00:00:00",
          "2012-02-01T00:00:00",
          "2012-03-01T00:00:00",
          "2012-04-01T00:00:00",
          "2012-05-01T00:00:00",
          "2012-06-01T00:00:00",
          "2012-07-01T00:00:00",
          "2012-08-01T00:00:00",
          "2012-09-01T00:00:00",
          "2012-10-01T00:00:00",
          "2012-11-01T00:00:00",
          "2012-12-01T00:00:00",
          "2013-01-01T00:00:00",
          "2013-02-01T00:00:00",
          "2013-03-01T00:00:00",
          "2013-04-01T00:00:00",
          "2013-05-01T00:00:00",
          "2013-06-01T00:00:00",
          "2013-07-01T00:00:00",
          "2013-08-01T00:00:00",
          "2013-09-01T00:00:00",
          "2013-10-01T00:00:00",
          "2013-11-01T00:00:00",
          "2013-12-01T00:00:00",
          "2014-01-01T00:00:00",
          "2014-02-01T00:00:00",
          "2014-03-01T00:00:00",
          "2014-04-01T00:00:00",
          "2014-05-01T00:00:00",
          "2014-06-01T00:00:00",
          "2014-07-01T00:00:00",
          "2014-08-01T00:00:00",
          "2014-09-01T00:00:00",
          "2014-10-01T00:00:00",
          "2014-11-01T00:00:00",
          "2014-12-01T00:00:00",
          "2015-01-01T00:00:00",
          "2015-02-01T00:00:00",
          "2015-03-01T00:00:00",
          "2015-04-01T00:00:00",
          "2015-05-01T00:00:00",
          "2015-06-01T00:00:00",
          "2015-07-01T00:00:00",
          "2015-08-01T00:00:00",
          "2015-09-01T00:00:00",
          "2015-10-01T00:00:00",
          "2015-11-01T00:00:00",
          "2015-12-01T00:00:00",
          "2016-01-01T00:00:00",
          "2016-02-01T00:00:00",
          "2016-03-01T00:00:00",
          "2016-04-01T00:00:00",
          "2016-05-01T00:00:00",
          "2016-06-01T00:00:00",
          "2016-07-01T00:00:00",
          "2016-08-01T00:00:00",
          "2016-09-01T00:00:00",
          "2016-10-01T00:00:00",
          "2016-11-01T00:00:00",
          "2016-12-01T00:00:00",
          "2017-01-01T00:00:00",
          "2017-02-01T00:00:00",
          "2017-03-01T00:00:00",
          "2017-04-01T00:00:00",
          "2017-05-01T00:00:00",
          "2017-06-01T00:00:00",
          "2017-07-01T00:00:00",
          "2017-08-01T00:00:00",
          "2017-09-01T00:00:00",
          "2017-10-01T00:00:00",
          "2017-11-01T00:00:00",
          "2017-12-01T00:00:00",
          "2018-01-01T00:00:00",
          "2018-02-01T00:00:00",
          "2018-03-01T00:00:00",
          "2018-04-01T00:00:00",
          "2018-05-01T00:00:00",
          "2018-06-01T00:00:00",
          "2018-07-01T00:00:00",
          "2018-08-01T00:00:00",
          "2018-09-01T00:00:00",
          "2018-10-01T00:00:00",
          "2018-11-01T00:00:00",
          "2018-12-01T00:00:00",
          "2019-01-01T00:00:00",
          "2019-02-01T00:00:00",
          "2019-03-01T00:00:00",
          "2019-04-01T00:00:00",
          "2019-05-01T00:00:00",
          "2019-06-01T00:00:00",
          "2019-07-01T00:00:00",
          "2019-08-01T00:00:00",
          "2019-09-01T00:00:00",
          "2019-10-01T00:00:00",
          "2019-11-01T00:00:00",
          "2019-12-01T00:00:00",
          "2020-01-01T00:00:00",
          "2020-02-01T00:00:00",
          "2020-03-01T00:00:00",
          "2020-04-01T00:00:00",
          "2020-05-01T00:00:00",
          "2020-06-01T00:00:00",
          "2020-07-01T00:00:00",
          "2020-08-01T00:00:00",
          "2020-09-01T00:00:00",
          "2020-10-01T00:00:00",
          "2020-11-01T00:00:00",
          "2020-12-01T00:00:00",
          "2021-01-01T00:00:00",
          "2021-02-01T00:00:00",
          "2021-03-01T00:00:00",
          "2021-04-01T00:00:00",
          "2021-05-01T00:00:00",
          "2021-06-01T00:00:00",
          "2021-07-01T00:00:00",
          "2021-08-01T00:00:00",
          "2021-09-01T00:00:00",
          "2021-10-01T00:00:00",
          "2021-11-01T00:00:00",
          "2021-12-01T00:00:00",
          "2022-01-01T00:00:00",
          "2022-02-01T00:00:00",
          "2022-03-01T00:00:00",
          "2022-04-01T00:00:00",
          "2022-05-01T00:00:00",
          "2022-06-01T00:00:00",
          "2022-07-01T00:00:00",
          "2022-08-01T00:00:00",
          "2022-09-01T00:00:00",
          "2022-10-01T00:00:00",
          "2022-11-01T00:00:00",
          "2022-12-01T00:00:00",
          "2023-01-01T00:00:00",
          "2023-02-01T00:00:00",
          "2023-03-01T00:00:00",
          "2023-04-01T00:00:00",
          "2023-05-01T00:00:00",
          "2023-06-01T00:00:00"
         ],
         "xaxis": "x",
         "y": [
          106.55851,
          101.59579,
          117.38226,
          113.71574,
          119.86104,
          119.277,
          124.66061,
          122.75059,
          118.39081,
          119.68562,
          116.93916,
          108.3047,
          107.36561,
          105.98439,
          117.41248,
          112.06265,
          122.167,
          118.85287,
          121.72306,
          123.86369,
          118.67278,
          119.34396,
          114.86642,
          107.25293,
          102.79662,
          102.38075,
          111.0327,
          105.3828,
          117.22788,
          114.02551,
          120.73214,
          126.86272,
          118.72597,
          125.83362,
          116.71782,
          105.39831,
          106.92199,
          98.81773,
          109.30777,
          112.59382,
          118.54591,
          114.8557,
          122.78375,
          125.9121,
          119.13849,
          123.6076,
          117.36184,
          102.69162,
          103.92991,
          99.90957,
          109.3412,
          107.4871,
          114.97445,
          111.82259,
          118.94768,
          122.1961,
          117.76657,
          121.1007,
          110.63753,
          101.13658,
          101.7232,
          95.99123,
          107.43942,
          103.98084,
          109.6546,
          110.67071,
          112.74206,
          116.43944,
          109.42604,
          112.63553,
          98.98573,
          89.63778,
          89.94148,
          88.29273,
          95.43252,
          96.28352,
          101.21217,
          102.79703,
          107.42042,
          108.87032,
          105.39957,
          104.5691,
          98.06883,
          89.01447,
          91.02988,
          86.66129,
          96.76336,
          93.38261,
          104.70034,
          104.1256,
          108.57831,
          110.92992,
          107.51379,
          108.1906,
          102.36335,
          93.22128,
          94.99625,
          87.69525,
          96.21771,
          97.9147,
          99.49056,
          105.87107,
          112.26892,
          111.79237,
          104.18011,
          107.24328,
          100.51823,
          90.38818,
          94.25916,
          87.61203,
          92.1716,
          92.36647,
          102.71309,
          99.41173,
          106.397,
          109.64749,
          104.27789,
          107.45274,
          97.68835,
          88.4553,
          92.84264,
          90.07695,
          90.77018,
          76.07849,
          87.75371,
          94.01373,
          108.48225,
          111.8886,
          110.40567,
          110.94334,
          101.13443,
          95.75165,
          95.68843,
          90.51519,
          99.95969,
          95.44767,
          103.81043,
          104.29461,
          108.63351,
          109.71685,
          106.47169,
          103.49158,
          98.24596,
          91.89695,
          93.60581,
          90.8044,
          100.03393,
          96.70261,
          101.46452,
          101.28663,
          106.84821,
          108.99084,
          104.15183,
          104.99256,
          99.39736,
          91.72131,
          91.99754,
          88.0571,
          98.97884,
          94.06368,
          104.64355,
          101.6234
         ],
         "yaxis": "y"
        }
       ],
       "layout": {
        "legend": {
         "title": {
          "text": "Indicador"
         },
         "tracegroupgap": 0
        },
        "template": {
         "data": {
          "bar": [
           {
            "error_x": {
             "color": "#2a3f5f"
            },
            "error_y": {
             "color": "#2a3f5f"
            },
            "marker": {
             "line": {
              "color": "#E5ECF6",
              "width": 0.5
             },
             "pattern": {
              "fillmode": "overlay",
              "size": 10,
              "solidity": 0.2
             }
            },
            "type": "bar"
           }
          ],
          "barpolar": [
           {
            "marker": {
             "line": {
              "color": "#E5ECF6",
              "width": 0.5
             },
             "pattern": {
              "fillmode": "overlay",
              "size": 10,
              "solidity": 0.2
             }
            },
            "type": "barpolar"
           }
          ],
          "carpet": [
           {
            "aaxis": {
             "endlinecolor": "#2a3f5f",
             "gridcolor": "white",
             "linecolor": "white",
             "minorgridcolor": "white",
             "startlinecolor": "#2a3f5f"
            },
            "baxis": {
             "endlinecolor": "#2a3f5f",
             "gridcolor": "white",
             "linecolor": "white",
             "minorgridcolor": "white",
             "startlinecolor": "#2a3f5f"
            },
            "type": "carpet"
           }
          ],
          "choropleth": [
           {
            "colorbar": {
             "outlinewidth": 0,
             "ticks": ""
            },
            "type": "choropleth"
           }
          ],
          "contour": [
           {
            "colorbar": {
             "outlinewidth": 0,
             "ticks": ""
            },
            "colorscale": [
             [
              0,
              "#0d0887"
             ],
             [
              0.1111111111111111,
              "#46039f"
             ],
             [
              0.2222222222222222,
              "#7201a8"
             ],
             [
              0.3333333333333333,
              "#9c179e"
             ],
             [
              0.4444444444444444,
              "#bd3786"
             ],
             [
              0.5555555555555556,
              "#d8576b"
             ],
             [
              0.6666666666666666,
              "#ed7953"
             ],
             [
              0.7777777777777778,
              "#fb9f3a"
             ],
             [
              0.8888888888888888,
              "#fdca26"
             ],
             [
              1,
              "#f0f921"
             ]
            ],
            "type": "contour"
           }
          ],
          "contourcarpet": [
           {
            "colorbar": {
             "outlinewidth": 0,
             "ticks": ""
            },
            "type": "contourcarpet"
           }
          ],
          "heatmap": [
           {
            "colorbar": {
             "outlinewidth": 0,
             "ticks": ""
            },
            "colorscale": [
             [
              0,
              "#0d0887"
             ],
             [
              0.1111111111111111,
              "#46039f"
             ],
             [
              0.2222222222222222,
              "#7201a8"
             ],
             [
              0.3333333333333333,
              "#9c179e"
             ],
             [
              0.4444444444444444,
              "#bd3786"
             ],
             [
              0.5555555555555556,
              "#d8576b"
             ],
             [
              0.6666666666666666,
              "#ed7953"
             ],
             [
              0.7777777777777778,
              "#fb9f3a"
             ],
             [
              0.8888888888888888,
              "#fdca26"
             ],
             [
              1,
              "#f0f921"
             ]
            ],
            "type": "heatmap"
           }
          ],
          "heatmapgl": [
           {
            "colorbar": {
             "outlinewidth": 0,
             "ticks": ""
            },
            "colorscale": [
             [
              0,
              "#0d0887"
             ],
             [
              0.1111111111111111,
              "#46039f"
             ],
             [
              0.2222222222222222,
              "#7201a8"
             ],
             [
              0.3333333333333333,
              "#9c179e"
             ],
             [
              0.4444444444444444,
              "#bd3786"
             ],
             [
              0.5555555555555556,
              "#d8576b"
             ],
             [
              0.6666666666666666,
              "#ed7953"
             ],
             [
              0.7777777777777778,
              "#fb9f3a"
             ],
             [
              0.8888888888888888,
              "#fdca26"
             ],
             [
              1,
              "#f0f921"
             ]
            ],
            "type": "heatmapgl"
           }
          ],
          "histogram": [
           {
            "marker": {
             "pattern": {
              "fillmode": "overlay",
              "size": 10,
              "solidity": 0.2
             }
            },
            "type": "histogram"
           }
          ],
          "histogram2d": [
           {
            "colorbar": {
             "outlinewidth": 0,
             "ticks": ""
            },
            "colorscale": [
             [
              0,
              "#0d0887"
             ],
             [
              0.1111111111111111,
              "#46039f"
             ],
             [
              0.2222222222222222,
              "#7201a8"
             ],
             [
              0.3333333333333333,
              "#9c179e"
             ],
             [
              0.4444444444444444,
              "#bd3786"
             ],
             [
              0.5555555555555556,
              "#d8576b"
             ],
             [
              0.6666666666666666,
              "#ed7953"
             ],
             [
              0.7777777777777778,
              "#fb9f3a"
             ],
             [
              0.8888888888888888,
              "#fdca26"
             ],
             [
              1,
              "#f0f921"
             ]
            ],
            "type": "histogram2d"
           }
          ],
          "histogram2dcontour": [
           {
            "colorbar": {
             "outlinewidth": 0,
             "ticks": ""
            },
            "colorscale": [
             [
              0,
              "#0d0887"
             ],
             [
              0.1111111111111111,
              "#46039f"
             ],
             [
              0.2222222222222222,
              "#7201a8"
             ],
             [
              0.3333333333333333,
              "#9c179e"
             ],
             [
              0.4444444444444444,
              "#bd3786"
             ],
             [
              0.5555555555555556,
              "#d8576b"
             ],
             [
              0.6666666666666666,
              "#ed7953"
             ],
             [
              0.7777777777777778,
              "#fb9f3a"
             ],
             [
              0.8888888888888888,
              "#fdca26"
             ],
             [
              1,
              "#f0f921"
             ]
            ],
            "type": "histogram2dcontour"
           }
          ],
          "mesh3d": [
           {
            "colorbar": {
             "outlinewidth": 0,
             "ticks": ""
            },
            "type": "mesh3d"
           }
          ],
          "parcoords": [
           {
            "line": {
             "colorbar": {
              "outlinewidth": 0,
              "ticks": ""
             }
            },
            "type": "parcoords"
           }
          ],
          "pie": [
           {
            "automargin": true,
            "type": "pie"
           }
          ],
          "scatter": [
           {
            "fillpattern": {
             "fillmode": "overlay",
             "size": 10,
             "solidity": 0.2
            },
            "type": "scatter"
           }
          ],
          "scatter3d": [
           {
            "line": {
             "colorbar": {
              "outlinewidth": 0,
              "ticks": ""
             }
            },
            "marker": {
             "colorbar": {
              "outlinewidth": 0,
              "ticks": ""
             }
            },
            "type": "scatter3d"
           }
          ],
          "scattercarpet": [
           {
            "marker": {
             "colorbar": {
              "outlinewidth": 0,
              "ticks": ""
             }
            },
            "type": "scattercarpet"
           }
          ],
          "scattergeo": [
           {
            "marker": {
             "colorbar": {
              "outlinewidth": 0,
              "ticks": ""
             }
            },
            "type": "scattergeo"
           }
          ],
          "scattergl": [
           {
            "marker": {
             "colorbar": {
              "outlinewidth": 0,
              "ticks": ""
             }
            },
            "type": "scattergl"
           }
          ],
          "scattermapbox": [
           {
            "marker": {
             "colorbar": {
              "outlinewidth": 0,
              "ticks": ""
             }
            },
            "type": "scattermapbox"
           }
          ],
          "scatterpolar": [
           {
            "marker": {
             "colorbar": {
              "outlinewidth": 0,
              "ticks": ""
             }
            },
            "type": "scatterpolar"
           }
          ],
          "scatterpolargl": [
           {
            "marker": {
             "colorbar": {
              "outlinewidth": 0,
              "ticks": ""
             }
            },
            "type": "scatterpolargl"
           }
          ],
          "scatterternary": [
           {
            "marker": {
             "colorbar": {
              "outlinewidth": 0,
              "ticks": ""
             }
            },
            "type": "scatterternary"
           }
          ],
          "surface": [
           {
            "colorbar": {
             "outlinewidth": 0,
             "ticks": ""
            },
            "colorscale": [
             [
              0,
              "#0d0887"
             ],
             [
              0.1111111111111111,
              "#46039f"
             ],
             [
              0.2222222222222222,
              "#7201a8"
             ],
             [
              0.3333333333333333,
              "#9c179e"
             ],
             [
              0.4444444444444444,
              "#bd3786"
             ],
             [
              0.5555555555555556,
              "#d8576b"
             ],
             [
              0.6666666666666666,
              "#ed7953"
             ],
             [
              0.7777777777777778,
              "#fb9f3a"
             ],
             [
              0.8888888888888888,
              "#fdca26"
             ],
             [
              1,
              "#f0f921"
             ]
            ],
            "type": "surface"
           }
          ],
          "table": [
           {
            "cells": {
             "fill": {
              "color": "#EBF0F8"
             },
             "line": {
              "color": "white"
             }
            },
            "header": {
             "fill": {
              "color": "#C8D4E3"
             },
             "line": {
              "color": "white"
             }
            },
            "type": "table"
           }
          ]
         },
         "layout": {
          "annotationdefaults": {
           "arrowcolor": "#2a3f5f",
           "arrowhead": 0,
           "arrowwidth": 1
          },
          "autotypenumbers": "strict",
          "coloraxis": {
           "colorbar": {
            "outlinewidth": 0,
            "ticks": ""
           }
          },
          "colorscale": {
           "diverging": [
            [
             0,
             "#8e0152"
            ],
            [
             0.1,
             "#c51b7d"
            ],
            [
             0.2,
             "#de77ae"
            ],
            [
             0.3,
             "#f1b6da"
            ],
            [
             0.4,
             "#fde0ef"
            ],
            [
             0.5,
             "#f7f7f7"
            ],
            [
             0.6,
             "#e6f5d0"
            ],
            [
             0.7,
             "#b8e186"
            ],
            [
             0.8,
             "#7fbc41"
            ],
            [
             0.9,
             "#4d9221"
            ],
            [
             1,
             "#276419"
            ]
           ],
           "sequential": [
            [
             0,
             "#0d0887"
            ],
            [
             0.1111111111111111,
             "#46039f"
            ],
            [
             0.2222222222222222,
             "#7201a8"
            ],
            [
             0.3333333333333333,
             "#9c179e"
            ],
            [
             0.4444444444444444,
             "#bd3786"
            ],
            [
             0.5555555555555556,
             "#d8576b"
            ],
            [
             0.6666666666666666,
             "#ed7953"
            ],
            [
             0.7777777777777778,
             "#fb9f3a"
            ],
            [
             0.8888888888888888,
             "#fdca26"
            ],
            [
             1,
             "#f0f921"
            ]
           ],
           "sequentialminus": [
            [
             0,
             "#0d0887"
            ],
            [
             0.1111111111111111,
             "#46039f"
            ],
            [
             0.2222222222222222,
             "#7201a8"
            ],
            [
             0.3333333333333333,
             "#9c179e"
            ],
            [
             0.4444444444444444,
             "#bd3786"
            ],
            [
             0.5555555555555556,
             "#d8576b"
            ],
            [
             0.6666666666666666,
             "#ed7953"
            ],
            [
             0.7777777777777778,
             "#fb9f3a"
            ],
            [
             0.8888888888888888,
             "#fdca26"
            ],
            [
             1,
             "#f0f921"
            ]
           ]
          },
          "colorway": [
           "#636efa",
           "#EF553B",
           "#00cc96",
           "#ab63fa",
           "#FFA15A",
           "#19d3f3",
           "#FF6692",
           "#B6E880",
           "#FF97FF",
           "#FECB52"
          ],
          "font": {
           "color": "#2a3f5f"
          },
          "geo": {
           "bgcolor": "white",
           "lakecolor": "white",
           "landcolor": "#E5ECF6",
           "showlakes": true,
           "showland": true,
           "subunitcolor": "white"
          },
          "hoverlabel": {
           "align": "left"
          },
          "hovermode": "closest",
          "mapbox": {
           "style": "light"
          },
          "paper_bgcolor": "white",
          "plot_bgcolor": "#E5ECF6",
          "polar": {
           "angularaxis": {
            "gridcolor": "white",
            "linecolor": "white",
            "ticks": ""
           },
           "bgcolor": "#E5ECF6",
           "radialaxis": {
            "gridcolor": "white",
            "linecolor": "white",
            "ticks": ""
           }
          },
          "scene": {
           "xaxis": {
            "backgroundcolor": "#E5ECF6",
            "gridcolor": "white",
            "gridwidth": 2,
            "linecolor": "white",
            "showbackground": true,
            "ticks": "",
            "zerolinecolor": "white"
           },
           "yaxis": {
            "backgroundcolor": "#E5ECF6",
            "gridcolor": "white",
            "gridwidth": 2,
            "linecolor": "white",
            "showbackground": true,
            "ticks": "",
            "zerolinecolor": "white"
           },
           "zaxis": {
            "backgroundcolor": "#E5ECF6",
            "gridcolor": "white",
            "gridwidth": 2,
            "linecolor": "white",
            "showbackground": true,
            "ticks": "",
            "zerolinecolor": "white"
           }
          },
          "shapedefaults": {
           "line": {
            "color": "#2a3f5f"
           }
          },
          "ternary": {
           "aaxis": {
            "gridcolor": "white",
            "linecolor": "white",
            "ticks": ""
           },
           "baxis": {
            "gridcolor": "white",
            "linecolor": "white",
            "ticks": ""
           },
           "bgcolor": "#E5ECF6",
           "caxis": {
            "gridcolor": "white",
            "linecolor": "white",
            "ticks": ""
           }
          },
          "title": {
           "x": 0.05
          },
          "xaxis": {
           "automargin": true,
           "gridcolor": "white",
           "linecolor": "white",
           "ticks": "",
           "title": {
            "standoff": 15
           },
           "zerolinecolor": "white",
           "zerolinewidth": 2
          },
          "yaxis": {
           "automargin": true,
           "gridcolor": "white",
           "linecolor": "white",
           "ticks": "",
           "title": {
            "standoff": 15
           },
           "zerolinecolor": "white",
           "zerolinewidth": 2
          }
         }
        },
        "title": {
         "text": "Pesquisa Industrial Mensal"
        },
        "xaxis": {
         "anchor": "y",
         "domain": [
          0,
          1
         ],
         "title": {
          "text": "Ano"
         }
        },
        "yaxis": {
         "anchor": "x",
         "domain": [
          0,
          1
         ],
         "title": {
          "text": "Valor"
         }
        }
       }
      }
     },
     "metadata": {},
     "output_type": "display_data"
    }
   ],
   "source": [
    "fig = px.line(\n",
    "    df_past,\n",
    "    x=df_past.index,\n",
    "    y=[\"pim\", \"pim_bens_consumo\", \"pim_manufatura\", \"pim_bens_intermediarios\"],\n",
    "    title=\"Pesquisa Industrial Mensal\",\n",
    "    labels={\"value\": \"Valor\", \"data\": \"Ano\", \"variable\": \"Indicador\"},\n",
    ")\n",
    "fig.show()"
   ]
  },
  {
   "cell_type": "code",
   "execution_count": 16,
   "metadata": {},
   "outputs": [
    {
     "data": {
      "application/vnd.plotly.v1+json": {
       "config": {
        "plotlyServerURL": "https://plot.ly"
       },
       "data": [
        {
         "hovertemplate": "Combustível=preco_etanol<br>Ano=%{x}<br>Valor=%{y}<extra></extra>",
         "legendgroup": "preco_etanol",
         "line": {
          "color": "#636efa",
          "dash": "solid"
         },
         "marker": {
          "symbol": "circle"
         },
         "mode": "lines",
         "name": "preco_etanol",
         "orientation": "v",
         "showlegend": true,
         "type": "scatter",
         "x": [
          "2010-01-01T00:00:00",
          "2010-02-01T00:00:00",
          "2010-03-01T00:00:00",
          "2010-04-01T00:00:00",
          "2010-05-01T00:00:00",
          "2010-06-01T00:00:00",
          "2010-07-01T00:00:00",
          "2010-08-01T00:00:00",
          "2010-09-01T00:00:00",
          "2010-10-01T00:00:00",
          "2010-11-01T00:00:00",
          "2010-12-01T00:00:00",
          "2011-01-01T00:00:00",
          "2011-02-01T00:00:00",
          "2011-03-01T00:00:00",
          "2011-04-01T00:00:00",
          "2011-05-01T00:00:00",
          "2011-06-01T00:00:00",
          "2011-07-01T00:00:00",
          "2011-08-01T00:00:00",
          "2011-09-01T00:00:00",
          "2011-10-01T00:00:00",
          "2011-11-01T00:00:00",
          "2011-12-01T00:00:00",
          "2012-01-01T00:00:00",
          "2012-02-01T00:00:00",
          "2012-03-01T00:00:00",
          "2012-04-01T00:00:00",
          "2012-05-01T00:00:00",
          "2012-06-01T00:00:00",
          "2012-07-01T00:00:00",
          "2012-08-01T00:00:00",
          "2012-09-01T00:00:00",
          "2012-10-01T00:00:00",
          "2012-11-01T00:00:00",
          "2012-12-01T00:00:00",
          "2013-01-01T00:00:00",
          "2013-02-01T00:00:00",
          "2013-03-01T00:00:00",
          "2013-04-01T00:00:00",
          "2013-05-01T00:00:00",
          "2013-06-01T00:00:00",
          "2013-07-01T00:00:00",
          "2013-08-01T00:00:00",
          "2013-09-01T00:00:00",
          "2013-10-01T00:00:00",
          "2013-11-01T00:00:00",
          "2013-12-01T00:00:00",
          "2014-01-01T00:00:00",
          "2014-02-01T00:00:00",
          "2014-03-01T00:00:00",
          "2014-04-01T00:00:00",
          "2014-05-01T00:00:00",
          "2014-06-01T00:00:00",
          "2014-07-01T00:00:00",
          "2014-08-01T00:00:00",
          "2014-09-01T00:00:00",
          "2014-10-01T00:00:00",
          "2014-11-01T00:00:00",
          "2014-12-01T00:00:00",
          "2015-01-01T00:00:00",
          "2015-02-01T00:00:00",
          "2015-03-01T00:00:00",
          "2015-04-01T00:00:00",
          "2015-05-01T00:00:00",
          "2015-06-01T00:00:00",
          "2015-07-01T00:00:00",
          "2015-08-01T00:00:00",
          "2015-09-01T00:00:00",
          "2015-10-01T00:00:00",
          "2015-11-01T00:00:00",
          "2015-12-01T00:00:00",
          "2016-01-01T00:00:00",
          "2016-02-01T00:00:00",
          "2016-03-01T00:00:00",
          "2016-04-01T00:00:00",
          "2016-05-01T00:00:00",
          "2016-06-01T00:00:00",
          "2016-07-01T00:00:00",
          "2016-08-01T00:00:00",
          "2016-09-01T00:00:00",
          "2016-10-01T00:00:00",
          "2016-11-01T00:00:00",
          "2016-12-01T00:00:00",
          "2017-01-01T00:00:00",
          "2017-02-01T00:00:00",
          "2017-03-01T00:00:00",
          "2017-04-01T00:00:00",
          "2017-05-01T00:00:00",
          "2017-06-01T00:00:00",
          "2017-07-01T00:00:00",
          "2017-08-01T00:00:00",
          "2017-09-01T00:00:00",
          "2017-10-01T00:00:00",
          "2017-11-01T00:00:00",
          "2017-12-01T00:00:00",
          "2018-01-01T00:00:00",
          "2018-02-01T00:00:00",
          "2018-03-01T00:00:00",
          "2018-04-01T00:00:00",
          "2018-05-01T00:00:00",
          "2018-06-01T00:00:00",
          "2018-07-01T00:00:00",
          "2018-08-01T00:00:00",
          "2018-09-01T00:00:00",
          "2018-10-01T00:00:00",
          "2018-11-01T00:00:00",
          "2018-12-01T00:00:00",
          "2019-01-01T00:00:00",
          "2019-02-01T00:00:00",
          "2019-03-01T00:00:00",
          "2019-04-01T00:00:00",
          "2019-05-01T00:00:00",
          "2019-06-01T00:00:00",
          "2019-07-01T00:00:00",
          "2019-08-01T00:00:00",
          "2019-09-01T00:00:00",
          "2019-10-01T00:00:00",
          "2019-11-01T00:00:00",
          "2019-12-01T00:00:00",
          "2020-01-01T00:00:00",
          "2020-02-01T00:00:00",
          "2020-03-01T00:00:00",
          "2020-04-01T00:00:00",
          "2020-05-01T00:00:00",
          "2020-06-01T00:00:00",
          "2020-07-01T00:00:00",
          "2020-08-01T00:00:00",
          "2020-09-01T00:00:00",
          "2020-10-01T00:00:00",
          "2020-11-01T00:00:00",
          "2020-12-01T00:00:00",
          "2021-01-01T00:00:00",
          "2021-02-01T00:00:00",
          "2021-03-01T00:00:00",
          "2021-04-01T00:00:00",
          "2021-05-01T00:00:00",
          "2021-06-01T00:00:00",
          "2021-07-01T00:00:00",
          "2021-08-01T00:00:00",
          "2021-09-01T00:00:00",
          "2021-10-01T00:00:00",
          "2021-11-01T00:00:00",
          "2021-12-01T00:00:00",
          "2022-01-01T00:00:00",
          "2022-02-01T00:00:00",
          "2022-03-01T00:00:00",
          "2022-04-01T00:00:00",
          "2022-05-01T00:00:00",
          "2022-06-01T00:00:00",
          "2022-07-01T00:00:00",
          "2022-08-01T00:00:00",
          "2022-09-01T00:00:00",
          "2022-10-01T00:00:00",
          "2022-11-01T00:00:00",
          "2022-12-01T00:00:00",
          "2023-01-01T00:00:00",
          "2023-02-01T00:00:00",
          "2023-03-01T00:00:00",
          "2023-04-01T00:00:00",
          "2023-05-01T00:00:00",
          "2023-06-01T00:00:00"
         ],
         "xaxis": "x",
         "y": [
          1.0918,
          1.1138,
          1.0053,
          0.9237,
          0.8723,
          0.8328,
          0.8474,
          0.8741,
          0.8797,
          0.9329,
          0.9517,
          0.9771,
          1.0001,
          1.0122,
          1.1174,
          1.225,
          1.0767,
          0.9835,
          1.0205,
          1.0241,
          1.0502,
          1.0451,
          1.0527,
          1.0604,
          1.0437,
          1.0124,
          1.018,
          1.0059,
          0.9927,
          0.9773,
          0.9586,
          0.9451,
          0.9388,
          0.9333,
          0.9316,
          0.9438,
          0.9455,
          0.961,
          0.9842,
          0.9817,
          0.9615,
          0.9183,
          0.9062,
          0.8965,
          0.8901,
          0.8939,
          0.8975,
          0.9308,
          0.9371,
          0.943,
          0.9767,
          0.9742,
          0.9506,
          0.9189,
          0.9059,
          0.9001,
          0.8823,
          0.8759,
          0.8789,
          0.8829,
          0.8807,
          0.9389,
          0.9275,
          0.9015,
          0.8792,
          0.8605,
          0.8427,
          0.8327,
          0.8335,
          0.9427,
          1.0173,
          1.0393,
          1.0491,
          1.0741,
          1.0928,
          1.0377,
          0.9309,
          0.9231,
          0.9064,
          0.9214,
          0.9299,
          0.9888,
          1.0372,
          1.0411,
          1.0661,
          1.0531,
          0.9998,
          0.9599,
          0.937,
          0.9032,
          0.8919,
          0.9449,
          0.9513,
          0.9599,
          1.001,
          1.0284,
          1.0629,
          1.0733,
          1.0755,
          1.0519,
          0.991,
          1.0211,
          0.9664,
          0.9225,
          0.9672,
          1.0096,
          1.0059,
          0.9737,
          0.9651,
          0.9511,
          1.0007,
          1.0125,
          1.0072,
          0.9495,
          0.9332,
          0.95,
          0.9578,
          0.9753,
          0.993,
          1.0316,
          1.0627,
          1.0673,
          1.0495,
          0.917,
          0.8431,
          0.8756,
          0.9,
          0.9074,
          0.9087,
          0.9708,
          0.9933,
          1.0041,
          1.0148,
          1.0711,
          1.2497,
          1.1804,
          1.3005,
          1.3265,
          1.3018,
          1.3378,
          1.3881,
          1.4249,
          1.5523,
          1.4753,
          1.438,
          1.3405,
          1.3464,
          1.4655,
          1.4433,
          1.333,
          1.1942,
          1.0858,
          0.9594,
          0.9757,
          1.0454,
          1.0417,
          1.047,
          1.0169,
          1.0442,
          1.0485,
          1.0461,
          0.9915
         ],
         "yaxis": "y"
        },
        {
         "hovertemplate": "Combustível=preco_diesel<br>Ano=%{x}<br>Valor=%{y}<extra></extra>",
         "legendgroup": "preco_diesel",
         "line": {
          "color": "#EF553B",
          "dash": "solid"
         },
         "marker": {
          "symbol": "circle"
         },
         "mode": "lines",
         "name": "preco_diesel",
         "orientation": "v",
         "showlegend": true,
         "type": "scatter",
         "x": [
          "2010-01-01T00:00:00",
          "2010-02-01T00:00:00",
          "2010-03-01T00:00:00",
          "2010-04-01T00:00:00",
          "2010-05-01T00:00:00",
          "2010-06-01T00:00:00",
          "2010-07-01T00:00:00",
          "2010-08-01T00:00:00",
          "2010-09-01T00:00:00",
          "2010-10-01T00:00:00",
          "2010-11-01T00:00:00",
          "2010-12-01T00:00:00",
          "2011-01-01T00:00:00",
          "2011-02-01T00:00:00",
          "2011-03-01T00:00:00",
          "2011-04-01T00:00:00",
          "2011-05-01T00:00:00",
          "2011-06-01T00:00:00",
          "2011-07-01T00:00:00",
          "2011-08-01T00:00:00",
          "2011-09-01T00:00:00",
          "2011-10-01T00:00:00",
          "2011-11-01T00:00:00",
          "2011-12-01T00:00:00",
          "2012-01-01T00:00:00",
          "2012-02-01T00:00:00",
          "2012-03-01T00:00:00",
          "2012-04-01T00:00:00",
          "2012-05-01T00:00:00",
          "2012-06-01T00:00:00",
          "2012-07-01T00:00:00",
          "2012-08-01T00:00:00",
          "2012-09-01T00:00:00",
          "2012-10-01T00:00:00",
          "2012-11-01T00:00:00",
          "2012-12-01T00:00:00",
          "2013-01-01T00:00:00",
          "2013-02-01T00:00:00",
          "2013-03-01T00:00:00",
          "2013-04-01T00:00:00",
          "2013-05-01T00:00:00",
          "2013-06-01T00:00:00",
          "2013-07-01T00:00:00",
          "2013-08-01T00:00:00",
          "2013-09-01T00:00:00",
          "2013-10-01T00:00:00",
          "2013-11-01T00:00:00",
          "2013-12-01T00:00:00",
          "2014-01-01T00:00:00",
          "2014-02-01T00:00:00",
          "2014-03-01T00:00:00",
          "2014-04-01T00:00:00",
          "2014-05-01T00:00:00",
          "2014-06-01T00:00:00",
          "2014-07-01T00:00:00",
          "2014-08-01T00:00:00",
          "2014-09-01T00:00:00",
          "2014-10-01T00:00:00",
          "2014-11-01T00:00:00",
          "2014-12-01T00:00:00",
          "2015-01-01T00:00:00",
          "2015-02-01T00:00:00",
          "2015-03-01T00:00:00",
          "2015-04-01T00:00:00",
          "2015-05-01T00:00:00",
          "2015-06-01T00:00:00",
          "2015-07-01T00:00:00",
          "2015-08-01T00:00:00",
          "2015-09-01T00:00:00",
          "2015-10-01T00:00:00",
          "2015-11-01T00:00:00",
          "2015-12-01T00:00:00",
          "2016-01-01T00:00:00",
          "2016-02-01T00:00:00",
          "2016-03-01T00:00:00",
          "2016-04-01T00:00:00",
          "2016-05-01T00:00:00",
          "2016-06-01T00:00:00",
          "2016-07-01T00:00:00",
          "2016-08-01T00:00:00",
          "2016-09-01T00:00:00",
          "2016-10-01T00:00:00",
          "2016-11-01T00:00:00",
          "2016-12-01T00:00:00",
          "2017-01-01T00:00:00",
          "2017-02-01T00:00:00",
          "2017-03-01T00:00:00",
          "2017-04-01T00:00:00",
          "2017-05-01T00:00:00",
          "2017-06-01T00:00:00",
          "2017-07-01T00:00:00",
          "2017-08-01T00:00:00",
          "2017-09-01T00:00:00",
          "2017-10-01T00:00:00",
          "2017-11-01T00:00:00",
          "2017-12-01T00:00:00",
          "2018-01-01T00:00:00",
          "2018-02-01T00:00:00",
          "2018-03-01T00:00:00",
          "2018-04-01T00:00:00",
          "2018-05-01T00:00:00",
          "2018-06-01T00:00:00",
          "2018-07-01T00:00:00",
          "2018-08-01T00:00:00",
          "2018-09-01T00:00:00",
          "2018-10-01T00:00:00",
          "2018-11-01T00:00:00",
          "2018-12-01T00:00:00",
          "2019-01-01T00:00:00",
          "2019-02-01T00:00:00",
          "2019-03-01T00:00:00",
          "2019-04-01T00:00:00",
          "2019-05-01T00:00:00",
          "2019-06-01T00:00:00",
          "2019-07-01T00:00:00",
          "2019-08-01T00:00:00",
          "2019-09-01T00:00:00",
          "2019-10-01T00:00:00",
          "2019-11-01T00:00:00",
          "2019-12-01T00:00:00",
          "2020-01-01T00:00:00",
          "2020-02-01T00:00:00",
          "2020-03-01T00:00:00",
          "2020-04-01T00:00:00",
          "2020-05-01T00:00:00",
          "2020-06-01T00:00:00",
          "2020-07-01T00:00:00",
          "2020-08-01T00:00:00",
          "2020-09-01T00:00:00",
          "2020-10-01T00:00:00",
          "2020-11-01T00:00:00",
          "2020-12-01T00:00:00",
          "2021-01-01T00:00:00",
          "2021-02-01T00:00:00",
          "2021-03-01T00:00:00",
          "2021-04-01T00:00:00",
          "2021-05-01T00:00:00",
          "2021-06-01T00:00:00",
          "2021-07-01T00:00:00",
          "2021-08-01T00:00:00",
          "2021-09-01T00:00:00",
          "2021-10-01T00:00:00",
          "2021-11-01T00:00:00",
          "2021-12-01T00:00:00",
          "2022-01-01T00:00:00",
          "2022-02-01T00:00:00",
          "2022-03-01T00:00:00",
          "2022-04-01T00:00:00",
          "2022-05-01T00:00:00",
          "2022-06-01T00:00:00",
          "2022-07-01T00:00:00",
          "2022-08-01T00:00:00",
          "2022-09-01T00:00:00",
          "2022-10-01T00:00:00",
          "2022-11-01T00:00:00",
          "2022-12-01T00:00:00",
          "2023-01-01T00:00:00",
          "2023-02-01T00:00:00",
          "2023-03-01T00:00:00",
          "2023-04-01T00:00:00",
          "2023-05-01T00:00:00",
          "2023-06-01T00:00:00"
         ],
         "xaxis": "x",
         "y": [
          1.1386,
          1.1315,
          1.124,
          1.117,
          1.11,
          1.11,
          1.1099,
          1.1083,
          1.1022,
          1.0962,
          1.0872,
          1.0804,
          1.0764,
          1.0722,
          1.0659,
          1.0594,
          1.0539,
          1.0497,
          1.0496,
          1.0441,
          1.0381,
          1.0342,
          1.0288,
          1.0242,
          1.0196,
          1.0145,
          1.0118,
          1.0095,
          1.0038,
          1.004,
          1.0163,
          1.0421,
          1.0382,
          1.0341,
          1.0275,
          1.0228,
          1.016,
          1.0561,
          1.0784,
          1.0863,
          1.0818,
          1.0781,
          1.0763,
          1.0742,
          1.0691,
          1.0644,
          1.0587,
          1.1149,
          1.1134,
          1.1066,
          1.0979,
          1.0928,
          1.086,
          1.0799,
          1.0794,
          1.0754,
          1.0693,
          1.0648,
          1.0904,
          1.0971,
          1.0849,
          1.139,
          1.1316,
          1.1228,
          1.1137,
          1.105,
          1.0998,
          1.0986,
          1.0979,
          1.1364,
          1.144,
          1.1382,
          1.1267,
          1.1189,
          1.1137,
          1.1058,
          1.0958,
          1.0923,
          1.0856,
          1.0767,
          1.0755,
          1.0731,
          1.0656,
          1.0727,
          1.0954,
          1.0966,
          1.0753,
          1.0632,
          1.0617,
          1.0558,
          1.0526,
          1.0944,
          1.1175,
          1.138,
          1.1607,
          1.1613,
          1.1676,
          1.1632,
          1.161,
          1.1783,
          1.247,
          1.1528,
          1.134,
          1.134,
          1.2095,
          1.2385,
          1.2242,
          1.1562,
          1.1344,
          1.1387,
          1.1598,
          1.1657,
          1.1918,
          1.1752,
          1.1558,
          1.1535,
          1.1782,
          1.2132,
          1.2071,
          1.2033,
          1.2175,
          1.1879,
          1.1404,
          1.0567,
          0.9853,
          0.9937,
          1.0414,
          1.068,
          1.0761,
          1.0842,
          1.0986,
          1.1124,
          1.1405,
          1.2114,
          1.2924,
          1.2761,
          1.3528,
          1.3542,
          1.3591,
          1.3575,
          1.3718,
          1.4447,
          1.5265,
          1.512,
          1.5496,
          1.5649,
          1.7168,
          1.7838,
          1.8349,
          1.9206,
          2.0269,
          1.9407,
          1.872,
          1.787,
          1.7824,
          1.7172,
          1.7081,
          1.6163,
          1.5411,
          1.5001,
          1.4123,
          1.3291
         ],
         "yaxis": "y"
        }
       ],
       "layout": {
        "legend": {
         "title": {
          "text": "Combustível"
         },
         "tracegroupgap": 0
        },
        "template": {
         "data": {
          "bar": [
           {
            "error_x": {
             "color": "#2a3f5f"
            },
            "error_y": {
             "color": "#2a3f5f"
            },
            "marker": {
             "line": {
              "color": "#E5ECF6",
              "width": 0.5
             },
             "pattern": {
              "fillmode": "overlay",
              "size": 10,
              "solidity": 0.2
             }
            },
            "type": "bar"
           }
          ],
          "barpolar": [
           {
            "marker": {
             "line": {
              "color": "#E5ECF6",
              "width": 0.5
             },
             "pattern": {
              "fillmode": "overlay",
              "size": 10,
              "solidity": 0.2
             }
            },
            "type": "barpolar"
           }
          ],
          "carpet": [
           {
            "aaxis": {
             "endlinecolor": "#2a3f5f",
             "gridcolor": "white",
             "linecolor": "white",
             "minorgridcolor": "white",
             "startlinecolor": "#2a3f5f"
            },
            "baxis": {
             "endlinecolor": "#2a3f5f",
             "gridcolor": "white",
             "linecolor": "white",
             "minorgridcolor": "white",
             "startlinecolor": "#2a3f5f"
            },
            "type": "carpet"
           }
          ],
          "choropleth": [
           {
            "colorbar": {
             "outlinewidth": 0,
             "ticks": ""
            },
            "type": "choropleth"
           }
          ],
          "contour": [
           {
            "colorbar": {
             "outlinewidth": 0,
             "ticks": ""
            },
            "colorscale": [
             [
              0,
              "#0d0887"
             ],
             [
              0.1111111111111111,
              "#46039f"
             ],
             [
              0.2222222222222222,
              "#7201a8"
             ],
             [
              0.3333333333333333,
              "#9c179e"
             ],
             [
              0.4444444444444444,
              "#bd3786"
             ],
             [
              0.5555555555555556,
              "#d8576b"
             ],
             [
              0.6666666666666666,
              "#ed7953"
             ],
             [
              0.7777777777777778,
              "#fb9f3a"
             ],
             [
              0.8888888888888888,
              "#fdca26"
             ],
             [
              1,
              "#f0f921"
             ]
            ],
            "type": "contour"
           }
          ],
          "contourcarpet": [
           {
            "colorbar": {
             "outlinewidth": 0,
             "ticks": ""
            },
            "type": "contourcarpet"
           }
          ],
          "heatmap": [
           {
            "colorbar": {
             "outlinewidth": 0,
             "ticks": ""
            },
            "colorscale": [
             [
              0,
              "#0d0887"
             ],
             [
              0.1111111111111111,
              "#46039f"
             ],
             [
              0.2222222222222222,
              "#7201a8"
             ],
             [
              0.3333333333333333,
              "#9c179e"
             ],
             [
              0.4444444444444444,
              "#bd3786"
             ],
             [
              0.5555555555555556,
              "#d8576b"
             ],
             [
              0.6666666666666666,
              "#ed7953"
             ],
             [
              0.7777777777777778,
              "#fb9f3a"
             ],
             [
              0.8888888888888888,
              "#fdca26"
             ],
             [
              1,
              "#f0f921"
             ]
            ],
            "type": "heatmap"
           }
          ],
          "heatmapgl": [
           {
            "colorbar": {
             "outlinewidth": 0,
             "ticks": ""
            },
            "colorscale": [
             [
              0,
              "#0d0887"
             ],
             [
              0.1111111111111111,
              "#46039f"
             ],
             [
              0.2222222222222222,
              "#7201a8"
             ],
             [
              0.3333333333333333,
              "#9c179e"
             ],
             [
              0.4444444444444444,
              "#bd3786"
             ],
             [
              0.5555555555555556,
              "#d8576b"
             ],
             [
              0.6666666666666666,
              "#ed7953"
             ],
             [
              0.7777777777777778,
              "#fb9f3a"
             ],
             [
              0.8888888888888888,
              "#fdca26"
             ],
             [
              1,
              "#f0f921"
             ]
            ],
            "type": "heatmapgl"
           }
          ],
          "histogram": [
           {
            "marker": {
             "pattern": {
              "fillmode": "overlay",
              "size": 10,
              "solidity": 0.2
             }
            },
            "type": "histogram"
           }
          ],
          "histogram2d": [
           {
            "colorbar": {
             "outlinewidth": 0,
             "ticks": ""
            },
            "colorscale": [
             [
              0,
              "#0d0887"
             ],
             [
              0.1111111111111111,
              "#46039f"
             ],
             [
              0.2222222222222222,
              "#7201a8"
             ],
             [
              0.3333333333333333,
              "#9c179e"
             ],
             [
              0.4444444444444444,
              "#bd3786"
             ],
             [
              0.5555555555555556,
              "#d8576b"
             ],
             [
              0.6666666666666666,
              "#ed7953"
             ],
             [
              0.7777777777777778,
              "#fb9f3a"
             ],
             [
              0.8888888888888888,
              "#fdca26"
             ],
             [
              1,
              "#f0f921"
             ]
            ],
            "type": "histogram2d"
           }
          ],
          "histogram2dcontour": [
           {
            "colorbar": {
             "outlinewidth": 0,
             "ticks": ""
            },
            "colorscale": [
             [
              0,
              "#0d0887"
             ],
             [
              0.1111111111111111,
              "#46039f"
             ],
             [
              0.2222222222222222,
              "#7201a8"
             ],
             [
              0.3333333333333333,
              "#9c179e"
             ],
             [
              0.4444444444444444,
              "#bd3786"
             ],
             [
              0.5555555555555556,
              "#d8576b"
             ],
             [
              0.6666666666666666,
              "#ed7953"
             ],
             [
              0.7777777777777778,
              "#fb9f3a"
             ],
             [
              0.8888888888888888,
              "#fdca26"
             ],
             [
              1,
              "#f0f921"
             ]
            ],
            "type": "histogram2dcontour"
           }
          ],
          "mesh3d": [
           {
            "colorbar": {
             "outlinewidth": 0,
             "ticks": ""
            },
            "type": "mesh3d"
           }
          ],
          "parcoords": [
           {
            "line": {
             "colorbar": {
              "outlinewidth": 0,
              "ticks": ""
             }
            },
            "type": "parcoords"
           }
          ],
          "pie": [
           {
            "automargin": true,
            "type": "pie"
           }
          ],
          "scatter": [
           {
            "fillpattern": {
             "fillmode": "overlay",
             "size": 10,
             "solidity": 0.2
            },
            "type": "scatter"
           }
          ],
          "scatter3d": [
           {
            "line": {
             "colorbar": {
              "outlinewidth": 0,
              "ticks": ""
             }
            },
            "marker": {
             "colorbar": {
              "outlinewidth": 0,
              "ticks": ""
             }
            },
            "type": "scatter3d"
           }
          ],
          "scattercarpet": [
           {
            "marker": {
             "colorbar": {
              "outlinewidth": 0,
              "ticks": ""
             }
            },
            "type": "scattercarpet"
           }
          ],
          "scattergeo": [
           {
            "marker": {
             "colorbar": {
              "outlinewidth": 0,
              "ticks": ""
             }
            },
            "type": "scattergeo"
           }
          ],
          "scattergl": [
           {
            "marker": {
             "colorbar": {
              "outlinewidth": 0,
              "ticks": ""
             }
            },
            "type": "scattergl"
           }
          ],
          "scattermapbox": [
           {
            "marker": {
             "colorbar": {
              "outlinewidth": 0,
              "ticks": ""
             }
            },
            "type": "scattermapbox"
           }
          ],
          "scatterpolar": [
           {
            "marker": {
             "colorbar": {
              "outlinewidth": 0,
              "ticks": ""
             }
            },
            "type": "scatterpolar"
           }
          ],
          "scatterpolargl": [
           {
            "marker": {
             "colorbar": {
              "outlinewidth": 0,
              "ticks": ""
             }
            },
            "type": "scatterpolargl"
           }
          ],
          "scatterternary": [
           {
            "marker": {
             "colorbar": {
              "outlinewidth": 0,
              "ticks": ""
             }
            },
            "type": "scatterternary"
           }
          ],
          "surface": [
           {
            "colorbar": {
             "outlinewidth": 0,
             "ticks": ""
            },
            "colorscale": [
             [
              0,
              "#0d0887"
             ],
             [
              0.1111111111111111,
              "#46039f"
             ],
             [
              0.2222222222222222,
              "#7201a8"
             ],
             [
              0.3333333333333333,
              "#9c179e"
             ],
             [
              0.4444444444444444,
              "#bd3786"
             ],
             [
              0.5555555555555556,
              "#d8576b"
             ],
             [
              0.6666666666666666,
              "#ed7953"
             ],
             [
              0.7777777777777778,
              "#fb9f3a"
             ],
             [
              0.8888888888888888,
              "#fdca26"
             ],
             [
              1,
              "#f0f921"
             ]
            ],
            "type": "surface"
           }
          ],
          "table": [
           {
            "cells": {
             "fill": {
              "color": "#EBF0F8"
             },
             "line": {
              "color": "white"
             }
            },
            "header": {
             "fill": {
              "color": "#C8D4E3"
             },
             "line": {
              "color": "white"
             }
            },
            "type": "table"
           }
          ]
         },
         "layout": {
          "annotationdefaults": {
           "arrowcolor": "#2a3f5f",
           "arrowhead": 0,
           "arrowwidth": 1
          },
          "autotypenumbers": "strict",
          "coloraxis": {
           "colorbar": {
            "outlinewidth": 0,
            "ticks": ""
           }
          },
          "colorscale": {
           "diverging": [
            [
             0,
             "#8e0152"
            ],
            [
             0.1,
             "#c51b7d"
            ],
            [
             0.2,
             "#de77ae"
            ],
            [
             0.3,
             "#f1b6da"
            ],
            [
             0.4,
             "#fde0ef"
            ],
            [
             0.5,
             "#f7f7f7"
            ],
            [
             0.6,
             "#e6f5d0"
            ],
            [
             0.7,
             "#b8e186"
            ],
            [
             0.8,
             "#7fbc41"
            ],
            [
             0.9,
             "#4d9221"
            ],
            [
             1,
             "#276419"
            ]
           ],
           "sequential": [
            [
             0,
             "#0d0887"
            ],
            [
             0.1111111111111111,
             "#46039f"
            ],
            [
             0.2222222222222222,
             "#7201a8"
            ],
            [
             0.3333333333333333,
             "#9c179e"
            ],
            [
             0.4444444444444444,
             "#bd3786"
            ],
            [
             0.5555555555555556,
             "#d8576b"
            ],
            [
             0.6666666666666666,
             "#ed7953"
            ],
            [
             0.7777777777777778,
             "#fb9f3a"
            ],
            [
             0.8888888888888888,
             "#fdca26"
            ],
            [
             1,
             "#f0f921"
            ]
           ],
           "sequentialminus": [
            [
             0,
             "#0d0887"
            ],
            [
             0.1111111111111111,
             "#46039f"
            ],
            [
             0.2222222222222222,
             "#7201a8"
            ],
            [
             0.3333333333333333,
             "#9c179e"
            ],
            [
             0.4444444444444444,
             "#bd3786"
            ],
            [
             0.5555555555555556,
             "#d8576b"
            ],
            [
             0.6666666666666666,
             "#ed7953"
            ],
            [
             0.7777777777777778,
             "#fb9f3a"
            ],
            [
             0.8888888888888888,
             "#fdca26"
            ],
            [
             1,
             "#f0f921"
            ]
           ]
          },
          "colorway": [
           "#636efa",
           "#EF553B",
           "#00cc96",
           "#ab63fa",
           "#FFA15A",
           "#19d3f3",
           "#FF6692",
           "#B6E880",
           "#FF97FF",
           "#FECB52"
          ],
          "font": {
           "color": "#2a3f5f"
          },
          "geo": {
           "bgcolor": "white",
           "lakecolor": "white",
           "landcolor": "#E5ECF6",
           "showlakes": true,
           "showland": true,
           "subunitcolor": "white"
          },
          "hoverlabel": {
           "align": "left"
          },
          "hovermode": "closest",
          "mapbox": {
           "style": "light"
          },
          "paper_bgcolor": "white",
          "plot_bgcolor": "#E5ECF6",
          "polar": {
           "angularaxis": {
            "gridcolor": "white",
            "linecolor": "white",
            "ticks": ""
           },
           "bgcolor": "#E5ECF6",
           "radialaxis": {
            "gridcolor": "white",
            "linecolor": "white",
            "ticks": ""
           }
          },
          "scene": {
           "xaxis": {
            "backgroundcolor": "#E5ECF6",
            "gridcolor": "white",
            "gridwidth": 2,
            "linecolor": "white",
            "showbackground": true,
            "ticks": "",
            "zerolinecolor": "white"
           },
           "yaxis": {
            "backgroundcolor": "#E5ECF6",
            "gridcolor": "white",
            "gridwidth": 2,
            "linecolor": "white",
            "showbackground": true,
            "ticks": "",
            "zerolinecolor": "white"
           },
           "zaxis": {
            "backgroundcolor": "#E5ECF6",
            "gridcolor": "white",
            "gridwidth": 2,
            "linecolor": "white",
            "showbackground": true,
            "ticks": "",
            "zerolinecolor": "white"
           }
          },
          "shapedefaults": {
           "line": {
            "color": "#2a3f5f"
           }
          },
          "ternary": {
           "aaxis": {
            "gridcolor": "white",
            "linecolor": "white",
            "ticks": ""
           },
           "baxis": {
            "gridcolor": "white",
            "linecolor": "white",
            "ticks": ""
           },
           "bgcolor": "#E5ECF6",
           "caxis": {
            "gridcolor": "white",
            "linecolor": "white",
            "ticks": ""
           }
          },
          "title": {
           "x": 0.05
          },
          "xaxis": {
           "automargin": true,
           "gridcolor": "white",
           "linecolor": "white",
           "ticks": "",
           "title": {
            "standoff": 15
           },
           "zerolinecolor": "white",
           "zerolinewidth": 2
          },
          "yaxis": {
           "automargin": true,
           "gridcolor": "white",
           "linecolor": "white",
           "ticks": "",
           "title": {
            "standoff": 15
           },
           "zerolinecolor": "white",
           "zerolinewidth": 2
          }
         }
        },
        "title": {
         "text": "Preço Etanol e Diesel"
        },
        "xaxis": {
         "anchor": "y",
         "domain": [
          0,
          1
         ],
         "title": {
          "text": "Ano"
         }
        },
        "yaxis": {
         "anchor": "x",
         "domain": [
          0,
          1
         ],
         "title": {
          "text": "Valor"
         }
        }
       }
      }
     },
     "metadata": {},
     "output_type": "display_data"
    }
   ],
   "source": [
    "fig = px.line(\n",
    "    df_past,\n",
    "    x=df_past.index,\n",
    "    y=[\"preco_etanol\", \"preco_diesel\"],\n",
    "    title=\"Preço Etanol e Diesel\",\n",
    "    labels={\"value\": \"Valor\", \"data\": \"Ano\", \"variable\": \"Combustível\"},\n",
    ")\n",
    "fig.show()"
   ]
  },
  {
   "cell_type": "markdown",
   "metadata": {},
   "source": [
    "* O preço do Diesel e do Etanol possuem correlação, mas em alguns períodos distoam\n",
    "* Talvez fosse interessante ter uma variável única para combustíveis, como o preço do barril de petróleo"
   ]
  },
  {
   "cell_type": "code",
   "execution_count": 17,
   "metadata": {},
   "outputs": [
    {
     "data": {
      "application/vnd.plotly.v1+json": {
       "config": {
        "plotlyServerURL": "https://plot.ly"
       },
       "data": [
        {
         "hovertemplate": "Indicador=pmc_moveis_linha_branca<br>Ano=%{x}<br>Valor=%{y}<extra></extra>",
         "legendgroup": "pmc_moveis_linha_branca",
         "line": {
          "color": "#636efa",
          "dash": "solid"
         },
         "marker": {
          "symbol": "circle"
         },
         "mode": "lines",
         "name": "pmc_moveis_linha_branca",
         "orientation": "v",
         "showlegend": true,
         "type": "scatter",
         "x": [
          "2010-01-01T00:00:00",
          "2010-02-01T00:00:00",
          "2010-03-01T00:00:00",
          "2010-04-01T00:00:00",
          "2010-05-01T00:00:00",
          "2010-06-01T00:00:00",
          "2010-07-01T00:00:00",
          "2010-08-01T00:00:00",
          "2010-09-01T00:00:00",
          "2010-10-01T00:00:00",
          "2010-11-01T00:00:00",
          "2010-12-01T00:00:00",
          "2011-01-01T00:00:00",
          "2011-02-01T00:00:00",
          "2011-03-01T00:00:00",
          "2011-04-01T00:00:00",
          "2011-05-01T00:00:00",
          "2011-06-01T00:00:00",
          "2011-07-01T00:00:00",
          "2011-08-01T00:00:00",
          "2011-09-01T00:00:00",
          "2011-10-01T00:00:00",
          "2011-11-01T00:00:00",
          "2011-12-01T00:00:00",
          "2012-01-01T00:00:00",
          "2012-02-01T00:00:00",
          "2012-03-01T00:00:00",
          "2012-04-01T00:00:00",
          "2012-05-01T00:00:00",
          "2012-06-01T00:00:00",
          "2012-07-01T00:00:00",
          "2012-08-01T00:00:00",
          "2012-09-01T00:00:00",
          "2012-10-01T00:00:00",
          "2012-11-01T00:00:00",
          "2012-12-01T00:00:00",
          "2013-01-01T00:00:00",
          "2013-02-01T00:00:00",
          "2013-03-01T00:00:00",
          "2013-04-01T00:00:00",
          "2013-05-01T00:00:00",
          "2013-06-01T00:00:00",
          "2013-07-01T00:00:00",
          "2013-08-01T00:00:00",
          "2013-09-01T00:00:00",
          "2013-10-01T00:00:00",
          "2013-11-01T00:00:00",
          "2013-12-01T00:00:00",
          "2014-01-01T00:00:00",
          "2014-02-01T00:00:00",
          "2014-03-01T00:00:00",
          "2014-04-01T00:00:00",
          "2014-05-01T00:00:00",
          "2014-06-01T00:00:00",
          "2014-07-01T00:00:00",
          "2014-08-01T00:00:00",
          "2014-09-01T00:00:00",
          "2014-10-01T00:00:00",
          "2014-11-01T00:00:00",
          "2014-12-01T00:00:00",
          "2015-01-01T00:00:00",
          "2015-02-01T00:00:00",
          "2015-03-01T00:00:00",
          "2015-04-01T00:00:00",
          "2015-05-01T00:00:00",
          "2015-06-01T00:00:00",
          "2015-07-01T00:00:00",
          "2015-08-01T00:00:00",
          "2015-09-01T00:00:00",
          "2015-10-01T00:00:00",
          "2015-11-01T00:00:00",
          "2015-12-01T00:00:00",
          "2016-01-01T00:00:00",
          "2016-02-01T00:00:00",
          "2016-03-01T00:00:00",
          "2016-04-01T00:00:00",
          "2016-05-01T00:00:00",
          "2016-06-01T00:00:00",
          "2016-07-01T00:00:00",
          "2016-08-01T00:00:00",
          "2016-09-01T00:00:00",
          "2016-10-01T00:00:00",
          "2016-11-01T00:00:00",
          "2016-12-01T00:00:00",
          "2017-01-01T00:00:00",
          "2017-02-01T00:00:00",
          "2017-03-01T00:00:00",
          "2017-04-01T00:00:00",
          "2017-05-01T00:00:00",
          "2017-06-01T00:00:00",
          "2017-07-01T00:00:00",
          "2017-08-01T00:00:00",
          "2017-09-01T00:00:00",
          "2017-10-01T00:00:00",
          "2017-11-01T00:00:00",
          "2017-12-01T00:00:00",
          "2018-01-01T00:00:00",
          "2018-02-01T00:00:00",
          "2018-03-01T00:00:00",
          "2018-04-01T00:00:00",
          "2018-05-01T00:00:00",
          "2018-06-01T00:00:00",
          "2018-07-01T00:00:00",
          "2018-08-01T00:00:00",
          "2018-09-01T00:00:00",
          "2018-10-01T00:00:00",
          "2018-11-01T00:00:00",
          "2018-12-01T00:00:00",
          "2019-01-01T00:00:00",
          "2019-02-01T00:00:00",
          "2019-03-01T00:00:00",
          "2019-04-01T00:00:00",
          "2019-05-01T00:00:00",
          "2019-06-01T00:00:00",
          "2019-07-01T00:00:00",
          "2019-08-01T00:00:00",
          "2019-09-01T00:00:00",
          "2019-10-01T00:00:00",
          "2019-11-01T00:00:00",
          "2019-12-01T00:00:00",
          "2020-01-01T00:00:00",
          "2020-02-01T00:00:00",
          "2020-03-01T00:00:00",
          "2020-04-01T00:00:00",
          "2020-05-01T00:00:00",
          "2020-06-01T00:00:00",
          "2020-07-01T00:00:00",
          "2020-08-01T00:00:00",
          "2020-09-01T00:00:00",
          "2020-10-01T00:00:00",
          "2020-11-01T00:00:00",
          "2020-12-01T00:00:00",
          "2021-01-01T00:00:00",
          "2021-02-01T00:00:00",
          "2021-03-01T00:00:00",
          "2021-04-01T00:00:00",
          "2021-05-01T00:00:00",
          "2021-06-01T00:00:00",
          "2021-07-01T00:00:00",
          "2021-08-01T00:00:00",
          "2021-09-01T00:00:00",
          "2021-10-01T00:00:00",
          "2021-11-01T00:00:00",
          "2021-12-01T00:00:00",
          "2022-01-01T00:00:00",
          "2022-02-01T00:00:00",
          "2022-03-01T00:00:00",
          "2022-04-01T00:00:00",
          "2022-05-01T00:00:00",
          "2022-06-01T00:00:00",
          "2022-07-01T00:00:00",
          "2022-08-01T00:00:00",
          "2022-09-01T00:00:00",
          "2022-10-01T00:00:00",
          "2022-11-01T00:00:00",
          "2022-12-01T00:00:00",
          "2023-01-01T00:00:00",
          "2023-02-01T00:00:00",
          "2023-03-01T00:00:00",
          "2023-04-01T00:00:00",
          "2023-05-01T00:00:00",
          "2023-06-01T00:00:00"
         ],
         "xaxis": "x",
         "y": [
          88.91831,
          73.95911,
          83.79243,
          76.36513,
          87.97682,
          80.02648,
          82.32789,
          87.03533,
          86.82611,
          92.26582,
          99.90233,
          137.45724,
          105.9697,
          89.02292,
          93.20731,
          91.11511,
          105.86509,
          93.1027,
          99.5885,
          101.78531,
          100.6346,
          104.40055,
          112.14168,
          158.48381,
          119.8828,
          101.05304,
          112.66473,
          102.41297,
          115.69841,
          107.74807,
          112.14168,
          117.37217,
          106.91119,
          118.73209,
          121.66117,
          171.76925,
          126.78704,
          100.11155,
          111.72324,
          111.72324,
          123.02109,
          110.78175,
          124.48563,
          126.57783,
          114.86153,
          124.69485,
          132.64519,
          170.30471,
          134.10973,
          110.57253,
          116.01224,
          114.5477,
          133.16824,
          110.88636,
          113.08316,
          117.05834,
          114.96614,
          122.49804,
          135.67888,
          164.44656,
          129.61151,
          98.75163,
          108.16651,
          96.97326,
          108.58494,
          95.82255,
          98.64702,
          95.2995,
          93.93958,
          102.7268,
          115.69841,
          133.37746,
          97.60092,
          88.60448,
          93.20731,
          87.13994,
          92.0566,
          85.57079,
          88.08143,
          86.40767,
          81.3864,
          88.8137,
          106.59736,
          121.55656,
          101.4598,
          83.32867,
          102.97487,
          87.04713,
          104.90906,
          96.04236,
          99.42537,
          100.69912,
          94.87442,
          97.71358,
          123.23594,
          131.69491,
          106.74535,
          86.33921,
          99.70024,
          91.86998,
          97.77967,
          96.75622,
          92.38179,
          97.62316,
          92.75949,
          95.92435,
          125.13995,
          124.6964,
          103.77594,
          88.69443,
          94.86569,
          91.85391,
          103.43092,
          90.34463,
          99.24246,
          96.3546,
          100.35046,
          103.67241,
          131.15192,
          147.92411,
          115.23134,
          99.11885,
          83.30183,
          59.08422,
          95.1637,
          112.9706,
          125.47921,
          131.31074,
          129.26491,
          126.4086,
          154.69461,
          151.7397,
          109.25507,
          99.79274,
          93.04827,
          101.09749,
          116.74577,
          106.97871,
          110.43412,
          105.32061,
          100.03023,
          97.7215,
          121.7517,
          124.55411,
          96.80806,
          86.49536,
          99.7062,
          92.26457,
          102.10036,
          91.29342,
          94.38813,
          96.19233,
          93.88801,
          96.96139,
          124.96135,
          124.94083,
          101.20356,
          85.89007,
          102.40505,
          88.78179,
          102.43319,
          91.597
         ],
         "yaxis": "y"
        },
        {
         "hovertemplate": "Indicador=pmc_combustiveis_lubrificantes<br>Ano=%{x}<br>Valor=%{y}<extra></extra>",
         "legendgroup": "pmc_combustiveis_lubrificantes",
         "line": {
          "color": "#EF553B",
          "dash": "solid"
         },
         "marker": {
          "symbol": "circle"
         },
         "mode": "lines",
         "name": "pmc_combustiveis_lubrificantes",
         "orientation": "v",
         "showlegend": true,
         "type": "scatter",
         "x": [
          "2010-01-01T00:00:00",
          "2010-02-01T00:00:00",
          "2010-03-01T00:00:00",
          "2010-04-01T00:00:00",
          "2010-05-01T00:00:00",
          "2010-06-01T00:00:00",
          "2010-07-01T00:00:00",
          "2010-08-01T00:00:00",
          "2010-09-01T00:00:00",
          "2010-10-01T00:00:00",
          "2010-11-01T00:00:00",
          "2010-12-01T00:00:00",
          "2011-01-01T00:00:00",
          "2011-02-01T00:00:00",
          "2011-03-01T00:00:00",
          "2011-04-01T00:00:00",
          "2011-05-01T00:00:00",
          "2011-06-01T00:00:00",
          "2011-07-01T00:00:00",
          "2011-08-01T00:00:00",
          "2011-09-01T00:00:00",
          "2011-10-01T00:00:00",
          "2011-11-01T00:00:00",
          "2011-12-01T00:00:00",
          "2012-01-01T00:00:00",
          "2012-02-01T00:00:00",
          "2012-03-01T00:00:00",
          "2012-04-01T00:00:00",
          "2012-05-01T00:00:00",
          "2012-06-01T00:00:00",
          "2012-07-01T00:00:00",
          "2012-08-01T00:00:00",
          "2012-09-01T00:00:00",
          "2012-10-01T00:00:00",
          "2012-11-01T00:00:00",
          "2012-12-01T00:00:00",
          "2013-01-01T00:00:00",
          "2013-02-01T00:00:00",
          "2013-03-01T00:00:00",
          "2013-04-01T00:00:00",
          "2013-05-01T00:00:00",
          "2013-06-01T00:00:00",
          "2013-07-01T00:00:00",
          "2013-08-01T00:00:00",
          "2013-09-01T00:00:00",
          "2013-10-01T00:00:00",
          "2013-11-01T00:00:00",
          "2013-12-01T00:00:00",
          "2014-01-01T00:00:00",
          "2014-02-01T00:00:00",
          "2014-03-01T00:00:00",
          "2014-04-01T00:00:00",
          "2014-05-01T00:00:00",
          "2014-06-01T00:00:00",
          "2014-07-01T00:00:00",
          "2014-08-01T00:00:00",
          "2014-09-01T00:00:00",
          "2014-10-01T00:00:00",
          "2014-11-01T00:00:00",
          "2014-12-01T00:00:00",
          "2015-01-01T00:00:00",
          "2015-02-01T00:00:00",
          "2015-03-01T00:00:00",
          "2015-04-01T00:00:00",
          "2015-05-01T00:00:00",
          "2015-06-01T00:00:00",
          "2015-07-01T00:00:00",
          "2015-08-01T00:00:00",
          "2015-09-01T00:00:00",
          "2015-10-01T00:00:00",
          "2015-11-01T00:00:00",
          "2015-12-01T00:00:00",
          "2016-01-01T00:00:00",
          "2016-02-01T00:00:00",
          "2016-03-01T00:00:00",
          "2016-04-01T00:00:00",
          "2016-05-01T00:00:00",
          "2016-06-01T00:00:00",
          "2016-07-01T00:00:00",
          "2016-08-01T00:00:00",
          "2016-09-01T00:00:00",
          "2016-10-01T00:00:00",
          "2016-11-01T00:00:00",
          "2016-12-01T00:00:00",
          "2017-01-01T00:00:00",
          "2017-02-01T00:00:00",
          "2017-03-01T00:00:00",
          "2017-04-01T00:00:00",
          "2017-05-01T00:00:00",
          "2017-06-01T00:00:00",
          "2017-07-01T00:00:00",
          "2017-08-01T00:00:00",
          "2017-09-01T00:00:00",
          "2017-10-01T00:00:00",
          "2017-11-01T00:00:00",
          "2017-12-01T00:00:00",
          "2018-01-01T00:00:00",
          "2018-02-01T00:00:00",
          "2018-03-01T00:00:00",
          "2018-04-01T00:00:00",
          "2018-05-01T00:00:00",
          "2018-06-01T00:00:00",
          "2018-07-01T00:00:00",
          "2018-08-01T00:00:00",
          "2018-09-01T00:00:00",
          "2018-10-01T00:00:00",
          "2018-11-01T00:00:00",
          "2018-12-01T00:00:00",
          "2019-01-01T00:00:00",
          "2019-02-01T00:00:00",
          "2019-03-01T00:00:00",
          "2019-04-01T00:00:00",
          "2019-05-01T00:00:00",
          "2019-06-01T00:00:00",
          "2019-07-01T00:00:00",
          "2019-08-01T00:00:00",
          "2019-09-01T00:00:00",
          "2019-10-01T00:00:00",
          "2019-11-01T00:00:00",
          "2019-12-01T00:00:00",
          "2020-01-01T00:00:00",
          "2020-02-01T00:00:00",
          "2020-03-01T00:00:00",
          "2020-04-01T00:00:00",
          "2020-05-01T00:00:00",
          "2020-06-01T00:00:00",
          "2020-07-01T00:00:00",
          "2020-08-01T00:00:00",
          "2020-09-01T00:00:00",
          "2020-10-01T00:00:00",
          "2020-11-01T00:00:00",
          "2020-12-01T00:00:00",
          "2021-01-01T00:00:00",
          "2021-02-01T00:00:00",
          "2021-03-01T00:00:00",
          "2021-04-01T00:00:00",
          "2021-05-01T00:00:00",
          "2021-06-01T00:00:00",
          "2021-07-01T00:00:00",
          "2021-08-01T00:00:00",
          "2021-09-01T00:00:00",
          "2021-10-01T00:00:00",
          "2021-11-01T00:00:00",
          "2021-12-01T00:00:00",
          "2022-01-01T00:00:00",
          "2022-02-01T00:00:00",
          "2022-03-01T00:00:00",
          "2022-04-01T00:00:00",
          "2022-05-01T00:00:00",
          "2022-06-01T00:00:00",
          "2022-07-01T00:00:00",
          "2022-08-01T00:00:00",
          "2022-09-01T00:00:00",
          "2022-10-01T00:00:00",
          "2022-11-01T00:00:00",
          "2022-12-01T00:00:00",
          "2023-01-01T00:00:00",
          "2023-02-01T00:00:00",
          "2023-03-01T00:00:00",
          "2023-04-01T00:00:00",
          "2023-05-01T00:00:00",
          "2023-06-01T00:00:00"
         ],
         "xaxis": "x",
         "y": [
          96.27988,
          90.50721,
          102.25872,
          97.31072,
          102.3618,
          98.23847,
          103.08339,
          104.32039,
          104.42347,
          106.58822,
          103.28955,
          109.37147,
          102.3618,
          98.0323,
          104.93889,
          98.75388,
          100.09397,
          99.47547,
          103.80497,
          106.07281,
          103.08339,
          105.96972,
          104.42347,
          109.78381,
          101.53714,
          102.15564,
          110.19614,
          104.8358,
          107.30981,
          106.27897,
          111.84547,
          116.58731,
          114.73181,
          118.13356,
          112.25781,
          115.96881,
          110.81464,
          101.02172,
          114.11331,
          113.59789,
          116.99964,
          114.93798,
          120.50448,
          122.8754,
          119.57673,
          125.9679,
          122.2569,
          122.77231,
          118.44281,
          115.14414,
          118.85515,
          115.45339,
          119.47365,
          111.84547,
          120.09215,
          123.39081,
          123.08156,
          128.75115,
          122.35998,
          125.24632,
          118.23664,
          103.5988,
          116.38114,
          113.08248,
          114.21639,
          111.02081,
          114.93798,
          114.62873,
          112.67014,
          114.11331,
          107.61906,
          112.97939,
          101.94947,
          99.57855,
          104.62964,
          101.1248,
          101.84639,
          101.02172,
          103.49572,
          103.5988,
          102.87722,
          102.67105,
          99.16622,
          106.79439,
          95.87485,
          91.0715,
          102.29877,
          96.83515,
          101.47655,
          101.1594,
          102.52764,
          100.59766,
          98.70973,
          101.69714,
          96.71148,
          99.30964,
          91.91498,
          85.20941,
          97.32993,
          95.82416,
          93.54827,
          89.44797,
          93.55648,
          98.68678,
          94.25392,
          96.35285,
          93.96969,
          99.44111,
          93.18898,
          88.30014,
          93.12947,
          92.9829,
          95.11206,
          93.36996,
          98.25041,
          95.93304,
          93.75714,
          99.18311,
          94.89898,
          98.49239,
          92.62738,
          88.62771,
          83.92389,
          69.45747,
          74.589,
          78.25883,
          87.80971,
          87.25485,
          88.74216,
          94.19636,
          88.67841,
          92.13555,
          85.40882,
          79.16365,
          82.6836,
          82.86872,
          89.20387,
          87.50779,
          93.66047,
          87.59991,
          85.02476,
          87.01094,
          82.49278,
          86.45011,
          79.4325,
          79.27109,
          92.85913,
          90.98318,
          95.58298,
          94.52456,
          109.98873,
          114.14802,
          114.5346,
          116.84811,
          104.80255,
          107.02454,
          100.6691,
          95.04321,
          106.13475,
          98.50652,
          105.87317,
          94.8388
         ],
         "yaxis": "y"
        },
        {
         "hovertemplate": "Indicador=pmc_roupa_calcados<br>Ano=%{x}<br>Valor=%{y}<extra></extra>",
         "legendgroup": "pmc_roupa_calcados",
         "line": {
          "color": "#00cc96",
          "dash": "solid"
         },
         "marker": {
          "symbol": "circle"
         },
         "mode": "lines",
         "name": "pmc_roupa_calcados",
         "orientation": "v",
         "showlegend": true,
         "type": "scatter",
         "x": [
          "2010-01-01T00:00:00",
          "2010-02-01T00:00:00",
          "2010-03-01T00:00:00",
          "2010-04-01T00:00:00",
          "2010-05-01T00:00:00",
          "2010-06-01T00:00:00",
          "2010-07-01T00:00:00",
          "2010-08-01T00:00:00",
          "2010-09-01T00:00:00",
          "2010-10-01T00:00:00",
          "2010-11-01T00:00:00",
          "2010-12-01T00:00:00",
          "2011-01-01T00:00:00",
          "2011-02-01T00:00:00",
          "2011-03-01T00:00:00",
          "2011-04-01T00:00:00",
          "2011-05-01T00:00:00",
          "2011-06-01T00:00:00",
          "2011-07-01T00:00:00",
          "2011-08-01T00:00:00",
          "2011-09-01T00:00:00",
          "2011-10-01T00:00:00",
          "2011-11-01T00:00:00",
          "2011-12-01T00:00:00",
          "2012-01-01T00:00:00",
          "2012-02-01T00:00:00",
          "2012-03-01T00:00:00",
          "2012-04-01T00:00:00",
          "2012-05-01T00:00:00",
          "2012-06-01T00:00:00",
          "2012-07-01T00:00:00",
          "2012-08-01T00:00:00",
          "2012-09-01T00:00:00",
          "2012-10-01T00:00:00",
          "2012-11-01T00:00:00",
          "2012-12-01T00:00:00",
          "2013-01-01T00:00:00",
          "2013-02-01T00:00:00",
          "2013-03-01T00:00:00",
          "2013-04-01T00:00:00",
          "2013-05-01T00:00:00",
          "2013-06-01T00:00:00",
          "2013-07-01T00:00:00",
          "2013-08-01T00:00:00",
          "2013-09-01T00:00:00",
          "2013-10-01T00:00:00",
          "2013-11-01T00:00:00",
          "2013-12-01T00:00:00",
          "2014-01-01T00:00:00",
          "2014-02-01T00:00:00",
          "2014-03-01T00:00:00",
          "2014-04-01T00:00:00",
          "2014-05-01T00:00:00",
          "2014-06-01T00:00:00",
          "2014-07-01T00:00:00",
          "2014-08-01T00:00:00",
          "2014-09-01T00:00:00",
          "2014-10-01T00:00:00",
          "2014-11-01T00:00:00",
          "2014-12-01T00:00:00",
          "2015-01-01T00:00:00",
          "2015-02-01T00:00:00",
          "2015-03-01T00:00:00",
          "2015-04-01T00:00:00",
          "2015-05-01T00:00:00",
          "2015-06-01T00:00:00",
          "2015-07-01T00:00:00",
          "2015-08-01T00:00:00",
          "2015-09-01T00:00:00",
          "2015-10-01T00:00:00",
          "2015-11-01T00:00:00",
          "2015-12-01T00:00:00",
          "2016-01-01T00:00:00",
          "2016-02-01T00:00:00",
          "2016-03-01T00:00:00",
          "2016-04-01T00:00:00",
          "2016-05-01T00:00:00",
          "2016-06-01T00:00:00",
          "2016-07-01T00:00:00",
          "2016-08-01T00:00:00",
          "2016-09-01T00:00:00",
          "2016-10-01T00:00:00",
          "2016-11-01T00:00:00",
          "2016-12-01T00:00:00",
          "2017-01-01T00:00:00",
          "2017-02-01T00:00:00",
          "2017-03-01T00:00:00",
          "2017-04-01T00:00:00",
          "2017-05-01T00:00:00",
          "2017-06-01T00:00:00",
          "2017-07-01T00:00:00",
          "2017-08-01T00:00:00",
          "2017-09-01T00:00:00",
          "2017-10-01T00:00:00",
          "2017-11-01T00:00:00",
          "2017-12-01T00:00:00",
          "2018-01-01T00:00:00",
          "2018-02-01T00:00:00",
          "2018-03-01T00:00:00",
          "2018-04-01T00:00:00",
          "2018-05-01T00:00:00",
          "2018-06-01T00:00:00",
          "2018-07-01T00:00:00",
          "2018-08-01T00:00:00",
          "2018-09-01T00:00:00",
          "2018-10-01T00:00:00",
          "2018-11-01T00:00:00",
          "2018-12-01T00:00:00",
          "2019-01-01T00:00:00",
          "2019-02-01T00:00:00",
          "2019-03-01T00:00:00",
          "2019-04-01T00:00:00",
          "2019-05-01T00:00:00",
          "2019-06-01T00:00:00",
          "2019-07-01T00:00:00",
          "2019-08-01T00:00:00",
          "2019-09-01T00:00:00",
          "2019-10-01T00:00:00",
          "2019-11-01T00:00:00",
          "2019-12-01T00:00:00",
          "2020-01-01T00:00:00",
          "2020-02-01T00:00:00",
          "2020-03-01T00:00:00",
          "2020-04-01T00:00:00",
          "2020-05-01T00:00:00",
          "2020-06-01T00:00:00",
          "2020-07-01T00:00:00",
          "2020-08-01T00:00:00",
          "2020-09-01T00:00:00",
          "2020-10-01T00:00:00",
          "2020-11-01T00:00:00",
          "2020-12-01T00:00:00",
          "2021-01-01T00:00:00",
          "2021-02-01T00:00:00",
          "2021-03-01T00:00:00",
          "2021-04-01T00:00:00",
          "2021-05-01T00:00:00",
          "2021-06-01T00:00:00",
          "2021-07-01T00:00:00",
          "2021-08-01T00:00:00",
          "2021-09-01T00:00:00",
          "2021-10-01T00:00:00",
          "2021-11-01T00:00:00",
          "2021-12-01T00:00:00",
          "2022-01-01T00:00:00",
          "2022-02-01T00:00:00",
          "2022-03-01T00:00:00",
          "2022-04-01T00:00:00",
          "2022-05-01T00:00:00",
          "2022-06-01T00:00:00",
          "2022-07-01T00:00:00",
          "2022-08-01T00:00:00",
          "2022-09-01T00:00:00",
          "2022-10-01T00:00:00",
          "2022-11-01T00:00:00",
          "2022-12-01T00:00:00",
          "2023-01-01T00:00:00",
          "2023-02-01T00:00:00",
          "2023-03-01T00:00:00",
          "2023-04-01T00:00:00",
          "2023-05-01T00:00:00",
          "2023-06-01T00:00:00"
         ],
         "xaxis": "x",
         "y": [
          91.24382,
          82.44177,
          98.80615,
          108.72395,
          125.83217,
          120.37737,
          119.01368,
          113.9308,
          106.86436,
          116.03833,
          120.62532,
          232.57256,
          100.16984,
          94.09519,
          104.38491,
          110.3356,
          132.77463,
          134.01436,
          120.62532,
          114.92258,
          107.6082,
          113.43491,
          121.12121,
          234.30818,
          101.65752,
          91.11985,
          108.84793,
          108.84793,
          138.10545,
          134.75819,
          127.44381,
          124.59244,
          113.31094,
          118.64176,
          129.05546,
          243.2342,
          106.98834,
          91.49176,
          115.17053,
          120.00546,
          139.46915,
          130.54313,
          135.13011,
          129.17943,
          113.80683,
          122.9808,
          136.9897,
          250.67256,
          110.21162,
          98.06231,
          106.74039,
          113.80683,
          142.32052,
          127.31984,
          129.55135,
          128.18765,
          113.80683,
          123.72463,
          139.46915,
          242.24242,
          109.46779,
          90.74793,
          105.50067,
          105.25272,
          131.16299,
          121.49313,
          119.01368,
          110.58354,
          99.17806,
          110.70751,
          117.77395,
          218.8116,
          95.33491,
          80.33423,
          89.38423,
          94.83902,
          113.31094,
          116.78217,
          102.27738,
          98.93012,
          89.01231,
          97.1945,
          106.2445,
          199.59585,
          94.54441,
          83.26028,
          99.77831,
          105.11925,
          119.10749,
          121.72125,
          117.63423,
          108.21905,
          100.16338,
          101.83645,
          115.66948,
          213.39452,
          95.07739,
          79.64622,
          99.38174,
          97.8812,
          115.17624,
          118.31046,
          108.25467,
          111.77358,
          101.72484,
          106.37969,
          122.04426,
          211.25652,
          93.74578,
          88.23389,
          94.62565,
          94.73752,
          113.75298,
          116.47795,
          115.32019,
          108.00519,
          100.13624,
          108.81805,
          124.01576,
          211.03645,
          96.20591,
          88.92014,
          57.09726,
          18.21854,
          42.43338,
          65.6606,
          79.41934,
          101.3933,
          93.24887,
          106.29844,
          119.71851,
          191.84138,
          75.81353,
          72.17644,
          48.75205,
          73.103,
          112.5425,
          105.97087,
          112.78729,
          102.49985,
          93.54528,
          104.18582,
          114.46151,
          189.86423,
          77.63343,
          78.12086,
          88.36943,
          97.9026,
          122.14836,
          108.34343,
          94.49906,
          96.90521,
          84.64984,
          88.54056,
          95.66476,
          167.22246,
          79.489,
          71.15876,
          81.88834,
          86.9174,
          99.91929,
          108.7037
         ],
         "yaxis": "y"
        },
        {
         "hovertemplate": "Indicador=pmc_alimentos_bebidas<br>Ano=%{x}<br>Valor=%{y}<extra></extra>",
         "legendgroup": "pmc_alimentos_bebidas",
         "line": {
          "color": "#ab63fa",
          "dash": "solid"
         },
         "marker": {
          "symbol": "circle"
         },
         "mode": "lines",
         "name": "pmc_alimentos_bebidas",
         "orientation": "v",
         "showlegend": true,
         "type": "scatter",
         "x": [
          "2010-01-01T00:00:00",
          "2010-02-01T00:00:00",
          "2010-03-01T00:00:00",
          "2010-04-01T00:00:00",
          "2010-05-01T00:00:00",
          "2010-06-01T00:00:00",
          "2010-07-01T00:00:00",
          "2010-08-01T00:00:00",
          "2010-09-01T00:00:00",
          "2010-10-01T00:00:00",
          "2010-11-01T00:00:00",
          "2010-12-01T00:00:00",
          "2011-01-01T00:00:00",
          "2011-02-01T00:00:00",
          "2011-03-01T00:00:00",
          "2011-04-01T00:00:00",
          "2011-05-01T00:00:00",
          "2011-06-01T00:00:00",
          "2011-07-01T00:00:00",
          "2011-08-01T00:00:00",
          "2011-09-01T00:00:00",
          "2011-10-01T00:00:00",
          "2011-11-01T00:00:00",
          "2011-12-01T00:00:00",
          "2012-01-01T00:00:00",
          "2012-02-01T00:00:00",
          "2012-03-01T00:00:00",
          "2012-04-01T00:00:00",
          "2012-05-01T00:00:00",
          "2012-06-01T00:00:00",
          "2012-07-01T00:00:00",
          "2012-08-01T00:00:00",
          "2012-09-01T00:00:00",
          "2012-10-01T00:00:00",
          "2012-11-01T00:00:00",
          "2012-12-01T00:00:00",
          "2013-01-01T00:00:00",
          "2013-02-01T00:00:00",
          "2013-03-01T00:00:00",
          "2013-04-01T00:00:00",
          "2013-05-01T00:00:00",
          "2013-06-01T00:00:00",
          "2013-07-01T00:00:00",
          "2013-08-01T00:00:00",
          "2013-09-01T00:00:00",
          "2013-10-01T00:00:00",
          "2013-11-01T00:00:00",
          "2013-12-01T00:00:00",
          "2014-01-01T00:00:00",
          "2014-02-01T00:00:00",
          "2014-03-01T00:00:00",
          "2014-04-01T00:00:00",
          "2014-05-01T00:00:00",
          "2014-06-01T00:00:00",
          "2014-07-01T00:00:00",
          "2014-08-01T00:00:00",
          "2014-09-01T00:00:00",
          "2014-10-01T00:00:00",
          "2014-11-01T00:00:00",
          "2014-12-01T00:00:00",
          "2015-01-01T00:00:00",
          "2015-02-01T00:00:00",
          "2015-03-01T00:00:00",
          "2015-04-01T00:00:00",
          "2015-05-01T00:00:00",
          "2015-06-01T00:00:00",
          "2015-07-01T00:00:00",
          "2015-08-01T00:00:00",
          "2015-09-01T00:00:00",
          "2015-10-01T00:00:00",
          "2015-11-01T00:00:00",
          "2015-12-01T00:00:00",
          "2016-01-01T00:00:00",
          "2016-02-01T00:00:00",
          "2016-03-01T00:00:00",
          "2016-04-01T00:00:00",
          "2016-05-01T00:00:00",
          "2016-06-01T00:00:00",
          "2016-07-01T00:00:00",
          "2016-08-01T00:00:00",
          "2016-09-01T00:00:00",
          "2016-10-01T00:00:00",
          "2016-11-01T00:00:00",
          "2016-12-01T00:00:00",
          "2017-01-01T00:00:00",
          "2017-02-01T00:00:00",
          "2017-03-01T00:00:00",
          "2017-04-01T00:00:00",
          "2017-05-01T00:00:00",
          "2017-06-01T00:00:00",
          "2017-07-01T00:00:00",
          "2017-08-01T00:00:00",
          "2017-09-01T00:00:00",
          "2017-10-01T00:00:00",
          "2017-11-01T00:00:00",
          "2017-12-01T00:00:00",
          "2018-01-01T00:00:00",
          "2018-02-01T00:00:00",
          "2018-03-01T00:00:00",
          "2018-04-01T00:00:00",
          "2018-05-01T00:00:00",
          "2018-06-01T00:00:00",
          "2018-07-01T00:00:00",
          "2018-08-01T00:00:00",
          "2018-09-01T00:00:00",
          "2018-10-01T00:00:00",
          "2018-11-01T00:00:00",
          "2018-12-01T00:00:00",
          "2019-01-01T00:00:00",
          "2019-02-01T00:00:00",
          "2019-03-01T00:00:00",
          "2019-04-01T00:00:00",
          "2019-05-01T00:00:00",
          "2019-06-01T00:00:00",
          "2019-07-01T00:00:00",
          "2019-08-01T00:00:00",
          "2019-09-01T00:00:00",
          "2019-10-01T00:00:00",
          "2019-11-01T00:00:00",
          "2019-12-01T00:00:00",
          "2020-01-01T00:00:00",
          "2020-02-01T00:00:00",
          "2020-03-01T00:00:00",
          "2020-04-01T00:00:00",
          "2020-05-01T00:00:00",
          "2020-06-01T00:00:00",
          "2020-07-01T00:00:00",
          "2020-08-01T00:00:00",
          "2020-09-01T00:00:00",
          "2020-10-01T00:00:00",
          "2020-11-01T00:00:00",
          "2020-12-01T00:00:00",
          "2021-01-01T00:00:00",
          "2021-02-01T00:00:00",
          "2021-03-01T00:00:00",
          "2021-04-01T00:00:00",
          "2021-05-01T00:00:00",
          "2021-06-01T00:00:00",
          "2021-07-01T00:00:00",
          "2021-08-01T00:00:00",
          "2021-09-01T00:00:00",
          "2021-10-01T00:00:00",
          "2021-11-01T00:00:00",
          "2021-12-01T00:00:00",
          "2022-01-01T00:00:00",
          "2022-02-01T00:00:00",
          "2022-03-01T00:00:00",
          "2022-04-01T00:00:00",
          "2022-05-01T00:00:00",
          "2022-06-01T00:00:00",
          "2022-07-01T00:00:00",
          "2022-08-01T00:00:00",
          "2022-09-01T00:00:00",
          "2022-10-01T00:00:00",
          "2022-11-01T00:00:00",
          "2022-12-01T00:00:00",
          "2023-01-01T00:00:00",
          "2023-02-01T00:00:00",
          "2023-03-01T00:00:00",
          "2023-04-01T00:00:00",
          "2023-05-01T00:00:00",
          "2023-06-01T00:00:00"
         ],
         "xaxis": "x",
         "y": [
          78.42115,
          76.00021,
          83.95472,
          79.97747,
          80.84209,
          79.11285,
          83.00364,
          82.65779,
          81.53378,
          86.11628,
          81.62025,
          104.27332,
          81.70671,
          77.98884,
          85.16519,
          88.36429,
          82.39841,
          81.2744,
          86.80797,
          85.85689,
          84.38704,
          88.10491,
          86.63505,
          109.02874,
          88.62368,
          88.36429,
          95.71357,
          91.56339,
          89.66122,
          90.35292,
          91.04462,
          93.20617,
          92.6874,
          93.89787,
          93.81141,
          116.46448,
          91.56339,
          86.54859,
          99.60437,
          86.63505,
          91.9957,
          89.66122,
          93.55202,
          98.3939,
          93.55202,
          96.92404,
          99.25852,
          119.23127,
          96.66466,
          91.30401,
          96.83758,
          95.36773,
          94.5031,
          90.35292,
          93.55202,
          96.92404,
          91.73632,
          98.73975,
          97.87513,
          118.10726,
          96.83758,
          89.66122,
          94.5031,
          93.46556,
          92.60094,
          87.93198,
          91.04462,
          92.25509,
          89.74769,
          98.3939,
          92.42801,
          113.6977,
          91.21754,
          88.45076,
          93.3791,
          89.14245,
          87.49967,
          86.46213,
          90.09354,
          90.26646,
          87.58613,
          92.08216,
          90.95816,
          110.41214,
          91.48123,
          87.8314,
          86.82494,
          91.84445,
          87.53959,
          87.1895,
          90.34657,
          91.7812,
          92.65839,
          93.44556,
          96.00754,
          117.04537,
          94.33405,
          89.55314,
          100.19715,
          91.92385,
          94.54645,
          90.715,
          91.55394,
          96.8461,
          93.09391,
          95.32416,
          99.01226,
          118.83393,
          96.47752,
          90.75268,
          94.3761,
          93.30936,
          93.46582,
          91.40297,
          93.14186,
          99.22104,
          93.26685,
          97.85853,
          101.78169,
          115.23238,
          93.83039,
          94.36996,
          104.74174,
          97.66291,
          102.18091,
          97.29924,
          102.30092,
          102.19893,
          97.30704,
          105.02037,
          99.93074,
          119.24585,
          95.00777,
          90.06524,
          100.68125,
          95.97968,
          97.83454,
          94.35815,
          100.48852,
          97.42588,
          94.24539,
          99.79527,
          99.29806,
          118.7507,
          94.08817,
          91.8808,
          97.29826,
          99.87038,
          97.38395,
          96.46825,
          100.21917,
          98.78697,
          97.78536,
          102.51205,
          102.04472,
          121.66192,
          96.29115,
          92.73729,
          101.62821,
          103.19666,
          98.81598,
          96.789
         ],
         "yaxis": "y"
        }
       ],
       "layout": {
        "legend": {
         "title": {
          "text": "Indicador"
         },
         "tracegroupgap": 0
        },
        "template": {
         "data": {
          "bar": [
           {
            "error_x": {
             "color": "#2a3f5f"
            },
            "error_y": {
             "color": "#2a3f5f"
            },
            "marker": {
             "line": {
              "color": "#E5ECF6",
              "width": 0.5
             },
             "pattern": {
              "fillmode": "overlay",
              "size": 10,
              "solidity": 0.2
             }
            },
            "type": "bar"
           }
          ],
          "barpolar": [
           {
            "marker": {
             "line": {
              "color": "#E5ECF6",
              "width": 0.5
             },
             "pattern": {
              "fillmode": "overlay",
              "size": 10,
              "solidity": 0.2
             }
            },
            "type": "barpolar"
           }
          ],
          "carpet": [
           {
            "aaxis": {
             "endlinecolor": "#2a3f5f",
             "gridcolor": "white",
             "linecolor": "white",
             "minorgridcolor": "white",
             "startlinecolor": "#2a3f5f"
            },
            "baxis": {
             "endlinecolor": "#2a3f5f",
             "gridcolor": "white",
             "linecolor": "white",
             "minorgridcolor": "white",
             "startlinecolor": "#2a3f5f"
            },
            "type": "carpet"
           }
          ],
          "choropleth": [
           {
            "colorbar": {
             "outlinewidth": 0,
             "ticks": ""
            },
            "type": "choropleth"
           }
          ],
          "contour": [
           {
            "colorbar": {
             "outlinewidth": 0,
             "ticks": ""
            },
            "colorscale": [
             [
              0,
              "#0d0887"
             ],
             [
              0.1111111111111111,
              "#46039f"
             ],
             [
              0.2222222222222222,
              "#7201a8"
             ],
             [
              0.3333333333333333,
              "#9c179e"
             ],
             [
              0.4444444444444444,
              "#bd3786"
             ],
             [
              0.5555555555555556,
              "#d8576b"
             ],
             [
              0.6666666666666666,
              "#ed7953"
             ],
             [
              0.7777777777777778,
              "#fb9f3a"
             ],
             [
              0.8888888888888888,
              "#fdca26"
             ],
             [
              1,
              "#f0f921"
             ]
            ],
            "type": "contour"
           }
          ],
          "contourcarpet": [
           {
            "colorbar": {
             "outlinewidth": 0,
             "ticks": ""
            },
            "type": "contourcarpet"
           }
          ],
          "heatmap": [
           {
            "colorbar": {
             "outlinewidth": 0,
             "ticks": ""
            },
            "colorscale": [
             [
              0,
              "#0d0887"
             ],
             [
              0.1111111111111111,
              "#46039f"
             ],
             [
              0.2222222222222222,
              "#7201a8"
             ],
             [
              0.3333333333333333,
              "#9c179e"
             ],
             [
              0.4444444444444444,
              "#bd3786"
             ],
             [
              0.5555555555555556,
              "#d8576b"
             ],
             [
              0.6666666666666666,
              "#ed7953"
             ],
             [
              0.7777777777777778,
              "#fb9f3a"
             ],
             [
              0.8888888888888888,
              "#fdca26"
             ],
             [
              1,
              "#f0f921"
             ]
            ],
            "type": "heatmap"
           }
          ],
          "heatmapgl": [
           {
            "colorbar": {
             "outlinewidth": 0,
             "ticks": ""
            },
            "colorscale": [
             [
              0,
              "#0d0887"
             ],
             [
              0.1111111111111111,
              "#46039f"
             ],
             [
              0.2222222222222222,
              "#7201a8"
             ],
             [
              0.3333333333333333,
              "#9c179e"
             ],
             [
              0.4444444444444444,
              "#bd3786"
             ],
             [
              0.5555555555555556,
              "#d8576b"
             ],
             [
              0.6666666666666666,
              "#ed7953"
             ],
             [
              0.7777777777777778,
              "#fb9f3a"
             ],
             [
              0.8888888888888888,
              "#fdca26"
             ],
             [
              1,
              "#f0f921"
             ]
            ],
            "type": "heatmapgl"
           }
          ],
          "histogram": [
           {
            "marker": {
             "pattern": {
              "fillmode": "overlay",
              "size": 10,
              "solidity": 0.2
             }
            },
            "type": "histogram"
           }
          ],
          "histogram2d": [
           {
            "colorbar": {
             "outlinewidth": 0,
             "ticks": ""
            },
            "colorscale": [
             [
              0,
              "#0d0887"
             ],
             [
              0.1111111111111111,
              "#46039f"
             ],
             [
              0.2222222222222222,
              "#7201a8"
             ],
             [
              0.3333333333333333,
              "#9c179e"
             ],
             [
              0.4444444444444444,
              "#bd3786"
             ],
             [
              0.5555555555555556,
              "#d8576b"
             ],
             [
              0.6666666666666666,
              "#ed7953"
             ],
             [
              0.7777777777777778,
              "#fb9f3a"
             ],
             [
              0.8888888888888888,
              "#fdca26"
             ],
             [
              1,
              "#f0f921"
             ]
            ],
            "type": "histogram2d"
           }
          ],
          "histogram2dcontour": [
           {
            "colorbar": {
             "outlinewidth": 0,
             "ticks": ""
            },
            "colorscale": [
             [
              0,
              "#0d0887"
             ],
             [
              0.1111111111111111,
              "#46039f"
             ],
             [
              0.2222222222222222,
              "#7201a8"
             ],
             [
              0.3333333333333333,
              "#9c179e"
             ],
             [
              0.4444444444444444,
              "#bd3786"
             ],
             [
              0.5555555555555556,
              "#d8576b"
             ],
             [
              0.6666666666666666,
              "#ed7953"
             ],
             [
              0.7777777777777778,
              "#fb9f3a"
             ],
             [
              0.8888888888888888,
              "#fdca26"
             ],
             [
              1,
              "#f0f921"
             ]
            ],
            "type": "histogram2dcontour"
           }
          ],
          "mesh3d": [
           {
            "colorbar": {
             "outlinewidth": 0,
             "ticks": ""
            },
            "type": "mesh3d"
           }
          ],
          "parcoords": [
           {
            "line": {
             "colorbar": {
              "outlinewidth": 0,
              "ticks": ""
             }
            },
            "type": "parcoords"
           }
          ],
          "pie": [
           {
            "automargin": true,
            "type": "pie"
           }
          ],
          "scatter": [
           {
            "fillpattern": {
             "fillmode": "overlay",
             "size": 10,
             "solidity": 0.2
            },
            "type": "scatter"
           }
          ],
          "scatter3d": [
           {
            "line": {
             "colorbar": {
              "outlinewidth": 0,
              "ticks": ""
             }
            },
            "marker": {
             "colorbar": {
              "outlinewidth": 0,
              "ticks": ""
             }
            },
            "type": "scatter3d"
           }
          ],
          "scattercarpet": [
           {
            "marker": {
             "colorbar": {
              "outlinewidth": 0,
              "ticks": ""
             }
            },
            "type": "scattercarpet"
           }
          ],
          "scattergeo": [
           {
            "marker": {
             "colorbar": {
              "outlinewidth": 0,
              "ticks": ""
             }
            },
            "type": "scattergeo"
           }
          ],
          "scattergl": [
           {
            "marker": {
             "colorbar": {
              "outlinewidth": 0,
              "ticks": ""
             }
            },
            "type": "scattergl"
           }
          ],
          "scattermapbox": [
           {
            "marker": {
             "colorbar": {
              "outlinewidth": 0,
              "ticks": ""
             }
            },
            "type": "scattermapbox"
           }
          ],
          "scatterpolar": [
           {
            "marker": {
             "colorbar": {
              "outlinewidth": 0,
              "ticks": ""
             }
            },
            "type": "scatterpolar"
           }
          ],
          "scatterpolargl": [
           {
            "marker": {
             "colorbar": {
              "outlinewidth": 0,
              "ticks": ""
             }
            },
            "type": "scatterpolargl"
           }
          ],
          "scatterternary": [
           {
            "marker": {
             "colorbar": {
              "outlinewidth": 0,
              "ticks": ""
             }
            },
            "type": "scatterternary"
           }
          ],
          "surface": [
           {
            "colorbar": {
             "outlinewidth": 0,
             "ticks": ""
            },
            "colorscale": [
             [
              0,
              "#0d0887"
             ],
             [
              0.1111111111111111,
              "#46039f"
             ],
             [
              0.2222222222222222,
              "#7201a8"
             ],
             [
              0.3333333333333333,
              "#9c179e"
             ],
             [
              0.4444444444444444,
              "#bd3786"
             ],
             [
              0.5555555555555556,
              "#d8576b"
             ],
             [
              0.6666666666666666,
              "#ed7953"
             ],
             [
              0.7777777777777778,
              "#fb9f3a"
             ],
             [
              0.8888888888888888,
              "#fdca26"
             ],
             [
              1,
              "#f0f921"
             ]
            ],
            "type": "surface"
           }
          ],
          "table": [
           {
            "cells": {
             "fill": {
              "color": "#EBF0F8"
             },
             "line": {
              "color": "white"
             }
            },
            "header": {
             "fill": {
              "color": "#C8D4E3"
             },
             "line": {
              "color": "white"
             }
            },
            "type": "table"
           }
          ]
         },
         "layout": {
          "annotationdefaults": {
           "arrowcolor": "#2a3f5f",
           "arrowhead": 0,
           "arrowwidth": 1
          },
          "autotypenumbers": "strict",
          "coloraxis": {
           "colorbar": {
            "outlinewidth": 0,
            "ticks": ""
           }
          },
          "colorscale": {
           "diverging": [
            [
             0,
             "#8e0152"
            ],
            [
             0.1,
             "#c51b7d"
            ],
            [
             0.2,
             "#de77ae"
            ],
            [
             0.3,
             "#f1b6da"
            ],
            [
             0.4,
             "#fde0ef"
            ],
            [
             0.5,
             "#f7f7f7"
            ],
            [
             0.6,
             "#e6f5d0"
            ],
            [
             0.7,
             "#b8e186"
            ],
            [
             0.8,
             "#7fbc41"
            ],
            [
             0.9,
             "#4d9221"
            ],
            [
             1,
             "#276419"
            ]
           ],
           "sequential": [
            [
             0,
             "#0d0887"
            ],
            [
             0.1111111111111111,
             "#46039f"
            ],
            [
             0.2222222222222222,
             "#7201a8"
            ],
            [
             0.3333333333333333,
             "#9c179e"
            ],
            [
             0.4444444444444444,
             "#bd3786"
            ],
            [
             0.5555555555555556,
             "#d8576b"
            ],
            [
             0.6666666666666666,
             "#ed7953"
            ],
            [
             0.7777777777777778,
             "#fb9f3a"
            ],
            [
             0.8888888888888888,
             "#fdca26"
            ],
            [
             1,
             "#f0f921"
            ]
           ],
           "sequentialminus": [
            [
             0,
             "#0d0887"
            ],
            [
             0.1111111111111111,
             "#46039f"
            ],
            [
             0.2222222222222222,
             "#7201a8"
            ],
            [
             0.3333333333333333,
             "#9c179e"
            ],
            [
             0.4444444444444444,
             "#bd3786"
            ],
            [
             0.5555555555555556,
             "#d8576b"
            ],
            [
             0.6666666666666666,
             "#ed7953"
            ],
            [
             0.7777777777777778,
             "#fb9f3a"
            ],
            [
             0.8888888888888888,
             "#fdca26"
            ],
            [
             1,
             "#f0f921"
            ]
           ]
          },
          "colorway": [
           "#636efa",
           "#EF553B",
           "#00cc96",
           "#ab63fa",
           "#FFA15A",
           "#19d3f3",
           "#FF6692",
           "#B6E880",
           "#FF97FF",
           "#FECB52"
          ],
          "font": {
           "color": "#2a3f5f"
          },
          "geo": {
           "bgcolor": "white",
           "lakecolor": "white",
           "landcolor": "#E5ECF6",
           "showlakes": true,
           "showland": true,
           "subunitcolor": "white"
          },
          "hoverlabel": {
           "align": "left"
          },
          "hovermode": "closest",
          "mapbox": {
           "style": "light"
          },
          "paper_bgcolor": "white",
          "plot_bgcolor": "#E5ECF6",
          "polar": {
           "angularaxis": {
            "gridcolor": "white",
            "linecolor": "white",
            "ticks": ""
           },
           "bgcolor": "#E5ECF6",
           "radialaxis": {
            "gridcolor": "white",
            "linecolor": "white",
            "ticks": ""
           }
          },
          "scene": {
           "xaxis": {
            "backgroundcolor": "#E5ECF6",
            "gridcolor": "white",
            "gridwidth": 2,
            "linecolor": "white",
            "showbackground": true,
            "ticks": "",
            "zerolinecolor": "white"
           },
           "yaxis": {
            "backgroundcolor": "#E5ECF6",
            "gridcolor": "white",
            "gridwidth": 2,
            "linecolor": "white",
            "showbackground": true,
            "ticks": "",
            "zerolinecolor": "white"
           },
           "zaxis": {
            "backgroundcolor": "#E5ECF6",
            "gridcolor": "white",
            "gridwidth": 2,
            "linecolor": "white",
            "showbackground": true,
            "ticks": "",
            "zerolinecolor": "white"
           }
          },
          "shapedefaults": {
           "line": {
            "color": "#2a3f5f"
           }
          },
          "ternary": {
           "aaxis": {
            "gridcolor": "white",
            "linecolor": "white",
            "ticks": ""
           },
           "baxis": {
            "gridcolor": "white",
            "linecolor": "white",
            "ticks": ""
           },
           "bgcolor": "#E5ECF6",
           "caxis": {
            "gridcolor": "white",
            "linecolor": "white",
            "ticks": ""
           }
          },
          "title": {
           "x": 0.05
          },
          "xaxis": {
           "automargin": true,
           "gridcolor": "white",
           "linecolor": "white",
           "ticks": "",
           "title": {
            "standoff": 15
           },
           "zerolinecolor": "white",
           "zerolinewidth": 2
          },
          "yaxis": {
           "automargin": true,
           "gridcolor": "white",
           "linecolor": "white",
           "ticks": "",
           "title": {
            "standoff": 15
           },
           "zerolinecolor": "white",
           "zerolinewidth": 2
          }
         }
        },
        "title": {
         "text": "Pesquisa Mensal de Comércio"
        },
        "xaxis": {
         "anchor": "y",
         "domain": [
          0,
          1
         ],
         "title": {
          "text": "Ano"
         }
        },
        "yaxis": {
         "anchor": "x",
         "domain": [
          0,
          1
         ],
         "title": {
          "text": "Valor"
         }
        }
       }
      }
     },
     "metadata": {},
     "output_type": "display_data"
    }
   ],
   "source": [
    "fig = px.line(\n",
    "    df_past,\n",
    "    x=df_past.index,\n",
    "    y=[\n",
    "        \"pmc_moveis_linha_branca\",\n",
    "        \"pmc_combustiveis_lubrificantes\",\n",
    "        \"pmc_roupa_calcados\",\n",
    "        \"pmc_alimentos_bebidas\",\n",
    "    ],\n",
    "    title=\"Pesquisa Mensal de Comércio\",\n",
    "    labels={\"value\": \"Valor\", \"data\": \"Ano\", \"variable\": \"Indicador\"},\n",
    ")\n",
    "fig.show()"
   ]
  },
  {
   "cell_type": "markdown",
   "metadata": {},
   "source": [
    "### Seleção de Variáveis"
   ]
  },
  {
   "cell_type": "code",
   "execution_count": 18,
   "metadata": {},
   "outputs": [
    {
     "data": {
      "text/html": [
       "<div>\n",
       "<style scoped>\n",
       "    .dataframe tbody tr th:only-of-type {\n",
       "        vertical-align: middle;\n",
       "    }\n",
       "\n",
       "    .dataframe tbody tr th {\n",
       "        vertical-align: top;\n",
       "    }\n",
       "\n",
       "    .dataframe thead th {\n",
       "        text-align: right;\n",
       "    }\n",
       "</style>\n",
       "<table border=\"1\" class=\"dataframe\">\n",
       "  <thead>\n",
       "    <tr style=\"text-align: right;\">\n",
       "      <th></th>\n",
       "      <th>abcr_leves</th>\n",
       "      <th>ici</th>\n",
       "      <th>pim</th>\n",
       "      <th>receita</th>\n",
       "      <th>preco_diesel</th>\n",
       "      <th>preco_etanol</th>\n",
       "      <th>pmc_combustiveis_lubrificantes</th>\n",
       "      <th>pmc_roupa_calcados</th>\n",
       "      <th>selic_meta</th>\n",
       "    </tr>\n",
       "    <tr>\n",
       "      <th>data</th>\n",
       "      <th></th>\n",
       "      <th></th>\n",
       "      <th></th>\n",
       "      <th></th>\n",
       "      <th></th>\n",
       "      <th></th>\n",
       "      <th></th>\n",
       "      <th></th>\n",
       "      <th></th>\n",
       "    </tr>\n",
       "  </thead>\n",
       "  <tbody>\n",
       "    <tr>\n",
       "      <th>2010-01-01</th>\n",
       "      <td>137.557654</td>\n",
       "      <td>108.9</td>\n",
       "      <td>106.28638</td>\n",
       "      <td>74495.829991</td>\n",
       "      <td>1.1386</td>\n",
       "      <td>1.0918</td>\n",
       "      <td>96.27988</td>\n",
       "      <td>91.24382</td>\n",
       "      <td>8.75</td>\n",
       "    </tr>\n",
       "    <tr>\n",
       "      <th>2010-02-01</th>\n",
       "      <td>118.380821</td>\n",
       "      <td>113.6</td>\n",
       "      <td>103.65597</td>\n",
       "      <td>55082.064653</td>\n",
       "      <td>1.1315</td>\n",
       "      <td>1.1138</td>\n",
       "      <td>90.50721</td>\n",
       "      <td>82.44177</td>\n",
       "      <td>8.75</td>\n",
       "    </tr>\n",
       "    <tr>\n",
       "      <th>2010-03-01</th>\n",
       "      <td>120.370806</td>\n",
       "      <td>116.1</td>\n",
       "      <td>122.44795</td>\n",
       "      <td>60875.890076</td>\n",
       "      <td>1.1240</td>\n",
       "      <td>1.0053</td>\n",
       "      <td>102.25872</td>\n",
       "      <td>98.80615</td>\n",
       "      <td>8.75</td>\n",
       "    </tr>\n",
       "    <tr>\n",
       "      <th>2010-04-01</th>\n",
       "      <td>121.795781</td>\n",
       "      <td>117.7</td>\n",
       "      <td>115.72172</td>\n",
       "      <td>72460.799766</td>\n",
       "      <td>1.1170</td>\n",
       "      <td>0.9237</td>\n",
       "      <td>97.31072</td>\n",
       "      <td>108.72395</td>\n",
       "      <td>9.50</td>\n",
       "    </tr>\n",
       "    <tr>\n",
       "      <th>2010-05-01</th>\n",
       "      <td>123.126608</td>\n",
       "      <td>117.0</td>\n",
       "      <td>121.51816</td>\n",
       "      <td>62635.271956</td>\n",
       "      <td>1.1100</td>\n",
       "      <td>0.8723</td>\n",
       "      <td>102.36180</td>\n",
       "      <td>125.83217</td>\n",
       "      <td>9.50</td>\n",
       "    </tr>\n",
       "  </tbody>\n",
       "</table>\n",
       "</div>"
      ],
      "text/plain": [
       "            abcr_leves    ici        pim       receita  preco_diesel  \\\n",
       "data                                                                   \n",
       "2010-01-01  137.557654  108.9  106.28638  74495.829991        1.1386   \n",
       "2010-02-01  118.380821  113.6  103.65597  55082.064653        1.1315   \n",
       "2010-03-01  120.370806  116.1  122.44795  60875.890076        1.1240   \n",
       "2010-04-01  121.795781  117.7  115.72172  72460.799766        1.1170   \n",
       "2010-05-01  123.126608  117.0  121.51816  62635.271956        1.1100   \n",
       "\n",
       "            preco_etanol  pmc_combustiveis_lubrificantes  pmc_roupa_calcados  \\\n",
       "data                                                                           \n",
       "2010-01-01        1.0918                        96.27988            91.24382   \n",
       "2010-02-01        1.1138                        90.50721            82.44177   \n",
       "2010-03-01        1.0053                       102.25872            98.80615   \n",
       "2010-04-01        0.9237                        97.31072           108.72395   \n",
       "2010-05-01        0.8723                       102.36180           125.83217   \n",
       "\n",
       "            selic_meta  \n",
       "data                    \n",
       "2010-01-01        8.75  \n",
       "2010-02-01        8.75  \n",
       "2010-03-01        8.75  \n",
       "2010-04-01        9.50  \n",
       "2010-05-01        9.50  "
      ]
     },
     "execution_count": 18,
     "metadata": {},
     "output_type": "execute_result"
    }
   ],
   "source": [
    "select_df = df_past.drop(\n",
    "    columns=[\n",
    "        \"pim_bens_consumo\",\n",
    "        \"pim_manufatura\",\n",
    "        \"pim_bens_intermediarios\",\n",
    "        \"pim_bens_capital\",\n",
    "        \"ic_br_energia\",\n",
    "        \"reservas_internacionais\",\n",
    "        \"pmc_moveis_linha_branca\",\n",
    "        \"pmc_alimentos_bebidas\",\n",
    "    ]\n",
    ")\n",
    "select_df.head()"
   ]
  },
  {
   "cell_type": "code",
   "execution_count": 19,
   "metadata": {},
   "outputs": [
    {
     "data": {
      "text/html": [
       "<div>\n",
       "<style scoped>\n",
       "    .dataframe tbody tr th:only-of-type {\n",
       "        vertical-align: middle;\n",
       "    }\n",
       "\n",
       "    .dataframe tbody tr th {\n",
       "        vertical-align: top;\n",
       "    }\n",
       "\n",
       "    .dataframe thead th {\n",
       "        text-align: right;\n",
       "    }\n",
       "</style>\n",
       "<table border=\"1\" class=\"dataframe\">\n",
       "  <thead>\n",
       "    <tr style=\"text-align: right;\">\n",
       "      <th></th>\n",
       "      <th>abcr_leves</th>\n",
       "      <th>ici</th>\n",
       "      <th>pim</th>\n",
       "      <th>receita</th>\n",
       "      <th>preco_diesel</th>\n",
       "      <th>preco_etanol</th>\n",
       "      <th>pmc_combustiveis_lubrificantes</th>\n",
       "      <th>pmc_roupa_calcados</th>\n",
       "      <th>selic_meta</th>\n",
       "    </tr>\n",
       "  </thead>\n",
       "  <tbody>\n",
       "    <tr>\n",
       "      <th>count</th>\n",
       "      <td>162.000000</td>\n",
       "      <td>162.000000</td>\n",
       "      <td>162.000000</td>\n",
       "      <td>162.000000</td>\n",
       "      <td>162.000000</td>\n",
       "      <td>162.000000</td>\n",
       "      <td>162.000000</td>\n",
       "      <td>162.000000</td>\n",
       "      <td>162.000000</td>\n",
       "    </tr>\n",
       "    <tr>\n",
       "      <th>mean</th>\n",
       "      <td>147.561616</td>\n",
       "      <td>97.046914</td>\n",
       "      <td>107.020127</td>\n",
       "      <td>115543.111394</td>\n",
       "      <td>1.184309</td>\n",
       "      <td>1.013733</td>\n",
       "      <td>101.958804</td>\n",
       "      <td>113.982598</td>\n",
       "      <td>9.408951</td>\n",
       "    </tr>\n",
       "    <tr>\n",
       "      <th>std</th>\n",
       "      <td>16.722342</td>\n",
       "      <td>11.075871</td>\n",
       "      <td>11.611615</td>\n",
       "      <td>37311.369918</td>\n",
       "      <td>0.211851</td>\n",
       "      <td>0.139333</td>\n",
       "      <td>11.657468</td>\n",
       "      <td>36.008477</td>\n",
       "      <td>3.581977</td>\n",
       "    </tr>\n",
       "    <tr>\n",
       "      <th>min</th>\n",
       "      <td>72.487530</td>\n",
       "      <td>62.400000</td>\n",
       "      <td>70.246690</td>\n",
       "      <td>55082.064653</td>\n",
       "      <td>0.985300</td>\n",
       "      <td>0.832700</td>\n",
       "      <td>69.457470</td>\n",
       "      <td>18.218540</td>\n",
       "      <td>2.000000</td>\n",
       "    </tr>\n",
       "    <tr>\n",
       "      <th>25%</th>\n",
       "      <td>138.369721</td>\n",
       "      <td>90.825000</td>\n",
       "      <td>99.660950</td>\n",
       "      <td>90048.032617</td>\n",
       "      <td>1.072800</td>\n",
       "      <td>0.930825</td>\n",
       "      <td>94.026358</td>\n",
       "      <td>95.417372</td>\n",
       "      <td>6.500000</td>\n",
       "    </tr>\n",
       "    <tr>\n",
       "      <th>50%</th>\n",
       "      <td>149.383765</td>\n",
       "      <td>98.250000</td>\n",
       "      <td>106.194305</td>\n",
       "      <td>106038.844939</td>\n",
       "      <td>1.109100</td>\n",
       "      <td>0.982600</td>\n",
       "      <td>101.617140</td>\n",
       "      <td>108.713825</td>\n",
       "      <td>10.000000</td>\n",
       "    </tr>\n",
       "    <tr>\n",
       "      <th>75%</th>\n",
       "      <td>156.533685</td>\n",
       "      <td>104.625000</td>\n",
       "      <td>113.822458</td>\n",
       "      <td>137336.014661</td>\n",
       "      <td>1.177450</td>\n",
       "      <td>1.046775</td>\n",
       "      <td>110.969268</td>\n",
       "      <td>120.625320</td>\n",
       "      <td>12.250000</td>\n",
       "    </tr>\n",
       "    <tr>\n",
       "      <th>max</th>\n",
       "      <td>182.158013</td>\n",
       "      <td>117.700000</td>\n",
       "      <td>131.191890</td>\n",
       "      <td>251744.502812</td>\n",
       "      <td>2.026900</td>\n",
       "      <td>1.552300</td>\n",
       "      <td>128.751150</td>\n",
       "      <td>250.672560</td>\n",
       "      <td>14.250000</td>\n",
       "    </tr>\n",
       "  </tbody>\n",
       "</table>\n",
       "</div>"
      ],
      "text/plain": [
       "       abcr_leves         ici         pim        receita  preco_diesel  \\\n",
       "count  162.000000  162.000000  162.000000     162.000000    162.000000   \n",
       "mean   147.561616   97.046914  107.020127  115543.111394      1.184309   \n",
       "std     16.722342   11.075871   11.611615   37311.369918      0.211851   \n",
       "min     72.487530   62.400000   70.246690   55082.064653      0.985300   \n",
       "25%    138.369721   90.825000   99.660950   90048.032617      1.072800   \n",
       "50%    149.383765   98.250000  106.194305  106038.844939      1.109100   \n",
       "75%    156.533685  104.625000  113.822458  137336.014661      1.177450   \n",
       "max    182.158013  117.700000  131.191890  251744.502812      2.026900   \n",
       "\n",
       "       preco_etanol  pmc_combustiveis_lubrificantes  pmc_roupa_calcados  \\\n",
       "count    162.000000                      162.000000          162.000000   \n",
       "mean       1.013733                      101.958804          113.982598   \n",
       "std        0.139333                       11.657468           36.008477   \n",
       "min        0.832700                       69.457470           18.218540   \n",
       "25%        0.930825                       94.026358           95.417372   \n",
       "50%        0.982600                      101.617140          108.713825   \n",
       "75%        1.046775                      110.969268          120.625320   \n",
       "max        1.552300                      128.751150          250.672560   \n",
       "\n",
       "       selic_meta  \n",
       "count  162.000000  \n",
       "mean     9.408951  \n",
       "std      3.581977  \n",
       "min      2.000000  \n",
       "25%      6.500000  \n",
       "50%     10.000000  \n",
       "75%     12.250000  \n",
       "max     14.250000  "
      ]
     },
     "execution_count": 19,
     "metadata": {},
     "output_type": "execute_result"
    }
   ],
   "source": [
    "select_df.describe()"
   ]
  },
  {
   "cell_type": "markdown",
   "metadata": {},
   "source": [
    "## Preparação do Conjunto de Dados"
   ]
  },
  {
   "cell_type": "code",
   "execution_count": 20,
   "metadata": {},
   "outputs": [],
   "source": [
    "scaler = MinMaxScaler()\n",
    "scaled_data = scaler.fit_transform(select_df)"
   ]
  },
  {
   "cell_type": "code",
   "execution_count": 21,
   "metadata": {},
   "outputs": [
    {
     "data": {
      "text/plain": [
       "((150, 12, 9), (150, 1))"
      ]
     },
     "execution_count": 21,
     "metadata": {},
     "output_type": "execute_result"
    }
   ],
   "source": [
    "X_train = []\n",
    "y_train = []\n",
    "\n",
    "n_future = 1\n",
    "n_past = 12\n",
    "\n",
    "for i in range(n_past, len(scaled_data) - n_future + 1):\n",
    "    X_train.append(scaled_data[i - n_past : i, 0 : scaled_data.shape[1]])\n",
    "    y_train.append(scaled_data[i + n_future - 1 : i + n_future, 0])\n",
    "\n",
    "X_train, y_train = np.array(X_train), np.array(y_train)\n",
    "X_train.shape, y_train.shape"
   ]
  },
  {
   "cell_type": "markdown",
   "metadata": {},
   "source": [
    "## Criação do Modelo"
   ]
  },
  {
   "cell_type": "code",
   "execution_count": 22,
   "metadata": {},
   "outputs": [
    {
     "name": "stdout",
     "output_type": "stream",
     "text": [
      "Model: \"sequential\"\n",
      "_________________________________________________________________\n",
      " Layer (type)                Output Shape              Param #   \n",
      "=================================================================\n",
      " lstm (LSTM)                 (None, 12, 128)           70656     \n",
      "                                                                 \n",
      " leaky_re_lu (LeakyReLU)     (None, 12, 128)           0         \n",
      "                                                                 \n",
      " lstm_1 (LSTM)               (None, 12, 123)           123984    \n",
      "                                                                 \n",
      " leaky_re_lu_1 (LeakyReLU)   (None, 12, 123)           0         \n",
      "                                                                 \n",
      " dropout (Dropout)           (None, 12, 123)           0         \n",
      "                                                                 \n",
      " lstm_2 (LSTM)               (None, 64)                48128     \n",
      "                                                                 \n",
      " dropout_1 (Dropout)         (None, 64)                0         \n",
      "                                                                 \n",
      " dense (Dense)               (None, 1)                 65        \n",
      "                                                                 \n",
      "=================================================================\n",
      "Total params: 242833 (948.57 KB)\n",
      "Trainable params: 242833 (948.57 KB)\n",
      "Non-trainable params: 0 (0.00 Byte)\n",
      "_________________________________________________________________\n"
     ]
    }
   ],
   "source": [
    "model = Sequential()\n",
    "model.add(\n",
    "    LSTM(\n",
    "        128,\n",
    "        activation=\"relu\",\n",
    "        input_shape=(X_train.shape[1], X_train.shape[2]),\n",
    "        return_sequences=True,\n",
    "    )\n",
    ")\n",
    "model.add(LeakyReLU(alpha=0.5))\n",
    "model.add(LSTM(123, return_sequences=True))\n",
    "model.add(LeakyReLU(alpha=0.5))\n",
    "model.add(Dropout(0.3))\n",
    "model.add(LSTM(64, return_sequences=False))\n",
    "model.add(Dropout(0.3))\n",
    "model.add(Dense(y_train.shape[1]))\n",
    "\n",
    "model.compile(optimizer=\"adam\", loss=\"mse\")\n",
    "model.summary()"
   ]
  },
  {
   "cell_type": "code",
   "execution_count": 23,
   "metadata": {},
   "outputs": [
    {
     "name": "stdout",
     "output_type": "stream",
     "text": [
      "Epoch 1/50\n",
      "5/5 [==============================] - 6s 271ms/step - loss: 0.2538 - val_loss: 0.1201\n",
      "Epoch 2/50\n",
      "5/5 [==============================] - 0s 36ms/step - loss: 0.0920 - val_loss: 0.0173\n",
      "Epoch 3/50\n",
      "5/5 [==============================] - 0s 34ms/step - loss: 0.0612 - val_loss: 0.0475\n",
      "Epoch 4/50\n",
      "5/5 [==============================] - 0s 34ms/step - loss: 0.0522 - val_loss: 0.0120\n",
      "Epoch 5/50\n",
      "5/5 [==============================] - 0s 35ms/step - loss: 0.0408 - val_loss: 0.0299\n",
      "Epoch 6/50\n",
      "5/5 [==============================] - 0s 36ms/step - loss: 0.0397 - val_loss: 0.0104\n",
      "Epoch 7/50\n",
      "5/5 [==============================] - 0s 34ms/step - loss: 0.0366 - val_loss: 0.0122\n",
      "Epoch 8/50\n",
      "5/5 [==============================] - 0s 34ms/step - loss: 0.0321 - val_loss: 0.0105\n",
      "Epoch 9/50\n",
      "5/5 [==============================] - 0s 33ms/step - loss: 0.0292 - val_loss: 0.0147\n",
      "Epoch 10/50\n",
      "5/5 [==============================] - 0s 34ms/step - loss: 0.0272 - val_loss: 0.0086\n",
      "Epoch 11/50\n",
      "5/5 [==============================] - 0s 35ms/step - loss: 0.0260 - val_loss: 0.0091\n",
      "Epoch 12/50\n",
      "5/5 [==============================] - 0s 34ms/step - loss: 0.0258 - val_loss: 0.0109\n",
      "Epoch 13/50\n",
      "5/5 [==============================] - 0s 34ms/step - loss: 0.0312 - val_loss: 0.0120\n",
      "Epoch 14/50\n",
      "5/5 [==============================] - 0s 35ms/step - loss: 0.0304 - val_loss: 0.0084\n",
      "Epoch 15/50\n",
      "5/5 [==============================] - 0s 35ms/step - loss: 0.0286 - val_loss: 0.0152\n",
      "Epoch 16/50\n",
      "5/5 [==============================] - 0s 34ms/step - loss: 0.0284 - val_loss: 0.0137\n",
      "Epoch 17/50\n",
      "5/5 [==============================] - 0s 34ms/step - loss: 0.0282 - val_loss: 0.0084\n",
      "Epoch 18/50\n",
      "5/5 [==============================] - 0s 35ms/step - loss: 0.0272 - val_loss: 0.0214\n",
      "Epoch 19/50\n",
      "5/5 [==============================] - 0s 42ms/step - loss: 0.0322 - val_loss: 0.0126\n",
      "Epoch 20/50\n",
      "5/5 [==============================] - 0s 34ms/step - loss: 0.0266 - val_loss: 0.0112\n",
      "Epoch 21/50\n",
      "5/5 [==============================] - 0s 34ms/step - loss: 0.0273 - val_loss: 0.0290\n",
      "Epoch 22/50\n",
      "5/5 [==============================] - 0s 34ms/step - loss: 0.0252 - val_loss: 0.0085\n",
      "Epoch 23/50\n",
      "5/5 [==============================] - 0s 37ms/step - loss: 0.0282 - val_loss: 0.0092\n",
      "Epoch 24/50\n",
      "5/5 [==============================] - 0s 35ms/step - loss: 0.0224 - val_loss: 0.0276\n",
      "Epoch 25/50\n",
      "5/5 [==============================] - 0s 34ms/step - loss: 0.0271 - val_loss: 0.0113\n",
      "Epoch 26/50\n",
      "5/5 [==============================] - 0s 33ms/step - loss: 0.0275 - val_loss: 0.0116\n",
      "Epoch 27/50\n",
      "5/5 [==============================] - 0s 34ms/step - loss: 0.0252 - val_loss: 0.0255\n",
      "Epoch 28/50\n",
      "5/5 [==============================] - 0s 34ms/step - loss: 0.0275 - val_loss: 0.0167\n",
      "Epoch 29/50\n",
      "5/5 [==============================] - 0s 34ms/step - loss: 0.0240 - val_loss: 0.0165\n",
      "Epoch 30/50\n",
      "5/5 [==============================] - 0s 33ms/step - loss: 0.0192 - val_loss: 0.0387\n",
      "Epoch 31/50\n",
      "5/5 [==============================] - 0s 34ms/step - loss: 0.0214 - val_loss: 0.0191\n",
      "Epoch 32/50\n",
      "5/5 [==============================] - 0s 33ms/step - loss: 0.0200 - val_loss: 0.0271\n",
      "Epoch 33/50\n",
      "5/5 [==============================] - 0s 33ms/step - loss: 0.0239 - val_loss: 0.0186\n",
      "Epoch 34/50\n",
      "5/5 [==============================] - 0s 35ms/step - loss: 0.0220 - val_loss: 0.0160\n",
      "Epoch 35/50\n",
      "5/5 [==============================] - 0s 33ms/step - loss: 0.0171 - val_loss: 0.0123\n",
      "Epoch 36/50\n",
      "5/5 [==============================] - 0s 34ms/step - loss: 0.0216 - val_loss: 0.0094\n",
      "Epoch 37/50\n",
      "5/5 [==============================] - 0s 33ms/step - loss: 0.0189 - val_loss: 0.0316\n",
      "Epoch 38/50\n",
      "5/5 [==============================] - 0s 34ms/step - loss: 0.0276 - val_loss: 0.0102\n",
      "Epoch 39/50\n",
      "5/5 [==============================] - 0s 33ms/step - loss: 0.0250 - val_loss: 0.0218\n",
      "Epoch 40/50\n",
      "5/5 [==============================] - 0s 34ms/step - loss: 0.0262 - val_loss: 0.0136\n",
      "Epoch 41/50\n",
      "5/5 [==============================] - 0s 33ms/step - loss: 0.0205 - val_loss: 0.0148\n",
      "Epoch 42/50\n",
      "5/5 [==============================] - 0s 33ms/step - loss: 0.0200 - val_loss: 0.0233\n",
      "Epoch 43/50\n",
      "5/5 [==============================] - 0s 34ms/step - loss: 0.0201 - val_loss: 0.0124\n",
      "Epoch 44/50\n",
      "5/5 [==============================] - 0s 33ms/step - loss: 0.0198 - val_loss: 0.0135\n",
      "Epoch 45/50\n",
      "5/5 [==============================] - 0s 34ms/step - loss: 0.0188 - val_loss: 0.0101\n",
      "Epoch 46/50\n",
      "5/5 [==============================] - 0s 33ms/step - loss: 0.0176 - val_loss: 0.0169\n",
      "Epoch 47/50\n",
      "5/5 [==============================] - 0s 37ms/step - loss: 0.0197 - val_loss: 0.0230\n",
      "Epoch 48/50\n",
      "5/5 [==============================] - 0s 33ms/step - loss: 0.0149 - val_loss: 0.0128\n",
      "Epoch 49/50\n",
      "5/5 [==============================] - 0s 34ms/step - loss: 0.0170 - val_loss: 0.0252\n",
      "Epoch 50/50\n",
      "5/5 [==============================] - 0s 34ms/step - loss: 0.0186 - val_loss: 0.0168\n"
     ]
    }
   ],
   "source": [
    "history = model.fit(\n",
    "    X_train, y_train, epochs=50, batch_size=32, validation_split=0.1, verbose=1\n",
    ")"
   ]
  },
  {
   "cell_type": "markdown",
   "metadata": {},
   "source": [
    "## Forecasting para os próximos 90 meses"
   ]
  },
  {
   "cell_type": "code",
   "execution_count": 24,
   "metadata": {},
   "outputs": [
    {
     "name": "stdout",
     "output_type": "stream",
     "text": [
      "3/3 [==============================] - 1s 12ms/step\n"
     ]
    }
   ],
   "source": [
    "forecast_size = 90\n",
    "forecast = model.predict(X_train[-forecast_size:])"
   ]
  },
  {
   "cell_type": "code",
   "execution_count": 25,
   "metadata": {},
   "outputs": [],
   "source": [
    "forecast_copies = np.repeat(forecast, select_df.shape[1], axis=-1)\n",
    "y_pred_future = scaler.inverse_transform(forecast_copies)[:, 0]"
   ]
  },
  {
   "cell_type": "code",
   "execution_count": 26,
   "metadata": {},
   "outputs": [],
   "source": [
    "df_forecast = pd.DataFrame(\n",
    "    {\"abcr_leves_pred\": y_pred_future}, index=case_df[-forecast_size:].index\n",
    ")"
   ]
  },
  {
   "cell_type": "code",
   "execution_count": 27,
   "metadata": {},
   "outputs": [
    {
     "data": {
      "application/vnd.plotly.v1+json": {
       "config": {
        "plotlyServerURL": "https://plot.ly"
       },
       "data": [
        {
         "mode": "lines+markers",
         "name": "Valor ABC-R Leves",
         "type": "scatter",
         "x": [
          "2010-01-01T00:00:00",
          "2010-02-01T00:00:00",
          "2010-03-01T00:00:00",
          "2010-04-01T00:00:00",
          "2010-05-01T00:00:00",
          "2010-06-01T00:00:00",
          "2010-07-01T00:00:00",
          "2010-08-01T00:00:00",
          "2010-09-01T00:00:00",
          "2010-10-01T00:00:00",
          "2010-11-01T00:00:00",
          "2010-12-01T00:00:00",
          "2011-01-01T00:00:00",
          "2011-02-01T00:00:00",
          "2011-03-01T00:00:00",
          "2011-04-01T00:00:00",
          "2011-05-01T00:00:00",
          "2011-06-01T00:00:00",
          "2011-07-01T00:00:00",
          "2011-08-01T00:00:00",
          "2011-09-01T00:00:00",
          "2011-10-01T00:00:00",
          "2011-11-01T00:00:00",
          "2011-12-01T00:00:00",
          "2012-01-01T00:00:00",
          "2012-02-01T00:00:00",
          "2012-03-01T00:00:00",
          "2012-04-01T00:00:00",
          "2012-05-01T00:00:00",
          "2012-06-01T00:00:00",
          "2012-07-01T00:00:00",
          "2012-08-01T00:00:00",
          "2012-09-01T00:00:00",
          "2012-10-01T00:00:00",
          "2012-11-01T00:00:00",
          "2012-12-01T00:00:00",
          "2013-01-01T00:00:00",
          "2013-02-01T00:00:00",
          "2013-03-01T00:00:00",
          "2013-04-01T00:00:00",
          "2013-05-01T00:00:00",
          "2013-06-01T00:00:00",
          "2013-07-01T00:00:00",
          "2013-08-01T00:00:00",
          "2013-09-01T00:00:00",
          "2013-10-01T00:00:00",
          "2013-11-01T00:00:00",
          "2013-12-01T00:00:00",
          "2014-01-01T00:00:00",
          "2014-02-01T00:00:00",
          "2014-03-01T00:00:00",
          "2014-04-01T00:00:00",
          "2014-05-01T00:00:00",
          "2014-06-01T00:00:00",
          "2014-07-01T00:00:00",
          "2014-08-01T00:00:00",
          "2014-09-01T00:00:00",
          "2014-10-01T00:00:00",
          "2014-11-01T00:00:00",
          "2014-12-01T00:00:00",
          "2015-01-01T00:00:00",
          "2015-02-01T00:00:00",
          "2015-03-01T00:00:00",
          "2015-04-01T00:00:00",
          "2015-05-01T00:00:00",
          "2015-06-01T00:00:00",
          "2015-07-01T00:00:00",
          "2015-08-01T00:00:00",
          "2015-09-01T00:00:00",
          "2015-10-01T00:00:00",
          "2015-11-01T00:00:00",
          "2015-12-01T00:00:00",
          "2016-01-01T00:00:00",
          "2016-02-01T00:00:00",
          "2016-03-01T00:00:00",
          "2016-04-01T00:00:00",
          "2016-05-01T00:00:00",
          "2016-06-01T00:00:00",
          "2016-07-01T00:00:00",
          "2016-08-01T00:00:00",
          "2016-09-01T00:00:00",
          "2016-10-01T00:00:00",
          "2016-11-01T00:00:00",
          "2016-12-01T00:00:00",
          "2017-01-01T00:00:00",
          "2017-02-01T00:00:00",
          "2017-03-01T00:00:00",
          "2017-04-01T00:00:00",
          "2017-05-01T00:00:00",
          "2017-06-01T00:00:00",
          "2017-07-01T00:00:00",
          "2017-08-01T00:00:00",
          "2017-09-01T00:00:00",
          "2017-10-01T00:00:00",
          "2017-11-01T00:00:00",
          "2017-12-01T00:00:00",
          "2018-01-01T00:00:00",
          "2018-02-01T00:00:00",
          "2018-03-01T00:00:00",
          "2018-04-01T00:00:00",
          "2018-05-01T00:00:00",
          "2018-06-01T00:00:00",
          "2018-07-01T00:00:00",
          "2018-08-01T00:00:00",
          "2018-09-01T00:00:00",
          "2018-10-01T00:00:00",
          "2018-11-01T00:00:00",
          "2018-12-01T00:00:00",
          "2019-01-01T00:00:00",
          "2019-02-01T00:00:00",
          "2019-03-01T00:00:00",
          "2019-04-01T00:00:00",
          "2019-05-01T00:00:00",
          "2019-06-01T00:00:00",
          "2019-07-01T00:00:00",
          "2019-08-01T00:00:00",
          "2019-09-01T00:00:00",
          "2019-10-01T00:00:00",
          "2019-11-01T00:00:00",
          "2019-12-01T00:00:00",
          "2020-01-01T00:00:00",
          "2020-02-01T00:00:00",
          "2020-03-01T00:00:00",
          "2020-04-01T00:00:00",
          "2020-05-01T00:00:00",
          "2020-06-01T00:00:00",
          "2020-07-01T00:00:00",
          "2020-08-01T00:00:00",
          "2020-09-01T00:00:00",
          "2020-10-01T00:00:00",
          "2020-11-01T00:00:00",
          "2020-12-01T00:00:00",
          "2021-01-01T00:00:00",
          "2021-02-01T00:00:00",
          "2021-03-01T00:00:00",
          "2021-04-01T00:00:00",
          "2021-05-01T00:00:00",
          "2021-06-01T00:00:00",
          "2021-07-01T00:00:00",
          "2021-08-01T00:00:00",
          "2021-09-01T00:00:00",
          "2021-10-01T00:00:00",
          "2021-11-01T00:00:00",
          "2021-12-01T00:00:00",
          "2022-01-01T00:00:00",
          "2022-02-01T00:00:00",
          "2022-03-01T00:00:00",
          "2022-04-01T00:00:00",
          "2022-05-01T00:00:00",
          "2022-06-01T00:00:00",
          "2022-07-01T00:00:00",
          "2022-08-01T00:00:00",
          "2022-09-01T00:00:00",
          "2022-10-01T00:00:00",
          "2022-11-01T00:00:00",
          "2022-12-01T00:00:00",
          "2023-01-01T00:00:00",
          "2023-02-01T00:00:00",
          "2023-03-01T00:00:00",
          "2023-04-01T00:00:00",
          "2023-05-01T00:00:00",
          "2023-06-01T00:00:00",
          "2023-07-01T00:00:00",
          "2023-08-01T00:00:00",
          "2023-09-01T00:00:00",
          "2023-10-01T00:00:00",
          "2023-11-01T00:00:00",
          "2023-12-01T00:00:00",
          "2024-01-01T00:00:00",
          "2024-02-01T00:00:00",
          "2024-03-01T00:00:00",
          "2024-04-01T00:00:00",
          "2024-05-01T00:00:00",
          "2024-06-01T00:00:00",
          "2024-07-01T00:00:00",
          "2024-08-01T00:00:00",
          "2024-09-01T00:00:00",
          "2024-10-01T00:00:00",
          "2024-11-01T00:00:00",
          "2024-12-01T00:00:00",
          "2025-01-01T00:00:00",
          "2025-02-01T00:00:00",
          "2025-03-01T00:00:00",
          "2025-04-01T00:00:00",
          "2025-05-01T00:00:00",
          "2025-06-01T00:00:00",
          "2025-07-01T00:00:00",
          "2025-08-01T00:00:00",
          "2025-09-01T00:00:00",
          "2025-10-01T00:00:00",
          "2025-11-01T00:00:00",
          "2025-12-01T00:00:00",
          "2026-01-01T00:00:00",
          "2026-02-01T00:00:00",
          "2026-03-01T00:00:00",
          "2026-04-01T00:00:00",
          "2026-05-01T00:00:00",
          "2026-06-01T00:00:00",
          "2026-07-01T00:00:00",
          "2026-08-01T00:00:00",
          "2026-09-01T00:00:00",
          "2026-10-01T00:00:00",
          "2026-11-01T00:00:00",
          "2026-12-01T00:00:00",
          "2027-01-01T00:00:00",
          "2027-02-01T00:00:00",
          "2027-03-01T00:00:00",
          "2027-04-01T00:00:00",
          "2027-05-01T00:00:00",
          "2027-06-01T00:00:00",
          "2027-07-01T00:00:00",
          "2027-08-01T00:00:00",
          "2027-09-01T00:00:00",
          "2027-10-01T00:00:00",
          "2027-11-01T00:00:00",
          "2027-12-01T00:00:00",
          "2028-01-01T00:00:00",
          "2028-02-01T00:00:00",
          "2028-03-01T00:00:00",
          "2028-04-01T00:00:00",
          "2028-05-01T00:00:00",
          "2028-06-01T00:00:00",
          "2028-07-01T00:00:00",
          "2028-08-01T00:00:00",
          "2028-09-01T00:00:00",
          "2028-10-01T00:00:00",
          "2028-11-01T00:00:00",
          "2028-12-01T00:00:00",
          "2029-01-01T00:00:00",
          "2029-02-01T00:00:00",
          "2029-03-01T00:00:00",
          "2029-04-01T00:00:00",
          "2029-05-01T00:00:00",
          "2029-06-01T00:00:00",
          "2029-07-01T00:00:00",
          "2029-08-01T00:00:00",
          "2029-09-01T00:00:00",
          "2029-10-01T00:00:00",
          "2029-11-01T00:00:00",
          "2029-12-01T00:00:00",
          "2030-01-01T00:00:00",
          "2030-02-01T00:00:00",
          "2030-03-01T00:00:00",
          "2030-04-01T00:00:00",
          "2030-05-01T00:00:00",
          "2030-06-01T00:00:00",
          "2030-07-01T00:00:00",
          "2030-08-01T00:00:00",
          "2030-09-01T00:00:00",
          "2030-10-01T00:00:00",
          "2030-11-01T00:00:00",
          "2030-12-01T00:00:00"
         ],
         "y": [
          137.557653913702,
          118.380820662905,
          120.370805522479,
          121.795780874176,
          123.126607783326,
          117.056804046096,
          131.889785473548,
          127.230426744633,
          127.6569598274,
          133.397472027683,
          132.638235939066,
          154.176013567629,
          151.620150753044,
          123.399748655057,
          135.197799834928,
          136.190325903729,
          129.090006462274,
          129.179313761342,
          140.054681579126,
          132.566715749839,
          131.780771229805,
          137.974502425038,
          137.075311968905,
          158.505685065946,
          156.740332256523,
          140.203427623846,
          138.217999014302,
          140.027544047238,
          135.110911268813,
          132.629394709744,
          147.181894345063,
          139.787434419181,
          143.275681243592,
          145.178044813038,
          147.14508295111,
          166.63893932329,
          163.17805761266,
          137.194340423726,
          148.837956928691,
          136.982321428228,
          144.328924282748,
          137.23440117589,
          153.640861023758,
          149.186555731827,
          147.006319149295,
          153.265797416115,
          157.373726437887,
          174.376660190726,
          174.955108592855,
          144.816429499571,
          155.453728224467,
          153.857578978786,
          149.676956137933,
          143.251524888359,
          150.548149456353,
          157.102422712018,
          150.243812488271,
          158.518922753428,
          157.981757334604,
          182.15801275575,
          177.838601614388,
          147.352697249278,
          149.640482428134,
          153.80609130044,
          149.660263515654,
          146.128318082041,
          158.023573930544,
          152.84397080291,
          151.03962910894,
          160.218388433087,
          148.579640077773,
          175.568397918954,
          170.639870298178,
          149.605415021657,
          151.651166744338,
          147.006515205319,
          145.943848331526,
          136.257768207253,
          157.823059438227,
          145.724524400878,
          144.481068816264,
          150.707030108907,
          147.353131723909,
          173.881835526681,
          172.218749849915,
          145.060767270482,
          151.602230753439,
          150.263557374172,
          146.746844682668,
          144.133976504473,
          161.972520260403,
          147.501015680864,
          153.157461865859,
          155.34120704197,
          150.167197677714,
          177.80605413934,
          175.049537887198,
          145.318356933206,
          155.520977820807,
          151.199980379659,
          131.212901357152,
          133.420265530666,
          156.860789308614,
          146.926361749108,
          151.039396041981,
          151.927641629138,
          152.798757112562,
          178.702502933613,
          179.223203994927,
          141.908075140355,
          157.001567391483,
          151.111258482448,
          148.240480233714,
          144.931421489337,
          160.268296550045,
          151.33314852938,
          155.913741569402,
          161.567915473003,
          157.866993053877,
          180.787049638571,
          178.633210776449,
          149.766266680335,
          116.872604151073,
          72.4875295830798,
          85.786744140528,
          101.701910433541,
          120.575846585234,
          128.007346118803,
          141.162075944713,
          153.559544103234,
          145.981849736137,
          164.862506737278,
          157.421123450819,
          133.708036562843,
          115.806020252492,
          114.817918551089,
          132.938667932008,
          129.956026891548,
          148.671858483084,
          142.41665920912,
          145.504515874637,
          150.527100125016,
          149.179921947621,
          173.664900456289,
          156.857844549888,
          138.82488507604,
          152.124806663834,
          149.67722529498,
          144.40219428869,
          137.340096103021,
          162.965495241073,
          151.004023996674,
          151.01092614215,
          157.201742273995,
          149.580974439191,
          177.10747048935,
          180.921030605459,
          148.810802768879,
          160.171350105615,
          158.040534394263,
          154.76360838846,
          151.069672537576,
          null,
          null,
          null,
          null,
          null,
          null,
          null,
          null,
          null,
          null,
          null,
          null,
          null,
          null,
          null,
          null,
          null,
          null,
          null,
          null,
          null,
          null,
          null,
          null,
          null,
          null,
          null,
          null,
          null,
          null,
          null,
          null,
          null,
          null,
          null,
          null,
          null,
          null,
          null,
          null,
          null,
          null,
          null,
          null,
          null,
          null,
          null,
          null,
          null,
          null,
          null,
          null,
          null,
          null,
          null,
          null,
          null,
          null,
          null,
          null,
          null,
          null,
          null,
          null,
          null,
          null,
          null,
          null,
          null,
          null,
          null,
          null,
          null,
          null,
          null,
          null,
          null,
          null,
          null,
          null,
          null,
          null,
          null,
          null,
          null,
          null,
          null,
          null,
          null,
          null
         ]
        },
        {
         "line": {
          "color": "rgba(247, 131, 7, 0.8)"
         },
         "mode": "lines+markers",
         "name": "Forecast",
         "type": "scatter",
         "x": [
          "2023-07-01T00:00:00",
          "2023-08-01T00:00:00",
          "2023-09-01T00:00:00",
          "2023-10-01T00:00:00",
          "2023-11-01T00:00:00",
          "2023-12-01T00:00:00",
          "2024-01-01T00:00:00",
          "2024-02-01T00:00:00",
          "2024-03-01T00:00:00",
          "2024-04-01T00:00:00",
          "2024-05-01T00:00:00",
          "2024-06-01T00:00:00",
          "2024-07-01T00:00:00",
          "2024-08-01T00:00:00",
          "2024-09-01T00:00:00",
          "2024-10-01T00:00:00",
          "2024-11-01T00:00:00",
          "2024-12-01T00:00:00",
          "2025-01-01T00:00:00",
          "2025-02-01T00:00:00",
          "2025-03-01T00:00:00",
          "2025-04-01T00:00:00",
          "2025-05-01T00:00:00",
          "2025-06-01T00:00:00",
          "2025-07-01T00:00:00",
          "2025-08-01T00:00:00",
          "2025-09-01T00:00:00",
          "2025-10-01T00:00:00",
          "2025-11-01T00:00:00",
          "2025-12-01T00:00:00",
          "2026-01-01T00:00:00",
          "2026-02-01T00:00:00",
          "2026-03-01T00:00:00",
          "2026-04-01T00:00:00",
          "2026-05-01T00:00:00",
          "2026-06-01T00:00:00",
          "2026-07-01T00:00:00",
          "2026-08-01T00:00:00",
          "2026-09-01T00:00:00",
          "2026-10-01T00:00:00",
          "2026-11-01T00:00:00",
          "2026-12-01T00:00:00",
          "2027-01-01T00:00:00",
          "2027-02-01T00:00:00",
          "2027-03-01T00:00:00",
          "2027-04-01T00:00:00",
          "2027-05-01T00:00:00",
          "2027-06-01T00:00:00",
          "2027-07-01T00:00:00",
          "2027-08-01T00:00:00",
          "2027-09-01T00:00:00",
          "2027-10-01T00:00:00",
          "2027-11-01T00:00:00",
          "2027-12-01T00:00:00",
          "2028-01-01T00:00:00",
          "2028-02-01T00:00:00",
          "2028-03-01T00:00:00",
          "2028-04-01T00:00:00",
          "2028-05-01T00:00:00",
          "2028-06-01T00:00:00",
          "2028-07-01T00:00:00",
          "2028-08-01T00:00:00",
          "2028-09-01T00:00:00",
          "2028-10-01T00:00:00",
          "2028-11-01T00:00:00",
          "2028-12-01T00:00:00",
          "2029-01-01T00:00:00",
          "2029-02-01T00:00:00",
          "2029-03-01T00:00:00",
          "2029-04-01T00:00:00",
          "2029-05-01T00:00:00",
          "2029-06-01T00:00:00",
          "2029-07-01T00:00:00",
          "2029-08-01T00:00:00",
          "2029-09-01T00:00:00",
          "2029-10-01T00:00:00",
          "2029-11-01T00:00:00",
          "2029-12-01T00:00:00",
          "2030-01-01T00:00:00",
          "2030-02-01T00:00:00",
          "2030-03-01T00:00:00",
          "2030-04-01T00:00:00",
          "2030-05-01T00:00:00",
          "2030-06-01T00:00:00",
          "2030-07-01T00:00:00",
          "2030-08-01T00:00:00",
          "2030-09-01T00:00:00",
          "2030-10-01T00:00:00",
          "2030-11-01T00:00:00",
          "2030-12-01T00:00:00"
         ],
         "y": [
          156.38906860351562,
          148.2324676513672,
          147.52316284179688,
          147.38966369628906,
          146.5221405029297,
          146.45205688476562,
          148.24624633789062,
          148.82667541503906,
          151.17738342285156,
          155.4254150390625,
          162.138671875,
          168.3488006591797,
          160.58731079101562,
          152.7637176513672,
          149.73397827148438,
          147.3191375732422,
          146.22364807128906,
          145.642333984375,
          148.2402801513672,
          147.90426635742188,
          150.1372833251953,
          155.70269775390625,
          159.17718505859375,
          167.09881591796875,
          157.9928741455078,
          147.29066467285156,
          144.3988800048828,
          142.4060821533203,
          139.39645385742188,
          139.96066284179688,
          142.07070922851562,
          140.73654174804688,
          144.16976928710938,
          149.50099182128906,
          158.42214965820312,
          164.8892822265625,
          154.07839965820312,
          142.90960693359375,
          141.67323303222656,
          139.1855926513672,
          135.8314971923828,
          137.5259246826172,
          140.5023956298828,
          140.57325744628906,
          143.80015563964844,
          150.69876098632812,
          160.99417114257812,
          166.74925231933594,
          154.952880859375,
          143.47840881347656,
          143.2285614013672,
          140.0760040283203,
          136.745849609375,
          135.5200958251953,
          135.12098693847656,
          133.42373657226562,
          137.25405883789062,
          145.93612670898438,
          155.59115600585938,
          161.08885192871094,
          147.06346130371094,
          133.8008575439453,
          126.1312255859375,
          124.63126373291016,
          125.89884948730469,
          129.722900390625,
          132.9628448486328,
          136.41539001464844,
          140.39248657226562,
          146.9282989501953,
          154.4150390625,
          158.65025329589844,
          151.00079345703125,
          144.95982360839844,
          143.0674591064453,
          145.26344299316406,
          150.19485473632812,
          152.55917358398438,
          158.81349182128906,
          161.746337890625,
          166.45726013183594,
          171.40809631347656,
          176.22021484375,
          178.47169494628906,
          178.16026306152344,
          173.94589233398438,
          173.16432189941406,
          171.86947631835938,
          168.203857421875,
          168.11546325683594
         ]
        }
       ],
       "layout": {
        "template": {
         "data": {
          "bar": [
           {
            "error_x": {
             "color": "#2a3f5f"
            },
            "error_y": {
             "color": "#2a3f5f"
            },
            "marker": {
             "line": {
              "color": "#E5ECF6",
              "width": 0.5
             },
             "pattern": {
              "fillmode": "overlay",
              "size": 10,
              "solidity": 0.2
             }
            },
            "type": "bar"
           }
          ],
          "barpolar": [
           {
            "marker": {
             "line": {
              "color": "#E5ECF6",
              "width": 0.5
             },
             "pattern": {
              "fillmode": "overlay",
              "size": 10,
              "solidity": 0.2
             }
            },
            "type": "barpolar"
           }
          ],
          "carpet": [
           {
            "aaxis": {
             "endlinecolor": "#2a3f5f",
             "gridcolor": "white",
             "linecolor": "white",
             "minorgridcolor": "white",
             "startlinecolor": "#2a3f5f"
            },
            "baxis": {
             "endlinecolor": "#2a3f5f",
             "gridcolor": "white",
             "linecolor": "white",
             "minorgridcolor": "white",
             "startlinecolor": "#2a3f5f"
            },
            "type": "carpet"
           }
          ],
          "choropleth": [
           {
            "colorbar": {
             "outlinewidth": 0,
             "ticks": ""
            },
            "type": "choropleth"
           }
          ],
          "contour": [
           {
            "colorbar": {
             "outlinewidth": 0,
             "ticks": ""
            },
            "colorscale": [
             [
              0,
              "#0d0887"
             ],
             [
              0.1111111111111111,
              "#46039f"
             ],
             [
              0.2222222222222222,
              "#7201a8"
             ],
             [
              0.3333333333333333,
              "#9c179e"
             ],
             [
              0.4444444444444444,
              "#bd3786"
             ],
             [
              0.5555555555555556,
              "#d8576b"
             ],
             [
              0.6666666666666666,
              "#ed7953"
             ],
             [
              0.7777777777777778,
              "#fb9f3a"
             ],
             [
              0.8888888888888888,
              "#fdca26"
             ],
             [
              1,
              "#f0f921"
             ]
            ],
            "type": "contour"
           }
          ],
          "contourcarpet": [
           {
            "colorbar": {
             "outlinewidth": 0,
             "ticks": ""
            },
            "type": "contourcarpet"
           }
          ],
          "heatmap": [
           {
            "colorbar": {
             "outlinewidth": 0,
             "ticks": ""
            },
            "colorscale": [
             [
              0,
              "#0d0887"
             ],
             [
              0.1111111111111111,
              "#46039f"
             ],
             [
              0.2222222222222222,
              "#7201a8"
             ],
             [
              0.3333333333333333,
              "#9c179e"
             ],
             [
              0.4444444444444444,
              "#bd3786"
             ],
             [
              0.5555555555555556,
              "#d8576b"
             ],
             [
              0.6666666666666666,
              "#ed7953"
             ],
             [
              0.7777777777777778,
              "#fb9f3a"
             ],
             [
              0.8888888888888888,
              "#fdca26"
             ],
             [
              1,
              "#f0f921"
             ]
            ],
            "type": "heatmap"
           }
          ],
          "heatmapgl": [
           {
            "colorbar": {
             "outlinewidth": 0,
             "ticks": ""
            },
            "colorscale": [
             [
              0,
              "#0d0887"
             ],
             [
              0.1111111111111111,
              "#46039f"
             ],
             [
              0.2222222222222222,
              "#7201a8"
             ],
             [
              0.3333333333333333,
              "#9c179e"
             ],
             [
              0.4444444444444444,
              "#bd3786"
             ],
             [
              0.5555555555555556,
              "#d8576b"
             ],
             [
              0.6666666666666666,
              "#ed7953"
             ],
             [
              0.7777777777777778,
              "#fb9f3a"
             ],
             [
              0.8888888888888888,
              "#fdca26"
             ],
             [
              1,
              "#f0f921"
             ]
            ],
            "type": "heatmapgl"
           }
          ],
          "histogram": [
           {
            "marker": {
             "pattern": {
              "fillmode": "overlay",
              "size": 10,
              "solidity": 0.2
             }
            },
            "type": "histogram"
           }
          ],
          "histogram2d": [
           {
            "colorbar": {
             "outlinewidth": 0,
             "ticks": ""
            },
            "colorscale": [
             [
              0,
              "#0d0887"
             ],
             [
              0.1111111111111111,
              "#46039f"
             ],
             [
              0.2222222222222222,
              "#7201a8"
             ],
             [
              0.3333333333333333,
              "#9c179e"
             ],
             [
              0.4444444444444444,
              "#bd3786"
             ],
             [
              0.5555555555555556,
              "#d8576b"
             ],
             [
              0.6666666666666666,
              "#ed7953"
             ],
             [
              0.7777777777777778,
              "#fb9f3a"
             ],
             [
              0.8888888888888888,
              "#fdca26"
             ],
             [
              1,
              "#f0f921"
             ]
            ],
            "type": "histogram2d"
           }
          ],
          "histogram2dcontour": [
           {
            "colorbar": {
             "outlinewidth": 0,
             "ticks": ""
            },
            "colorscale": [
             [
              0,
              "#0d0887"
             ],
             [
              0.1111111111111111,
              "#46039f"
             ],
             [
              0.2222222222222222,
              "#7201a8"
             ],
             [
              0.3333333333333333,
              "#9c179e"
             ],
             [
              0.4444444444444444,
              "#bd3786"
             ],
             [
              0.5555555555555556,
              "#d8576b"
             ],
             [
              0.6666666666666666,
              "#ed7953"
             ],
             [
              0.7777777777777778,
              "#fb9f3a"
             ],
             [
              0.8888888888888888,
              "#fdca26"
             ],
             [
              1,
              "#f0f921"
             ]
            ],
            "type": "histogram2dcontour"
           }
          ],
          "mesh3d": [
           {
            "colorbar": {
             "outlinewidth": 0,
             "ticks": ""
            },
            "type": "mesh3d"
           }
          ],
          "parcoords": [
           {
            "line": {
             "colorbar": {
              "outlinewidth": 0,
              "ticks": ""
             }
            },
            "type": "parcoords"
           }
          ],
          "pie": [
           {
            "automargin": true,
            "type": "pie"
           }
          ],
          "scatter": [
           {
            "fillpattern": {
             "fillmode": "overlay",
             "size": 10,
             "solidity": 0.2
            },
            "type": "scatter"
           }
          ],
          "scatter3d": [
           {
            "line": {
             "colorbar": {
              "outlinewidth": 0,
              "ticks": ""
             }
            },
            "marker": {
             "colorbar": {
              "outlinewidth": 0,
              "ticks": ""
             }
            },
            "type": "scatter3d"
           }
          ],
          "scattercarpet": [
           {
            "marker": {
             "colorbar": {
              "outlinewidth": 0,
              "ticks": ""
             }
            },
            "type": "scattercarpet"
           }
          ],
          "scattergeo": [
           {
            "marker": {
             "colorbar": {
              "outlinewidth": 0,
              "ticks": ""
             }
            },
            "type": "scattergeo"
           }
          ],
          "scattergl": [
           {
            "marker": {
             "colorbar": {
              "outlinewidth": 0,
              "ticks": ""
             }
            },
            "type": "scattergl"
           }
          ],
          "scattermapbox": [
           {
            "marker": {
             "colorbar": {
              "outlinewidth": 0,
              "ticks": ""
             }
            },
            "type": "scattermapbox"
           }
          ],
          "scatterpolar": [
           {
            "marker": {
             "colorbar": {
              "outlinewidth": 0,
              "ticks": ""
             }
            },
            "type": "scatterpolar"
           }
          ],
          "scatterpolargl": [
           {
            "marker": {
             "colorbar": {
              "outlinewidth": 0,
              "ticks": ""
             }
            },
            "type": "scatterpolargl"
           }
          ],
          "scatterternary": [
           {
            "marker": {
             "colorbar": {
              "outlinewidth": 0,
              "ticks": ""
             }
            },
            "type": "scatterternary"
           }
          ],
          "surface": [
           {
            "colorbar": {
             "outlinewidth": 0,
             "ticks": ""
            },
            "colorscale": [
             [
              0,
              "#0d0887"
             ],
             [
              0.1111111111111111,
              "#46039f"
             ],
             [
              0.2222222222222222,
              "#7201a8"
             ],
             [
              0.3333333333333333,
              "#9c179e"
             ],
             [
              0.4444444444444444,
              "#bd3786"
             ],
             [
              0.5555555555555556,
              "#d8576b"
             ],
             [
              0.6666666666666666,
              "#ed7953"
             ],
             [
              0.7777777777777778,
              "#fb9f3a"
             ],
             [
              0.8888888888888888,
              "#fdca26"
             ],
             [
              1,
              "#f0f921"
             ]
            ],
            "type": "surface"
           }
          ],
          "table": [
           {
            "cells": {
             "fill": {
              "color": "#EBF0F8"
             },
             "line": {
              "color": "white"
             }
            },
            "header": {
             "fill": {
              "color": "#C8D4E3"
             },
             "line": {
              "color": "white"
             }
            },
            "type": "table"
           }
          ]
         },
         "layout": {
          "annotationdefaults": {
           "arrowcolor": "#2a3f5f",
           "arrowhead": 0,
           "arrowwidth": 1
          },
          "autotypenumbers": "strict",
          "coloraxis": {
           "colorbar": {
            "outlinewidth": 0,
            "ticks": ""
           }
          },
          "colorscale": {
           "diverging": [
            [
             0,
             "#8e0152"
            ],
            [
             0.1,
             "#c51b7d"
            ],
            [
             0.2,
             "#de77ae"
            ],
            [
             0.3,
             "#f1b6da"
            ],
            [
             0.4,
             "#fde0ef"
            ],
            [
             0.5,
             "#f7f7f7"
            ],
            [
             0.6,
             "#e6f5d0"
            ],
            [
             0.7,
             "#b8e186"
            ],
            [
             0.8,
             "#7fbc41"
            ],
            [
             0.9,
             "#4d9221"
            ],
            [
             1,
             "#276419"
            ]
           ],
           "sequential": [
            [
             0,
             "#0d0887"
            ],
            [
             0.1111111111111111,
             "#46039f"
            ],
            [
             0.2222222222222222,
             "#7201a8"
            ],
            [
             0.3333333333333333,
             "#9c179e"
            ],
            [
             0.4444444444444444,
             "#bd3786"
            ],
            [
             0.5555555555555556,
             "#d8576b"
            ],
            [
             0.6666666666666666,
             "#ed7953"
            ],
            [
             0.7777777777777778,
             "#fb9f3a"
            ],
            [
             0.8888888888888888,
             "#fdca26"
            ],
            [
             1,
             "#f0f921"
            ]
           ],
           "sequentialminus": [
            [
             0,
             "#0d0887"
            ],
            [
             0.1111111111111111,
             "#46039f"
            ],
            [
             0.2222222222222222,
             "#7201a8"
            ],
            [
             0.3333333333333333,
             "#9c179e"
            ],
            [
             0.4444444444444444,
             "#bd3786"
            ],
            [
             0.5555555555555556,
             "#d8576b"
            ],
            [
             0.6666666666666666,
             "#ed7953"
            ],
            [
             0.7777777777777778,
             "#fb9f3a"
            ],
            [
             0.8888888888888888,
             "#fdca26"
            ],
            [
             1,
             "#f0f921"
            ]
           ]
          },
          "colorway": [
           "#636efa",
           "#EF553B",
           "#00cc96",
           "#ab63fa",
           "#FFA15A",
           "#19d3f3",
           "#FF6692",
           "#B6E880",
           "#FF97FF",
           "#FECB52"
          ],
          "font": {
           "color": "#2a3f5f"
          },
          "geo": {
           "bgcolor": "white",
           "lakecolor": "white",
           "landcolor": "#E5ECF6",
           "showlakes": true,
           "showland": true,
           "subunitcolor": "white"
          },
          "hoverlabel": {
           "align": "left"
          },
          "hovermode": "closest",
          "mapbox": {
           "style": "light"
          },
          "paper_bgcolor": "white",
          "plot_bgcolor": "#E5ECF6",
          "polar": {
           "angularaxis": {
            "gridcolor": "white",
            "linecolor": "white",
            "ticks": ""
           },
           "bgcolor": "#E5ECF6",
           "radialaxis": {
            "gridcolor": "white",
            "linecolor": "white",
            "ticks": ""
           }
          },
          "scene": {
           "xaxis": {
            "backgroundcolor": "#E5ECF6",
            "gridcolor": "white",
            "gridwidth": 2,
            "linecolor": "white",
            "showbackground": true,
            "ticks": "",
            "zerolinecolor": "white"
           },
           "yaxis": {
            "backgroundcolor": "#E5ECF6",
            "gridcolor": "white",
            "gridwidth": 2,
            "linecolor": "white",
            "showbackground": true,
            "ticks": "",
            "zerolinecolor": "white"
           },
           "zaxis": {
            "backgroundcolor": "#E5ECF6",
            "gridcolor": "white",
            "gridwidth": 2,
            "linecolor": "white",
            "showbackground": true,
            "ticks": "",
            "zerolinecolor": "white"
           }
          },
          "shapedefaults": {
           "line": {
            "color": "#2a3f5f"
           }
          },
          "ternary": {
           "aaxis": {
            "gridcolor": "white",
            "linecolor": "white",
            "ticks": ""
           },
           "baxis": {
            "gridcolor": "white",
            "linecolor": "white",
            "ticks": ""
           },
           "bgcolor": "#E5ECF6",
           "caxis": {
            "gridcolor": "white",
            "linecolor": "white",
            "ticks": ""
           }
          },
          "title": {
           "x": 0.05
          },
          "xaxis": {
           "automargin": true,
           "gridcolor": "white",
           "linecolor": "white",
           "ticks": "",
           "title": {
            "standoff": 15
           },
           "zerolinecolor": "white",
           "zerolinewidth": 2
          },
          "yaxis": {
           "automargin": true,
           "gridcolor": "white",
           "linecolor": "white",
           "ticks": "",
           "title": {
            "standoff": 15
           },
           "zerolinecolor": "white",
           "zerolinewidth": 2
          }
         }
        },
        "title": {
         "text": "ABC-R Leves 2010 a 2030 - Previsão LSTM"
        },
        "xaxis": {
         "title": {
          "text": "Ano"
         }
        },
        "yaxis": {
         "title": {
          "text": "Valor ABC-R Leves"
         }
        }
       }
      }
     },
     "metadata": {},
     "output_type": "display_data"
    }
   ],
   "source": [
    "# plot\n",
    "fig = go.Figure()\n",
    "fig.add_trace(\n",
    "    go.Scatter(\n",
    "        x=case_df.index,\n",
    "        y=case_df[\"abcr_leves\"],\n",
    "        name=\"Valor ABC-R Leves\",\n",
    "        mode=\"lines+markers\",\n",
    "    )\n",
    ")\n",
    "fig.add_trace(\n",
    "    go.Scatter(\n",
    "        x=df_forecast.index,\n",
    "        y=df_forecast[\"abcr_leves_pred\"],\n",
    "        line_color=\"rgba(247, 131, 7, 0.8)\",\n",
    "        name=\"Forecast\",\n",
    "        mode=\"lines+markers\",\n",
    "    )\n",
    ")\n",
    "fig.update_layout(\n",
    "    title=\"ABC-R Leves 2010 a 2030 - Previsão LSTM\",\n",
    "    xaxis_title=\"Ano\",\n",
    "    yaxis_title=\"Valor ABC-R Leves\",\n",
    ")\n",
    "fig.show()"
   ]
  },
  {
   "cell_type": "markdown",
   "metadata": {},
   "source": [
    "## Conclusão"
   ]
  },
  {
   "cell_type": "markdown",
   "metadata": {},
   "source": [
    "#### Resultados\n",
    "\n",
    "* O modelo LSTM não obteve uma boa performance para prever o índice ABCR de veículos leves para os próximos 90 meses.\n",
    "* Foram realizados alguns testes com modificações nos parâmetros do modelo, mas não houve melhora significativa.\n",
    "* Possivelmente, o modelo **não obteve uma boa performance** devido à forte influência da Pandemia de COVID-19 nos dados de 2020 e 2021. Isso é agravado em **séries temporais**, pois geralmente utilizamos os **últimos dados** para teste e validação do modelo. Além disso, o forecasting utiliza a **janela de dados mais recente para prever os próximos valores**, isso leva a um efeito de \"acumulação de erros\" ao longo do tempo."
   ]
  },
  {
   "cell_type": "markdown",
   "metadata": {},
   "source": [
    "#### Possíveis melhorias\n",
    "\n",
    "* Realizar um processo de *Feature Engineering* mais elaborado, com a criação de novas variáveis e a seleção de variáveis mais relevantes para o modelo\n",
    "* Testes com outros modelos e/ou algoritmos de *Machine Learning* \n",
    "* Utilizar técnicas para tratar anomalias nos dados"
   ]
  },
  {
   "cell_type": "markdown",
   "metadata": {},
   "source": [
    "# Forecasting com ARIMA"
   ]
  },
  {
   "cell_type": "markdown",
   "metadata": {},
   "source": [
    "## Verifição de estacionariedade"
   ]
  },
  {
   "cell_type": "markdown",
   "metadata": {},
   "source": [
    "### Kwiatkowski–Phillips–Schmidt–Shin (KPSS) test\n",
    "\n",
    "* `hipótese nula`: a série **não** é estacionária\n",
    "* `hipótese alternativa`: a série é estacionária, possui raiz unitária"
   ]
  },
  {
   "cell_type": "code",
   "execution_count": 28,
   "metadata": {},
   "outputs": [
    {
     "name": "stdout",
     "output_type": "stream",
     "text": [
      "Test Statistic: 0.18600246356389127\n",
      "p-value: 0.02124907616354077\n",
      "Critical Values: {'10%': 0.119, '5%': 0.146, '2.5%': 0.176, '1%': 0.216}\n",
      "Série NÃO é estacionária\n"
     ]
    }
   ],
   "source": [
    "# \"ct\" param means constant and trend\n",
    "stats, p, lags, critical_values = kpss(df_past[\"abcr_leves\"], regression=\"ct\", nlags=12)\n",
    "\n",
    "print(f\"Test Statistic: {stats}\")\n",
    "print(f\"p-value: {p}\")\n",
    "print(f\"Critical Values: {critical_values}\")\n",
    "\n",
    "# test\n",
    "if p < 0.05:\n",
    "    print(\"Série NÃO é estacionária\")\n",
    "else:\n",
    "    print(\"Série é estacionária\")"
   ]
  },
  {
   "cell_type": "markdown",
   "metadata": {},
   "source": [
    "### Augmented Dickey–Fuller (ADF) test\n",
    "\n",
    "* `hipótese nula`: a série possui raiz unitária, **não** é estacionária\n",
    "* `hipótese alternativa`: a série é estacionária"
   ]
  },
  {
   "cell_type": "code",
   "execution_count": 29,
   "metadata": {},
   "outputs": [
    {
     "name": "stdout",
     "output_type": "stream",
     "text": [
      "Test Statistic: -2.3871735889855707\n",
      "p-value: 0.1453893418002185\n",
      "Critical Values: {'1%': -3.4753253063120644, '5%': -2.881274703275226, '10%': -2.5772928360116873}\n",
      "Série NÃO é estacionária\n"
     ]
    }
   ],
   "source": [
    "result = adfuller(df_past[\"abcr_leves\"])\n",
    "\n",
    "print(f\"Test Statistic: {result[0]}\")\n",
    "print(f\"p-value: {result[1]}\")\n",
    "print(f\"Critical Values: {result[4]}\")\n",
    "\n",
    "# test\n",
    "if result[1] > 0.05:\n",
    "    print(\"Série NÃO é estacionária\")\n",
    "else:\n",
    "    print(\"Série é estacionária\")"
   ]
  },
  {
   "cell_type": "markdown",
   "metadata": {},
   "source": [
    "## Criação do Modelo"
   ]
  },
  {
   "cell_type": "markdown",
   "metadata": {},
   "source": [
    "### Testar melhores parâmetros para o modelo ARIMA"
   ]
  },
  {
   "cell_type": "code",
   "execution_count": 30,
   "metadata": {},
   "outputs": [
    {
     "name": "stdout",
     "output_type": "stream",
     "text": [
      "Performing stepwise search to minimize aic\n",
      " ARIMA(0,0,0)(1,0,1)[12] intercept   : AIC=1310.564, Time=1.01 sec\n",
      " ARIMA(0,0,0)(0,0,0)[12] intercept   : AIC=1375.359, Time=0.03 sec\n",
      " ARIMA(1,0,0)(1,0,0)[12] intercept   : AIC=1174.819, Time=0.57 sec\n",
      " ARIMA(0,0,1)(0,0,1)[12] intercept   : AIC=1244.914, Time=0.25 sec\n",
      " ARIMA(0,0,0)(0,0,0)[12]             : AIC=2081.926, Time=0.03 sec\n",
      " ARIMA(1,0,0)(0,0,0)[12] intercept   : AIC=1284.759, Time=0.07 sec\n",
      " ARIMA(1,0,0)(2,0,0)[12] intercept   : AIC=1171.640, Time=1.49 sec\n",
      " ARIMA(1,0,0)(2,0,1)[12] intercept   : AIC=inf, Time=2.04 sec\n",
      " ARIMA(1,0,0)(1,0,1)[12] intercept   : AIC=1158.625, Time=0.78 sec\n",
      " ARIMA(1,0,0)(0,0,1)[12] intercept   : AIC=1220.742, Time=0.40 sec\n",
      " ARIMA(1,0,0)(1,0,2)[12] intercept   : AIC=1207.550, Time=2.46 sec\n",
      " ARIMA(1,0,0)(0,0,2)[12] intercept   : AIC=1200.189, Time=1.10 sec\n",
      " ARIMA(1,0,0)(2,0,2)[12] intercept   : AIC=inf, Time=3.16 sec\n",
      " ARIMA(2,0,0)(1,0,1)[12] intercept   : AIC=1164.061, Time=0.96 sec\n",
      " ARIMA(1,0,1)(1,0,1)[12] intercept   : AIC=1155.428, Time=1.21 sec\n",
      " ARIMA(1,0,1)(0,0,1)[12] intercept   : AIC=1220.624, Time=0.55 sec\n",
      " ARIMA(1,0,1)(1,0,0)[12] intercept   : AIC=1174.419, Time=0.85 sec\n",
      " ARIMA(1,0,1)(2,0,1)[12] intercept   : AIC=inf, Time=3.14 sec\n",
      " ARIMA(1,0,1)(1,0,2)[12] intercept   : AIC=inf, Time=2.63 sec\n",
      " ARIMA(1,0,1)(0,0,0)[12] intercept   : AIC=1286.304, Time=0.09 sec\n",
      " ARIMA(1,0,1)(0,0,2)[12] intercept   : AIC=1200.344, Time=1.16 sec\n",
      " ARIMA(1,0,1)(2,0,0)[12] intercept   : AIC=1172.132, Time=2.68 sec\n",
      " ARIMA(1,0,1)(2,0,2)[12] intercept   : AIC=inf, Time=3.21 sec\n",
      " ARIMA(0,0,1)(1,0,1)[12] intercept   : AIC=1214.237, Time=1.02 sec\n",
      " ARIMA(2,0,1)(1,0,1)[12] intercept   : AIC=1193.075, Time=2.06 sec\n",
      " ARIMA(1,0,2)(1,0,1)[12] intercept   : AIC=1176.983, Time=1.67 sec\n",
      " ARIMA(0,0,2)(1,0,1)[12] intercept   : AIC=1188.734, Time=1.21 sec\n",
      " ARIMA(2,0,2)(1,0,1)[12] intercept   : AIC=inf, Time=1.92 sec\n",
      " ARIMA(1,0,1)(1,0,1)[12]             : AIC=inf, Time=1.30 sec\n",
      "\n",
      "Best model:  ARIMA(1,0,1)(1,0,1)[12] intercept\n",
      "Total fit time: 39.090 seconds\n"
     ]
    },
    {
     "data": {
      "text/html": [
       "<style>#sk-container-id-1 {color: black;}#sk-container-id-1 pre{padding: 0;}#sk-container-id-1 div.sk-toggleable {background-color: white;}#sk-container-id-1 label.sk-toggleable__label {cursor: pointer;display: block;width: 100%;margin-bottom: 0;padding: 0.3em;box-sizing: border-box;text-align: center;}#sk-container-id-1 label.sk-toggleable__label-arrow:before {content: \"▸\";float: left;margin-right: 0.25em;color: #696969;}#sk-container-id-1 label.sk-toggleable__label-arrow:hover:before {color: black;}#sk-container-id-1 div.sk-estimator:hover label.sk-toggleable__label-arrow:before {color: black;}#sk-container-id-1 div.sk-toggleable__content {max-height: 0;max-width: 0;overflow: hidden;text-align: left;background-color: #f0f8ff;}#sk-container-id-1 div.sk-toggleable__content pre {margin: 0.2em;color: black;border-radius: 0.25em;background-color: #f0f8ff;}#sk-container-id-1 input.sk-toggleable__control:checked~div.sk-toggleable__content {max-height: 200px;max-width: 100%;overflow: auto;}#sk-container-id-1 input.sk-toggleable__control:checked~label.sk-toggleable__label-arrow:before {content: \"▾\";}#sk-container-id-1 div.sk-estimator input.sk-toggleable__control:checked~label.sk-toggleable__label {background-color: #d4ebff;}#sk-container-id-1 div.sk-label input.sk-toggleable__control:checked~label.sk-toggleable__label {background-color: #d4ebff;}#sk-container-id-1 input.sk-hidden--visually {border: 0;clip: rect(1px 1px 1px 1px);clip: rect(1px, 1px, 1px, 1px);height: 1px;margin: -1px;overflow: hidden;padding: 0;position: absolute;width: 1px;}#sk-container-id-1 div.sk-estimator {font-family: monospace;background-color: #f0f8ff;border: 1px dotted black;border-radius: 0.25em;box-sizing: border-box;margin-bottom: 0.5em;}#sk-container-id-1 div.sk-estimator:hover {background-color: #d4ebff;}#sk-container-id-1 div.sk-parallel-item::after {content: \"\";width: 100%;border-bottom: 1px solid gray;flex-grow: 1;}#sk-container-id-1 div.sk-label:hover label.sk-toggleable__label {background-color: #d4ebff;}#sk-container-id-1 div.sk-serial::before {content: \"\";position: absolute;border-left: 1px solid gray;box-sizing: border-box;top: 0;bottom: 0;left: 50%;z-index: 0;}#sk-container-id-1 div.sk-serial {display: flex;flex-direction: column;align-items: center;background-color: white;padding-right: 0.2em;padding-left: 0.2em;position: relative;}#sk-container-id-1 div.sk-item {position: relative;z-index: 1;}#sk-container-id-1 div.sk-parallel {display: flex;align-items: stretch;justify-content: center;background-color: white;position: relative;}#sk-container-id-1 div.sk-item::before, #sk-container-id-1 div.sk-parallel-item::before {content: \"\";position: absolute;border-left: 1px solid gray;box-sizing: border-box;top: 0;bottom: 0;left: 50%;z-index: -1;}#sk-container-id-1 div.sk-parallel-item {display: flex;flex-direction: column;z-index: 1;position: relative;background-color: white;}#sk-container-id-1 div.sk-parallel-item:first-child::after {align-self: flex-end;width: 50%;}#sk-container-id-1 div.sk-parallel-item:last-child::after {align-self: flex-start;width: 50%;}#sk-container-id-1 div.sk-parallel-item:only-child::after {width: 0;}#sk-container-id-1 div.sk-dashed-wrapped {border: 1px dashed gray;margin: 0 0.4em 0.5em 0.4em;box-sizing: border-box;padding-bottom: 0.4em;background-color: white;}#sk-container-id-1 div.sk-label label {font-family: monospace;font-weight: bold;display: inline-block;line-height: 1.2em;}#sk-container-id-1 div.sk-label-container {text-align: center;}#sk-container-id-1 div.sk-container {/* jupyter's `normalize.less` sets `[hidden] { display: none; }` but bootstrap.min.css set `[hidden] { display: none !important; }` so we also need the `!important` here to be able to override the default hidden behavior on the sphinx rendered scikit-learn.org. See: https://github.com/scikit-learn/scikit-learn/issues/21755 */display: inline-block !important;position: relative;}#sk-container-id-1 div.sk-text-repr-fallback {display: none;}</style><div id=\"sk-container-id-1\" class=\"sk-top-container\"><div class=\"sk-text-repr-fallback\"><pre> ARIMA(1,0,1)(1,0,1)[12] intercept</pre><b>In a Jupyter environment, please rerun this cell to show the HTML representation or trust the notebook. <br />On GitHub, the HTML representation is unable to render, please try loading this page with nbviewer.org.</b></div><div class=\"sk-container\" hidden><div class=\"sk-item\"><div class=\"sk-estimator sk-toggleable\"><input class=\"sk-toggleable__control sk-hidden--visually\" id=\"sk-estimator-id-1\" type=\"checkbox\" checked><label for=\"sk-estimator-id-1\" class=\"sk-toggleable__label sk-toggleable__label-arrow\">ARIMA</label><div class=\"sk-toggleable__content\"><pre> ARIMA(1,0,1)(1,0,1)[12] intercept</pre></div></div></div></div></div>"
      ],
      "text/plain": [
       "ARIMA(order=(1, 0, 1), scoring_args={}, seasonal_order=(1, 0, 1, 12),\n",
       "      suppress_warnings=True)"
      ]
     },
     "execution_count": 30,
     "metadata": {},
     "output_type": "execute_result"
    }
   ],
   "source": [
    "pm.auto_arima(\n",
    "    df_past[\"abcr_leves\"],\n",
    "    m=12,\n",
    "    seasonal=True,\n",
    "    start_p=0,\n",
    "    start_q=0,\n",
    "    max_order=4,\n",
    "    test=\"adf\",\n",
    "    error_action=\"ignore\",\n",
    "    suppress_warnings=True,\n",
    "    stepwise=True,\n",
    "    trace=True,\n",
    ")"
   ]
  },
  {
   "cell_type": "markdown",
   "metadata": {},
   "source": [
    "### Treinar o modelo com os melhores parâmetros"
   ]
  },
  {
   "cell_type": "code",
   "execution_count": 31,
   "metadata": {},
   "outputs": [
    {
     "name": "stdout",
     "output_type": "stream",
     "text": [
      "RUNNING THE L-BFGS-B CODE\n",
      "\n",
      "           * * *\n",
      "\n",
      "Machine precision = 2.220D-16\n",
      " N =            5     M =           10\n",
      "\n",
      "At X0         0 variables are exactly at the bounds\n",
      "\n",
      "At iterate    0    f=  4.28314D+00    |proj g|=  1.34218D+00\n",
      "\n",
      "At iterate    5    f=  3.79013D+00    |proj g|=  3.89585D-02\n"
     ]
    },
    {
     "name": "stderr",
     "output_type": "stream",
     "text": [
      " This problem is unconstrained.\n"
     ]
    },
    {
     "name": "stdout",
     "output_type": "stream",
     "text": [
      "\n",
      "At iterate   10    f=  3.59335D+00    |proj g|=  1.68678D-02\n",
      "\n",
      "At iterate   15    f=  3.58379D+00    |proj g|=  1.71817D-02\n",
      "\n",
      "At iterate   20    f=  3.57396D+00    |proj g|=  1.30293D-02\n",
      "\n",
      "At iterate   25    f=  3.56919D+00    |proj g|=  7.46624D-03\n",
      "\n",
      "At iterate   30    f=  3.56263D+00    |proj g|=  1.25827D-02\n",
      "\n",
      "At iterate   35    f=  3.55069D+00    |proj g|=  1.39978D-03\n",
      "\n",
      "At iterate   40    f=  3.55066D+00    |proj g|=  5.30882D-04\n",
      "\n",
      "           * * *\n",
      "\n",
      "Tit   = total number of iterations\n",
      "Tnf   = total number of function evaluations\n",
      "Tnint = total number of segments explored during Cauchy searches\n",
      "Skip  = number of BFGS updates skipped\n",
      "Nact  = number of active bounds at final generalized Cauchy point\n",
      "Projg = norm of the final projected gradient\n",
      "F     = final function value\n",
      "\n",
      "           * * *\n",
      "\n",
      "   N    Tit     Tnf  Tnint  Skip  Nact     Projg        F\n",
      "    5     41     71      1     0     0   1.501D-04   3.551D+00\n",
      "  F =   3.5506633970701107     \n",
      "\n",
      "CONVERGENCE: REL_REDUCTION_OF_F_<=_FACTR*EPSMCH             \n"
     ]
    }
   ],
   "source": [
    "sarimax_model = SARIMAX(\n",
    "    df_past[\"abcr_leves\"], order=(1, 0, 1), seasonal_order=(1, 0, 1, 12)\n",
    ")\n",
    "sarrimax_result = sarimax_model.fit()"
   ]
  },
  {
   "cell_type": "code",
   "execution_count": 32,
   "metadata": {},
   "outputs": [
    {
     "data": {
      "text/html": [
       "<table class=\"simpletable\">\n",
       "<caption>SARIMAX Results</caption>\n",
       "<tr>\n",
       "  <th>Dep. Variable:</th>             <td>abcr_leves</td>           <th>  No. Observations:  </th>    <td>162</td>  \n",
       "</tr>\n",
       "<tr>\n",
       "  <th>Model:</th>           <td>SARIMAX(1, 0, 1)x(1, 0, 1, 12)</td> <th>  Log Likelihood     </th> <td>-575.207</td>\n",
       "</tr>\n",
       "<tr>\n",
       "  <th>Date:</th>                   <td>Mon, 04 Sep 2023</td>        <th>  AIC                </th> <td>1160.415</td>\n",
       "</tr>\n",
       "<tr>\n",
       "  <th>Time:</th>                       <td>15:56:11</td>            <th>  BIC                </th> <td>1175.853</td>\n",
       "</tr>\n",
       "<tr>\n",
       "  <th>Sample:</th>                    <td>01-01-2010</td>           <th>  HQIC               </th> <td>1166.683</td>\n",
       "</tr>\n",
       "<tr>\n",
       "  <th></th>                          <td>- 06-01-2023</td>          <th>                     </th>     <td> </td>   \n",
       "</tr>\n",
       "<tr>\n",
       "  <th>Covariance Type:</th>               <td>opg</td>              <th>                     </th>     <td> </td>   \n",
       "</tr>\n",
       "</table>\n",
       "<table class=\"simpletable\">\n",
       "<tr>\n",
       "      <td></td>        <th>coef</th>     <th>std err</th>      <th>z</th>      <th>P>|z|</th>  <th>[0.025</th>    <th>0.975]</th>  \n",
       "</tr>\n",
       "<tr>\n",
       "  <th>ar.L1</th>    <td>    0.9529</td> <td>    0.027</td> <td>   35.139</td> <td> 0.000</td> <td>    0.900</td> <td>    1.006</td>\n",
       "</tr>\n",
       "<tr>\n",
       "  <th>ma.L1</th>    <td>    0.0358</td> <td>    0.050</td> <td>    0.718</td> <td> 0.473</td> <td>   -0.062</td> <td>    0.134</td>\n",
       "</tr>\n",
       "<tr>\n",
       "  <th>ar.S.L12</th> <td>    0.9996</td> <td>    0.003</td> <td>  386.456</td> <td> 0.000</td> <td>    0.995</td> <td>    1.005</td>\n",
       "</tr>\n",
       "<tr>\n",
       "  <th>ma.S.L12</th> <td>   -0.9516</td> <td>    0.164</td> <td>   -5.795</td> <td> 0.000</td> <td>   -1.273</td> <td>   -0.630</td>\n",
       "</tr>\n",
       "<tr>\n",
       "  <th>sigma2</th>   <td>   55.0250</td> <td>    7.998</td> <td>    6.880</td> <td> 0.000</td> <td>   39.350</td> <td>   70.700</td>\n",
       "</tr>\n",
       "</table>\n",
       "<table class=\"simpletable\">\n",
       "<tr>\n",
       "  <th>Ljung-Box (L1) (Q):</th>     <td>0.20</td> <th>  Jarque-Bera (JB):  </th> <td>724.96</td>\n",
       "</tr>\n",
       "<tr>\n",
       "  <th>Prob(Q):</th>                <td>0.65</td> <th>  Prob(JB):          </th>  <td>0.00</td> \n",
       "</tr>\n",
       "<tr>\n",
       "  <th>Heteroskedasticity (H):</th> <td>4.57</td> <th>  Skew:              </th>  <td>-1.94</td>\n",
       "</tr>\n",
       "<tr>\n",
       "  <th>Prob(H) (two-sided):</th>    <td>0.00</td> <th>  Kurtosis:          </th>  <td>12.61</td>\n",
       "</tr>\n",
       "</table><br/><br/>Warnings:<br/>[1] Covariance matrix calculated using the outer product of gradients (complex-step)."
      ],
      "text/latex": [
       "\\begin{center}\n",
       "\\begin{tabular}{lclc}\n",
       "\\toprule\n",
       "\\textbf{Dep. Variable:}          &          abcr\\_leves           & \\textbf{  No. Observations:  } &    162      \\\\\n",
       "\\textbf{Model:}                  & SARIMAX(1, 0, 1)x(1, 0, 1, 12) & \\textbf{  Log Likelihood     } &  -575.207   \\\\\n",
       "\\textbf{Date:}                   &        Mon, 04 Sep 2023        & \\textbf{  AIC                } &  1160.415   \\\\\n",
       "\\textbf{Time:}                   &            15:56:11            & \\textbf{  BIC                } &  1175.853   \\\\\n",
       "\\textbf{Sample:}                 &           01-01-2010           & \\textbf{  HQIC               } &  1166.683   \\\\\n",
       "\\textbf{}                        &          - 06-01-2023          & \\textbf{                     } &             \\\\\n",
       "\\textbf{Covariance Type:}        &              opg               & \\textbf{                     } &             \\\\\n",
       "\\bottomrule\n",
       "\\end{tabular}\n",
       "\\begin{tabular}{lcccccc}\n",
       "                  & \\textbf{coef} & \\textbf{std err} & \\textbf{z} & \\textbf{P$> |$z$|$} & \\textbf{[0.025} & \\textbf{0.975]}  \\\\\n",
       "\\midrule\n",
       "\\textbf{ar.L1}    &       0.9529  &        0.027     &    35.139  &         0.000        &        0.900    &        1.006     \\\\\n",
       "\\textbf{ma.L1}    &       0.0358  &        0.050     &     0.718  &         0.473        &       -0.062    &        0.134     \\\\\n",
       "\\textbf{ar.S.L12} &       0.9996  &        0.003     &   386.456  &         0.000        &        0.995    &        1.005     \\\\\n",
       "\\textbf{ma.S.L12} &      -0.9516  &        0.164     &    -5.795  &         0.000        &       -1.273    &       -0.630     \\\\\n",
       "\\textbf{sigma2}   &      55.0250  &        7.998     &     6.880  &         0.000        &       39.350    &       70.700     \\\\\n",
       "\\bottomrule\n",
       "\\end{tabular}\n",
       "\\begin{tabular}{lclc}\n",
       "\\textbf{Ljung-Box (L1) (Q):}     & 0.20 & \\textbf{  Jarque-Bera (JB):  } & 724.96  \\\\\n",
       "\\textbf{Prob(Q):}                & 0.65 & \\textbf{  Prob(JB):          } &  0.00   \\\\\n",
       "\\textbf{Heteroskedasticity (H):} & 4.57 & \\textbf{  Skew:              } & -1.94   \\\\\n",
       "\\textbf{Prob(H) (two-sided):}    & 0.00 & \\textbf{  Kurtosis:          } & 12.61   \\\\\n",
       "\\bottomrule\n",
       "\\end{tabular}\n",
       "%\\caption{SARIMAX Results}\n",
       "\\end{center}\n",
       "\n",
       "Warnings: \\newline\n",
       " [1] Covariance matrix calculated using the outer product of gradients (complex-step)."
      ],
      "text/plain": [
       "<class 'statsmodels.iolib.summary.Summary'>\n",
       "\"\"\"\n",
       "                                     SARIMAX Results                                      \n",
       "==========================================================================================\n",
       "Dep. Variable:                         abcr_leves   No. Observations:                  162\n",
       "Model:             SARIMAX(1, 0, 1)x(1, 0, 1, 12)   Log Likelihood                -575.207\n",
       "Date:                            Mon, 04 Sep 2023   AIC                           1160.415\n",
       "Time:                                    15:56:11   BIC                           1175.853\n",
       "Sample:                                01-01-2010   HQIC                          1166.683\n",
       "                                     - 06-01-2023                                         \n",
       "Covariance Type:                              opg                                         \n",
       "==============================================================================\n",
       "                 coef    std err          z      P>|z|      [0.025      0.975]\n",
       "------------------------------------------------------------------------------\n",
       "ar.L1          0.9529      0.027     35.139      0.000       0.900       1.006\n",
       "ma.L1          0.0358      0.050      0.718      0.473      -0.062       0.134\n",
       "ar.S.L12       0.9996      0.003    386.456      0.000       0.995       1.005\n",
       "ma.S.L12      -0.9516      0.164     -5.795      0.000      -1.273      -0.630\n",
       "sigma2        55.0250      7.998      6.880      0.000      39.350      70.700\n",
       "===================================================================================\n",
       "Ljung-Box (L1) (Q):                   0.20   Jarque-Bera (JB):               724.96\n",
       "Prob(Q):                              0.65   Prob(JB):                         0.00\n",
       "Heteroskedasticity (H):               4.57   Skew:                            -1.94\n",
       "Prob(H) (two-sided):                  0.00   Kurtosis:                        12.61\n",
       "===================================================================================\n",
       "\n",
       "Warnings:\n",
       "[1] Covariance matrix calculated using the outer product of gradients (complex-step).\n",
       "\"\"\""
      ]
     },
     "execution_count": 32,
     "metadata": {},
     "output_type": "execute_result"
    }
   ],
   "source": [
    "sarrimax_result.summary()"
   ]
  },
  {
   "cell_type": "markdown",
   "metadata": {},
   "source": [
    "### Avaliar o modelo para último ano"
   ]
  },
  {
   "cell_type": "code",
   "execution_count": 33,
   "metadata": {},
   "outputs": [],
   "source": [
    "predictions = sarrimax_result.get_prediction(start=-12)\n",
    "predictions_ci = predictions.conf_int()\n",
    "predictions_mean = predictions.predicted_mean\n",
    "predictions_lower = predictions_ci.iloc[:, 0]\n",
    "predictions_upper = predictions_ci.iloc[:, 1]"
   ]
  },
  {
   "cell_type": "code",
   "execution_count": 34,
   "metadata": {},
   "outputs": [],
   "source": [
    "predictions_dates = np.asarray(predictions_mean.index)\n",
    "dates = np.asarray(df_past.index)"
   ]
  },
  {
   "cell_type": "code",
   "execution_count": 35,
   "metadata": {},
   "outputs": [
    {
     "data": {
      "application/vnd.plotly.v1+json": {
       "config": {
        "plotlyServerURL": "https://plot.ly"
       },
       "data": [
        {
         "mode": "lines+markers",
         "name": "Valor ABC-R Leves",
         "type": "scatter",
         "x": [
          "2020-01-01T00:00:00",
          "2020-02-01T00:00:00",
          "2020-03-01T00:00:00",
          "2020-04-01T00:00:00",
          "2020-05-01T00:00:00",
          "2020-06-01T00:00:00",
          "2020-07-01T00:00:00",
          "2020-08-01T00:00:00",
          "2020-09-01T00:00:00",
          "2020-10-01T00:00:00",
          "2020-11-01T00:00:00",
          "2020-12-01T00:00:00",
          "2021-01-01T00:00:00",
          "2021-02-01T00:00:00",
          "2021-03-01T00:00:00",
          "2021-04-01T00:00:00",
          "2021-05-01T00:00:00",
          "2021-06-01T00:00:00",
          "2021-07-01T00:00:00",
          "2021-08-01T00:00:00",
          "2021-09-01T00:00:00",
          "2021-10-01T00:00:00",
          "2021-11-01T00:00:00",
          "2021-12-01T00:00:00",
          "2022-01-01T00:00:00",
          "2022-02-01T00:00:00",
          "2022-03-01T00:00:00",
          "2022-04-01T00:00:00",
          "2022-05-01T00:00:00",
          "2022-06-01T00:00:00",
          "2022-07-01T00:00:00",
          "2022-08-01T00:00:00",
          "2022-09-01T00:00:00",
          "2022-10-01T00:00:00",
          "2022-11-01T00:00:00",
          "2022-12-01T00:00:00",
          "2023-01-01T00:00:00",
          "2023-02-01T00:00:00",
          "2023-03-01T00:00:00",
          "2023-04-01T00:00:00",
          "2023-05-01T00:00:00",
          "2023-06-01T00:00:00"
         ],
         "y": [
          137.557653913702,
          118.380820662905,
          120.370805522479,
          121.795780874176,
          123.126607783326,
          117.056804046096,
          131.889785473548,
          127.230426744633,
          127.6569598274,
          133.397472027683,
          132.638235939066,
          154.176013567629,
          151.620150753044,
          123.399748655057,
          135.197799834928,
          136.190325903729,
          129.090006462274,
          129.179313761342,
          140.054681579126,
          132.566715749839,
          131.780771229805,
          137.974502425038,
          137.075311968905,
          158.505685065946,
          156.740332256523,
          140.203427623846,
          138.217999014302,
          140.027544047238,
          135.110911268813,
          132.629394709744,
          147.181894345063,
          139.787434419181,
          143.275681243592,
          145.178044813038,
          147.14508295111,
          166.63893932329,
          163.17805761266,
          137.194340423726,
          148.837956928691,
          136.982321428228,
          144.328924282748,
          137.23440117589,
          153.640861023758,
          149.186555731827,
          147.006319149295,
          153.265797416115,
          157.373726437887,
          174.376660190726,
          174.955108592855,
          144.816429499571,
          155.453728224467,
          153.857578978786,
          149.676956137933,
          143.251524888359,
          150.548149456353,
          157.102422712018,
          150.243812488271,
          158.518922753428,
          157.981757334604,
          182.15801275575,
          177.838601614388,
          147.352697249278,
          149.640482428134,
          153.80609130044,
          149.660263515654,
          146.128318082041,
          158.023573930544,
          152.84397080291,
          151.03962910894,
          160.218388433087,
          148.579640077773,
          175.568397918954,
          170.639870298178,
          149.605415021657,
          151.651166744338,
          147.006515205319,
          145.943848331526,
          136.257768207253,
          157.823059438227,
          145.724524400878,
          144.481068816264,
          150.707030108907,
          147.353131723909,
          173.881835526681,
          172.218749849915,
          145.060767270482,
          151.602230753439,
          150.263557374172,
          146.746844682668,
          144.133976504473,
          161.972520260403,
          147.501015680864,
          153.157461865859,
          155.34120704197,
          150.167197677714,
          177.80605413934,
          175.049537887198,
          145.318356933206,
          155.520977820807,
          151.199980379659,
          131.212901357152,
          133.420265530666,
          156.860789308614,
          146.926361749108,
          151.039396041981,
          151.927641629138,
          152.798757112562,
          178.702502933613,
          179.223203994927,
          141.908075140355,
          157.001567391483,
          151.111258482448,
          148.240480233714,
          144.931421489337,
          160.268296550045,
          151.33314852938,
          155.913741569402,
          161.567915473003,
          157.866993053877,
          180.787049638571,
          178.633210776449,
          149.766266680335,
          116.872604151073,
          72.4875295830798,
          85.786744140528,
          101.701910433541,
          120.575846585234,
          128.007346118803,
          141.162075944713,
          153.559544103234,
          145.981849736137,
          164.862506737278,
          157.421123450819,
          133.708036562843,
          115.806020252492,
          114.817918551089,
          132.938667932008,
          129.956026891548,
          148.671858483084,
          142.41665920912,
          145.504515874637,
          150.527100125016,
          149.179921947621,
          173.664900456289,
          156.857844549888,
          138.82488507604,
          152.124806663834,
          149.67722529498,
          144.40219428869,
          137.340096103021,
          162.965495241073,
          151.004023996674,
          151.01092614215,
          157.201742273995,
          149.580974439191,
          177.10747048935,
          180.921030605459,
          148.810802768879,
          160.171350105615,
          158.040534394263,
          154.76360838846,
          151.069672537576
         ]
        },
        {
         "name": "Previsão",
         "type": "scatter",
         "x": [
          "2022-07-01T00:00:00.000000000",
          "2022-08-01T00:00:00.000000000",
          "2022-09-01T00:00:00.000000000",
          "2022-10-01T00:00:00.000000000",
          "2022-11-01T00:00:00.000000000",
          "2022-12-01T00:00:00.000000000",
          "2023-01-01T00:00:00.000000000",
          "2023-02-01T00:00:00.000000000",
          "2023-03-01T00:00:00.000000000",
          "2023-04-01T00:00:00.000000000",
          "2023-05-01T00:00:00.000000000",
          "2023-06-01T00:00:00.000000000"
         ],
         "y": [
          152.2345888639413,
          156.80445759630123,
          151.87780113452067,
          155.92087601093564,
          154.10597758337755,
          171.39162771693307,
          172.5718600509246,
          154.83024084484538,
          150.01098480431693,
          153.8628962377988,
          155.95410699728754,
          151.02732261420496
         ]
        },
        {
         "line": {
          "color": "rgba(255, 0, 0, 0.3)"
         },
         "mode": "lines",
         "name": "Limite Inferior",
         "type": "scatter",
         "x": [
          "2022-07-01T00:00:00.000000000",
          "2022-08-01T00:00:00.000000000",
          "2022-09-01T00:00:00.000000000",
          "2022-10-01T00:00:00.000000000",
          "2022-11-01T00:00:00.000000000",
          "2022-12-01T00:00:00.000000000",
          "2023-01-01T00:00:00.000000000",
          "2023-02-01T00:00:00.000000000",
          "2023-03-01T00:00:00.000000000",
          "2023-04-01T00:00:00.000000000",
          "2023-05-01T00:00:00.000000000",
          "2023-06-01T00:00:00.000000000"
         ],
         "y": [
          137.41928922678696,
          141.9899824774482,
          137.06423627763377,
          141.10831631785152,
          139.29452814475826,
          156.58140497025994,
          157.76251581634602,
          140.04718926209708,
          135.22867466319633,
          139.0810493097587,
          141.17278247298293,
          136.24657389436
         ]
        },
        {
         "fill": "tonexty",
         "line": {
          "color": "rgba(200, 75, 100, 0.3)"
         },
         "mode": "lines",
         "name": "Limite Superior",
         "type": "scatter",
         "x": [
          "2022-07-01T00:00:00.000000000",
          "2022-08-01T00:00:00.000000000",
          "2022-09-01T00:00:00.000000000",
          "2022-10-01T00:00:00.000000000",
          "2022-11-01T00:00:00.000000000",
          "2022-12-01T00:00:00.000000000",
          "2023-01-01T00:00:00.000000000",
          "2023-02-01T00:00:00.000000000",
          "2023-03-01T00:00:00.000000000",
          "2023-04-01T00:00:00.000000000",
          "2023-05-01T00:00:00.000000000",
          "2023-06-01T00:00:00.000000000"
         ],
         "y": [
          167.04988850109564,
          171.61893271515427,
          166.69136599140757,
          170.73343570401977,
          168.91742702199684,
          186.2018504636062,
          187.3812042855032,
          169.61329242759368,
          164.79329494543754,
          168.6447431658389,
          170.73543152159215,
          165.8080713340499
         ]
        }
       ],
       "layout": {
        "template": {
         "data": {
          "bar": [
           {
            "error_x": {
             "color": "#2a3f5f"
            },
            "error_y": {
             "color": "#2a3f5f"
            },
            "marker": {
             "line": {
              "color": "#E5ECF6",
              "width": 0.5
             },
             "pattern": {
              "fillmode": "overlay",
              "size": 10,
              "solidity": 0.2
             }
            },
            "type": "bar"
           }
          ],
          "barpolar": [
           {
            "marker": {
             "line": {
              "color": "#E5ECF6",
              "width": 0.5
             },
             "pattern": {
              "fillmode": "overlay",
              "size": 10,
              "solidity": 0.2
             }
            },
            "type": "barpolar"
           }
          ],
          "carpet": [
           {
            "aaxis": {
             "endlinecolor": "#2a3f5f",
             "gridcolor": "white",
             "linecolor": "white",
             "minorgridcolor": "white",
             "startlinecolor": "#2a3f5f"
            },
            "baxis": {
             "endlinecolor": "#2a3f5f",
             "gridcolor": "white",
             "linecolor": "white",
             "minorgridcolor": "white",
             "startlinecolor": "#2a3f5f"
            },
            "type": "carpet"
           }
          ],
          "choropleth": [
           {
            "colorbar": {
             "outlinewidth": 0,
             "ticks": ""
            },
            "type": "choropleth"
           }
          ],
          "contour": [
           {
            "colorbar": {
             "outlinewidth": 0,
             "ticks": ""
            },
            "colorscale": [
             [
              0,
              "#0d0887"
             ],
             [
              0.1111111111111111,
              "#46039f"
             ],
             [
              0.2222222222222222,
              "#7201a8"
             ],
             [
              0.3333333333333333,
              "#9c179e"
             ],
             [
              0.4444444444444444,
              "#bd3786"
             ],
             [
              0.5555555555555556,
              "#d8576b"
             ],
             [
              0.6666666666666666,
              "#ed7953"
             ],
             [
              0.7777777777777778,
              "#fb9f3a"
             ],
             [
              0.8888888888888888,
              "#fdca26"
             ],
             [
              1,
              "#f0f921"
             ]
            ],
            "type": "contour"
           }
          ],
          "contourcarpet": [
           {
            "colorbar": {
             "outlinewidth": 0,
             "ticks": ""
            },
            "type": "contourcarpet"
           }
          ],
          "heatmap": [
           {
            "colorbar": {
             "outlinewidth": 0,
             "ticks": ""
            },
            "colorscale": [
             [
              0,
              "#0d0887"
             ],
             [
              0.1111111111111111,
              "#46039f"
             ],
             [
              0.2222222222222222,
              "#7201a8"
             ],
             [
              0.3333333333333333,
              "#9c179e"
             ],
             [
              0.4444444444444444,
              "#bd3786"
             ],
             [
              0.5555555555555556,
              "#d8576b"
             ],
             [
              0.6666666666666666,
              "#ed7953"
             ],
             [
              0.7777777777777778,
              "#fb9f3a"
             ],
             [
              0.8888888888888888,
              "#fdca26"
             ],
             [
              1,
              "#f0f921"
             ]
            ],
            "type": "heatmap"
           }
          ],
          "heatmapgl": [
           {
            "colorbar": {
             "outlinewidth": 0,
             "ticks": ""
            },
            "colorscale": [
             [
              0,
              "#0d0887"
             ],
             [
              0.1111111111111111,
              "#46039f"
             ],
             [
              0.2222222222222222,
              "#7201a8"
             ],
             [
              0.3333333333333333,
              "#9c179e"
             ],
             [
              0.4444444444444444,
              "#bd3786"
             ],
             [
              0.5555555555555556,
              "#d8576b"
             ],
             [
              0.6666666666666666,
              "#ed7953"
             ],
             [
              0.7777777777777778,
              "#fb9f3a"
             ],
             [
              0.8888888888888888,
              "#fdca26"
             ],
             [
              1,
              "#f0f921"
             ]
            ],
            "type": "heatmapgl"
           }
          ],
          "histogram": [
           {
            "marker": {
             "pattern": {
              "fillmode": "overlay",
              "size": 10,
              "solidity": 0.2
             }
            },
            "type": "histogram"
           }
          ],
          "histogram2d": [
           {
            "colorbar": {
             "outlinewidth": 0,
             "ticks": ""
            },
            "colorscale": [
             [
              0,
              "#0d0887"
             ],
             [
              0.1111111111111111,
              "#46039f"
             ],
             [
              0.2222222222222222,
              "#7201a8"
             ],
             [
              0.3333333333333333,
              "#9c179e"
             ],
             [
              0.4444444444444444,
              "#bd3786"
             ],
             [
              0.5555555555555556,
              "#d8576b"
             ],
             [
              0.6666666666666666,
              "#ed7953"
             ],
             [
              0.7777777777777778,
              "#fb9f3a"
             ],
             [
              0.8888888888888888,
              "#fdca26"
             ],
             [
              1,
              "#f0f921"
             ]
            ],
            "type": "histogram2d"
           }
          ],
          "histogram2dcontour": [
           {
            "colorbar": {
             "outlinewidth": 0,
             "ticks": ""
            },
            "colorscale": [
             [
              0,
              "#0d0887"
             ],
             [
              0.1111111111111111,
              "#46039f"
             ],
             [
              0.2222222222222222,
              "#7201a8"
             ],
             [
              0.3333333333333333,
              "#9c179e"
             ],
             [
              0.4444444444444444,
              "#bd3786"
             ],
             [
              0.5555555555555556,
              "#d8576b"
             ],
             [
              0.6666666666666666,
              "#ed7953"
             ],
             [
              0.7777777777777778,
              "#fb9f3a"
             ],
             [
              0.8888888888888888,
              "#fdca26"
             ],
             [
              1,
              "#f0f921"
             ]
            ],
            "type": "histogram2dcontour"
           }
          ],
          "mesh3d": [
           {
            "colorbar": {
             "outlinewidth": 0,
             "ticks": ""
            },
            "type": "mesh3d"
           }
          ],
          "parcoords": [
           {
            "line": {
             "colorbar": {
              "outlinewidth": 0,
              "ticks": ""
             }
            },
            "type": "parcoords"
           }
          ],
          "pie": [
           {
            "automargin": true,
            "type": "pie"
           }
          ],
          "scatter": [
           {
            "fillpattern": {
             "fillmode": "overlay",
             "size": 10,
             "solidity": 0.2
            },
            "type": "scatter"
           }
          ],
          "scatter3d": [
           {
            "line": {
             "colorbar": {
              "outlinewidth": 0,
              "ticks": ""
             }
            },
            "marker": {
             "colorbar": {
              "outlinewidth": 0,
              "ticks": ""
             }
            },
            "type": "scatter3d"
           }
          ],
          "scattercarpet": [
           {
            "marker": {
             "colorbar": {
              "outlinewidth": 0,
              "ticks": ""
             }
            },
            "type": "scattercarpet"
           }
          ],
          "scattergeo": [
           {
            "marker": {
             "colorbar": {
              "outlinewidth": 0,
              "ticks": ""
             }
            },
            "type": "scattergeo"
           }
          ],
          "scattergl": [
           {
            "marker": {
             "colorbar": {
              "outlinewidth": 0,
              "ticks": ""
             }
            },
            "type": "scattergl"
           }
          ],
          "scattermapbox": [
           {
            "marker": {
             "colorbar": {
              "outlinewidth": 0,
              "ticks": ""
             }
            },
            "type": "scattermapbox"
           }
          ],
          "scatterpolar": [
           {
            "marker": {
             "colorbar": {
              "outlinewidth": 0,
              "ticks": ""
             }
            },
            "type": "scatterpolar"
           }
          ],
          "scatterpolargl": [
           {
            "marker": {
             "colorbar": {
              "outlinewidth": 0,
              "ticks": ""
             }
            },
            "type": "scatterpolargl"
           }
          ],
          "scatterternary": [
           {
            "marker": {
             "colorbar": {
              "outlinewidth": 0,
              "ticks": ""
             }
            },
            "type": "scatterternary"
           }
          ],
          "surface": [
           {
            "colorbar": {
             "outlinewidth": 0,
             "ticks": ""
            },
            "colorscale": [
             [
              0,
              "#0d0887"
             ],
             [
              0.1111111111111111,
              "#46039f"
             ],
             [
              0.2222222222222222,
              "#7201a8"
             ],
             [
              0.3333333333333333,
              "#9c179e"
             ],
             [
              0.4444444444444444,
              "#bd3786"
             ],
             [
              0.5555555555555556,
              "#d8576b"
             ],
             [
              0.6666666666666666,
              "#ed7953"
             ],
             [
              0.7777777777777778,
              "#fb9f3a"
             ],
             [
              0.8888888888888888,
              "#fdca26"
             ],
             [
              1,
              "#f0f921"
             ]
            ],
            "type": "surface"
           }
          ],
          "table": [
           {
            "cells": {
             "fill": {
              "color": "#EBF0F8"
             },
             "line": {
              "color": "white"
             }
            },
            "header": {
             "fill": {
              "color": "#C8D4E3"
             },
             "line": {
              "color": "white"
             }
            },
            "type": "table"
           }
          ]
         },
         "layout": {
          "annotationdefaults": {
           "arrowcolor": "#2a3f5f",
           "arrowhead": 0,
           "arrowwidth": 1
          },
          "autotypenumbers": "strict",
          "coloraxis": {
           "colorbar": {
            "outlinewidth": 0,
            "ticks": ""
           }
          },
          "colorscale": {
           "diverging": [
            [
             0,
             "#8e0152"
            ],
            [
             0.1,
             "#c51b7d"
            ],
            [
             0.2,
             "#de77ae"
            ],
            [
             0.3,
             "#f1b6da"
            ],
            [
             0.4,
             "#fde0ef"
            ],
            [
             0.5,
             "#f7f7f7"
            ],
            [
             0.6,
             "#e6f5d0"
            ],
            [
             0.7,
             "#b8e186"
            ],
            [
             0.8,
             "#7fbc41"
            ],
            [
             0.9,
             "#4d9221"
            ],
            [
             1,
             "#276419"
            ]
           ],
           "sequential": [
            [
             0,
             "#0d0887"
            ],
            [
             0.1111111111111111,
             "#46039f"
            ],
            [
             0.2222222222222222,
             "#7201a8"
            ],
            [
             0.3333333333333333,
             "#9c179e"
            ],
            [
             0.4444444444444444,
             "#bd3786"
            ],
            [
             0.5555555555555556,
             "#d8576b"
            ],
            [
             0.6666666666666666,
             "#ed7953"
            ],
            [
             0.7777777777777778,
             "#fb9f3a"
            ],
            [
             0.8888888888888888,
             "#fdca26"
            ],
            [
             1,
             "#f0f921"
            ]
           ],
           "sequentialminus": [
            [
             0,
             "#0d0887"
            ],
            [
             0.1111111111111111,
             "#46039f"
            ],
            [
             0.2222222222222222,
             "#7201a8"
            ],
            [
             0.3333333333333333,
             "#9c179e"
            ],
            [
             0.4444444444444444,
             "#bd3786"
            ],
            [
             0.5555555555555556,
             "#d8576b"
            ],
            [
             0.6666666666666666,
             "#ed7953"
            ],
            [
             0.7777777777777778,
             "#fb9f3a"
            ],
            [
             0.8888888888888888,
             "#fdca26"
            ],
            [
             1,
             "#f0f921"
            ]
           ]
          },
          "colorway": [
           "#636efa",
           "#EF553B",
           "#00cc96",
           "#ab63fa",
           "#FFA15A",
           "#19d3f3",
           "#FF6692",
           "#B6E880",
           "#FF97FF",
           "#FECB52"
          ],
          "font": {
           "color": "#2a3f5f"
          },
          "geo": {
           "bgcolor": "white",
           "lakecolor": "white",
           "landcolor": "#E5ECF6",
           "showlakes": true,
           "showland": true,
           "subunitcolor": "white"
          },
          "hoverlabel": {
           "align": "left"
          },
          "hovermode": "closest",
          "mapbox": {
           "style": "light"
          },
          "paper_bgcolor": "white",
          "plot_bgcolor": "#E5ECF6",
          "polar": {
           "angularaxis": {
            "gridcolor": "white",
            "linecolor": "white",
            "ticks": ""
           },
           "bgcolor": "#E5ECF6",
           "radialaxis": {
            "gridcolor": "white",
            "linecolor": "white",
            "ticks": ""
           }
          },
          "scene": {
           "xaxis": {
            "backgroundcolor": "#E5ECF6",
            "gridcolor": "white",
            "gridwidth": 2,
            "linecolor": "white",
            "showbackground": true,
            "ticks": "",
            "zerolinecolor": "white"
           },
           "yaxis": {
            "backgroundcolor": "#E5ECF6",
            "gridcolor": "white",
            "gridwidth": 2,
            "linecolor": "white",
            "showbackground": true,
            "ticks": "",
            "zerolinecolor": "white"
           },
           "zaxis": {
            "backgroundcolor": "#E5ECF6",
            "gridcolor": "white",
            "gridwidth": 2,
            "linecolor": "white",
            "showbackground": true,
            "ticks": "",
            "zerolinecolor": "white"
           }
          },
          "shapedefaults": {
           "line": {
            "color": "#2a3f5f"
           }
          },
          "ternary": {
           "aaxis": {
            "gridcolor": "white",
            "linecolor": "white",
            "ticks": ""
           },
           "baxis": {
            "gridcolor": "white",
            "linecolor": "white",
            "ticks": ""
           },
           "bgcolor": "#E5ECF6",
           "caxis": {
            "gridcolor": "white",
            "linecolor": "white",
            "ticks": ""
           }
          },
          "title": {
           "x": 0.05
          },
          "xaxis": {
           "automargin": true,
           "gridcolor": "white",
           "linecolor": "white",
           "ticks": "",
           "title": {
            "standoff": 15
           },
           "zerolinecolor": "white",
           "zerolinewidth": 2
          },
          "yaxis": {
           "automargin": true,
           "gridcolor": "white",
           "linecolor": "white",
           "ticks": "",
           "title": {
            "standoff": 15
           },
           "zerolinecolor": "white",
           "zerolinewidth": 2
          }
         }
        },
        "title": {
         "text": "Previsão ABC-R Leves"
        },
        "xaxis": {
         "title": {
          "text": "Ano"
         }
        },
        "yaxis": {
         "title": {
          "text": "Valor ABC-R Leves"
         }
        }
       }
      }
     },
     "metadata": {},
     "output_type": "display_data"
    }
   ],
   "source": [
    "# plot with filled area for confidence interval (upper and lower)\n",
    "fig = go.Figure()\n",
    "fig.add_trace(\n",
    "    go.Scatter(x=df_past['2020-01-01':].index, y=df_past[\"abcr_leves\"], name=\"Valor ABC-R Leves\", mode=\"lines+markers\")\n",
    ")\n",
    "fig.add_trace(\n",
    "    go.Scatter(x=predictions_dates, y=predictions_mean.values, name=\"Previsão\")\n",
    ")\n",
    "fig.add_trace(\n",
    "    go.Scatter(\n",
    "        x=predictions_dates,\n",
    "        y=predictions_lower,\n",
    "        fill=None,\n",
    "        mode=\"lines\",\n",
    "        line_color=\"rgba(255, 0, 0, 0.3)\",\n",
    "        name=\"Limite Inferior\",\n",
    "    )\n",
    ")\n",
    "fig.add_trace(\n",
    "    go.Scatter(\n",
    "        x=predictions_dates,\n",
    "        y=predictions_upper,\n",
    "        fill=\"tonexty\",\n",
    "        mode=\"lines\",\n",
    "        line_color=\"rgba(200, 75, 100, 0.3)\",\n",
    "        name=\"Limite Superior\",\n",
    "    )\n",
    ")\n",
    "fig.update_layout(\n",
    "    title=\"Previsão ABC-R Leves\", xaxis_title=\"Ano\", yaxis_title=\"Valor ABC-R Leves\"\n",
    ")\n",
    "fig.show()"
   ]
  },
  {
   "cell_type": "markdown",
   "metadata": {},
   "source": [
    "O modelo ARIMA obteve bons resultados para prever o índice ABCR de veículos leves para o ano de 2023, porém seu intervalo de confiança está no limite."
   ]
  },
  {
   "cell_type": "markdown",
   "metadata": {},
   "source": [
    "### Forecasting para os próximos 90 meses"
   ]
  },
  {
   "cell_type": "code",
   "execution_count": 36,
   "metadata": {},
   "outputs": [],
   "source": [
    "forecast = sarrimax_result.get_forecast(steps=90)\n",
    "forecast_ci = forecast.conf_int()\n",
    "forecast_mean = forecast.predicted_mean\n",
    "forecast_lower = forecast_ci.iloc[:, 0]\n",
    "forecast_upper = forecast_ci.iloc[:, 1]"
   ]
  },
  {
   "cell_type": "code",
   "execution_count": 37,
   "metadata": {},
   "outputs": [],
   "source": [
    "forecast_dates = np.asarray(forecast_mean.index)\n",
    "dates = np.asarray(case_df.index)"
   ]
  },
  {
   "cell_type": "code",
   "execution_count": 38,
   "metadata": {},
   "outputs": [
    {
     "data": {
      "application/vnd.plotly.v1+json": {
       "config": {
        "plotlyServerURL": "https://plot.ly"
       },
       "data": [
        {
         "mode": "lines+markers",
         "name": "ABC-R Leves",
         "type": "scatter",
         "x": [
          "2010-01-01T00:00:00",
          "2010-02-01T00:00:00",
          "2010-03-01T00:00:00",
          "2010-04-01T00:00:00",
          "2010-05-01T00:00:00",
          "2010-06-01T00:00:00",
          "2010-07-01T00:00:00",
          "2010-08-01T00:00:00",
          "2010-09-01T00:00:00",
          "2010-10-01T00:00:00",
          "2010-11-01T00:00:00",
          "2010-12-01T00:00:00",
          "2011-01-01T00:00:00",
          "2011-02-01T00:00:00",
          "2011-03-01T00:00:00",
          "2011-04-01T00:00:00",
          "2011-05-01T00:00:00",
          "2011-06-01T00:00:00",
          "2011-07-01T00:00:00",
          "2011-08-01T00:00:00",
          "2011-09-01T00:00:00",
          "2011-10-01T00:00:00",
          "2011-11-01T00:00:00",
          "2011-12-01T00:00:00",
          "2012-01-01T00:00:00",
          "2012-02-01T00:00:00",
          "2012-03-01T00:00:00",
          "2012-04-01T00:00:00",
          "2012-05-01T00:00:00",
          "2012-06-01T00:00:00",
          "2012-07-01T00:00:00",
          "2012-08-01T00:00:00",
          "2012-09-01T00:00:00",
          "2012-10-01T00:00:00",
          "2012-11-01T00:00:00",
          "2012-12-01T00:00:00",
          "2013-01-01T00:00:00",
          "2013-02-01T00:00:00",
          "2013-03-01T00:00:00",
          "2013-04-01T00:00:00",
          "2013-05-01T00:00:00",
          "2013-06-01T00:00:00",
          "2013-07-01T00:00:00",
          "2013-08-01T00:00:00",
          "2013-09-01T00:00:00",
          "2013-10-01T00:00:00",
          "2013-11-01T00:00:00",
          "2013-12-01T00:00:00",
          "2014-01-01T00:00:00",
          "2014-02-01T00:00:00",
          "2014-03-01T00:00:00",
          "2014-04-01T00:00:00",
          "2014-05-01T00:00:00",
          "2014-06-01T00:00:00",
          "2014-07-01T00:00:00",
          "2014-08-01T00:00:00",
          "2014-09-01T00:00:00",
          "2014-10-01T00:00:00",
          "2014-11-01T00:00:00",
          "2014-12-01T00:00:00",
          "2015-01-01T00:00:00",
          "2015-02-01T00:00:00",
          "2015-03-01T00:00:00",
          "2015-04-01T00:00:00",
          "2015-05-01T00:00:00",
          "2015-06-01T00:00:00",
          "2015-07-01T00:00:00",
          "2015-08-01T00:00:00",
          "2015-09-01T00:00:00",
          "2015-10-01T00:00:00",
          "2015-11-01T00:00:00",
          "2015-12-01T00:00:00",
          "2016-01-01T00:00:00",
          "2016-02-01T00:00:00",
          "2016-03-01T00:00:00",
          "2016-04-01T00:00:00",
          "2016-05-01T00:00:00",
          "2016-06-01T00:00:00",
          "2016-07-01T00:00:00",
          "2016-08-01T00:00:00",
          "2016-09-01T00:00:00",
          "2016-10-01T00:00:00",
          "2016-11-01T00:00:00",
          "2016-12-01T00:00:00",
          "2017-01-01T00:00:00",
          "2017-02-01T00:00:00",
          "2017-03-01T00:00:00",
          "2017-04-01T00:00:00",
          "2017-05-01T00:00:00",
          "2017-06-01T00:00:00",
          "2017-07-01T00:00:00",
          "2017-08-01T00:00:00",
          "2017-09-01T00:00:00",
          "2017-10-01T00:00:00",
          "2017-11-01T00:00:00",
          "2017-12-01T00:00:00",
          "2018-01-01T00:00:00",
          "2018-02-01T00:00:00",
          "2018-03-01T00:00:00",
          "2018-04-01T00:00:00",
          "2018-05-01T00:00:00",
          "2018-06-01T00:00:00",
          "2018-07-01T00:00:00",
          "2018-08-01T00:00:00",
          "2018-09-01T00:00:00",
          "2018-10-01T00:00:00",
          "2018-11-01T00:00:00",
          "2018-12-01T00:00:00",
          "2019-01-01T00:00:00",
          "2019-02-01T00:00:00",
          "2019-03-01T00:00:00",
          "2019-04-01T00:00:00",
          "2019-05-01T00:00:00",
          "2019-06-01T00:00:00",
          "2019-07-01T00:00:00",
          "2019-08-01T00:00:00",
          "2019-09-01T00:00:00",
          "2019-10-01T00:00:00",
          "2019-11-01T00:00:00",
          "2019-12-01T00:00:00",
          "2020-01-01T00:00:00",
          "2020-02-01T00:00:00",
          "2020-03-01T00:00:00",
          "2020-04-01T00:00:00",
          "2020-05-01T00:00:00",
          "2020-06-01T00:00:00",
          "2020-07-01T00:00:00",
          "2020-08-01T00:00:00",
          "2020-09-01T00:00:00",
          "2020-10-01T00:00:00",
          "2020-11-01T00:00:00",
          "2020-12-01T00:00:00",
          "2021-01-01T00:00:00",
          "2021-02-01T00:00:00",
          "2021-03-01T00:00:00",
          "2021-04-01T00:00:00",
          "2021-05-01T00:00:00",
          "2021-06-01T00:00:00",
          "2021-07-01T00:00:00",
          "2021-08-01T00:00:00",
          "2021-09-01T00:00:00",
          "2021-10-01T00:00:00",
          "2021-11-01T00:00:00",
          "2021-12-01T00:00:00",
          "2022-01-01T00:00:00",
          "2022-02-01T00:00:00",
          "2022-03-01T00:00:00",
          "2022-04-01T00:00:00",
          "2022-05-01T00:00:00",
          "2022-06-01T00:00:00",
          "2022-07-01T00:00:00",
          "2022-08-01T00:00:00",
          "2022-09-01T00:00:00",
          "2022-10-01T00:00:00",
          "2022-11-01T00:00:00",
          "2022-12-01T00:00:00",
          "2023-01-01T00:00:00",
          "2023-02-01T00:00:00",
          "2023-03-01T00:00:00",
          "2023-04-01T00:00:00",
          "2023-05-01T00:00:00",
          "2023-06-01T00:00:00"
         ],
         "y": [
          137.557653913702,
          118.380820662905,
          120.370805522479,
          121.795780874176,
          123.126607783326,
          117.056804046096,
          131.889785473548,
          127.230426744633,
          127.6569598274,
          133.397472027683,
          132.638235939066,
          154.176013567629,
          151.620150753044,
          123.399748655057,
          135.197799834928,
          136.190325903729,
          129.090006462274,
          129.179313761342,
          140.054681579126,
          132.566715749839,
          131.780771229805,
          137.974502425038,
          137.075311968905,
          158.505685065946,
          156.740332256523,
          140.203427623846,
          138.217999014302,
          140.027544047238,
          135.110911268813,
          132.629394709744,
          147.181894345063,
          139.787434419181,
          143.275681243592,
          145.178044813038,
          147.14508295111,
          166.63893932329,
          163.17805761266,
          137.194340423726,
          148.837956928691,
          136.982321428228,
          144.328924282748,
          137.23440117589,
          153.640861023758,
          149.186555731827,
          147.006319149295,
          153.265797416115,
          157.373726437887,
          174.376660190726,
          174.955108592855,
          144.816429499571,
          155.453728224467,
          153.857578978786,
          149.676956137933,
          143.251524888359,
          150.548149456353,
          157.102422712018,
          150.243812488271,
          158.518922753428,
          157.981757334604,
          182.15801275575,
          177.838601614388,
          147.352697249278,
          149.640482428134,
          153.80609130044,
          149.660263515654,
          146.128318082041,
          158.023573930544,
          152.84397080291,
          151.03962910894,
          160.218388433087,
          148.579640077773,
          175.568397918954,
          170.639870298178,
          149.605415021657,
          151.651166744338,
          147.006515205319,
          145.943848331526,
          136.257768207253,
          157.823059438227,
          145.724524400878,
          144.481068816264,
          150.707030108907,
          147.353131723909,
          173.881835526681,
          172.218749849915,
          145.060767270482,
          151.602230753439,
          150.263557374172,
          146.746844682668,
          144.133976504473,
          161.972520260403,
          147.501015680864,
          153.157461865859,
          155.34120704197,
          150.167197677714,
          177.80605413934,
          175.049537887198,
          145.318356933206,
          155.520977820807,
          151.199980379659,
          131.212901357152,
          133.420265530666,
          156.860789308614,
          146.926361749108,
          151.039396041981,
          151.927641629138,
          152.798757112562,
          178.702502933613,
          179.223203994927,
          141.908075140355,
          157.001567391483,
          151.111258482448,
          148.240480233714,
          144.931421489337,
          160.268296550045,
          151.33314852938,
          155.913741569402,
          161.567915473003,
          157.866993053877,
          180.787049638571,
          178.633210776449,
          149.766266680335,
          116.872604151073,
          72.4875295830798,
          85.786744140528,
          101.701910433541,
          120.575846585234,
          128.007346118803,
          141.162075944713,
          153.559544103234,
          145.981849736137,
          164.862506737278,
          157.421123450819,
          133.708036562843,
          115.806020252492,
          114.817918551089,
          132.938667932008,
          129.956026891548,
          148.671858483084,
          142.41665920912,
          145.504515874637,
          150.527100125016,
          149.179921947621,
          173.664900456289,
          156.857844549888,
          138.82488507604,
          152.124806663834,
          149.67722529498,
          144.40219428869,
          137.340096103021,
          162.965495241073,
          151.004023996674,
          151.01092614215,
          157.201742273995,
          149.580974439191,
          177.10747048935,
          180.921030605459,
          148.810802768879,
          160.171350105615,
          158.040534394263,
          154.76360838846,
          151.069672537576
         ]
        },
        {
         "line": {
          "color": "rgba(247, 131, 7, 0.8)"
         },
         "mode": "lines+markers",
         "name": "Forecast",
         "type": "scatter",
         "x": [
          "2023-07-01T00:00:00.000000000",
          "2023-08-01T00:00:00.000000000",
          "2023-09-01T00:00:00.000000000",
          "2023-10-01T00:00:00.000000000",
          "2023-11-01T00:00:00.000000000",
          "2023-12-01T00:00:00.000000000",
          "2024-01-01T00:00:00.000000000",
          "2024-02-01T00:00:00.000000000",
          "2024-03-01T00:00:00.000000000",
          "2024-04-01T00:00:00.000000000",
          "2024-05-01T00:00:00.000000000",
          "2024-06-01T00:00:00.000000000",
          "2024-07-01T00:00:00.000000000",
          "2024-08-01T00:00:00.000000000",
          "2024-09-01T00:00:00.000000000",
          "2024-10-01T00:00:00.000000000",
          "2024-11-01T00:00:00.000000000",
          "2024-12-01T00:00:00.000000000",
          "2025-01-01T00:00:00.000000000",
          "2025-02-01T00:00:00.000000000",
          "2025-03-01T00:00:00.000000000",
          "2025-04-01T00:00:00.000000000",
          "2025-05-01T00:00:00.000000000",
          "2025-06-01T00:00:00.000000000",
          "2025-07-01T00:00:00.000000000",
          "2025-08-01T00:00:00.000000000",
          "2025-09-01T00:00:00.000000000",
          "2025-10-01T00:00:00.000000000",
          "2025-11-01T00:00:00.000000000",
          "2025-12-01T00:00:00.000000000",
          "2026-01-01T00:00:00.000000000",
          "2026-02-01T00:00:00.000000000",
          "2026-03-01T00:00:00.000000000",
          "2026-04-01T00:00:00.000000000",
          "2026-05-01T00:00:00.000000000",
          "2026-06-01T00:00:00.000000000",
          "2026-07-01T00:00:00.000000000",
          "2026-08-01T00:00:00.000000000",
          "2026-09-01T00:00:00.000000000",
          "2026-10-01T00:00:00.000000000",
          "2026-11-01T00:00:00.000000000",
          "2026-12-01T00:00:00.000000000",
          "2027-01-01T00:00:00.000000000",
          "2027-02-01T00:00:00.000000000",
          "2027-03-01T00:00:00.000000000",
          "2027-04-01T00:00:00.000000000",
          "2027-05-01T00:00:00.000000000",
          "2027-06-01T00:00:00.000000000",
          "2027-07-01T00:00:00.000000000",
          "2027-08-01T00:00:00.000000000",
          "2027-09-01T00:00:00.000000000",
          "2027-10-01T00:00:00.000000000",
          "2027-11-01T00:00:00.000000000",
          "2027-12-01T00:00:00.000000000",
          "2028-01-01T00:00:00.000000000",
          "2028-02-01T00:00:00.000000000",
          "2028-03-01T00:00:00.000000000",
          "2028-04-01T00:00:00.000000000",
          "2028-05-01T00:00:00.000000000",
          "2028-06-01T00:00:00.000000000",
          "2028-07-01T00:00:00.000000000",
          "2028-08-01T00:00:00.000000000",
          "2028-09-01T00:00:00.000000000",
          "2028-10-01T00:00:00.000000000",
          "2028-11-01T00:00:00.000000000",
          "2028-12-01T00:00:00.000000000",
          "2029-01-01T00:00:00.000000000",
          "2029-02-01T00:00:00.000000000",
          "2029-03-01T00:00:00.000000000",
          "2029-04-01T00:00:00.000000000",
          "2029-05-01T00:00:00.000000000",
          "2029-06-01T00:00:00.000000000",
          "2029-07-01T00:00:00.000000000",
          "2029-08-01T00:00:00.000000000",
          "2029-09-01T00:00:00.000000000",
          "2029-10-01T00:00:00.000000000",
          "2029-11-01T00:00:00.000000000",
          "2029-12-01T00:00:00.000000000",
          "2030-01-01T00:00:00.000000000",
          "2030-02-01T00:00:00.000000000",
          "2030-03-01T00:00:00.000000000",
          "2030-04-01T00:00:00.000000000",
          "2030-05-01T00:00:00.000000000",
          "2030-06-01T00:00:00.000000000",
          "2030-07-01T00:00:00.000000000",
          "2030-08-01T00:00:00.000000000",
          "2030-09-01T00:00:00.000000000",
          "2030-10-01T00:00:00.000000000",
          "2030-11-01T00:00:00.000000000",
          "2030-12-01T00:00:00.000000000"
         ],
         "y": [
          166.32420728343732,
          159.14888322491757,
          159.73136789902588,
          164.3379951840992,
          160.4575029286609,
          182.34303323981348,
          178.0526120698774,
          151.34479092285386,
          153.4231372595494,
          147.42822527928155,
          145.60823652877792,
          142.34493560627453,
          158.00114884398596,
          151.21800727865062,
          152.17143373416317,
          157.13001161465635,
          153.58794016525306,
          175.7864545739845,
          171.8035779927803,
          145.39718294732893,
          147.7525426388053,
          142.02453830198945,
          140.45743023284464,
          137.43565339207743,
          153.31504896934786,
          146.7526085344516,
          147.91358171988287,
          153.0684197260517,
          149.7164182340672,
          172.08656410078086,
          168.27654074847783,
          142.04322799393256,
          144.55331237991672,
          138.97569180304163,
          137.55043513075256,
          134.6643878731384,
          150.66616204569013,
          144.22836888181985,
          145.50536486554125,
          150.76925494655893,
          147.52422605816693,
          169.98682755496483,
          166.27421126756258,
          140.14208879785855,
          142.73839933641702,
          137.24589256752736,
          135.90029533216992,
          133.0907178192636,
          149.1584074073885,
          142.79145757710864,
          144.1332102785372,
          149.45730408938073,
          146.27270150889584,
          168.78341049380535,
          165.1259406800525,
          139.0547373736898,
          141.69890549127564,
          136.25495192865984,
          134.95417788350647,
          132.18787617684978,
          148.28985490087248,
          141.96361031584647,
          143.34140366576702,
          148.69833964661998,
          145.5480907688084,
          168.08206746093163,
          164.45607207883114,
          138.4232289204538,
          141.09376302802136,
          135.67788331035484,
          134.40241922343245,
          131.66079992406512,
          147.77935363200137,
          141.476932380235,
          142.87468146084564,
          148.249133648276,
          145.11863399011838,
          167.66196601111005,
          164.0541851988965,
          138.04706442350158,
          140.7319263971201,
          135.33264890068688,
          134.07156456543325,
          131.34421261293068,
          147.46941988428404,
          141.18136536153136,
          142.59006046147258,
          147.97344450452275,
          144.8545133309831,
          167.39940917148115
         ]
        }
       ],
       "layout": {
        "template": {
         "data": {
          "bar": [
           {
            "error_x": {
             "color": "#2a3f5f"
            },
            "error_y": {
             "color": "#2a3f5f"
            },
            "marker": {
             "line": {
              "color": "#E5ECF6",
              "width": 0.5
             },
             "pattern": {
              "fillmode": "overlay",
              "size": 10,
              "solidity": 0.2
             }
            },
            "type": "bar"
           }
          ],
          "barpolar": [
           {
            "marker": {
             "line": {
              "color": "#E5ECF6",
              "width": 0.5
             },
             "pattern": {
              "fillmode": "overlay",
              "size": 10,
              "solidity": 0.2
             }
            },
            "type": "barpolar"
           }
          ],
          "carpet": [
           {
            "aaxis": {
             "endlinecolor": "#2a3f5f",
             "gridcolor": "white",
             "linecolor": "white",
             "minorgridcolor": "white",
             "startlinecolor": "#2a3f5f"
            },
            "baxis": {
             "endlinecolor": "#2a3f5f",
             "gridcolor": "white",
             "linecolor": "white",
             "minorgridcolor": "white",
             "startlinecolor": "#2a3f5f"
            },
            "type": "carpet"
           }
          ],
          "choropleth": [
           {
            "colorbar": {
             "outlinewidth": 0,
             "ticks": ""
            },
            "type": "choropleth"
           }
          ],
          "contour": [
           {
            "colorbar": {
             "outlinewidth": 0,
             "ticks": ""
            },
            "colorscale": [
             [
              0,
              "#0d0887"
             ],
             [
              0.1111111111111111,
              "#46039f"
             ],
             [
              0.2222222222222222,
              "#7201a8"
             ],
             [
              0.3333333333333333,
              "#9c179e"
             ],
             [
              0.4444444444444444,
              "#bd3786"
             ],
             [
              0.5555555555555556,
              "#d8576b"
             ],
             [
              0.6666666666666666,
              "#ed7953"
             ],
             [
              0.7777777777777778,
              "#fb9f3a"
             ],
             [
              0.8888888888888888,
              "#fdca26"
             ],
             [
              1,
              "#f0f921"
             ]
            ],
            "type": "contour"
           }
          ],
          "contourcarpet": [
           {
            "colorbar": {
             "outlinewidth": 0,
             "ticks": ""
            },
            "type": "contourcarpet"
           }
          ],
          "heatmap": [
           {
            "colorbar": {
             "outlinewidth": 0,
             "ticks": ""
            },
            "colorscale": [
             [
              0,
              "#0d0887"
             ],
             [
              0.1111111111111111,
              "#46039f"
             ],
             [
              0.2222222222222222,
              "#7201a8"
             ],
             [
              0.3333333333333333,
              "#9c179e"
             ],
             [
              0.4444444444444444,
              "#bd3786"
             ],
             [
              0.5555555555555556,
              "#d8576b"
             ],
             [
              0.6666666666666666,
              "#ed7953"
             ],
             [
              0.7777777777777778,
              "#fb9f3a"
             ],
             [
              0.8888888888888888,
              "#fdca26"
             ],
             [
              1,
              "#f0f921"
             ]
            ],
            "type": "heatmap"
           }
          ],
          "heatmapgl": [
           {
            "colorbar": {
             "outlinewidth": 0,
             "ticks": ""
            },
            "colorscale": [
             [
              0,
              "#0d0887"
             ],
             [
              0.1111111111111111,
              "#46039f"
             ],
             [
              0.2222222222222222,
              "#7201a8"
             ],
             [
              0.3333333333333333,
              "#9c179e"
             ],
             [
              0.4444444444444444,
              "#bd3786"
             ],
             [
              0.5555555555555556,
              "#d8576b"
             ],
             [
              0.6666666666666666,
              "#ed7953"
             ],
             [
              0.7777777777777778,
              "#fb9f3a"
             ],
             [
              0.8888888888888888,
              "#fdca26"
             ],
             [
              1,
              "#f0f921"
             ]
            ],
            "type": "heatmapgl"
           }
          ],
          "histogram": [
           {
            "marker": {
             "pattern": {
              "fillmode": "overlay",
              "size": 10,
              "solidity": 0.2
             }
            },
            "type": "histogram"
           }
          ],
          "histogram2d": [
           {
            "colorbar": {
             "outlinewidth": 0,
             "ticks": ""
            },
            "colorscale": [
             [
              0,
              "#0d0887"
             ],
             [
              0.1111111111111111,
              "#46039f"
             ],
             [
              0.2222222222222222,
              "#7201a8"
             ],
             [
              0.3333333333333333,
              "#9c179e"
             ],
             [
              0.4444444444444444,
              "#bd3786"
             ],
             [
              0.5555555555555556,
              "#d8576b"
             ],
             [
              0.6666666666666666,
              "#ed7953"
             ],
             [
              0.7777777777777778,
              "#fb9f3a"
             ],
             [
              0.8888888888888888,
              "#fdca26"
             ],
             [
              1,
              "#f0f921"
             ]
            ],
            "type": "histogram2d"
           }
          ],
          "histogram2dcontour": [
           {
            "colorbar": {
             "outlinewidth": 0,
             "ticks": ""
            },
            "colorscale": [
             [
              0,
              "#0d0887"
             ],
             [
              0.1111111111111111,
              "#46039f"
             ],
             [
              0.2222222222222222,
              "#7201a8"
             ],
             [
              0.3333333333333333,
              "#9c179e"
             ],
             [
              0.4444444444444444,
              "#bd3786"
             ],
             [
              0.5555555555555556,
              "#d8576b"
             ],
             [
              0.6666666666666666,
              "#ed7953"
             ],
             [
              0.7777777777777778,
              "#fb9f3a"
             ],
             [
              0.8888888888888888,
              "#fdca26"
             ],
             [
              1,
              "#f0f921"
             ]
            ],
            "type": "histogram2dcontour"
           }
          ],
          "mesh3d": [
           {
            "colorbar": {
             "outlinewidth": 0,
             "ticks": ""
            },
            "type": "mesh3d"
           }
          ],
          "parcoords": [
           {
            "line": {
             "colorbar": {
              "outlinewidth": 0,
              "ticks": ""
             }
            },
            "type": "parcoords"
           }
          ],
          "pie": [
           {
            "automargin": true,
            "type": "pie"
           }
          ],
          "scatter": [
           {
            "fillpattern": {
             "fillmode": "overlay",
             "size": 10,
             "solidity": 0.2
            },
            "type": "scatter"
           }
          ],
          "scatter3d": [
           {
            "line": {
             "colorbar": {
              "outlinewidth": 0,
              "ticks": ""
             }
            },
            "marker": {
             "colorbar": {
              "outlinewidth": 0,
              "ticks": ""
             }
            },
            "type": "scatter3d"
           }
          ],
          "scattercarpet": [
           {
            "marker": {
             "colorbar": {
              "outlinewidth": 0,
              "ticks": ""
             }
            },
            "type": "scattercarpet"
           }
          ],
          "scattergeo": [
           {
            "marker": {
             "colorbar": {
              "outlinewidth": 0,
              "ticks": ""
             }
            },
            "type": "scattergeo"
           }
          ],
          "scattergl": [
           {
            "marker": {
             "colorbar": {
              "outlinewidth": 0,
              "ticks": ""
             }
            },
            "type": "scattergl"
           }
          ],
          "scattermapbox": [
           {
            "marker": {
             "colorbar": {
              "outlinewidth": 0,
              "ticks": ""
             }
            },
            "type": "scattermapbox"
           }
          ],
          "scatterpolar": [
           {
            "marker": {
             "colorbar": {
              "outlinewidth": 0,
              "ticks": ""
             }
            },
            "type": "scatterpolar"
           }
          ],
          "scatterpolargl": [
           {
            "marker": {
             "colorbar": {
              "outlinewidth": 0,
              "ticks": ""
             }
            },
            "type": "scatterpolargl"
           }
          ],
          "scatterternary": [
           {
            "marker": {
             "colorbar": {
              "outlinewidth": 0,
              "ticks": ""
             }
            },
            "type": "scatterternary"
           }
          ],
          "surface": [
           {
            "colorbar": {
             "outlinewidth": 0,
             "ticks": ""
            },
            "colorscale": [
             [
              0,
              "#0d0887"
             ],
             [
              0.1111111111111111,
              "#46039f"
             ],
             [
              0.2222222222222222,
              "#7201a8"
             ],
             [
              0.3333333333333333,
              "#9c179e"
             ],
             [
              0.4444444444444444,
              "#bd3786"
             ],
             [
              0.5555555555555556,
              "#d8576b"
             ],
             [
              0.6666666666666666,
              "#ed7953"
             ],
             [
              0.7777777777777778,
              "#fb9f3a"
             ],
             [
              0.8888888888888888,
              "#fdca26"
             ],
             [
              1,
              "#f0f921"
             ]
            ],
            "type": "surface"
           }
          ],
          "table": [
           {
            "cells": {
             "fill": {
              "color": "#EBF0F8"
             },
             "line": {
              "color": "white"
             }
            },
            "header": {
             "fill": {
              "color": "#C8D4E3"
             },
             "line": {
              "color": "white"
             }
            },
            "type": "table"
           }
          ]
         },
         "layout": {
          "annotationdefaults": {
           "arrowcolor": "#2a3f5f",
           "arrowhead": 0,
           "arrowwidth": 1
          },
          "autotypenumbers": "strict",
          "coloraxis": {
           "colorbar": {
            "outlinewidth": 0,
            "ticks": ""
           }
          },
          "colorscale": {
           "diverging": [
            [
             0,
             "#8e0152"
            ],
            [
             0.1,
             "#c51b7d"
            ],
            [
             0.2,
             "#de77ae"
            ],
            [
             0.3,
             "#f1b6da"
            ],
            [
             0.4,
             "#fde0ef"
            ],
            [
             0.5,
             "#f7f7f7"
            ],
            [
             0.6,
             "#e6f5d0"
            ],
            [
             0.7,
             "#b8e186"
            ],
            [
             0.8,
             "#7fbc41"
            ],
            [
             0.9,
             "#4d9221"
            ],
            [
             1,
             "#276419"
            ]
           ],
           "sequential": [
            [
             0,
             "#0d0887"
            ],
            [
             0.1111111111111111,
             "#46039f"
            ],
            [
             0.2222222222222222,
             "#7201a8"
            ],
            [
             0.3333333333333333,
             "#9c179e"
            ],
            [
             0.4444444444444444,
             "#bd3786"
            ],
            [
             0.5555555555555556,
             "#d8576b"
            ],
            [
             0.6666666666666666,
             "#ed7953"
            ],
            [
             0.7777777777777778,
             "#fb9f3a"
            ],
            [
             0.8888888888888888,
             "#fdca26"
            ],
            [
             1,
             "#f0f921"
            ]
           ],
           "sequentialminus": [
            [
             0,
             "#0d0887"
            ],
            [
             0.1111111111111111,
             "#46039f"
            ],
            [
             0.2222222222222222,
             "#7201a8"
            ],
            [
             0.3333333333333333,
             "#9c179e"
            ],
            [
             0.4444444444444444,
             "#bd3786"
            ],
            [
             0.5555555555555556,
             "#d8576b"
            ],
            [
             0.6666666666666666,
             "#ed7953"
            ],
            [
             0.7777777777777778,
             "#fb9f3a"
            ],
            [
             0.8888888888888888,
             "#fdca26"
            ],
            [
             1,
             "#f0f921"
            ]
           ]
          },
          "colorway": [
           "#636efa",
           "#EF553B",
           "#00cc96",
           "#ab63fa",
           "#FFA15A",
           "#19d3f3",
           "#FF6692",
           "#B6E880",
           "#FF97FF",
           "#FECB52"
          ],
          "font": {
           "color": "#2a3f5f"
          },
          "geo": {
           "bgcolor": "white",
           "lakecolor": "white",
           "landcolor": "#E5ECF6",
           "showlakes": true,
           "showland": true,
           "subunitcolor": "white"
          },
          "hoverlabel": {
           "align": "left"
          },
          "hovermode": "closest",
          "mapbox": {
           "style": "light"
          },
          "paper_bgcolor": "white",
          "plot_bgcolor": "#E5ECF6",
          "polar": {
           "angularaxis": {
            "gridcolor": "white",
            "linecolor": "white",
            "ticks": ""
           },
           "bgcolor": "#E5ECF6",
           "radialaxis": {
            "gridcolor": "white",
            "linecolor": "white",
            "ticks": ""
           }
          },
          "scene": {
           "xaxis": {
            "backgroundcolor": "#E5ECF6",
            "gridcolor": "white",
            "gridwidth": 2,
            "linecolor": "white",
            "showbackground": true,
            "ticks": "",
            "zerolinecolor": "white"
           },
           "yaxis": {
            "backgroundcolor": "#E5ECF6",
            "gridcolor": "white",
            "gridwidth": 2,
            "linecolor": "white",
            "showbackground": true,
            "ticks": "",
            "zerolinecolor": "white"
           },
           "zaxis": {
            "backgroundcolor": "#E5ECF6",
            "gridcolor": "white",
            "gridwidth": 2,
            "linecolor": "white",
            "showbackground": true,
            "ticks": "",
            "zerolinecolor": "white"
           }
          },
          "shapedefaults": {
           "line": {
            "color": "#2a3f5f"
           }
          },
          "ternary": {
           "aaxis": {
            "gridcolor": "white",
            "linecolor": "white",
            "ticks": ""
           },
           "baxis": {
            "gridcolor": "white",
            "linecolor": "white",
            "ticks": ""
           },
           "bgcolor": "#E5ECF6",
           "caxis": {
            "gridcolor": "white",
            "linecolor": "white",
            "ticks": ""
           }
          },
          "title": {
           "x": 0.05
          },
          "xaxis": {
           "automargin": true,
           "gridcolor": "white",
           "linecolor": "white",
           "ticks": "",
           "title": {
            "standoff": 15
           },
           "zerolinecolor": "white",
           "zerolinewidth": 2
          },
          "yaxis": {
           "automargin": true,
           "gridcolor": "white",
           "linecolor": "white",
           "ticks": "",
           "title": {
            "standoff": 15
           },
           "zerolinecolor": "white",
           "zerolinewidth": 2
          }
         }
        },
        "title": {
         "text": "ABC-R Leves 2010 a 2030 - Previsão ARIMA"
        },
        "xaxis": {
         "title": {
          "text": "Ano"
         }
        },
        "yaxis": {
         "title": {
          "text": "Valor ABC-R Leves"
         }
        }
       }
      }
     },
     "metadata": {},
     "output_type": "display_data"
    }
   ],
   "source": [
    "fig = go.Figure()\n",
    "fig.add_trace(go.Scatter(x=df_past.index, y=df_past[\"abcr_leves\"], name=\"ABC-R Leves\", mode=\"lines+markers\"))\n",
    "fig.add_trace(\n",
    "    go.Scatter(\n",
    "        x=forecast_dates,\n",
    "        y=forecast_mean.values,\n",
    "        name=\"Forecast\",\n",
    "        mode=\"lines+markers\",\n",
    "        line_color=\"rgba(247, 131, 7, 0.8)\",\n",
    "    )\n",
    ")\n",
    "fig.update_layout(\n",
    "    title=\"ABC-R Leves 2010 a 2030 - Previsão ARIMA\",\n",
    "    xaxis_title=\"Ano\",\n",
    "    yaxis_title=\"Valor ABC-R Leves\",\n",
    ")\n",
    "fig.show()"
   ]
  },
  {
   "cell_type": "markdown",
   "metadata": {},
   "source": [
    "### Conclusão"
   ]
  },
  {
   "cell_type": "markdown",
   "metadata": {},
   "source": [
    "#### Resultados\n",
    "* O modelo ARIMA obteve uma boa performance para prever o índice ABCR de veículos leves para os próximos 90 meses.\n",
    "* As características da série temporal foram bem capturadas pelo modelo, portanto a sazonalidade e a tendência foram bem previstas.\n",
    "* Os resultados se monstram muito superiores ao modelo LSTM, mesmo considerando apenas a variável `abcr_leves`\n",
    "\n",
    "#### Possíveis melhorias\n",
    "* Testes com variações nos parâmetros do modelo\n",
    "* Utilizar técnicas para tratar anomalias nos dados"
   ]
  }
 ],
 "metadata": {
  "kernelspec": {
   "display_name": "venv",
   "language": "python",
   "name": "python3"
  },
  "language_info": {
   "codemirror_mode": {
    "name": "ipython",
    "version": 3
   },
   "file_extension": ".py",
   "mimetype": "text/x-python",
   "name": "python",
   "nbconvert_exporter": "python",
   "pygments_lexer": "ipython3",
   "version": "3.10.12"
  },
  "orig_nbformat": 4
 },
 "nbformat": 4,
 "nbformat_minor": 2
}
