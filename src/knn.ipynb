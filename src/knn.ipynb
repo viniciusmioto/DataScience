{
 "cells": [
  {
   "cell_type": "code",
   "execution_count": 26,
   "id": "e52da3bf-a5b3-4f09-a71f-7c2e7916536b",
   "metadata": {},
   "outputs": [],
   "source": [
    "import pandas as pd\n",
    "import numpy as np\n",
    "import matplotlib.pyplot as plt\n",
    "from sklearn import preprocessing\n",
    "from sklearn import metrics\n",
    "from sklearn.metrics import confusion_matrix\n",
    "from sklearn.neighbors import KNeighborsClassifier\n",
    "from sklearn.model_selection import train_test_split, GridSearchCV"
   ]
  },
  {
   "cell_type": "code",
   "execution_count": 27,
   "id": "e06eb600-51f6-4909-a791-62aa529298eb",
   "metadata": {},
   "outputs": [
    {
     "data": {
      "text/html": [
       "<div>\n",
       "<style scoped>\n",
       "    .dataframe tbody tr th:only-of-type {\n",
       "        vertical-align: middle;\n",
       "    }\n",
       "\n",
       "    .dataframe tbody tr th {\n",
       "        vertical-align: top;\n",
       "    }\n",
       "\n",
       "    .dataframe thead th {\n",
       "        text-align: right;\n",
       "    }\n",
       "</style>\n",
       "<table border=\"1\" class=\"dataframe\">\n",
       "  <thead>\n",
       "    <tr style=\"text-align: right;\">\n",
       "      <th></th>\n",
       "      <th>label</th>\n",
       "      <th>h1</th>\n",
       "      <th>h2</th>\n",
       "      <th>h3</th>\n",
       "      <th>h4</th>\n",
       "      <th>h5</th>\n",
       "      <th>h6</th>\n",
       "      <th>h7</th>\n",
       "    </tr>\n",
       "  </thead>\n",
       "  <tbody>\n",
       "    <tr>\n",
       "      <th>0</th>\n",
       "      <td>0</td>\n",
       "      <td>0.001140</td>\n",
       "      <td>1.677853e-07</td>\n",
       "      <td>3.187369e-11</td>\n",
       "      <td>9.366923e-12</td>\n",
       "      <td>-2.262365e-23</td>\n",
       "      <td>1.737756e-15</td>\n",
       "      <td>1.602606e-22</td>\n",
       "    </tr>\n",
       "    <tr>\n",
       "      <th>1</th>\n",
       "      <td>0</td>\n",
       "      <td>0.001177</td>\n",
       "      <td>2.043578e-07</td>\n",
       "      <td>1.317898e-11</td>\n",
       "      <td>3.145546e-12</td>\n",
       "      <td>1.344373e-23</td>\n",
       "      <td>1.371117e-15</td>\n",
       "      <td>1.514734e-23</td>\n",
       "    </tr>\n",
       "    <tr>\n",
       "      <th>2</th>\n",
       "      <td>0</td>\n",
       "      <td>0.001155</td>\n",
       "      <td>1.338587e-07</td>\n",
       "      <td>4.830630e-12</td>\n",
       "      <td>1.107123e-12</td>\n",
       "      <td>2.267684e-24</td>\n",
       "      <td>3.018875e-16</td>\n",
       "      <td>-1.188648e-24</td>\n",
       "    </tr>\n",
       "    <tr>\n",
       "      <th>3</th>\n",
       "      <td>0</td>\n",
       "      <td>0.001103</td>\n",
       "      <td>1.797438e-07</td>\n",
       "      <td>5.275442e-12</td>\n",
       "      <td>3.517707e-12</td>\n",
       "      <td>-1.457386e-23</td>\n",
       "      <td>7.144310e-16</td>\n",
       "      <td>4.151782e-24</td>\n",
       "    </tr>\n",
       "    <tr>\n",
       "      <th>4</th>\n",
       "      <td>0</td>\n",
       "      <td>0.002083</td>\n",
       "      <td>6.039155e-07</td>\n",
       "      <td>4.418106e-10</td>\n",
       "      <td>1.696764e-10</td>\n",
       "      <td>4.210888e-20</td>\n",
       "      <td>1.294257e-13</td>\n",
       "      <td>-1.962359e-20</td>\n",
       "    </tr>\n",
       "    <tr>\n",
       "      <th>...</th>\n",
       "      <td>...</td>\n",
       "      <td>...</td>\n",
       "      <td>...</td>\n",
       "      <td>...</td>\n",
       "      <td>...</td>\n",
       "      <td>...</td>\n",
       "      <td>...</td>\n",
       "      <td>...</td>\n",
       "    </tr>\n",
       "    <tr>\n",
       "      <th>1995</th>\n",
       "      <td>9</td>\n",
       "      <td>0.001493</td>\n",
       "      <td>3.104101e-07</td>\n",
       "      <td>8.757571e-11</td>\n",
       "      <td>6.845307e-11</td>\n",
       "      <td>-3.042837e-21</td>\n",
       "      <td>1.644519e-14</td>\n",
       "      <td>-4.339566e-21</td>\n",
       "    </tr>\n",
       "    <tr>\n",
       "      <th>1996</th>\n",
       "      <td>9</td>\n",
       "      <td>0.001087</td>\n",
       "      <td>1.855442e-08</td>\n",
       "      <td>5.528991e-11</td>\n",
       "      <td>3.988272e-11</td>\n",
       "      <td>-3.912308e-22</td>\n",
       "      <td>2.726597e-15</td>\n",
       "      <td>-1.831518e-21</td>\n",
       "    </tr>\n",
       "    <tr>\n",
       "      <th>1997</th>\n",
       "      <td>9</td>\n",
       "      <td>0.001025</td>\n",
       "      <td>1.111659e-07</td>\n",
       "      <td>3.009093e-11</td>\n",
       "      <td>1.884390e-11</td>\n",
       "      <td>3.093385e-22</td>\n",
       "      <td>5.283288e-15</td>\n",
       "      <td>3.250506e-22</td>\n",
       "    </tr>\n",
       "    <tr>\n",
       "      <th>1998</th>\n",
       "      <td>9</td>\n",
       "      <td>0.001194</td>\n",
       "      <td>3.791716e-07</td>\n",
       "      <td>9.671670e-11</td>\n",
       "      <td>3.411153e-11</td>\n",
       "      <td>1.863129e-21</td>\n",
       "      <td>2.091409e-14</td>\n",
       "      <td>-6.063287e-22</td>\n",
       "    </tr>\n",
       "    <tr>\n",
       "      <th>1999</th>\n",
       "      <td>9</td>\n",
       "      <td>0.001197</td>\n",
       "      <td>3.816771e-07</td>\n",
       "      <td>1.373363e-10</td>\n",
       "      <td>8.235354e-11</td>\n",
       "      <td>8.126676e-21</td>\n",
       "      <td>4.972818e-14</td>\n",
       "      <td>-3.265522e-21</td>\n",
       "    </tr>\n",
       "  </tbody>\n",
       "</table>\n",
       "<p>2000 rows × 8 columns</p>\n",
       "</div>"
      ],
      "text/plain": [
       "      label        h1            h2            h3            h4            h5  \\\n",
       "0         0  0.001140  1.677853e-07  3.187369e-11  9.366923e-12 -2.262365e-23   \n",
       "1         0  0.001177  2.043578e-07  1.317898e-11  3.145546e-12  1.344373e-23   \n",
       "2         0  0.001155  1.338587e-07  4.830630e-12  1.107123e-12  2.267684e-24   \n",
       "3         0  0.001103  1.797438e-07  5.275442e-12  3.517707e-12 -1.457386e-23   \n",
       "4         0  0.002083  6.039155e-07  4.418106e-10  1.696764e-10  4.210888e-20   \n",
       "...     ...       ...           ...           ...           ...           ...   \n",
       "1995      9  0.001493  3.104101e-07  8.757571e-11  6.845307e-11 -3.042837e-21   \n",
       "1996      9  0.001087  1.855442e-08  5.528991e-11  3.988272e-11 -3.912308e-22   \n",
       "1997      9  0.001025  1.111659e-07  3.009093e-11  1.884390e-11  3.093385e-22   \n",
       "1998      9  0.001194  3.791716e-07  9.671670e-11  3.411153e-11  1.863129e-21   \n",
       "1999      9  0.001197  3.816771e-07  1.373363e-10  8.235354e-11  8.126676e-21   \n",
       "\n",
       "                h6            h7  \n",
       "0     1.737756e-15  1.602606e-22  \n",
       "1     1.371117e-15  1.514734e-23  \n",
       "2     3.018875e-16 -1.188648e-24  \n",
       "3     7.144310e-16  4.151782e-24  \n",
       "4     1.294257e-13 -1.962359e-20  \n",
       "...            ...           ...  \n",
       "1995  1.644519e-14 -4.339566e-21  \n",
       "1996  2.726597e-15 -1.831518e-21  \n",
       "1997  5.283288e-15  3.250506e-22  \n",
       "1998  2.091409e-14 -6.063287e-22  \n",
       "1999  4.972818e-14 -3.265522e-21  \n",
       "\n",
       "[2000 rows x 8 columns]"
      ]
     },
     "execution_count": 27,
     "metadata": {},
     "output_type": "execute_result"
    }
   ],
   "source": [
    "df = pd.read_csv('digits/features.csv')\n",
    "df"
   ]
  },
  {
   "cell_type": "code",
   "execution_count": 28,
   "id": "308cf3d8-546d-4589-85be-06cc7cf725a6",
   "metadata": {},
   "outputs": [
    {
     "name": "stderr",
     "output_type": "stream",
     "text": [
      "/tmp/ipykernel_101854/3704626254.py:1: FutureWarning: In a future version of pandas all arguments of DataFrame.drop except for the argument 'labels' will be keyword-only.\n",
      "  X = np.array(df.drop(['label'], 1))\n"
     ]
    }
   ],
   "source": [
    "X = np.array(df.drop(['label'], 1))\n",
    "y = np.array(df['label'])"
   ]
  },
  {
   "cell_type": "code",
   "execution_count": 29,
   "id": "22a011e3",
   "metadata": {},
   "outputs": [],
   "source": [
    "min_max_scaler = preprocessing.MinMaxScaler()\n",
    "X = min_max_scaler.fit_transform(X)"
   ]
  },
  {
   "cell_type": "code",
   "execution_count": 30,
   "id": "264260bc-cc84-4a7b-a6ad-0d27570e985d",
   "metadata": {},
   "outputs": [
    {
     "data": {
      "text/plain": [
       "array([[1.04475089e-01, 1.80387138e-03, 1.03170145e-04, ...,\n",
       "        1.72277298e-05, 1.85012077e-03, 3.35861983e-01],\n",
       "       [1.07870160e-01, 2.19706499e-03, 4.26582879e-05, ...,\n",
       "        1.72282177e-05, 1.84995343e-03, 3.35861971e-01],\n",
       "       [1.05866080e-01, 1.43912445e-03, 1.56359931e-05, ...,\n",
       "        1.72280665e-05, 1.84946540e-03, 3.35861969e-01],\n",
       "       ...,\n",
       "       [9.39662497e-02, 1.19515239e-03, 9.73996383e-05, ...,\n",
       "        1.72322202e-05, 1.85173905e-03, 3.35861996e-01],\n",
       "       [1.09443128e-01, 4.07649994e-03, 3.13056809e-04, ...,\n",
       "        1.72532383e-05, 1.85887337e-03, 3.35861920e-01],\n",
       "       [1.09695449e-01, 4.10343574e-03, 4.44535973e-04, ...,\n",
       "        1.73379650e-05, 1.87202491e-03, 3.35861702e-01]])"
      ]
     },
     "execution_count": 30,
     "metadata": {},
     "output_type": "execute_result"
    }
   ],
   "source": [
    "X"
   ]
  },
  {
   "cell_type": "code",
   "execution_count": 31,
   "id": "635a611b-a5dd-408d-8981-6ffe76ccb186",
   "metadata": {},
   "outputs": [
    {
     "data": {
      "text/plain": [
       "array([0, 0, 0, ..., 9, 9, 9])"
      ]
     },
     "execution_count": 31,
     "metadata": {},
     "output_type": "execute_result"
    }
   ],
   "source": [
    "y"
   ]
  },
  {
   "cell_type": "code",
   "execution_count": 32,
   "id": "d05beb42",
   "metadata": {},
   "outputs": [],
   "source": [
    "X_train, X_test, y_train, y_test = train_test_split(X, y, test_size=0.2, random_state=42)"
   ]
  },
  {
   "cell_type": "code",
   "execution_count": 33,
   "id": "6af0b91c-f460-4b1d-aa21-5f955c2c00b6",
   "metadata": {},
   "outputs": [
    {
     "data": {
      "text/html": [
       "<style>#sk-container-id-3 {color: black;background-color: white;}#sk-container-id-3 pre{padding: 0;}#sk-container-id-3 div.sk-toggleable {background-color: white;}#sk-container-id-3 label.sk-toggleable__label {cursor: pointer;display: block;width: 100%;margin-bottom: 0;padding: 0.3em;box-sizing: border-box;text-align: center;}#sk-container-id-3 label.sk-toggleable__label-arrow:before {content: \"▸\";float: left;margin-right: 0.25em;color: #696969;}#sk-container-id-3 label.sk-toggleable__label-arrow:hover:before {color: black;}#sk-container-id-3 div.sk-estimator:hover label.sk-toggleable__label-arrow:before {color: black;}#sk-container-id-3 div.sk-toggleable__content {max-height: 0;max-width: 0;overflow: hidden;text-align: left;background-color: #f0f8ff;}#sk-container-id-3 div.sk-toggleable__content pre {margin: 0.2em;color: black;border-radius: 0.25em;background-color: #f0f8ff;}#sk-container-id-3 input.sk-toggleable__control:checked~div.sk-toggleable__content {max-height: 200px;max-width: 100%;overflow: auto;}#sk-container-id-3 input.sk-toggleable__control:checked~label.sk-toggleable__label-arrow:before {content: \"▾\";}#sk-container-id-3 div.sk-estimator input.sk-toggleable__control:checked~label.sk-toggleable__label {background-color: #d4ebff;}#sk-container-id-3 div.sk-label input.sk-toggleable__control:checked~label.sk-toggleable__label {background-color: #d4ebff;}#sk-container-id-3 input.sk-hidden--visually {border: 0;clip: rect(1px 1px 1px 1px);clip: rect(1px, 1px, 1px, 1px);height: 1px;margin: -1px;overflow: hidden;padding: 0;position: absolute;width: 1px;}#sk-container-id-3 div.sk-estimator {font-family: monospace;background-color: #f0f8ff;border: 1px dotted black;border-radius: 0.25em;box-sizing: border-box;margin-bottom: 0.5em;}#sk-container-id-3 div.sk-estimator:hover {background-color: #d4ebff;}#sk-container-id-3 div.sk-parallel-item::after {content: \"\";width: 100%;border-bottom: 1px solid gray;flex-grow: 1;}#sk-container-id-3 div.sk-label:hover label.sk-toggleable__label {background-color: #d4ebff;}#sk-container-id-3 div.sk-serial::before {content: \"\";position: absolute;border-left: 1px solid gray;box-sizing: border-box;top: 0;bottom: 0;left: 50%;z-index: 0;}#sk-container-id-3 div.sk-serial {display: flex;flex-direction: column;align-items: center;background-color: white;padding-right: 0.2em;padding-left: 0.2em;position: relative;}#sk-container-id-3 div.sk-item {position: relative;z-index: 1;}#sk-container-id-3 div.sk-parallel {display: flex;align-items: stretch;justify-content: center;background-color: white;position: relative;}#sk-container-id-3 div.sk-item::before, #sk-container-id-3 div.sk-parallel-item::before {content: \"\";position: absolute;border-left: 1px solid gray;box-sizing: border-box;top: 0;bottom: 0;left: 50%;z-index: -1;}#sk-container-id-3 div.sk-parallel-item {display: flex;flex-direction: column;z-index: 1;position: relative;background-color: white;}#sk-container-id-3 div.sk-parallel-item:first-child::after {align-self: flex-end;width: 50%;}#sk-container-id-3 div.sk-parallel-item:last-child::after {align-self: flex-start;width: 50%;}#sk-container-id-3 div.sk-parallel-item:only-child::after {width: 0;}#sk-container-id-3 div.sk-dashed-wrapped {border: 1px dashed gray;margin: 0 0.4em 0.5em 0.4em;box-sizing: border-box;padding-bottom: 0.4em;background-color: white;}#sk-container-id-3 div.sk-label label {font-family: monospace;font-weight: bold;display: inline-block;line-height: 1.2em;}#sk-container-id-3 div.sk-label-container {text-align: center;}#sk-container-id-3 div.sk-container {/* jupyter's `normalize.less` sets `[hidden] { display: none; }` but bootstrap.min.css set `[hidden] { display: none !important; }` so we also need the `!important` here to be able to override the default hidden behavior on the sphinx rendered scikit-learn.org. See: https://github.com/scikit-learn/scikit-learn/issues/21755 */display: inline-block !important;position: relative;}#sk-container-id-3 div.sk-text-repr-fallback {display: none;}</style><div id=\"sk-container-id-3\" class=\"sk-top-container\"><div class=\"sk-text-repr-fallback\"><pre>KNeighborsClassifier(metric=&#x27;euclidean&#x27;, n_neighbors=3)</pre><b>In a Jupyter environment, please rerun this cell to show the HTML representation or trust the notebook. <br />On GitHub, the HTML representation is unable to render, please try loading this page with nbviewer.org.</b></div><div class=\"sk-container\" hidden><div class=\"sk-item\"><div class=\"sk-estimator sk-toggleable\"><input class=\"sk-toggleable__control sk-hidden--visually\" id=\"sk-estimator-id-3\" type=\"checkbox\" checked><label for=\"sk-estimator-id-3\" class=\"sk-toggleable__label sk-toggleable__label-arrow\">KNeighborsClassifier</label><div class=\"sk-toggleable__content\"><pre>KNeighborsClassifier(metric=&#x27;euclidean&#x27;, n_neighbors=3)</pre></div></div></div></div></div>"
      ],
      "text/plain": [
       "KNeighborsClassifier(metric='euclidean', n_neighbors=3)"
      ]
     },
     "execution_count": 33,
     "metadata": {},
     "output_type": "execute_result"
    }
   ],
   "source": [
    "knn = KNeighborsClassifier(n_neighbors=3, metric='euclidean')\n",
    "knn.fit(X_train, y_train)"
   ]
  },
  {
   "cell_type": "code",
   "execution_count": 34,
   "id": "134c95c5",
   "metadata": {},
   "outputs": [
    {
     "name": "stdout",
     "output_type": "stream",
     "text": [
      "Accuracy:  24.75 %\n"
     ]
    }
   ],
   "source": [
    "print(\"Accuracy: \", knn.score(X_test, y_test) * 100, '%')"
   ]
  },
  {
   "cell_type": "code",
   "execution_count": 35,
   "id": "9d8e1f15",
   "metadata": {},
   "outputs": [
    {
     "name": "stdout",
     "output_type": "stream",
     "text": [
      "Training set score: 0.52 \n",
      "Test set score: 0.25\n"
     ]
    }
   ],
   "source": [
    "print(\"Training set score: {:.2f}\".format(knn.score(X_train, y_train)),\n",
    "      \"\\nTest set score: {:.2f}\".format(knn.score(X_test, y_test)))"
   ]
  },
  {
   "cell_type": "code",
   "execution_count": 36,
   "id": "a2a2b3c1",
   "metadata": {},
   "outputs": [
    {
     "name": "stdout",
     "output_type": "stream",
     "text": [
      "Best number of neighbors: 11\n"
     ]
    }
   ],
   "source": [
    "# find best number (N) of neighbors\n",
    "param_grid = {'n_neighbors':[3,5,7,9,11]}\n",
    "grid_search = GridSearchCV(KNeighborsClassifier(metric='euclidean'), param_grid)\n",
    "grid_search.fit(X_train, y_train)\n",
    "neighbors = grid_search.best_estimator_.n_neighbors\n",
    "print('Best number of neighbors: ' + str(neighbors))"
   ]
  },
  {
   "cell_type": "code",
   "execution_count": 37,
   "id": "3036d43d",
   "metadata": {},
   "outputs": [
    {
     "name": "stdout",
     "output_type": "stream",
     "text": [
      "Maximum accuracy:- 0.2775 at K = 6\n"
     ]
    },
    {
     "data": {
      "image/png": "[encoded data removed]",
      "text/plain": [
       "<Figure size 1000x600 with 1 Axes>"
      ]
     },
     "metadata": {},
     "output_type": "display_data"
    }
   ],
   "source": [
    "acc = []\n",
    "# Will take some time\n",
    "\n",
    "for i in range(1,40):\n",
    "    neigh = KNeighborsClassifier(n_neighbors = i).fit(X_train,y_train)\n",
    "    yhat = neigh.predict(X_test)\n",
    "    acc.append(metrics.accuracy_score(y_test, yhat))\n",
    "    \n",
    "plt.figure(figsize=(10,6))\n",
    "plt.plot(range(1,40),acc,color = 'blue',linestyle='dashed', \n",
    "         marker='o',markerfacecolor='red', markersize=10)\n",
    "plt.title('accuracy vs. K Value')\n",
    "plt.xlabel('K')\n",
    "plt.ylabel('Accuracy')\n",
    "print(\"Maximum accuracy:-\",max(acc),\"at K =\",acc.index(max(acc)))"
   ]
  },
  {
   "cell_type": "code",
   "execution_count": 38,
   "id": "b7738861",
   "metadata": {},
   "outputs": [
    {
     "data": {
      "text/plain": [
       "array([[21,  1,  1,  4,  3,  3,  0,  0,  3,  0],\n",
       "       [ 1, 38,  4,  1,  0,  2,  0,  1,  0,  0],\n",
       "       [14,  1, 12, 10,  4,  2,  1,  1,  1,  0],\n",
       "       [11,  1,  7, 10,  3,  2,  1,  1,  0,  0],\n",
       "       [ 5,  1,  5,  9,  2,  5,  1,  1,  1,  4],\n",
       "       [ 9,  8,  5,  6,  1,  1,  0,  0,  3,  1],\n",
       "       [ 6,  2,  5,  7,  3,  0,  4,  1,  0,  5],\n",
       "       [ 9,  7,  9,  9,  0,  4,  4,  1,  0,  1],\n",
       "       [19,  1,  4,  5,  4,  4,  3,  1,  4,  3],\n",
       "       [ 7,  1,  6, 11,  6,  2,  2,  0,  1,  6]])"
      ]
     },
     "execution_count": 38,
     "metadata": {},
     "output_type": "execute_result"
    }
   ],
   "source": [
    "confusion_matrix(y_test, knn.predict(X_test))"
   ]
  }
 ],
 "metadata": {
  "kernelspec": {
   "display_name": "Python 3 (ipykernel)",
   "language": "python",
   "name": "python3"
  },
  "vscode": {
   "interpreter": {
    "hash": "85314dd909b8313ad620076600d35e4662db22711f6097e55e47671b85cf4437"
   }
  }
 },
 "nbformat": 4,
 "nbformat_minor": 5
}
